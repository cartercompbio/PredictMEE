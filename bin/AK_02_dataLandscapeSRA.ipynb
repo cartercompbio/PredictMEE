{
 "cells": [
  {
   "cell_type": "markdown",
   "metadata": {
    "toc": true
   },
   "source": [
    "<h1>Table of Contents<span class=\"tocSkip\"></span></h1>\n",
    "<div class=\"toc\"><ul class=\"toc-item\"><li><span><a href=\"#SRA-BioSample-data-landscape\" data-toc-modified-id=\"SRA-BioSample-data-landscape-1\"><span class=\"toc-item-num\">1&nbsp;&nbsp;</span>SRA BioSample data landscape</a></span></li><li><span><a href=\"#Set-up\" data-toc-modified-id=\"Set-up-2\"><span class=\"toc-item-num\">2&nbsp;&nbsp;</span>Set-up</a></span><ul class=\"toc-item\"><li><span><a href=\"#Import-needed-packages-and-set-up-plotting\" data-toc-modified-id=\"Import-needed-packages-and-set-up-plotting-2.1\"><span class=\"toc-item-num\">2.1&nbsp;&nbsp;</span>Import needed packages and set up plotting</a></span></li><li><span><a href=\"#Helper-Function-to-find-coverage\" data-toc-modified-id=\"Helper-Function-to-find-coverage-2.2\"><span class=\"toc-item-num\">2.2&nbsp;&nbsp;</span>Helper Function to find coverage</a></span></li><li><span><a href=\"#Read-in-downloaded-SRA-BioSample-key-value-pairs-and-NCBI-defined-attributes\" data-toc-modified-id=\"Read-in-downloaded-SRA-BioSample-key-value-pairs-and-NCBI-defined-attributes-2.3\"><span class=\"toc-item-num\">2.3&nbsp;&nbsp;</span>Read in downloaded SRA BioSample key-value pairs and NCBI defined attributes</a></span><ul class=\"toc-item\"><li><span><a href=\"#Load-full-dataset-and-attribute-descriptions\" data-toc-modified-id=\"Load-full-dataset-and-attribute-descriptions-2.3.1\"><span class=\"toc-item-num\">2.3.1&nbsp;&nbsp;</span>Load full dataset and attribute descriptions</a></span></li><li><span><a href=\"#(Optional)-Subset-the-dataframe-for-human-samples\" data-toc-modified-id=\"(Optional)-Subset-the-dataframe-for-human-samples-2.3.2\"><span class=\"toc-item-num\">2.3.2&nbsp;&nbsp;</span>(Optional) Subset the dataframe for human samples</a></span></li><li><span><a href=\"#(Optional)-Subset-the-series-for-those-samples-that-have-a-title\" data-toc-modified-id=\"(Optional)-Subset-the-series-for-those-samples-that-have-a-title-2.3.3\"><span class=\"toc-item-num\">2.3.3&nbsp;&nbsp;</span>(Optional) Subset the series for those samples that have a title</a></span></li><li><span><a href=\"#Build-a-dataframe-to-aid-with-analysis-chosen-dataset\" data-toc-modified-id=\"Build-a-dataframe-to-aid-with-analysis-chosen-dataset-2.3.4\"><span class=\"toc-item-num\">2.3.4&nbsp;&nbsp;</span>Build a dataframe to aid with analysis chosen dataset</a></span></li></ul></li></ul></li><li><span><a href=\"#Overall-data-landscape\" data-toc-modified-id=\"Overall-data-landscape-3\"><span class=\"toc-item-num\">3&nbsp;&nbsp;</span>Overall data landscape</a></span><ul class=\"toc-item\"><li><span><a href=\"#Figure-2A:-Example-data\" data-toc-modified-id=\"Figure-2A:-Example-data-3.1\"><span class=\"toc-item-num\">3.1&nbsp;&nbsp;</span><font color=\"red\">Figure 2A:</font> Example data</a></span></li><li><span><a href=\"#Find-the-total-number-of-annotations-and-of-samples-with-annotations\" data-toc-modified-id=\"Find-the-total-number-of-annotations-and-of-samples-with-annotations-3.2\"><span class=\"toc-item-num\">3.2&nbsp;&nbsp;</span>Find the total number of annotations and of samples with annotations</a></span></li><li><span><a href=\"#Compare-counts-of-attributes-defined-by-NCBI-to-the-user-defined\" data-toc-modified-id=\"Compare-counts-of-attributes-defined-by-NCBI-to-the-user-defined-3.3\"><span class=\"toc-item-num\">3.3&nbsp;&nbsp;</span>Compare counts of attributes defined by NCBI to the user-defined</a></span></li><li><span><a href=\"#Determine-the-coverage-of-different-attributes\" data-toc-modified-id=\"Determine-the-coverage-of-different-attributes-3.4\"><span class=\"toc-item-num\">3.4&nbsp;&nbsp;</span>Determine the coverage of different attributes</a></span><ul class=\"toc-item\"><li><span><a href=\"#Remove-duplicate-values-for-a-single-sample-when-looking-at-coverage-of-samples\" data-toc-modified-id=\"Remove-duplicate-values-for-a-single-sample-when-looking-at-coverage-of-samples-3.4.1\"><span class=\"toc-item-num\">3.4.1&nbsp;&nbsp;</span>Remove duplicate values for a single sample when looking at coverage of samples</a></span></li><li><span><a href=\"#(Optional)-Normailze-at-all-for-sake-of-exploring-issue-with-coverage-of-BioSample-defined-attributes\" data-toc-modified-id=\"(Optional)-Normailze-at-all-for-sake-of-exploring-issue-with-coverage-of-BioSample-defined-attributes-3.4.2\"><span class=\"toc-item-num\">3.4.2&nbsp;&nbsp;</span>(Optional) Normailze at all for sake of exploring issue with coverage of BioSample defined attributes</a></span></li><li><span><a href=\"#Figure-2B:-Coverage-of-most-used-attributes\" data-toc-modified-id=\"Figure-2B:-Coverage-of-most-used-attributes-3.4.3\"><span class=\"toc-item-num\">3.4.3&nbsp;&nbsp;</span><font color=\"red\">Figure 2B:</font> Coverage of most used attributes</a></span></li><li><span><a href=\"#Figure-2C:-Coverage-of-11-classes\" data-toc-modified-id=\"Figure-2C:-Coverage-of-11-classes-3.4.4\"><span class=\"toc-item-num\">3.4.4&nbsp;&nbsp;</span><font color=\"red\">Figure 2C:</font> Coverage of 11 classes</a></span></li></ul></li><li><span><a href=\"#Figure-2D:-Attribute-word-length-and-total-characters\" data-toc-modified-id=\"Figure-2D:-Attribute-word-length-and-total-characters-3.5\"><span class=\"toc-item-num\">3.5&nbsp;&nbsp;</span><font color=\"red\">Figure 2D:</font> Attribute word length and total characters</a></span></li><li><span><a href=\"#Analyze-high-frequency-tokens\" data-toc-modified-id=\"Analyze-high-frequency-tokens-3.6\"><span class=\"toc-item-num\">3.6&nbsp;&nbsp;</span>Analyze high frequency tokens</a></span></li></ul></li></ul></div>"
   ]
  },
  {
   "cell_type": "markdown",
   "metadata": {},
   "source": [
    "# SRA BioSample data landscape\n",
    "Adam Klie<br>\n",
    "10/17/2019<br>\n",
    "Updated: 08/31/2020<br>\n",
    "Script to analyze the metadata landscape of BioSample entries in SRA"
   ]
  },
  {
   "cell_type": "markdown",
   "metadata": {
    "heading_collapsed": true
   },
   "source": [
    "# Set-up"
   ]
  },
  {
   "cell_type": "markdown",
   "metadata": {
    "heading_collapsed": true,
    "hidden": true
   },
   "source": [
    "## Import needed packages and set up plotting"
   ]
  },
  {
   "cell_type": "code",
   "execution_count": 92,
   "metadata": {
    "ExecuteTime": {
     "end_time": "2020-08-31T23:24:37.866505Z",
     "start_time": "2020-08-31T23:24:37.795610Z"
    },
    "hidden": true
   },
   "outputs": [],
   "source": [
    "%matplotlib inline\n",
    "from tqdm import tqdm\n",
    "import pandas as pd\n",
    "import numpy as np\n",
    "import matplotlib.pyplot as plt\n",
    "import brewer2mpl\n",
    "import seaborn as sns\n",
    "from IPython.display import display, HTML\n",
    "#import qgrid\n",
    "\n",
    "# Autoreload extension\n",
    "if 'autoreload' not in get_ipython().extension_manager.loaded:\n",
    "    %load_ext autoreload\n",
    "    \n",
    "%autoreload 2"
   ]
  },
  {
   "cell_type": "code",
   "execution_count": 93,
   "metadata": {
    "ExecuteTime": {
     "end_time": "2020-08-31T23:24:37.980326Z",
     "start_time": "2020-08-31T23:24:37.869062Z"
    },
    "hidden": true
   },
   "outputs": [],
   "source": [
    "from matplotlib import rcParams\n",
    "import matplotlib as mpl\n",
    "\n",
    "#colorbrewer2 Dark2 qualitative color table\n",
    "dark2_colors = brewer2mpl.get_map('Dark2', 'Qualitative', 7).mpl_colors\n",
    "\n",
    "rcParams['figure.figsize'] = (10, 6)\n",
    "rcParams['figure.dpi'] = 600\n",
    "\n",
    "\n",
    "rcParams['axes.prop_cycle'] = mpl.cycler(color=dark2_colors) \n",
    "rcParams['lines.linewidth'] = 2\n",
    "rcParams['axes.facecolor'] = 'white'\n",
    "rcParams['patch.edgecolor'] = 'white'\n",
    "rcParams['patch.facecolor'] = dark2_colors[0]\n",
    "rcParams['font.family'] = 'StixGeneral'\n",
    "\n",
    "rcParams['axes.labelsize'] = 36\n",
    "rcParams['ytick.labelsize'] = 30\n",
    "rcParams['xtick.labelsize'] = 30"
   ]
  },
  {
   "cell_type": "markdown",
   "metadata": {
    "heading_collapsed": true,
    "hidden": true
   },
   "source": [
    "## Helper Function to find coverage"
   ]
  },
  {
   "cell_type": "code",
   "execution_count": 94,
   "metadata": {
    "ExecuteTime": {
     "end_time": "2020-08-31T23:24:38.039988Z",
     "start_time": "2020-08-31T23:24:37.983271Z"
    },
    "hidden": true
   },
   "outputs": [],
   "source": [
    "def find_coverage(attributes, attributeCounts, num_samples):\n",
    "    coverage = {}\n",
    "    for attribute in attributes:\n",
    "        if attribute in attributeCounts.index:\n",
    "            coverage[attribute] = attributeCounts[attribute]/num_samples*100\n",
    "    return(pd.Series(coverage).sort_values(ascending=False))"
   ]
  },
  {
   "cell_type": "markdown",
   "metadata": {
    "heading_collapsed": true,
    "hidden": true
   },
   "source": [
    "## Read in downloaded SRA BioSample key-value pairs and NCBI defined attributes"
   ]
  },
  {
   "cell_type": "markdown",
   "metadata": {
    "heading_collapsed": true,
    "hidden": true
   },
   "source": [
    "### Load full dataset and attribute descriptions"
   ]
  },
  {
   "cell_type": "code",
   "execution_count": 95,
   "metadata": {
    "ExecuteTime": {
     "end_time": "2020-08-31T23:24:50.158358Z",
     "start_time": "2020-08-31T23:24:38.042477Z"
    },
    "hidden": true
   },
   "outputs": [],
   "source": [
    "# Load SRA BioSample key-value pairs\n",
    "SRS_dir = \"../data/sra/allSRS_05_15_2018.pickle\"\n",
    "allSRS = pd.read_pickle(SRS_dir)\n",
    "currSRS = allSRS\n",
    "save = \"all\""
   ]
  },
  {
   "cell_type": "code",
   "execution_count": 96,
   "metadata": {
    "ExecuteTime": {
     "end_time": "2020-08-31T23:24:50.213334Z",
     "start_time": "2020-08-31T23:24:50.163178Z"
    },
    "hidden": true
   },
   "outputs": [],
   "source": [
    "# Also read in the attributes defined by the NCBI BioSample\n",
    "NCBI_attribute_df = pd.read_pickle('../data/sra/BioSampleAttributes.pickle')"
   ]
  },
  {
   "cell_type": "markdown",
   "metadata": {
    "heading_collapsed": true,
    "hidden": true
   },
   "source": [
    "### (Optional) Subset the dataframe for human samples"
   ]
  },
  {
   "cell_type": "code",
   "execution_count": 97,
   "metadata": {
    "ExecuteTime": {
     "end_time": "2020-08-31T23:24:50.368581Z",
     "start_time": "2020-08-31T23:24:50.216987Z"
    },
    "hidden": true
   },
   "outputs": [],
   "source": [
    "# save = \"human\"\n",
    "# scientific_name_m = allSRS.index.get_level_values(1) == 'SCIENTIFIC_NAME'\n",
    "# hs_m = allSRS.values == 'Homo sapiens'\n",
    "# hs = allSRS[scientific_name_m & hs_m].index.get_level_values(0)\n",
    "# hs_SRS =  allSRS[allSRS.index.get_level_values(0).isin(hs)]\n",
    "# currSRS = hs_SRS"
   ]
  },
  {
   "cell_type": "markdown",
   "metadata": {
    "heading_collapsed": true,
    "hidden": true
   },
   "source": [
    "### (Optional) Subset the series for those samples that have a title"
   ]
  },
  {
   "cell_type": "code",
   "execution_count": 98,
   "metadata": {
    "ExecuteTime": {
     "end_time": "2020-08-31T23:25:00.664142Z",
     "start_time": "2020-08-31T23:24:50.370451Z"
    },
    "hidden": true
   },
   "outputs": [],
   "source": [
    "# save = \"title\"\n",
    "# title_m= allSRS[(allSRS.index.get_level_values(1) == 'TITLE')].index.get_level_values(0)\n",
    "# title_SRS = allSRS[allSRS.index.get_level_values(0).isin(title_m)]\n",
    "# currSRS = title_SRS"
   ]
  },
  {
   "cell_type": "markdown",
   "metadata": {
    "heading_collapsed": true,
    "hidden": true
   },
   "source": [
    "### Build a dataframe to aid with analysis chosen dataset"
   ]
  },
  {
   "cell_type": "code",
   "execution_count": 99,
   "metadata": {
    "ExecuteTime": {
     "end_time": "2020-08-31T23:25:17.855813Z",
     "start_time": "2020-08-31T23:25:00.666890Z"
    },
    "hidden": true
   },
   "outputs": [],
   "source": [
    "# build a dataframe for the key (attribute) and values for each sample (srs)\n",
    "SRS_df = pd.DataFrame(currSRS).reset_index()\n",
    "SRS_df.columns = ['srs', 'attribute', 'value']\n",
    "SRS_df = SRS_df.set_index('srs')"
   ]
  },
  {
   "cell_type": "markdown",
   "metadata": {
    "heading_collapsed": true
   },
   "source": [
    "# Overall data landscape "
   ]
  },
  {
   "cell_type": "markdown",
   "metadata": {
    "heading_collapsed": true,
    "hidden": true
   },
   "source": [
    "## <font color = red>Figure 2A:</font> Example data"
   ]
  },
  {
   "cell_type": "code",
   "execution_count": 100,
   "metadata": {
    "ExecuteTime": {
     "end_time": "2020-08-31T23:25:17.899175Z",
     "start_time": "2020-08-31T23:25:17.858433Z"
    },
    "hidden": true
   },
   "outputs": [],
   "source": [
    "classes = ['TITLE', 'SCIENTIFIC_NAME', 'genotype', 'strain', \n",
    "           'cell type', 'disease', 'sex', 'age', \n",
    "           'molecular data type', 'platform', 'protocol', 'tissue']"
   ]
  },
  {
   "cell_type": "code",
   "execution_count": 101,
   "metadata": {
    "ExecuteTime": {
     "end_time": "2020-08-31T23:25:21.002567Z",
     "start_time": "2020-08-31T23:25:17.901815Z"
    },
    "hidden": true
   },
   "outputs": [],
   "source": [
    "class_SRS_df = SRS_df[SRS_df['attribute'].isin(classes)]"
   ]
  },
  {
   "cell_type": "code",
   "execution_count": 102,
   "metadata": {
    "ExecuteTime": {
     "end_time": "2020-08-31T23:25:26.137838Z",
     "start_time": "2020-08-31T23:25:21.004806Z"
    },
    "hidden": true
   },
   "outputs": [],
   "source": [
    "example_df = class_SRS_df.sample(class_SRS_df.shape[0]).groupby('attribute').head(1)"
   ]
  },
  {
   "cell_type": "code",
   "execution_count": 103,
   "metadata": {
    "ExecuteTime": {
     "end_time": "2020-08-31T23:25:27.409652Z",
     "start_time": "2020-08-31T23:25:26.140490Z"
    },
    "hidden": true
   },
   "outputs": [],
   "source": [
    "title_example = class_SRS_df[class_SRS_df.attribute == \"TITLE\"]"
   ]
  },
  {
   "cell_type": "code",
   "execution_count": 104,
   "metadata": {
    "ExecuteTime": {
     "end_time": "2020-08-31T23:25:28.889508Z",
     "start_time": "2020-08-31T23:25:27.411862Z"
    },
    "hidden": true
   },
   "outputs": [],
   "source": [
    "title_df = title_example.sample(title_example.shape[0]).groupby('attribute').head()"
   ]
  },
  {
   "cell_type": "code",
   "execution_count": 105,
   "metadata": {
    "ExecuteTime": {
     "end_time": "2020-08-31T23:25:29.028025Z",
     "start_time": "2020-08-31T23:25:28.891584Z"
    },
    "hidden": true
   },
   "outputs": [],
   "source": [
    "example_df.to_csv('../doc/figures/Figure2/Figure2A.csv')\n",
    "title_df.to_csv('../doc/figures/Figure2/Figure2A_TITLE.csv')"
   ]
  },
  {
   "cell_type": "markdown",
   "metadata": {
    "heading_collapsed": true,
    "hidden": true
   },
   "source": [
    "## Find the total number of annotations and of samples with annotations"
   ]
  },
  {
   "cell_type": "code",
   "execution_count": 106,
   "metadata": {
    "ExecuteTime": {
     "end_time": "2020-08-31T23:25:33.270139Z",
     "start_time": "2020-08-31T23:25:29.030836Z"
    },
    "hidden": true
   },
   "outputs": [],
   "source": [
    "attributeCounts = SRS_df['attribute'].value_counts()"
   ]
  },
  {
   "cell_type": "code",
   "execution_count": 107,
   "metadata": {
    "ExecuteTime": {
     "end_time": "2020-08-31T23:25:33.360728Z",
     "start_time": "2020-08-31T23:25:33.272761Z"
    },
    "hidden": true
   },
   "outputs": [],
   "source": [
    "outtext = \"\""
   ]
  },
  {
   "cell_type": "code",
   "execution_count": 108,
   "metadata": {
    "ExecuteTime": {
     "end_time": "2020-08-31T23:25:33.443031Z",
     "start_time": "2020-08-31T23:25:33.368805Z"
    },
    "hidden": true
   },
   "outputs": [
    {
     "data": {
      "text/plain": [
       "36545713"
      ]
     },
     "execution_count": 108,
     "metadata": {},
     "output_type": "execute_result"
    }
   ],
   "source": [
    "totalAttributes = len(currSRS)\n",
    "outtext = outtext + (\"Number of BioSample key-value pairs: %d\\n\" % totalAttributes)\n",
    "totalAttributes"
   ]
  },
  {
   "cell_type": "code",
   "execution_count": 109,
   "metadata": {
    "ExecuteTime": {
     "end_time": "2020-08-31T23:25:39.401521Z",
     "start_time": "2020-08-31T23:25:33.451193Z"
    },
    "hidden": true
   },
   "outputs": [],
   "source": [
    "num_samples = SRS_df.loc[~SRS_df.index.duplicated(keep='first')].shape[0]\n",
    "outtext = outtext + (\"Number of BioSample entries: %d\\n\" % num_samples)"
   ]
  },
  {
   "cell_type": "code",
   "execution_count": 110,
   "metadata": {
    "ExecuteTime": {
     "end_time": "2020-08-31T23:25:39.530479Z",
     "start_time": "2020-08-31T23:25:39.404121Z"
    },
    "hidden": true
   },
   "outputs": [],
   "source": [
    "averageAnnotations = totalAttributes/num_samples\n",
    "outtext = outtext + (\"The average number of attributes per BioSample in SRA: %.2f\\n\" % averageAnnotations)"
   ]
  },
  {
   "cell_type": "code",
   "execution_count": 111,
   "metadata": {
    "ExecuteTime": {
     "end_time": "2020-08-31T23:25:40.542372Z",
     "start_time": "2020-08-31T23:25:39.534880Z"
    },
    "hidden": true
   },
   "outputs": [
    {
     "name": "stdout",
     "output_type": "stream",
     "text": [
      "Number of BioSample key-value pairs: 36545713\n",
      "Number of BioSample entries: 2227135\n",
      "The average number of attributes per BioSample in SRA: 16.41\n",
      "\n"
     ]
    }
   ],
   "source": [
    "print(outtext)"
   ]
  },
  {
   "cell_type": "markdown",
   "metadata": {
    "heading_collapsed": true,
    "hidden": true
   },
   "source": [
    "## Compare counts of attributes defined by NCBI to the user-defined"
   ]
  },
  {
   "cell_type": "code",
   "execution_count": 112,
   "metadata": {
    "ExecuteTime": {
     "end_time": "2020-08-31T23:25:46.055240Z",
     "start_time": "2020-08-31T23:25:40.546458Z"
    },
    "hidden": true
   },
   "outputs": [],
   "source": [
    "m = SRS_df[\"attribute\"].isin(NCBI_attribute_df.index)\n",
    "in_NCBI = SRS_df[m]\n",
    "not_in_NCBI = SRS_df[~m]\n",
    "n = len(in_NCBI.index.unique())\n",
    "n1 = in_NCBI.shape[0]"
   ]
  },
  {
   "cell_type": "code",
   "execution_count": 113,
   "metadata": {
    "ExecuteTime": {
     "end_time": "2020-08-31T23:25:46.102143Z",
     "start_time": "2020-08-31T23:25:46.059847Z"
    },
    "hidden": true
   },
   "outputs": [],
   "source": [
    "outtext = \"\""
   ]
  },
  {
   "cell_type": "code",
   "execution_count": 114,
   "metadata": {
    "ExecuteTime": {
     "end_time": "2020-08-31T23:25:48.727470Z",
     "start_time": "2020-08-31T23:25:46.106653Z"
    },
    "hidden": true
   },
   "outputs": [],
   "source": [
    "outtext = outtext + (\"Number of unique attributes in SRA BioProject Metadata: %d\\n\" % len((SRS_df['attribute'].unique())))"
   ]
  },
  {
   "cell_type": "code",
   "execution_count": 115,
   "metadata": {
    "ExecuteTime": {
     "end_time": "2020-08-31T23:25:48.766658Z",
     "start_time": "2020-08-31T23:25:48.729471Z"
    },
    "hidden": true
   },
   "outputs": [],
   "source": [
    "outtext = outtext + (\"Number of attributes defined by BioProject: %d\\n\" % NCBI_attribute_df.shape[0])"
   ]
  },
  {
   "cell_type": "code",
   "execution_count": 116,
   "metadata": {
    "ExecuteTime": {
     "end_time": "2020-08-31T23:25:49.431270Z",
     "start_time": "2020-08-31T23:25:48.769367Z"
    },
    "hidden": true
   },
   "outputs": [],
   "source": [
    "outtext = outtext + (\"Number of attributes defined by BioProject actually used: %d\\n\" % len(in_NCBI['attribute'].unique()))"
   ]
  },
  {
   "cell_type": "code",
   "execution_count": 117,
   "metadata": {
    "ExecuteTime": {
     "end_time": "2020-08-31T23:25:51.264189Z",
     "start_time": "2020-08-31T23:25:49.433289Z"
    },
    "hidden": true
   },
   "outputs": [],
   "source": [
    "outtext = outtext + (\"Number of attributes used not defined by BioProject: %d\\n\" % len(not_in_NCBI['attribute'].unique()))"
   ]
  },
  {
   "cell_type": "code",
   "execution_count": 118,
   "metadata": {
    "ExecuteTime": {
     "end_time": "2020-08-31T23:25:51.308993Z",
     "start_time": "2020-08-31T23:25:51.266463Z"
    },
    "hidden": true
   },
   "outputs": [],
   "source": [
    "outtext = outtext + (\"Number of samples that actually use a BioProject attributes %d, \" \\\n",
    "     \"which is %.2f%%\\n\" % (n, 100*n/num_samples))\n",
    "outtext = outtext + (\"Number of keys that actually are BioProject attributes %d, \" \\\n",
    "     \"which is %.2f%%\\n\" % (n1, 100*n1/totalAttributes))"
   ]
  },
  {
   "cell_type": "code",
   "execution_count": 119,
   "metadata": {
    "ExecuteTime": {
     "end_time": "2020-08-31T23:25:51.392138Z",
     "start_time": "2020-08-31T23:25:51.311054Z"
    },
    "hidden": true
   },
   "outputs": [
    {
     "name": "stdout",
     "output_type": "stream",
     "text": [
      "Number of unique attributes in SRA BioProject Metadata: 16772\n",
      "Number of attributes defined by BioProject: 456\n",
      "Number of attributes defined by BioProject actually used: 308\n",
      "Number of attributes used not defined by BioProject: 16464\n",
      "Number of samples that actually use a BioProject attributes 1663405, which is 74.69%\n",
      "Number of keys that actually are BioProject attributes 8152524, which is 22.31%\n",
      "\n"
     ]
    }
   ],
   "source": [
    "print(outtext)"
   ]
  },
  {
   "cell_type": "markdown",
   "metadata": {
    "heading_collapsed": true,
    "hidden": true
   },
   "source": [
    "## Determine the coverage of different attributes"
   ]
  },
  {
   "cell_type": "markdown",
   "metadata": {
    "heading_collapsed": true,
    "hidden": true
   },
   "source": [
    "### Remove duplicate values for a single sample when looking at coverage of samples"
   ]
  },
  {
   "cell_type": "code",
   "execution_count": 120,
   "metadata": {
    "ExecuteTime": {
     "end_time": "2020-08-31T23:26:19.860902Z",
     "start_time": "2020-08-31T23:25:51.394081Z"
    },
    "hidden": true
   },
   "outputs": [],
   "source": [
    "# Some samples have multiple values for one key, only keep the first\n",
    "currSRS = currSRS.loc[~currSRS.index.duplicated(keep='first')] \n",
    "\n",
    "# Build a new dataframe for the key (attribute) and values for each sample (srs) nd = no duplicates\n",
    "SRS_nd = pd.DataFrame(currSRS).reset_index()\n",
    "SRS_nd.columns = ['srs', 'attribute', 'value']\n",
    "SRS_nd = SRS_nd.set_index('srs')"
   ]
  },
  {
   "cell_type": "code",
   "execution_count": 121,
   "metadata": {
    "ExecuteTime": {
     "end_time": "2020-08-31T23:26:24.012768Z",
     "start_time": "2020-08-31T23:26:19.863356Z"
    },
    "hidden": true
   },
   "outputs": [],
   "source": [
    "attributeCounts = SRS_nd['attribute'].value_counts()"
   ]
  },
  {
   "cell_type": "markdown",
   "metadata": {
    "heading_collapsed": true,
    "hidden": true
   },
   "source": [
    "### (Optional) Normailze at all for sake of exploring issue with coverage of BioSample defined attributes "
   ]
  },
  {
   "cell_type": "code",
   "execution_count": 122,
   "metadata": {
    "ExecuteTime": {
     "end_time": "2020-08-31T23:26:24.090315Z",
     "start_time": "2020-08-31T23:26:24.015424Z"
    },
    "hidden": true
   },
   "outputs": [],
   "source": [
    "# From this example we also note the normalization problem in this data\n",
    "#outtext = outtext + ('TITLE: %d\\ntitle: %d\\nTitle: %d' % \n",
    "      #(attributeCounts['TITLE'], attributeCounts['title'], attributeCounts['Title']))"
   ]
  },
  {
   "cell_type": "code",
   "execution_count": 123,
   "metadata": {
    "ExecuteTime": {
     "end_time": "2020-08-31T23:26:24.165142Z",
     "start_time": "2020-08-31T23:26:24.104482Z"
    },
    "hidden": true
   },
   "outputs": [],
   "source": [
    "# Use a normalized (lowercased) version of df for coverage investigation\n",
    "#SRSlc_df = SRS_nd.apply(lambda x: x.astype(str).str.lower())\n",
    "#attributeCounts = SRSlc_df['attribute'].value_counts()"
   ]
  },
  {
   "cell_type": "code",
   "execution_count": 124,
   "metadata": {
    "ExecuteTime": {
     "end_time": "2020-08-31T23:26:24.244144Z",
     "start_time": "2020-08-31T23:26:24.173891Z"
    },
    "hidden": true
   },
   "outputs": [],
   "source": [
    "# See that it merges all the titles\n",
    "#attributeCounts['title']"
   ]
  },
  {
   "cell_type": "markdown",
   "metadata": {
    "heading_collapsed": true,
    "hidden": true
   },
   "source": [
    "### <font color=red>Figure 2B:</font> Coverage of most used attributes"
   ]
  },
  {
   "cell_type": "code",
   "execution_count": 125,
   "metadata": {
    "ExecuteTime": {
     "end_time": "2020-08-31T23:26:24.630463Z",
     "start_time": "2020-08-31T23:26:24.246353Z"
    },
    "hidden": true
   },
   "outputs": [],
   "source": [
    "top_attributes = attributeCounts.index\n",
    "top_attribute_coverage = find_coverage(top_attributes, attributeCounts, num_samples)"
   ]
  },
  {
   "cell_type": "code",
   "execution_count": 126,
   "metadata": {
    "ExecuteTime": {
     "end_time": "2020-08-31T23:26:29.087414Z",
     "start_time": "2020-08-31T23:26:24.633050Z"
    },
    "hidden": true
   },
   "outputs": [],
   "source": [
    "plt.tight_layout()\n",
    "ax = top_attribute_coverage.iloc[:15].plot.bar()\n",
    "ax.set_ylabel('% of samples with attribute', fontsize=24)\n",
    "ax.set_xlabel('Attributes')\n",
    "labels = []\n",
    "for xtick_label in ax.get_xticklabels():\n",
    "    if xtick_label.get_text() in NCBI_attribute_df.index:\n",
    "        xtick_label.set_color('red')\n",
    "    else:\n",
    "        xtick_label.set_color('blue')\n",
    "    if len(xtick_label.get_text()) > 15:\n",
    "        labels.append(xtick_label.get_text()[:15] + '...')\n",
    "    else:\n",
    "        labels.append(xtick_label.get_text())\n",
    "ax.set_xticklabels(labels)\n",
    "\n",
    "if save == \"human\":\n",
    "    plt.savefig('../doc/figures/Supplementary/Supp_Figure2A.eps', dpi=600, bbox_inches=\"tight\")\n",
    "    plt.savefig('../doc/figures/Supplementary/Supp_Figure2A.png', dpi=600, bbox_inches=\"tight\")\n",
    "elif save == \"title\":\n",
    "    plt.savefig('../doc/figures/Supplementary/TITLE_top_coverage.eps', dpi=600, bbox_inches=\"tight\")\n",
    "    plt.savefig('../doc/figures/Supplementary/TITLE_top_coverage.png', dpi=600, bbox_inches=\"tight\")\n",
    "else:\n",
    "    plt.savefig('../doc/figures/Figure2/Figure2B.eps', dpi=600, bbox_inches=\"tight\")\n",
    "    plt.savefig('../doc/figures/Figure2/Figure2B.png', dpi=600, bbox_inches=\"tight\")\n",
    "plt.close();"
   ]
  },
  {
   "cell_type": "markdown",
   "metadata": {
    "heading_collapsed": true,
    "hidden": true
   },
   "source": [
    "### <font color=red>Figure 2C:</font> Coverage of 11 classes"
   ]
  },
  {
   "cell_type": "code",
   "execution_count": 127,
   "metadata": {
    "ExecuteTime": {
     "end_time": "2020-08-31T23:26:29.411435Z",
     "start_time": "2020-08-31T23:26:29.090434Z"
    },
    "hidden": true
   },
   "outputs": [],
   "source": [
    "important_attributes = ['SCIENTIFIC_NAME', 'strain', 'cell type', 'genotype', 'disease', 'sex', 'age',\n",
    "                        'molecular data type', 'platform', 'protocol', 'tissue']\n",
    "important_attribute_coverage = find_coverage(important_attributes, attributeCounts, num_samples)"
   ]
  },
  {
   "cell_type": "code",
   "execution_count": 137,
   "metadata": {
    "ExecuteTime": {
     "end_time": "2020-08-31T23:27:50.998386Z",
     "start_time": "2020-08-31T23:27:46.647793Z"
    },
    "hidden": true
   },
   "outputs": [],
   "source": [
    "plt.tight_layout()\n",
    "ax = important_attribute_coverage.iloc[:10].plot.bar()\n",
    "ax.set_ylabel('% of samples with attribute', fontsize=24)\n",
    "ax.set_xlabel('Attributes')\n",
    "for xtick_label in ax.get_xticklabels():\n",
    "    if xtick_label.get_text() in NCBI_attribute_df.index:\n",
    "        xtick_label.set_color('red')\n",
    "    else:\n",
    "        xtick_label.set_color('blue')\n",
    "        \n",
    "if save == \"human\":\n",
    "    plt.savefig('../doc/figures/Supplementary/Supp_Figure2B.eps', dpi=600, bbox_inches=\"tight\")\n",
    "    plt.savefig('../doc/figures/Supplementary/Supp_Figure2B.png', dpi=600, bbox_inches=\"tight\")\n",
    "elif save == \"title\":\n",
    "    plt.savefig('../doc/figures/Supplementary/Supp_Figure2D.eps', dpi=600, bbox_inches=\"tight\")\n",
    "    plt.savefig('../doc/figures/Supplementary/Supp_Figure2D.png', dpi=600, bbox_inches=\"tight\")\n",
    "else:\n",
    "    plt.savefig('../doc/figures/Figure2/Figure2C.eps', dpi=600, bbox_inches=\"tight\")\n",
    "    plt.savefig('../doc/figures/Figure2/Figure2C.png', dpi=600, bbox_inches=\"tight\")\n",
    "plt.close();"
   ]
  },
  {
   "cell_type": "markdown",
   "metadata": {
    "heading_collapsed": true,
    "hidden": true
   },
   "source": [
    "## <font color = red>Figure 2D:</font> Attribute word length and total characters"
   ]
  },
  {
   "cell_type": "code",
   "execution_count": 129,
   "metadata": {
    "ExecuteTime": {
     "end_time": "2020-08-31T23:27:21.643541Z",
     "start_time": "2020-08-31T23:26:30.182780Z"
    },
    "hidden": true
   },
   "outputs": [],
   "source": [
    "SRS_df['attribute_len'] = SRS_df['value'].str.len()\n",
    "SRS_df['log_attribute_len'] = np.log2(SRS_df['attribute_len']+1)\n",
    "SRS_df['word_count'] = (SRS_df['value'].str.count(' ')+1)\n",
    "SRS_df['log_word_count'] = np.log2(SRS_df['word_count']+1)"
   ]
  },
  {
   "cell_type": "code",
   "execution_count": 130,
   "metadata": {
    "ExecuteTime": {
     "end_time": "2020-08-31T23:27:27.031724Z",
     "start_time": "2020-08-31T23:27:21.646359Z"
    },
    "hidden": true
   },
   "outputs": [],
   "source": [
    "recurring_attributeCounts = attributeCounts[attributeCounts > 10000]\n",
    "SRS_rec = SRS_df[SRS_df.attribute.isin(recurring_attributeCounts.index)]"
   ]
  },
  {
   "cell_type": "code",
   "execution_count": 131,
   "metadata": {
    "ExecuteTime": {
     "end_time": "2020-08-31T23:27:32.338905Z",
     "start_time": "2020-08-31T23:27:27.034211Z"
    },
    "hidden": true
   },
   "outputs": [],
   "source": [
    "longest_attributes = SRS_rec.groupby(['attribute']).mean().sort_values(\n",
    "    'log_attribute_len', ascending = False).iloc[:10].index"
   ]
  },
  {
   "cell_type": "code",
   "execution_count": 132,
   "metadata": {
    "ExecuteTime": {
     "end_time": "2020-08-31T23:27:34.708802Z",
     "start_time": "2020-08-31T23:27:32.341990Z"
    },
    "hidden": true
   },
   "outputs": [],
   "source": [
    "dataframe_sub = SRS_df[SRS_df.attribute.isin(longest_attributes)]"
   ]
  },
  {
   "cell_type": "code",
   "execution_count": 133,
   "metadata": {
    "ExecuteTime": {
     "end_time": "2020-08-31T23:27:44.860484Z",
     "start_time": "2020-08-31T23:27:34.711331Z"
    },
    "hidden": true
   },
   "outputs": [],
   "source": [
    "ax = sns.boxplot(data=SRS_df, x='attribute', y='log_attribute_len', order=longest_attributes, showfliers=False)\n",
    "plt.xticks(rotation=90)\n",
    "labels = []\n",
    "for xtick_label in ax.get_xticklabels():\n",
    "    if xtick_label.get_text() in NCBI_attribute_df.index:\n",
    "        xtick_label.set_color('red')\n",
    "    else:\n",
    "        xtick_label.set_color('blue')\n",
    "    if len(xtick_label.get_text()) > 15:\n",
    "        labels.append(xtick_label.get_text()[:15] + '...')\n",
    "    else:\n",
    "        labels.append(xtick_label.get_text())\n",
    "ax.set_xticklabels(labels)\n",
    "ax.set_ylabel('Log(average characters in attribute + 1)', fontsize=20)\n",
    "ax.set_xlabel('Attributes')\n",
    "\n",
    "if save == \"human\":\n",
    "    plt.savefig('../doc/figures/Supplementary/Supp_Figure2C.eps', dpi=600, bbox_inches=\"tight\")\n",
    "    plt.savefig('../doc/figures/Supplementary/Supp_Figure2C.png', dpi=600, bbox_inches=\"tight\")\n",
    "else:\n",
    "    plt.savefig('../doc/figures/Figure2/Figure2D.eps', dpi=600, bbox_inches=\"tight\")\n",
    "    plt.savefig('../doc/figures/Figure2/Figure2D.png', dpi=600, bbox_inches=\"tight\")\n",
    "plt.close();"
   ]
  },
  {
   "cell_type": "code",
   "execution_count": 134,
   "metadata": {
    "ExecuteTime": {
     "end_time": "2020-08-31T23:27:45.866551Z",
     "start_time": "2020-08-31T23:27:44.862579Z"
    },
    "hidden": true
   },
   "outputs": [],
   "source": [
    "long_character_fraction = len(SRS_df[SRS_df['attribute_len'].values > 50].index.unique())/num_samples*100\n",
    "outtext = outtext + (\"Number of samples with an attribute of 50 characters or more: %.2f%%\\n\" % \n",
    "      long_character_fraction)"
   ]
  },
  {
   "cell_type": "code",
   "execution_count": 135,
   "metadata": {
    "ExecuteTime": {
     "end_time": "2020-08-31T23:27:46.607936Z",
     "start_time": "2020-08-31T23:27:45.868489Z"
    },
    "hidden": true
   },
   "outputs": [],
   "source": [
    "long_word_fraction = len(SRS_df[SRS_df['word_count'].values >= 10].index.unique())/num_samples*100\n",
    "outtext = outtext + (\"Number of samples with an attribute of 10 words or more: %.2f%%\\n\" % \n",
    "      long_word_fraction)"
   ]
  },
  {
   "cell_type": "code",
   "execution_count": 136,
   "metadata": {
    "ExecuteTime": {
     "end_time": "2020-08-31T23:27:46.643634Z",
     "start_time": "2020-08-31T23:27:46.610790Z"
    },
    "hidden": true
   },
   "outputs": [
    {
     "name": "stdout",
     "output_type": "stream",
     "text": [
      "Number of unique attributes in SRA BioProject Metadata: 16772\n",
      "Number of attributes defined by BioProject: 456\n",
      "Number of attributes defined by BioProject actually used: 308\n",
      "Number of attributes used not defined by BioProject: 16464\n",
      "Number of samples that actually use a BioProject attributes 1663405, which is 74.69%\n",
      "Number of keys that actually are BioProject attributes 8152524, which is 22.31%\n",
      "Number of samples with an attribute of 50 characters or more: 47.34%\n",
      "Number of samples with an attribute of 10 words or more: 37.53%\n",
      "\n"
     ]
    }
   ],
   "source": [
    "print(outtext)"
   ]
  },
  {
   "cell_type": "markdown",
   "metadata": {
    "heading_collapsed": true,
    "hidden": true
   },
   "source": [
    "## Analyze high frequency tokens"
   ]
  },
  {
   "cell_type": "code",
   "execution_count": 145,
   "metadata": {
    "ExecuteTime": {
     "end_time": "2020-08-31T23:37:43.795366Z",
     "start_time": "2020-08-31T23:37:43.387719Z"
    },
    "hidden": true
   },
   "outputs": [
    {
     "name": "stderr",
     "output_type": "stream",
     "text": [
      "/cellar/users/aklie/opt/miniconda3/envs/PredictMEE_new/lib/python3.6/importlib/_bootstrap.py:219: RuntimeWarning: numpy.dtype size changed, may indicate binary incompatibility. Expected 96, got 88\n",
      "  return f(*args, **kwds)\n",
      "/cellar/users/aklie/opt/miniconda3/envs/PredictMEE_new/lib/python3.6/importlib/_bootstrap.py:219: RuntimeWarning: numpy.ufunc size changed, may indicate binary incompatibility. Expected 192, got 176\n",
      "  return f(*args, **kwds)\n"
     ]
    }
   ],
   "source": [
    "from nltk.corpus import stopwords\n",
    "from nltk.tokenize import TreebankWordTokenizer\n",
    "from collections import Counter\n",
    "import spacy"
   ]
  },
  {
   "cell_type": "code",
   "execution_count": 146,
   "metadata": {
    "ExecuteTime": {
     "end_time": "2020-08-31T23:37:50.764871Z",
     "start_time": "2020-08-31T23:37:47.903760Z"
    },
    "hidden": true
   },
   "outputs": [],
   "source": [
    "nlp = spacy.load(\"en_core_web_sm\")\n",
    "SRA_docs = [nlp(x) for x in SRS_df.value.values[1:100] if len(x) > 0 ]"
   ]
  },
  {
   "cell_type": "code",
   "execution_count": 147,
   "metadata": {
    "ExecuteTime": {
     "end_time": "2020-08-31T23:37:51.017721Z",
     "start_time": "2020-08-31T23:37:50.966863Z"
    },
    "hidden": true
   },
   "outputs": [],
   "source": [
    "tokenizer = TreebankWordTokenizer()\n",
    "SRA_dict = [tokenizer.tokenize(x.lower()) for x in SRS_df.value.values[1:100]]"
   ]
  },
  {
   "cell_type": "code",
   "execution_count": 148,
   "metadata": {
    "ExecuteTime": {
     "end_time": "2020-08-31T23:37:51.859616Z",
     "start_time": "2020-08-31T23:37:51.354552Z"
    },
    "hidden": true
   },
   "outputs": [
    {
     "data": {
      "text/plain": [
       "0.9012621261486949"
      ]
     },
     "execution_count": 148,
     "metadata": {},
     "output_type": "execute_result"
    }
   ],
   "source": [
    "sum(SRS_df['word_count'].value_counts().iloc[0:3])/SRS_df.shape[0]"
   ]
  },
  {
   "cell_type": "code",
   "execution_count": 149,
   "metadata": {
    "ExecuteTime": {
     "end_time": "2020-08-31T23:37:52.362024Z",
     "start_time": "2020-08-31T23:37:51.862166Z"
    },
    "hidden": true
   },
   "outputs": [
    {
     "data": {
      "text/plain": [
       "5    0.013052\n",
       "7    0.005820\n",
       "8    0.005159\n",
       "Name: word_count, dtype: float64"
      ]
     },
     "execution_count": 149,
     "metadata": {},
     "output_type": "execute_result"
    }
   ],
   "source": [
    "SRS_df['word_count'].value_counts().iloc[5:8]/SRS_df.shape[0]"
   ]
  },
  {
   "cell_type": "code",
   "execution_count": 150,
   "metadata": {
    "ExecuteTime": {
     "end_time": "2020-08-31T23:37:59.008588Z",
     "start_time": "2020-08-31T23:37:52.363973Z"
    },
    "hidden": true
   },
   "outputs": [],
   "source": [
    "average_attribue_length = SRS_df.groupby(\"attribute\").mean()[\"word_count\"].sort_values(ascending=True)"
   ]
  },
  {
   "cell_type": "code",
   "execution_count": 151,
   "metadata": {
    "ExecuteTime": {
     "end_time": "2020-08-31T23:37:59.058057Z",
     "start_time": "2020-08-31T23:37:59.011890Z"
    },
    "hidden": true
   },
   "outputs": [
    {
     "data": {
      "text/plain": [
       "1.8182209862520073"
      ]
     },
     "execution_count": 151,
     "metadata": {},
     "output_type": "execute_result"
    }
   ],
   "source": [
    "average_attribue_length[\"disease\"]"
   ]
  }
 ],
 "metadata": {
  "kernelspec": {
   "display_name": "py3_PredictMEE",
   "language": "python",
   "name": "predictmee"
  },
  "language_info": {
   "codemirror_mode": {
    "name": "ipython",
    "version": 3
   },
   "file_extension": ".py",
   "mimetype": "text/x-python",
   "name": "python",
   "nbconvert_exporter": "python",
   "pygments_lexer": "ipython3",
   "version": "3.6.6"
  },
  "toc": {
   "base_numbering": 1,
   "nav_menu": {},
   "number_sections": true,
   "sideBar": true,
   "skip_h1_title": false,
   "title_cell": "Table of Contents",
   "title_sidebar": "Contents",
   "toc_cell": true,
   "toc_position": {
    "height": "calc(100% - 180px)",
    "left": "10px",
    "top": "150px",
    "width": "384px"
   },
   "toc_section_display": true,
   "toc_window_display": true
  }
 },
 "nbformat": 4,
 "nbformat_minor": 4
}
