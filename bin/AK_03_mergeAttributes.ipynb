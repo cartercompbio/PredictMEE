{
 "cells": [
  {
   "cell_type": "markdown",
   "metadata": {
    "toc": true
   },
   "source": [
    "<h1>Table of Contents<span class=\"tocSkip\"></span></h1>\n",
    "<div class=\"toc\"><ul class=\"toc-item\"><li><span><a href=\"#Merging-attributes-from-BioSample-using-word2vec\" data-toc-modified-id=\"Merging-attributes-from-BioSample-using-word2vec-1\"><span class=\"toc-item-num\">1&nbsp;&nbsp;</span>Merging attributes from BioSample using word2vec</a></span></li><li><span><a href=\"#Set-up\" data-toc-modified-id=\"Set-up-2\"><span class=\"toc-item-num\">2&nbsp;&nbsp;</span>Set-up</a></span><ul class=\"toc-item\"><li><span><a href=\"#Import-needed-packages\" data-toc-modified-id=\"Import-needed-packages-2.1\"><span class=\"toc-item-num\">2.1&nbsp;&nbsp;</span>Import needed packages</a></span></li><li><span><a href=\"#Helper-function-definitions\" data-toc-modified-id=\"Helper-function-definitions-2.2\"><span class=\"toc-item-num\">2.2&nbsp;&nbsp;</span>Helper function definitions</a></span></li><li><span><a href=\"#Load-data-and-embedding-model\" data-toc-modified-id=\"Load-data-and-embedding-model-2.3\"><span class=\"toc-item-num\">2.3&nbsp;&nbsp;</span>Load data and embedding model</a></span></li><li><span><a href=\"#Build-dataframe\" data-toc-modified-id=\"Build-dataframe-2.4\"><span class=\"toc-item-num\">2.4&nbsp;&nbsp;</span>Build dataframe</a></span></li><li><span><a href=\"#Define-attribute-groupings\" data-toc-modified-id=\"Define-attribute-groupings-2.5\"><span class=\"toc-item-num\">2.5&nbsp;&nbsp;</span>Define attribute groupings</a></span></li></ul></li><li><span><a href=\"#Calculate-average-embedding-vectors\" data-toc-modified-id=\"Calculate-average-embedding-vectors-3\"><span class=\"toc-item-num\">3&nbsp;&nbsp;</span>Calculate average embedding vectors</a></span><ul class=\"toc-item\"><li><span><a href=\"#(Optional)-Cap-at-100-samples-per-study-to-avoid-study-bias-and-use-only-those-attributes-that-are-similar-to-defined-classes¶\" data-toc-modified-id=\"(Optional)-Cap-at-100-samples-per-study-to-avoid-study-bias-and-use-only-those-attributes-that-are-similar-to-defined-classes¶-3.1\"><span class=\"toc-item-num\">3.1&nbsp;&nbsp;</span>(Optional) Cap at 100 samples per study to avoid study bias and use only those attributes that are similar to defined classes¶</a></span></li><li><span><a href=\"#Build-dataframe-from-subset-or-total\" data-toc-modified-id=\"Build-dataframe-from-subset-or-total-3.2\"><span class=\"toc-item-num\">3.2&nbsp;&nbsp;</span>Build dataframe from subset or total</a></span></li><li><span><a href=\"#Randomly-sample-100-of-each-attribute-that-occurs-greater-than-100-times\" data-toc-modified-id=\"Randomly-sample-100-of-each-attribute-that-occurs-greater-than-100-times-3.3\"><span class=\"toc-item-num\">3.3&nbsp;&nbsp;</span>Randomly sample 100 of each attribute that occurs greater than 100 times</a></span></li><li><span><a href=\"#Get-average-embedding-vector-for-each-attribute\" data-toc-modified-id=\"Get-average-embedding-vector-for-each-attribute-3.4\"><span class=\"toc-item-num\">3.4&nbsp;&nbsp;</span>Get average embedding vector for each attribute</a></span></li></ul></li><li><span><a href=\"#Merge-entities-with-high-cosine-similarity\" data-toc-modified-id=\"Merge-entities-with-high-cosine-similarity-4\"><span class=\"toc-item-num\">4&nbsp;&nbsp;</span>Merge entities with high cosine similarity</a></span></li><li><span><a href=\"#Supp.-Table1-Determine-coverage-increase-with-merging\" data-toc-modified-id=\"Supp.-Table1-Determine-coverage-increase-with-merging-5\"><span class=\"toc-item-num\">5&nbsp;&nbsp;</span><font color=\"red\">Supp. Table1</font> Determine coverage increase with merging</a></span></li><li><span><a href=\"#Analyze-word-embedding-space\" data-toc-modified-id=\"Analyze-word-embedding-space-6\"><span class=\"toc-item-num\">6&nbsp;&nbsp;</span>Analyze word embedding space</a></span><ul class=\"toc-item\"><li><span><a href=\"#Figure3A:-PCA-of-class-based-terms\" data-toc-modified-id=\"Figure3A:-PCA-of-class-based-terms-6.1\"><span class=\"toc-item-num\">6.1&nbsp;&nbsp;</span><font color=\"red\">Figure3A:</font> PCA of class based terms</a></span></li><li><span><a href=\"#Figure3B:-Cosine-similarity-based-hierarchical-clustering-of-class-based-terms\" data-toc-modified-id=\"Figure3B:-Cosine-similarity-based-hierarchical-clustering-of-class-based-terms-6.2\"><span class=\"toc-item-num\">6.2&nbsp;&nbsp;</span><font color=\"red\">Figure3B:</font> Cosine similarity based hierarchical clustering of class based terms</a></span></li><li><span><a href=\"#Figure3C:-PCA-of-data-type-based-terms\" data-toc-modified-id=\"Figure3C:-PCA-of-data-type-based-terms-6.3\"><span class=\"toc-item-num\">6.3&nbsp;&nbsp;</span><font color=\"red\">Figure3C:</font> PCA of data type based terms</a></span></li><li><span><a href=\"#Figure3D:-Cosine-similarity-based-hierarchical-clustering-of-data-type-based-terms\" data-toc-modified-id=\"Figure3D:-Cosine-similarity-based-hierarchical-clustering-of-data-type-based-terms-6.4\"><span class=\"toc-item-num\">6.4&nbsp;&nbsp;</span><font color=\"red\">Figure3D:</font> Cosine similarity based hierarchical clustering of data type based terms</a></span></li><li><span><a href=\"#Figure1F:-Cosine-similarity-based-hierarchical-clustering-for-methodology-figure\" data-toc-modified-id=\"Figure1F:-Cosine-similarity-based-hierarchical-clustering-for-methodology-figure-6.5\"><span class=\"toc-item-num\">6.5&nbsp;&nbsp;</span><font color=\"red\">Figure1F:</font> Cosine similarity based hierarchical clustering for methodology figure</a></span></li></ul></li></ul></div>"
   ]
  },
  {
   "cell_type": "markdown",
   "metadata": {
    "heading_collapsed": true
   },
   "source": [
    "# Merging attributes from BioSample using word2vec\n",
    "Adam Klie<br>\n",
    "11/17/2019<br>\n",
    "Updated: 08/31/2020<br>\n",
    "Script to create classes as output for neural net using similarities between attribute word embeddings"
   ]
  },
  {
   "cell_type": "markdown",
   "metadata": {
    "heading_collapsed": true
   },
   "source": [
    "# Set-up"
   ]
  },
  {
   "cell_type": "markdown",
   "metadata": {
    "heading_collapsed": true,
    "hidden": true
   },
   "source": [
    "## Import needed packages"
   ]
  },
  {
   "cell_type": "code",
   "execution_count": 1,
   "metadata": {
    "ExecuteTime": {
     "end_time": "2020-08-25T06:57:20.327017Z",
     "start_time": "2020-08-25T06:57:18.374806Z"
    },
    "hidden": true
   },
   "outputs": [
    {
     "name": "stderr",
     "output_type": "stream",
     "text": [
      "/cellar/users/aklie/opt/miniconda3/envs/PredictMEE_new/lib/python3.6/importlib/_bootstrap.py:219: RuntimeWarning: numpy.dtype size changed, may indicate binary incompatibility. Expected 96, got 88\n",
      "  return f(*args, **kwds)\n",
      "/cellar/users/aklie/opt/miniconda3/envs/PredictMEE_new/lib/python3.6/importlib/_bootstrap.py:219: RuntimeWarning: numpy.ufunc size changed, may indicate binary incompatibility. Expected 192, got 176\n",
      "  return f(*args, **kwds)\n",
      "/cellar/users/aklie/opt/miniconda3/envs/PredictMEE_new/lib/python3.6/importlib/_bootstrap.py:219: RuntimeWarning: numpy.dtype size changed, may indicate binary incompatibility. Expected 96, got 88\n",
      "  return f(*args, **kwds)\n",
      "/cellar/users/aklie/opt/miniconda3/envs/PredictMEE_new/lib/python3.6/importlib/_bootstrap.py:219: RuntimeWarning: numpy.ufunc size changed, may indicate binary incompatibility. Expected 192, got 176\n",
      "  return f(*args, **kwds)\n"
     ]
    }
   ],
   "source": [
    "%matplotlib inline\n",
    "import pandas as pd\n",
    "import numpy as np\n",
    "import matplotlib.pyplot as plt\n",
    "import scipy.spatial as sp\n",
    "import spacy"
   ]
  },
  {
   "cell_type": "code",
   "execution_count": 2,
   "metadata": {
    "ExecuteTime": {
     "end_time": "2020-08-25T06:57:22.383850Z",
     "start_time": "2020-08-25T06:57:22.375526Z"
    },
    "hidden": true
   },
   "outputs": [],
   "source": [
    "from matplotlib import rcParams\n",
    "import matplotlib as mpl\n",
    "\n",
    "rcParams['figure.figsize'] = (10, 6)\n",
    "rcParams['figure.dpi'] = 600 \n",
    "rcParams['lines.linewidth'] = 2\n",
    "rcParams['axes.facecolor'] = 'white'\n",
    "rcParams['font.size'] = 18\n",
    "rcParams['patch.edgecolor'] = 'white'\n",
    "rcParams['font.family'] = 'StixGeneral'\n",
    "\n",
    "rcParams['axes.labelsize'] = 30\n",
    "rcParams['ytick.labelsize'] = 24\n",
    "rcParams['xtick.labelsize'] = 24"
   ]
  },
  {
   "cell_type": "markdown",
   "metadata": {
    "heading_collapsed": true,
    "hidden": true
   },
   "source": [
    "## Helper function definitions"
   ]
  },
  {
   "cell_type": "code",
   "execution_count": 3,
   "metadata": {
    "ExecuteTime": {
     "end_time": "2020-08-25T06:57:23.630518Z",
     "start_time": "2020-08-25T06:57:23.626306Z"
    },
    "hidden": true
   },
   "outputs": [],
   "source": [
    "def correlate_dataframes(df1, df2, metric = 'cosine' ):\n",
    "    M = 1 - sp.distance.cdist(df1, df2, metric)\n",
    "    return pd.DataFrame(data = M, index = df1.index, columns = df2.index)"
   ]
  },
  {
   "cell_type": "markdown",
   "metadata": {
    "heading_collapsed": true,
    "hidden": true
   },
   "source": [
    "## Load data and embedding model"
   ]
  },
  {
   "cell_type": "code",
   "execution_count": 4,
   "metadata": {
    "ExecuteTime": {
     "end_time": "2020-08-25T06:58:12.267513Z",
     "start_time": "2020-08-25T06:57:25.018219Z"
    },
    "hidden": true
   },
   "outputs": [
    {
     "name": "stderr",
     "output_type": "stream",
     "text": [
      "/cellar/users/aklie/opt/miniconda3/envs/PredictMEE_new/lib/python3.6/importlib/_bootstrap.py:219: RuntimeWarning: numpy.dtype size changed, may indicate binary incompatibility. Expected 96, got 88\n",
      "  return f(*args, **kwds)\n",
      "/cellar/users/aklie/opt/miniconda3/envs/PredictMEE_new/lib/python3.6/importlib/_bootstrap.py:219: RuntimeWarning: numpy.ufunc size changed, may indicate binary incompatibility. Expected 192, got 176\n",
      "  return f(*args, **kwds)\n"
     ]
    }
   ],
   "source": [
    "# Load embedding model\n",
    "nlp = spacy.load('../data/wikipedia-pubmed-and-PMC-w2v')"
   ]
  },
  {
   "cell_type": "code",
   "execution_count": 6,
   "metadata": {
    "ExecuteTime": {
     "end_time": "2020-08-25T06:59:06.556135Z",
     "start_time": "2020-08-25T06:58:56.475236Z"
    },
    "hidden": true
   },
   "outputs": [],
   "source": [
    "# Load attribute-value pairs\n",
    "SRS_dir = \"../data/sra/allSRS_05_15_2018.pickle\"\n",
    "sra_dump_pickle_dir = \"../data/sra/sra_dump.pickle\"\n",
    "allSRS = pd.read_pickle(SRS_dir)\n",
    "#technical_meta_data_df = pd.read_pickle(sra_dump_pickle_dir)"
   ]
  },
  {
   "cell_type": "markdown",
   "metadata": {
    "heading_collapsed": true,
    "hidden": true
   },
   "source": [
    "## Build dataframe"
   ]
  },
  {
   "cell_type": "code",
   "execution_count": 26,
   "metadata": {
    "ExecuteTime": {
     "end_time": "2020-08-24T04:56:13.211879Z",
     "start_time": "2020-08-24T04:56:08.831095Z"
    },
    "hidden": true
   },
   "outputs": [],
   "source": [
    "qiita_df = pd.DataFrame(allQiita).reset_index()\n",
    "qiita_df.columns = ['sample_id', 'attribute', 'value']\n",
    "del allQiita"
   ]
  },
  {
   "cell_type": "markdown",
   "metadata": {
    "heading_collapsed": true,
    "hidden": true
   },
   "source": [
    "## Define attribute groupings"
   ]
  },
  {
   "cell_type": "code",
   "execution_count": 7,
   "metadata": {
    "ExecuteTime": {
     "end_time": "2020-08-25T06:59:39.785859Z",
     "start_time": "2020-08-25T06:59:39.741012Z"
    },
    "hidden": true
   },
   "outputs": [],
   "source": [
    "orig_grouping = pd.Series({'SCIENTIFIC_NAME':'Species',\n",
    "                           'genotype':'Genotype',\n",
    "                           'disease':'Disease state',\n",
    "                           'cell type':'Cell type/tissue',\n",
    "                           'tissue':'Cell type/tissue',\n",
    "                           'geo_loc_name':'Geographical Location',\n",
    "                           'treatment':'Treatment and conditions'})\n",
    "\n",
    "simple_grouping = pd.Series({'SCIENTIFIC_NAME':'Species',\n",
    "                            'cell type':'Cell type',\n",
    "                            'genotype':'Genotype',\n",
    "                            'disease':'Condition/Disease',\n",
    "                            'tissue':'Tissue'})\n",
    "\n",
    "eleven_class_grouping = pd.Series({'SCIENTIFIC_NAME':'Species',\n",
    "                                   'strain':'Strain',\n",
    "                                   'cell type':'Cell type',\n",
    "                                   'genotype':'Genotype',\n",
    "                                   'disease':'Condition/Disease',\n",
    "                                   'tissue':'Tissue',\n",
    "                                   'sex':'Sex',\n",
    "                                   'age':'Age',\n",
    "                                   'molecular data type':'Data type',\n",
    "                                   'platform':'Platform',\n",
    "                                   'protocol':'Protocol'})"
   ]
  },
  {
   "cell_type": "code",
   "execution_count": 8,
   "metadata": {
    "ExecuteTime": {
     "end_time": "2020-08-25T06:59:40.430314Z",
     "start_time": "2020-08-25T06:59:40.421936Z"
    },
    "hidden": true
   },
   "outputs": [],
   "source": [
    "grouping = eleven_class_grouping"
   ]
  },
  {
   "cell_type": "code",
   "execution_count": 9,
   "metadata": {
    "ExecuteTime": {
     "end_time": "2020-08-25T06:59:40.878809Z",
     "start_time": "2020-08-25T06:59:40.874015Z"
    },
    "hidden": true
   },
   "outputs": [],
   "source": [
    "model_iter = \"11_class\""
   ]
  },
  {
   "cell_type": "code",
   "execution_count": 10,
   "metadata": {
    "ExecuteTime": {
     "end_time": "2020-08-25T06:59:41.498423Z",
     "start_time": "2020-08-25T06:59:41.441691Z"
    },
    "hidden": true
   },
   "outputs": [],
   "source": [
    "pd.DataFrame(grouping).reset_index().to_csv('../doc/figures/Supplementary/Supp_Figure1F.csv', \n",
    "                                            index=False)"
   ]
  },
  {
   "cell_type": "markdown",
   "metadata": {
    "heading_collapsed": true
   },
   "source": [
    "# Calculate average embedding vectors"
   ]
  },
  {
   "cell_type": "markdown",
   "metadata": {
    "heading_collapsed": true,
    "hidden": true
   },
   "source": [
    "## (Optional) Cap at 100 samples per study to avoid study bias and use only those attributes that are similar to defined classes¶"
   ]
  },
  {
   "cell_type": "code",
   "execution_count": 11,
   "metadata": {
    "ExecuteTime": {
     "end_time": "2020-08-25T07:00:49.218437Z",
     "start_time": "2020-08-25T07:00:49.214573Z"
    },
    "hidden": true
   },
   "outputs": [],
   "source": [
    "max_sample_per_study_n = 100\n",
    "#capped_samples = technical_meta_data_df.groupby('Study').head(n = max_sample_per_study_n)['Sample']\n",
    "#print(\"Number of samples left after capping: %d\" % (len(capped_samples)))"
   ]
  },
  {
   "cell_type": "code",
   "execution_count": 12,
   "metadata": {
    "ExecuteTime": {
     "end_time": "2020-08-25T07:00:56.122421Z",
     "start_time": "2020-08-25T07:00:56.116916Z"
    },
    "hidden": true
   },
   "outputs": [],
   "source": [
    "#capped_m = allSRS.index.get_level_values(0).isin(capped_samples.values)"
   ]
  },
  {
   "cell_type": "code",
   "execution_count": 13,
   "metadata": {
    "ExecuteTime": {
     "end_time": "2020-08-25T07:01:01.476015Z",
     "start_time": "2020-08-25T07:01:01.470433Z"
    },
    "hidden": true
   },
   "outputs": [],
   "source": [
    "#subset_SRS = allSRS[capped_m]"
   ]
  },
  {
   "cell_type": "markdown",
   "metadata": {
    "heading_collapsed": true,
    "hidden": true
   },
   "source": [
    "## Build dataframe from subset or total"
   ]
  },
  {
   "cell_type": "code",
   "execution_count": 14,
   "metadata": {
    "ExecuteTime": {
     "end_time": "2020-08-25T07:01:35.014061Z",
     "start_time": "2020-08-25T07:01:28.470407Z"
    },
    "hidden": true
   },
   "outputs": [],
   "source": [
    "#SRS_df = pd.DataFrame(subset_SRS).reset_index()\n",
    "SRS_df = pd.DataFrame(allSRS).reset_index()\n",
    "SRS_df.columns = ['srs', 'attribute', 'value']\n",
    "del allSRS"
   ]
  },
  {
   "cell_type": "markdown",
   "metadata": {
    "heading_collapsed": true,
    "hidden": true
   },
   "source": [
    "## Randomly sample 100 of each attribute that occurs greater than 100 times"
   ]
  },
  {
   "cell_type": "code",
   "execution_count": 15,
   "metadata": {
    "ExecuteTime": {
     "end_time": "2020-08-25T07:02:05.174479Z",
     "start_time": "2020-08-25T07:01:48.990100Z"
    },
    "hidden": true
   },
   "outputs": [],
   "source": [
    "# Take only attributes with more than 100 samples to compare\n",
    "attribute_counts = SRS_df['attribute'].value_counts()\n",
    "recurr_attrib = attribute_counts.index[attribute_counts > 100]\n",
    "recurring_df = SRS_df[SRS_df.attribute.isin(recurr_attrib)]\n",
    "del SRS_df"
   ]
  },
  {
   "cell_type": "code",
   "execution_count": 30,
   "metadata": {
    "ExecuteTime": {
     "end_time": "2020-08-24T04:56:53.545405Z",
     "start_time": "2020-08-24T04:56:53.539020Z"
    },
    "hidden": true
   },
   "outputs": [
    {
     "name": "stdout",
     "output_type": "stream",
     "text": [
      "There are 7689 recurring attributes (greater than 100 samples)\n"
     ]
    }
   ],
   "source": [
    "print(\"There are %d recurring attributes (greater than 100 samples)\" % len(recurr_attrib))"
   ]
  },
  {
   "cell_type": "code",
   "execution_count": 17,
   "metadata": {
    "ExecuteTime": {
     "end_time": "2020-08-25T07:03:23.401373Z",
     "start_time": "2020-08-25T07:02:40.436698Z"
    },
    "hidden": true
   },
   "outputs": [],
   "source": [
    "# Randomly sample 100 per entities for generating entity vector\n",
    "recurring_df = recurring_df.sample(recurring_df.shape[0])\n",
    "subset_df = recurring_df.groupby('attribute').head(n = 100)\n",
    "del recurring_df"
   ]
  },
  {
   "cell_type": "markdown",
   "metadata": {
    "heading_collapsed": true,
    "hidden": true
   },
   "source": [
    "## Get average embedding vector for each attribute"
   ]
  },
  {
   "cell_type": "code",
   "execution_count": 18,
   "metadata": {
    "ExecuteTime": {
     "end_time": "2020-08-25T07:05:06.485073Z",
     "start_time": "2020-08-25T07:03:23.405582Z"
    },
    "hidden": true
   },
   "outputs": [],
   "source": [
    "# Get vector representation for all attribute-value pairs randomly selected\n",
    "docs = nlp.pipe(subset_df['value'].tolist())\n",
    "subset_index = subset_df.set_index(['srs','attribute','value']).index\n",
    "del subset_df\n",
    "vectors = [doc.vector for doc in docs]\n",
    "del docs\n",
    "doc_vector_df = pd.DataFrame(vectors, index=subset_index).astype(float)"
   ]
  },
  {
   "cell_type": "code",
   "execution_count": 19,
   "metadata": {
    "ExecuteTime": {
     "end_time": "2020-08-25T07:05:11.544906Z",
     "start_time": "2020-08-25T07:05:06.493061Z"
    },
    "hidden": true
   },
   "outputs": [],
   "source": [
    "# Take average of each attribute and correlate them by cosine similarity\n",
    "attribute_means = doc_vector_df.groupby('attribute').mean()\n",
    "embedding_df = attribute_means[attribute_means.sum(axis=1).abs()>0]\n",
    "corr_df = correlate_dataframes(embedding_df, embedding_df)"
   ]
  },
  {
   "cell_type": "code",
   "execution_count": 20,
   "metadata": {
    "ExecuteTime": {
     "end_time": "2020-08-25T07:05:17.678665Z",
     "start_time": "2020-08-25T07:05:11.547248Z"
    },
    "hidden": true
   },
   "outputs": [
    {
     "data": {
      "text/plain": [
       "Text(0.5,1,'Distribution of cosine similarities of attributes')"
      ]
     },
     "execution_count": 20,
     "metadata": {},
     "output_type": "execute_result"
    },
    {
     "data": {
      "image/png": "[encoded data removed]",
      "text/plain": [
       "<Figure size 6000x3600 with 1 Axes>"
      ]
     },
     "metadata": {
      "needs_background": "light"
     },
     "output_type": "display_data"
    }
   ],
   "source": [
    "plt.hist(corr_df.unstack().dropna(), bins = 20)\n",
    "plt.xlabel(\"Cosine similarity\")\n",
    "plt.ylabel('Frequency')\n",
    "plt.title('Distribution of cosine similarities of attributes')"
   ]
  },
  {
   "cell_type": "markdown",
   "metadata": {
    "heading_collapsed": true
   },
   "source": [
    "# Merge entities with high cosine similarity"
   ]
  },
  {
   "cell_type": "code",
   "execution_count": 21,
   "metadata": {
    "ExecuteTime": {
     "end_time": "2020-08-25T07:05:17.684313Z",
     "start_time": "2020-08-25T07:05:17.681051Z"
    },
    "hidden": true
   },
   "outputs": [],
   "source": [
    "# Choose higher categories that will encompass merged attributes\n",
    "similarity_threshold = 0.8\n",
    "selected_seeds = grouping.index"
   ]
  },
  {
   "cell_type": "code",
   "execution_count": 22,
   "metadata": {
    "ExecuteTime": {
     "end_time": "2020-08-25T07:05:17.875025Z",
     "start_time": "2020-08-25T07:05:17.686799Z"
    },
    "hidden": true
   },
   "outputs": [],
   "source": [
    "# Find all attributes closest to the seed attributes by threshold\n",
    "dataframe_list = []\n",
    "for attribute in selected_seeds:\n",
    "    if attribute == 'age':\n",
    "        tmp_series = corr_df[attribute][corr_df[attribute].index.isin(['age', 'AGE', 'Age'])]\n",
    "        tmp_df = tmp_series.sort_values(ascending = False).to_frame().reset_index()\n",
    "    else:\n",
    "        tmp_series = corr_df[attribute].sort_values(ascending = False)\n",
    "        tmp_df = tmp_series[tmp_series>= similarity_threshold].to_frame().reset_index()\n",
    "    tmp_df.columns = ['attribute','similarity']\n",
    "    dataframe_list.append(tmp_df)"
   ]
  },
  {
   "cell_type": "code",
   "execution_count": 23,
   "metadata": {
    "ExecuteTime": {
     "end_time": "2020-08-25T07:05:17.975647Z",
     "start_time": "2020-08-25T07:05:17.877747Z"
    },
    "hidden": true
   },
   "outputs": [
    {
     "name": "stderr",
     "output_type": "stream",
     "text": [
      "/cellar/users/aklie/opt/miniconda3/envs/PredictMEE_new/lib/python3.6/site-packages/ipykernel_launcher.py:6: SettingWithCopyWarning: \n",
      "A value is trying to be set on a copy of a slice from a DataFrame.\n",
      "Try using .loc[row_indexer,col_indexer] = value instead\n",
      "\n",
      "See the caveats in the documentation: http://pandas.pydata.org/pandas-docs/stable/indexing.html#indexing-view-versus-copy\n",
      "  \n"
     ]
    }
   ],
   "source": [
    "# Create a dataframe of entities that are similar\n",
    "merged_df = pd.concat(dataframe_list, keys = selected_seeds, axis = 0)\n",
    "merged_df.index.names=['GroupName','I']\n",
    "merged_reset_df = merged_df.reset_index()\n",
    "similar_df = merged_reset_df[merged_reset_df['similarity'] >= similarity_threshold]\n",
    "similar_df['GroupName'] = grouping[similar_df['GroupName']].values"
   ]
  },
  {
   "cell_type": "code",
   "execution_count": 24,
   "metadata": {
    "ExecuteTime": {
     "end_time": "2020-08-25T07:05:18.222876Z",
     "start_time": "2020-08-25T07:05:17.978254Z"
    },
    "hidden": true
   },
   "outputs": [
    {
     "data": {
      "text/html": [
       "<div>\n",
       "<style scoped>\n",
       "    .dataframe tbody tr th:only-of-type {\n",
       "        vertical-align: middle;\n",
       "    }\n",
       "\n",
       "    .dataframe tbody tr th {\n",
       "        vertical-align: top;\n",
       "    }\n",
       "\n",
       "    .dataframe thead th {\n",
       "        text-align: right;\n",
       "    }\n",
       "</style>\n",
       "<table border=\"1\" class=\"dataframe\">\n",
       "  <thead>\n",
       "    <tr style=\"text-align: right;\">\n",
       "      <th></th>\n",
       "      <th>GroupName</th>\n",
       "      <th>I</th>\n",
       "      <th>attribute</th>\n",
       "      <th>similarity</th>\n",
       "    </tr>\n",
       "  </thead>\n",
       "  <tbody>\n",
       "    <tr>\n",
       "      <th>0</th>\n",
       "      <td>Species</td>\n",
       "      <td>0</td>\n",
       "      <td>SCIENTIFIC_NAME</td>\n",
       "      <td>1.000000</td>\n",
       "    </tr>\n",
       "    <tr>\n",
       "      <th>1</th>\n",
       "      <td>Species</td>\n",
       "      <td>1</td>\n",
       "      <td>organism</td>\n",
       "      <td>0.907254</td>\n",
       "    </tr>\n",
       "    <tr>\n",
       "      <th>2</th>\n",
       "      <td>Species</td>\n",
       "      <td>2</td>\n",
       "      <td>host scientific name</td>\n",
       "      <td>0.879878</td>\n",
       "    </tr>\n",
       "    <tr>\n",
       "      <th>3</th>\n",
       "      <td>Species</td>\n",
       "      <td>3</td>\n",
       "      <td>Organism</td>\n",
       "      <td>0.874550</td>\n",
       "    </tr>\n",
       "    <tr>\n",
       "      <th>4</th>\n",
       "      <td>Species</td>\n",
       "      <td>4</td>\n",
       "      <td>host</td>\n",
       "      <td>0.851324</td>\n",
       "    </tr>\n",
       "    <tr>\n",
       "      <th>5</th>\n",
       "      <td>Species</td>\n",
       "      <td>5</td>\n",
       "      <td>specific host</td>\n",
       "      <td>0.818419</td>\n",
       "    </tr>\n",
       "    <tr>\n",
       "      <th>6</th>\n",
       "      <td>Species</td>\n",
       "      <td>6</td>\n",
       "      <td>host_scientific_name</td>\n",
       "      <td>0.817636</td>\n",
       "    </tr>\n",
       "    <tr>\n",
       "      <th>7</th>\n",
       "      <td>Species</td>\n",
       "      <td>7</td>\n",
       "      <td>nat-host</td>\n",
       "      <td>0.817143</td>\n",
       "    </tr>\n",
       "    <tr>\n",
       "      <th>8</th>\n",
       "      <td>Species</td>\n",
       "      <td>8</td>\n",
       "      <td>host species</td>\n",
       "      <td>0.812582</td>\n",
       "    </tr>\n",
       "    <tr>\n",
       "      <th>9</th>\n",
       "      <td>Strain</td>\n",
       "      <td>0</td>\n",
       "      <td>strain</td>\n",
       "      <td>1.000000</td>\n",
       "    </tr>\n",
       "    <tr>\n",
       "      <th>10</th>\n",
       "      <td>Strain</td>\n",
       "      <td>1</td>\n",
       "      <td>strain name</td>\n",
       "      <td>0.895733</td>\n",
       "    </tr>\n",
       "    <tr>\n",
       "      <th>11</th>\n",
       "      <td>Strain</td>\n",
       "      <td>2</td>\n",
       "      <td>host_genotype</td>\n",
       "      <td>0.874110</td>\n",
       "    </tr>\n",
       "    <tr>\n",
       "      <th>12</th>\n",
       "      <td>Strain</td>\n",
       "      <td>3</td>\n",
       "      <td>strain background</td>\n",
       "      <td>0.873565</td>\n",
       "    </tr>\n",
       "    <tr>\n",
       "      <th>13</th>\n",
       "      <td>Strain</td>\n",
       "      <td>4</td>\n",
       "      <td>StrainOrLine</td>\n",
       "      <td>0.869240</td>\n",
       "    </tr>\n",
       "    <tr>\n",
       "      <th>14</th>\n",
       "      <td>Strain</td>\n",
       "      <td>5</td>\n",
       "      <td>genetic background</td>\n",
       "      <td>0.867894</td>\n",
       "    </tr>\n",
       "    <tr>\n",
       "      <th>15</th>\n",
       "      <td>Strain</td>\n",
       "      <td>6</td>\n",
       "      <td>background strain</td>\n",
       "      <td>0.865766</td>\n",
       "    </tr>\n",
       "    <tr>\n",
       "      <th>16</th>\n",
       "      <td>Strain</td>\n",
       "      <td>7</td>\n",
       "      <td>strain or line</td>\n",
       "      <td>0.850086</td>\n",
       "    </tr>\n",
       "    <tr>\n",
       "      <th>17</th>\n",
       "      <td>Strain</td>\n",
       "      <td>8</td>\n",
       "      <td>strain/background</td>\n",
       "      <td>0.849834</td>\n",
       "    </tr>\n",
       "    <tr>\n",
       "      <th>18</th>\n",
       "      <td>Strain</td>\n",
       "      <td>9</td>\n",
       "      <td>host genotype</td>\n",
       "      <td>0.829959</td>\n",
       "    </tr>\n",
       "    <tr>\n",
       "      <th>19</th>\n",
       "      <td>Strain</td>\n",
       "      <td>10</td>\n",
       "      <td>background</td>\n",
       "      <td>0.826862</td>\n",
       "    </tr>\n",
       "    <tr>\n",
       "      <th>20</th>\n",
       "      <td>Strain</td>\n",
       "      <td>11</td>\n",
       "      <td>Mouse_Strain</td>\n",
       "      <td>0.826508</td>\n",
       "    </tr>\n",
       "    <tr>\n",
       "      <th>21</th>\n",
       "      <td>Strain</td>\n",
       "      <td>12</td>\n",
       "      <td>host strain</td>\n",
       "      <td>0.825108</td>\n",
       "    </tr>\n",
       "    <tr>\n",
       "      <th>22</th>\n",
       "      <td>Strain</td>\n",
       "      <td>13</td>\n",
       "      <td>mouse strain</td>\n",
       "      <td>0.822502</td>\n",
       "    </tr>\n",
       "    <tr>\n",
       "      <th>23</th>\n",
       "      <td>Strain</td>\n",
       "      <td>14</td>\n",
       "      <td>stain</td>\n",
       "      <td>0.813649</td>\n",
       "    </tr>\n",
       "    <tr>\n",
       "      <th>24</th>\n",
       "      <td>Strain</td>\n",
       "      <td>15</td>\n",
       "      <td>ArrayExpress-StrainOrLine</td>\n",
       "      <td>0.800251</td>\n",
       "    </tr>\n",
       "    <tr>\n",
       "      <th>25</th>\n",
       "      <td>Cell type</td>\n",
       "      <td>0</td>\n",
       "      <td>cell type</td>\n",
       "      <td>1.000000</td>\n",
       "    </tr>\n",
       "    <tr>\n",
       "      <th>26</th>\n",
       "      <td>Cell type</td>\n",
       "      <td>1</td>\n",
       "      <td>cell_type</td>\n",
       "      <td>0.923115</td>\n",
       "    </tr>\n",
       "    <tr>\n",
       "      <th>27</th>\n",
       "      <td>Cell type</td>\n",
       "      <td>2</td>\n",
       "      <td>source cell type</td>\n",
       "      <td>0.892900</td>\n",
       "    </tr>\n",
       "    <tr>\n",
       "      <th>28</th>\n",
       "      <td>Cell type</td>\n",
       "      <td>3</td>\n",
       "      <td>cell types</td>\n",
       "      <td>0.885396</td>\n",
       "    </tr>\n",
       "    <tr>\n",
       "      <th>29</th>\n",
       "      <td>Cell type</td>\n",
       "      <td>4</td>\n",
       "      <td>progenitor cell type</td>\n",
       "      <td>0.876194</td>\n",
       "    </tr>\n",
       "    <tr>\n",
       "      <th>...</th>\n",
       "      <td>...</td>\n",
       "      <td>...</td>\n",
       "      <td>...</td>\n",
       "      <td>...</td>\n",
       "    </tr>\n",
       "    <tr>\n",
       "      <th>75</th>\n",
       "      <td>Sex</td>\n",
       "      <td>14</td>\n",
       "      <td>sex_def_prob</td>\n",
       "      <td>0.896344</td>\n",
       "    </tr>\n",
       "    <tr>\n",
       "      <th>76</th>\n",
       "      <td>Sex</td>\n",
       "      <td>15</td>\n",
       "      <td>SEX</td>\n",
       "      <td>0.883911</td>\n",
       "    </tr>\n",
       "    <tr>\n",
       "      <th>77</th>\n",
       "      <td>Age</td>\n",
       "      <td>0</td>\n",
       "      <td>age</td>\n",
       "      <td>1.000000</td>\n",
       "    </tr>\n",
       "    <tr>\n",
       "      <th>78</th>\n",
       "      <td>Age</td>\n",
       "      <td>1</td>\n",
       "      <td>Age</td>\n",
       "      <td>0.825392</td>\n",
       "    </tr>\n",
       "    <tr>\n",
       "      <th>80</th>\n",
       "      <td>Data type</td>\n",
       "      <td>0</td>\n",
       "      <td>molecular data type</td>\n",
       "      <td>1.000000</td>\n",
       "    </tr>\n",
       "    <tr>\n",
       "      <th>81</th>\n",
       "      <td>Platform</td>\n",
       "      <td>0</td>\n",
       "      <td>platform</td>\n",
       "      <td>1.000000</td>\n",
       "    </tr>\n",
       "    <tr>\n",
       "      <th>82</th>\n",
       "      <td>Platform</td>\n",
       "      <td>1</td>\n",
       "      <td>Platform</td>\n",
       "      <td>0.935731</td>\n",
       "    </tr>\n",
       "    <tr>\n",
       "      <th>83</th>\n",
       "      <td>Platform</td>\n",
       "      <td>2</td>\n",
       "      <td>Sequencing_method</td>\n",
       "      <td>0.933956</td>\n",
       "    </tr>\n",
       "    <tr>\n",
       "      <th>84</th>\n",
       "      <td>Platform</td>\n",
       "      <td>3</td>\n",
       "      <td>sequencing method</td>\n",
       "      <td>0.932416</td>\n",
       "    </tr>\n",
       "    <tr>\n",
       "      <th>85</th>\n",
       "      <td>Platform</td>\n",
       "      <td>4</td>\n",
       "      <td>INSTRUMENT_MODEL</td>\n",
       "      <td>0.925903</td>\n",
       "    </tr>\n",
       "    <tr>\n",
       "      <th>86</th>\n",
       "      <td>Platform</td>\n",
       "      <td>5</td>\n",
       "      <td>SequencingTechnology</td>\n",
       "      <td>0.923203</td>\n",
       "    </tr>\n",
       "    <tr>\n",
       "      <th>87</th>\n",
       "      <td>Platform</td>\n",
       "      <td>6</td>\n",
       "      <td>sequencer</td>\n",
       "      <td>0.912470</td>\n",
       "    </tr>\n",
       "    <tr>\n",
       "      <th>88</th>\n",
       "      <td>Platform</td>\n",
       "      <td>7</td>\n",
       "      <td>instrument_model</td>\n",
       "      <td>0.911725</td>\n",
       "    </tr>\n",
       "    <tr>\n",
       "      <th>89</th>\n",
       "      <td>Platform</td>\n",
       "      <td>8</td>\n",
       "      <td>illumina_technology</td>\n",
       "      <td>0.910872</td>\n",
       "    </tr>\n",
       "    <tr>\n",
       "      <th>90</th>\n",
       "      <td>Platform</td>\n",
       "      <td>9</td>\n",
       "      <td>Sequencer</td>\n",
       "      <td>0.910076</td>\n",
       "    </tr>\n",
       "    <tr>\n",
       "      <th>91</th>\n",
       "      <td>Platform</td>\n",
       "      <td>10</td>\n",
       "      <td>labversion description</td>\n",
       "      <td>0.909691</td>\n",
       "    </tr>\n",
       "    <tr>\n",
       "      <th>92</th>\n",
       "      <td>Platform</td>\n",
       "      <td>11</td>\n",
       "      <td>sequencing_platform</td>\n",
       "      <td>0.907507</td>\n",
       "    </tr>\n",
       "    <tr>\n",
       "      <th>93</th>\n",
       "      <td>Platform</td>\n",
       "      <td>12</td>\n",
       "      <td>illumina_technlogy</td>\n",
       "      <td>0.906425</td>\n",
       "    </tr>\n",
       "    <tr>\n",
       "      <th>94</th>\n",
       "      <td>Platform</td>\n",
       "      <td>13</td>\n",
       "      <td>seq_meth</td>\n",
       "      <td>0.901404</td>\n",
       "    </tr>\n",
       "    <tr>\n",
       "      <th>95</th>\n",
       "      <td>Platform</td>\n",
       "      <td>14</td>\n",
       "      <td>seq_methods</td>\n",
       "      <td>0.900991</td>\n",
       "    </tr>\n",
       "    <tr>\n",
       "      <th>96</th>\n",
       "      <td>Platform</td>\n",
       "      <td>15</td>\n",
       "      <td>sequencing_machine</td>\n",
       "      <td>0.887968</td>\n",
       "    </tr>\n",
       "    <tr>\n",
       "      <th>97</th>\n",
       "      <td>Platform</td>\n",
       "      <td>16</td>\n",
       "      <td>sequencing_method</td>\n",
       "      <td>0.861854</td>\n",
       "    </tr>\n",
       "    <tr>\n",
       "      <th>98</th>\n",
       "      <td>Platform</td>\n",
       "      <td>17</td>\n",
       "      <td>runchemistry</td>\n",
       "      <td>0.847788</td>\n",
       "    </tr>\n",
       "    <tr>\n",
       "      <th>99</th>\n",
       "      <td>Protocol</td>\n",
       "      <td>0</td>\n",
       "      <td>protocol</td>\n",
       "      <td>1.000000</td>\n",
       "    </tr>\n",
       "    <tr>\n",
       "      <th>100</th>\n",
       "      <td>Protocol</td>\n",
       "      <td>1</td>\n",
       "      <td>technology</td>\n",
       "      <td>0.880051</td>\n",
       "    </tr>\n",
       "    <tr>\n",
       "      <th>101</th>\n",
       "      <td>Protocol</td>\n",
       "      <td>2</td>\n",
       "      <td>experiment type</td>\n",
       "      <td>0.866993</td>\n",
       "    </tr>\n",
       "    <tr>\n",
       "      <th>102</th>\n",
       "      <td>Protocol</td>\n",
       "      <td>3</td>\n",
       "      <td>extract_protocol</td>\n",
       "      <td>0.847873</td>\n",
       "    </tr>\n",
       "    <tr>\n",
       "      <th>103</th>\n",
       "      <td>Protocol</td>\n",
       "      <td>4</td>\n",
       "      <td>protocol description</td>\n",
       "      <td>0.844937</td>\n",
       "    </tr>\n",
       "    <tr>\n",
       "      <th>104</th>\n",
       "      <td>Protocol</td>\n",
       "      <td>5</td>\n",
       "      <td>assay</td>\n",
       "      <td>0.842195</td>\n",
       "    </tr>\n",
       "    <tr>\n",
       "      <th>105</th>\n",
       "      <td>Protocol</td>\n",
       "      <td>6</td>\n",
       "      <td>application</td>\n",
       "      <td>0.836097</td>\n",
       "    </tr>\n",
       "  </tbody>\n",
       "</table>\n",
       "<p>105 rows × 4 columns</p>\n",
       "</div>"
      ],
      "text/plain": [
       "     GroupName   I                  attribute  similarity\n",
       "0      Species   0            SCIENTIFIC_NAME    1.000000\n",
       "1      Species   1                   organism    0.907254\n",
       "2      Species   2       host scientific name    0.879878\n",
       "3      Species   3                   Organism    0.874550\n",
       "4      Species   4                       host    0.851324\n",
       "5      Species   5              specific host    0.818419\n",
       "6      Species   6       host_scientific_name    0.817636\n",
       "7      Species   7                   nat-host    0.817143\n",
       "8      Species   8               host species    0.812582\n",
       "9       Strain   0                     strain    1.000000\n",
       "10      Strain   1                strain name    0.895733\n",
       "11      Strain   2              host_genotype    0.874110\n",
       "12      Strain   3          strain background    0.873565\n",
       "13      Strain   4               StrainOrLine    0.869240\n",
       "14      Strain   5         genetic background    0.867894\n",
       "15      Strain   6          background strain    0.865766\n",
       "16      Strain   7             strain or line    0.850086\n",
       "17      Strain   8          strain/background    0.849834\n",
       "18      Strain   9              host genotype    0.829959\n",
       "19      Strain  10                 background    0.826862\n",
       "20      Strain  11               Mouse_Strain    0.826508\n",
       "21      Strain  12                host strain    0.825108\n",
       "22      Strain  13               mouse strain    0.822502\n",
       "23      Strain  14                      stain    0.813649\n",
       "24      Strain  15  ArrayExpress-StrainOrLine    0.800251\n",
       "25   Cell type   0                  cell type    1.000000\n",
       "26   Cell type   1                  cell_type    0.923115\n",
       "27   Cell type   2           source cell type    0.892900\n",
       "28   Cell type   3                 cell types    0.885396\n",
       "29   Cell type   4       progenitor cell type    0.876194\n",
       "..         ...  ..                        ...         ...\n",
       "75         Sex  14               sex_def_prob    0.896344\n",
       "76         Sex  15                        SEX    0.883911\n",
       "77         Age   0                        age    1.000000\n",
       "78         Age   1                        Age    0.825392\n",
       "80   Data type   0        molecular data type    1.000000\n",
       "81    Platform   0                   platform    1.000000\n",
       "82    Platform   1                   Platform    0.935731\n",
       "83    Platform   2          Sequencing_method    0.933956\n",
       "84    Platform   3          sequencing method    0.932416\n",
       "85    Platform   4           INSTRUMENT_MODEL    0.925903\n",
       "86    Platform   5       SequencingTechnology    0.923203\n",
       "87    Platform   6                  sequencer    0.912470\n",
       "88    Platform   7           instrument_model    0.911725\n",
       "89    Platform   8        illumina_technology    0.910872\n",
       "90    Platform   9                  Sequencer    0.910076\n",
       "91    Platform  10     labversion description    0.909691\n",
       "92    Platform  11        sequencing_platform    0.907507\n",
       "93    Platform  12         illumina_technlogy    0.906425\n",
       "94    Platform  13                   seq_meth    0.901404\n",
       "95    Platform  14                seq_methods    0.900991\n",
       "96    Platform  15         sequencing_machine    0.887968\n",
       "97    Platform  16          sequencing_method    0.861854\n",
       "98    Platform  17               runchemistry    0.847788\n",
       "99    Protocol   0                   protocol    1.000000\n",
       "100   Protocol   1                 technology    0.880051\n",
       "101   Protocol   2            experiment type    0.866993\n",
       "102   Protocol   3           extract_protocol    0.847873\n",
       "103   Protocol   4       protocol description    0.844937\n",
       "104   Protocol   5                      assay    0.842195\n",
       "105   Protocol   6                application    0.836097\n",
       "\n",
       "[105 rows x 4 columns]"
      ]
     },
     "metadata": {},
     "output_type": "display_data"
    }
   ],
   "source": [
    "display(similar_df)"
   ]
  },
  {
   "cell_type": "code",
   "execution_count": 25,
   "metadata": {
    "ExecuteTime": {
     "end_time": "2020-08-25T07:05:18.299304Z",
     "start_time": "2020-08-25T07:05:18.225580Z"
    },
    "hidden": true
   },
   "outputs": [],
   "source": [
    "similar_df.to_csv('../results/embedding/{model}/entity_merging.csv'.format(model = model_iter))"
   ]
  },
  {
   "cell_type": "markdown",
   "metadata": {
    "heading_collapsed": true
   },
   "source": [
    "# <font color=red>Supp. Table1</font> Determine coverage increase with merging"
   ]
  },
  {
   "cell_type": "code",
   "execution_count": 32,
   "metadata": {
    "ExecuteTime": {
     "end_time": "2020-08-25T07:07:50.101026Z",
     "start_time": "2020-08-25T07:07:33.870824Z"
    },
    "hidden": true
   },
   "outputs": [],
   "source": [
    "# Reload for further analysis\n",
    "SRS_dir = \"../data/sra/allSRS_05_15_2018.pickle\"\n",
    "allSRS = pd.read_pickle(SRS_dir)\n",
    "SRS_df = pd.DataFrame(allSRS).reset_index()\n",
    "SRS_df.columns = ['srs', 'attribute', 'value']"
   ]
  },
  {
   "cell_type": "code",
   "execution_count": 33,
   "metadata": {
    "ExecuteTime": {
     "end_time": "2020-08-25T07:07:55.718843Z",
     "start_time": "2020-08-25T07:07:50.106081Z"
    },
    "hidden": true
   },
   "outputs": [
    {
     "name": "stderr",
     "output_type": "stream",
     "text": [
      "/cellar/users/aklie/opt/miniconda3/envs/PredictMEE_new/lib/python3.6/site-packages/ipykernel_launcher.py:1: SettingWithCopyWarning: \n",
      "A value is trying to be set on a copy of a slice from a DataFrame.\n",
      "Try using .loc[row_indexer,col_indexer] = value instead\n",
      "\n",
      "See the caveats in the documentation: http://pandas.pydata.org/pandas-docs/stable/indexing.html#indexing-view-versus-copy\n",
      "  \"\"\"Entry point for launching an IPython kernel.\n"
     ]
    }
   ],
   "source": [
    "similar_df['value count'] = SRS_df['attribute'].value_counts()[similar_df['attribute'].values].values"
   ]
  },
  {
   "cell_type": "code",
   "execution_count": 34,
   "metadata": {
    "ExecuteTime": {
     "end_time": "2020-08-25T07:07:56.289690Z",
     "start_time": "2020-08-25T07:07:55.725374Z"
    },
    "hidden": true
   },
   "outputs": [],
   "source": [
    "counts_df = similar_df[similar_df['attribute'].isin(['age', 'cell type', 'disease', 'molecular data type',\n",
    "                                        'genotype', 'platform', 'protocol', 'sex', 'SCIENTIFIC_NAME',\n",
    "                                        'strain', 'tissue'])].sort_values('GroupName').drop('I', axis = 1)\n",
    "counts_df['merged count'] = similar_df.groupby('GroupName').sum()['value count'].values\n",
    "counts_df['factor of increase'] = counts_df['merged count']/counts_df['value count']"
   ]
  },
  {
   "cell_type": "code",
   "execution_count": 35,
   "metadata": {
    "ExecuteTime": {
     "end_time": "2020-08-25T07:07:57.300773Z",
     "start_time": "2020-08-25T07:07:56.293506Z"
    },
    "hidden": true
   },
   "outputs": [
    {
     "data": {
      "text/html": [
       "<div>\n",
       "<style scoped>\n",
       "    .dataframe tbody tr th:only-of-type {\n",
       "        vertical-align: middle;\n",
       "    }\n",
       "\n",
       "    .dataframe tbody tr th {\n",
       "        vertical-align: top;\n",
       "    }\n",
       "\n",
       "    .dataframe thead th {\n",
       "        text-align: right;\n",
       "    }\n",
       "</style>\n",
       "<table border=\"1\" class=\"dataframe\">\n",
       "  <thead>\n",
       "    <tr style=\"text-align: right;\">\n",
       "      <th></th>\n",
       "      <th>GroupName</th>\n",
       "      <th>attribute</th>\n",
       "      <th>similarity</th>\n",
       "      <th>value count</th>\n",
       "      <th>merged count</th>\n",
       "      <th>factor of increase</th>\n",
       "    </tr>\n",
       "  </thead>\n",
       "  <tbody>\n",
       "    <tr>\n",
       "      <th>77</th>\n",
       "      <td>Age</td>\n",
       "      <td>age</td>\n",
       "      <td>1.0</td>\n",
       "      <td>363161</td>\n",
       "      <td>370206</td>\n",
       "      <td>1.019399</td>\n",
       "    </tr>\n",
       "    <tr>\n",
       "      <th>25</th>\n",
       "      <td>Cell type</td>\n",
       "      <td>cell type</td>\n",
       "      <td>1.0</td>\n",
       "      <td>150652</td>\n",
       "      <td>661884</td>\n",
       "      <td>4.393463</td>\n",
       "    </tr>\n",
       "    <tr>\n",
       "      <th>50</th>\n",
       "      <td>Condition/Disease</td>\n",
       "      <td>disease</td>\n",
       "      <td>1.0</td>\n",
       "      <td>36349</td>\n",
       "      <td>45523</td>\n",
       "      <td>1.252387</td>\n",
       "    </tr>\n",
       "    <tr>\n",
       "      <th>80</th>\n",
       "      <td>Data type</td>\n",
       "      <td>molecular data type</td>\n",
       "      <td>1.0</td>\n",
       "      <td>544515</td>\n",
       "      <td>544515</td>\n",
       "      <td>1.000000</td>\n",
       "    </tr>\n",
       "    <tr>\n",
       "      <th>40</th>\n",
       "      <td>Genotype</td>\n",
       "      <td>genotype</td>\n",
       "      <td>1.0</td>\n",
       "      <td>117332</td>\n",
       "      <td>153181</td>\n",
       "      <td>1.305535</td>\n",
       "    </tr>\n",
       "    <tr>\n",
       "      <th>81</th>\n",
       "      <td>Platform</td>\n",
       "      <td>platform</td>\n",
       "      <td>1.0</td>\n",
       "      <td>3476</td>\n",
       "      <td>147541</td>\n",
       "      <td>42.445627</td>\n",
       "    </tr>\n",
       "    <tr>\n",
       "      <th>99</th>\n",
       "      <td>Protocol</td>\n",
       "      <td>protocol</td>\n",
       "      <td>1.0</td>\n",
       "      <td>5851</td>\n",
       "      <td>8576</td>\n",
       "      <td>1.465732</td>\n",
       "    </tr>\n",
       "    <tr>\n",
       "      <th>61</th>\n",
       "      <td>Sex</td>\n",
       "      <td>sex</td>\n",
       "      <td>1.0</td>\n",
       "      <td>643290</td>\n",
       "      <td>808204</td>\n",
       "      <td>1.256360</td>\n",
       "    </tr>\n",
       "    <tr>\n",
       "      <th>0</th>\n",
       "      <td>Species</td>\n",
       "      <td>SCIENTIFIC_NAME</td>\n",
       "      <td>1.0</td>\n",
       "      <td>2773124</td>\n",
       "      <td>3366952</td>\n",
       "      <td>1.214137</td>\n",
       "    </tr>\n",
       "    <tr>\n",
       "      <th>9</th>\n",
       "      <td>Strain</td>\n",
       "      <td>strain</td>\n",
       "      <td>1.0</td>\n",
       "      <td>598496</td>\n",
       "      <td>729026</td>\n",
       "      <td>1.218097</td>\n",
       "    </tr>\n",
       "    <tr>\n",
       "      <th>57</th>\n",
       "      <td>Tissue</td>\n",
       "      <td>tissue</td>\n",
       "      <td>1.0</td>\n",
       "      <td>446429</td>\n",
       "      <td>498948</td>\n",
       "      <td>1.117642</td>\n",
       "    </tr>\n",
       "  </tbody>\n",
       "</table>\n",
       "</div>"
      ],
      "text/plain": [
       "            GroupName            attribute  similarity  value count  \\\n",
       "77                Age                  age         1.0       363161   \n",
       "25          Cell type            cell type         1.0       150652   \n",
       "50  Condition/Disease              disease         1.0        36349   \n",
       "80          Data type  molecular data type         1.0       544515   \n",
       "40           Genotype             genotype         1.0       117332   \n",
       "81           Platform             platform         1.0         3476   \n",
       "99           Protocol             protocol         1.0         5851   \n",
       "61                Sex                  sex         1.0       643290   \n",
       "0             Species      SCIENTIFIC_NAME         1.0      2773124   \n",
       "9              Strain               strain         1.0       598496   \n",
       "57             Tissue               tissue         1.0       446429   \n",
       "\n",
       "    merged count  factor of increase  \n",
       "77        370206            1.019399  \n",
       "25        661884            4.393463  \n",
       "50         45523            1.252387  \n",
       "80        544515            1.000000  \n",
       "40        153181            1.305535  \n",
       "81        147541           42.445627  \n",
       "99          8576            1.465732  \n",
       "61        808204            1.256360  \n",
       "0        3366952            1.214137  \n",
       "9         729026            1.218097  \n",
       "57        498948            1.117642  "
      ]
     },
     "metadata": {},
     "output_type": "display_data"
    }
   ],
   "source": [
    "display(counts_df)"
   ]
  },
  {
   "cell_type": "code",
   "execution_count": 36,
   "metadata": {
    "ExecuteTime": {
     "end_time": "2020-08-25T07:07:57.847048Z",
     "start_time": "2020-08-25T07:07:57.303667Z"
    },
    "hidden": true
   },
   "outputs": [],
   "source": [
    "counts_df.to_csv('../results/embedding/{model}/entity_coverage.csv'.format(model=model_iter))\n",
    "counts_df.to_csv('../doc/figures/Supplementary/Supp_Table1.csv'.format(model=model_iter))"
   ]
  },
  {
   "cell_type": "markdown",
   "metadata": {
    "heading_collapsed": true
   },
   "source": [
    "# Analyze word embedding space"
   ]
  },
  {
   "cell_type": "code",
   "execution_count": 37,
   "metadata": {
    "ExecuteTime": {
     "end_time": "2020-08-25T07:08:06.642141Z",
     "start_time": "2020-08-25T07:08:03.957822Z"
    },
    "hidden": true
   },
   "outputs": [],
   "source": [
    "from sklearn import manifold, decomposition\n",
    "import seaborn as sns"
   ]
  },
  {
   "cell_type": "code",
   "execution_count": 38,
   "metadata": {
    "ExecuteTime": {
     "end_time": "2020-08-25T07:08:06.651667Z",
     "start_time": "2020-08-25T07:08:06.646349Z"
    },
    "hidden": true
   },
   "outputs": [],
   "source": [
    "keys = nlp.vocab.vectors.keys()"
   ]
  },
  {
   "cell_type": "code",
   "execution_count": 39,
   "metadata": {
    "ExecuteTime": {
     "end_time": "2020-08-25T07:08:08.332433Z",
     "start_time": "2020-08-25T07:08:06.656124Z"
    },
    "hidden": true
   },
   "outputs": [],
   "source": [
    "word_vec_df = pd.DataFrame(nlp.vocab.vectors.data, index = keys)"
   ]
  },
  {
   "cell_type": "code",
   "execution_count": 40,
   "metadata": {
    "ExecuteTime": {
     "end_time": "2020-08-25T07:08:08.365848Z",
     "start_time": "2020-08-25T07:08:08.335391Z"
    },
    "hidden": true
   },
   "outputs": [
    {
     "data": {
      "text/html": [
       "<div>\n",
       "<style scoped>\n",
       "    .dataframe tbody tr th:only-of-type {\n",
       "        vertical-align: middle;\n",
       "    }\n",
       "\n",
       "    .dataframe tbody tr th {\n",
       "        vertical-align: top;\n",
       "    }\n",
       "\n",
       "    .dataframe thead th {\n",
       "        text-align: right;\n",
       "    }\n",
       "</style>\n",
       "<table border=\"1\" class=\"dataframe\">\n",
       "  <thead>\n",
       "    <tr style=\"text-align: right;\">\n",
       "      <th></th>\n",
       "      <th>0</th>\n",
       "      <th>1</th>\n",
       "      <th>2</th>\n",
       "      <th>3</th>\n",
       "      <th>4</th>\n",
       "      <th>5</th>\n",
       "      <th>6</th>\n",
       "      <th>7</th>\n",
       "      <th>8</th>\n",
       "      <th>9</th>\n",
       "      <th>...</th>\n",
       "      <th>190</th>\n",
       "      <th>191</th>\n",
       "      <th>192</th>\n",
       "      <th>193</th>\n",
       "      <th>194</th>\n",
       "      <th>195</th>\n",
       "      <th>196</th>\n",
       "      <th>197</th>\n",
       "      <th>198</th>\n",
       "      <th>199</th>\n",
       "    </tr>\n",
       "  </thead>\n",
       "  <tbody>\n",
       "    <tr>\n",
       "      <th>2667587279770775948</th>\n",
       "      <td>0.001701</td>\n",
       "      <td>0.000166</td>\n",
       "      <td>0.001748</td>\n",
       "      <td>-0.000733</td>\n",
       "      <td>0.001669</td>\n",
       "      <td>0.000776</td>\n",
       "      <td>0.001303</td>\n",
       "      <td>-0.000944</td>\n",
       "      <td>-0.001797</td>\n",
       "      <td>-0.000134</td>\n",
       "      <td>...</td>\n",
       "      <td>0.001715</td>\n",
       "      <td>0.001459</td>\n",
       "      <td>0.002345</td>\n",
       "      <td>0.001057</td>\n",
       "      <td>0.000979</td>\n",
       "      <td>-0.001693</td>\n",
       "      <td>0.000151</td>\n",
       "      <td>0.001749</td>\n",
       "      <td>0.000048</td>\n",
       "      <td>-0.001742</td>\n",
       "    </tr>\n",
       "    <tr>\n",
       "      <th>7425985699627899538</th>\n",
       "      <td>0.155801</td>\n",
       "      <td>-0.071087</td>\n",
       "      <td>0.055198</td>\n",
       "      <td>-0.141998</td>\n",
       "      <td>0.000532</td>\n",
       "      <td>0.040514</td>\n",
       "      <td>-0.157303</td>\n",
       "      <td>0.035504</td>\n",
       "      <td>0.091874</td>\n",
       "      <td>0.032364</td>\n",
       "      <td>...</td>\n",
       "      <td>0.201029</td>\n",
       "      <td>0.223507</td>\n",
       "      <td>0.013706</td>\n",
       "      <td>0.171383</td>\n",
       "      <td>0.074172</td>\n",
       "      <td>-0.180557</td>\n",
       "      <td>0.085533</td>\n",
       "      <td>-0.044299</td>\n",
       "      <td>0.057632</td>\n",
       "      <td>0.006359</td>\n",
       "    </tr>\n",
       "    <tr>\n",
       "      <th>2593208677638477497</th>\n",
       "      <td>-0.059316</td>\n",
       "      <td>0.102907</td>\n",
       "      <td>0.002158</td>\n",
       "      <td>0.084926</td>\n",
       "      <td>-0.023946</td>\n",
       "      <td>0.105284</td>\n",
       "      <td>0.024068</td>\n",
       "      <td>0.131582</td>\n",
       "      <td>0.079721</td>\n",
       "      <td>0.118374</td>\n",
       "      <td>...</td>\n",
       "      <td>0.183382</td>\n",
       "      <td>0.097754</td>\n",
       "      <td>0.077573</td>\n",
       "      <td>0.108788</td>\n",
       "      <td>0.059441</td>\n",
       "      <td>-0.013179</td>\n",
       "      <td>0.149007</td>\n",
       "      <td>-0.026105</td>\n",
       "      <td>-0.038689</td>\n",
       "      <td>-0.079721</td>\n",
       "    </tr>\n",
       "    <tr>\n",
       "      <th>12646065887601541794</th>\n",
       "      <td>-0.010395</td>\n",
       "      <td>0.120041</td>\n",
       "      <td>-0.074264</td>\n",
       "      <td>-0.054721</td>\n",
       "      <td>-0.095818</td>\n",
       "      <td>0.049936</td>\n",
       "      <td>-0.128741</td>\n",
       "      <td>-0.012185</td>\n",
       "      <td>0.225156</td>\n",
       "      <td>0.042923</td>\n",
       "      <td>...</td>\n",
       "      <td>0.279434</td>\n",
       "      <td>0.090539</td>\n",
       "      <td>0.133916</td>\n",
       "      <td>0.204425</td>\n",
       "      <td>-0.072498</td>\n",
       "      <td>0.028723</td>\n",
       "      <td>-0.042401</td>\n",
       "      <td>-0.190231</td>\n",
       "      <td>-0.133390</td>\n",
       "      <td>0.194939</td>\n",
       "    </tr>\n",
       "    <tr>\n",
       "      <th>886050111519832510</th>\n",
       "      <td>0.077941</td>\n",
       "      <td>-0.005107</td>\n",
       "      <td>0.064805</td>\n",
       "      <td>-0.060963</td>\n",
       "      <td>-0.083622</td>\n",
       "      <td>-0.024057</td>\n",
       "      <td>-0.194617</td>\n",
       "      <td>0.038781</td>\n",
       "      <td>0.149339</td>\n",
       "      <td>-0.032660</td>\n",
       "      <td>...</td>\n",
       "      <td>0.150951</td>\n",
       "      <td>0.132817</td>\n",
       "      <td>-0.138992</td>\n",
       "      <td>0.196112</td>\n",
       "      <td>0.136153</td>\n",
       "      <td>-0.049858</td>\n",
       "      <td>0.157857</td>\n",
       "      <td>-0.036012</td>\n",
       "      <td>0.137212</td>\n",
       "      <td>-0.085172</td>\n",
       "    </tr>\n",
       "  </tbody>\n",
       "</table>\n",
       "<p>5 rows × 200 columns</p>\n",
       "</div>"
      ],
      "text/plain": [
       "                           0         1         2         3         4    \\\n",
       "2667587279770775948   0.001701  0.000166  0.001748 -0.000733  0.001669   \n",
       "7425985699627899538   0.155801 -0.071087  0.055198 -0.141998  0.000532   \n",
       "2593208677638477497  -0.059316  0.102907  0.002158  0.084926 -0.023946   \n",
       "12646065887601541794 -0.010395  0.120041 -0.074264 -0.054721 -0.095818   \n",
       "886050111519832510    0.077941 -0.005107  0.064805 -0.060963 -0.083622   \n",
       "\n",
       "                           5         6         7         8         9    \\\n",
       "2667587279770775948   0.000776  0.001303 -0.000944 -0.001797 -0.000134   \n",
       "7425985699627899538   0.040514 -0.157303  0.035504  0.091874  0.032364   \n",
       "2593208677638477497   0.105284  0.024068  0.131582  0.079721  0.118374   \n",
       "12646065887601541794  0.049936 -0.128741 -0.012185  0.225156  0.042923   \n",
       "886050111519832510   -0.024057 -0.194617  0.038781  0.149339 -0.032660   \n",
       "\n",
       "                        ...          190       191       192       193  \\\n",
       "2667587279770775948     ...     0.001715  0.001459  0.002345  0.001057   \n",
       "7425985699627899538     ...     0.201029  0.223507  0.013706  0.171383   \n",
       "2593208677638477497     ...     0.183382  0.097754  0.077573  0.108788   \n",
       "12646065887601541794    ...     0.279434  0.090539  0.133916  0.204425   \n",
       "886050111519832510      ...     0.150951  0.132817 -0.138992  0.196112   \n",
       "\n",
       "                           194       195       196       197       198  \\\n",
       "2667587279770775948   0.000979 -0.001693  0.000151  0.001749  0.000048   \n",
       "7425985699627899538   0.074172 -0.180557  0.085533 -0.044299  0.057632   \n",
       "2593208677638477497   0.059441 -0.013179  0.149007 -0.026105 -0.038689   \n",
       "12646065887601541794 -0.072498  0.028723 -0.042401 -0.190231 -0.133390   \n",
       "886050111519832510    0.136153 -0.049858  0.157857 -0.036012  0.137212   \n",
       "\n",
       "                           199  \n",
       "2667587279770775948  -0.001742  \n",
       "7425985699627899538   0.006359  \n",
       "2593208677638477497  -0.079721  \n",
       "12646065887601541794  0.194939  \n",
       "886050111519832510   -0.085172  \n",
       "\n",
       "[5 rows x 200 columns]"
      ]
     },
     "execution_count": 40,
     "metadata": {},
     "output_type": "execute_result"
    }
   ],
   "source": [
    "word_vec_df.head()"
   ]
  },
  {
   "cell_type": "code",
   "execution_count": 41,
   "metadata": {
    "ExecuteTime": {
     "end_time": "2020-08-25T07:08:21.737895Z",
     "start_time": "2020-08-25T07:08:08.367866Z"
    },
    "hidden": true
   },
   "outputs": [],
   "source": [
    "keyToString={}\n",
    "keys = nlp.vocab.vectors.keys()\n",
    "for key in keys:\n",
    "    if key in nlp.vocab.strings: \n",
    "        keyToString[key] = nlp.vocab.strings[key]"
   ]
  },
  {
   "cell_type": "code",
   "execution_count": 42,
   "metadata": {
    "ExecuteTime": {
     "end_time": "2020-08-25T07:08:27.258392Z",
     "start_time": "2020-08-25T07:08:21.740106Z"
    },
    "hidden": true
   },
   "outputs": [],
   "source": [
    "keyToStringS = pd.Series(keyToString)"
   ]
  },
  {
   "cell_type": "code",
   "execution_count": 43,
   "metadata": {
    "ExecuteTime": {
     "end_time": "2020-08-25T07:08:40.790186Z",
     "start_time": "2020-08-25T07:08:27.261307Z"
    },
    "hidden": true,
    "scrolled": false
   },
   "outputs": [
    {
     "name": "stderr",
     "output_type": "stream",
     "text": [
      "/cellar/users/aklie/opt/miniconda3/envs/PredictMEE_new/lib/python3.6/site-packages/pandas/core/series.py:842: FutureWarning: \n",
      "Passing list-likes to .loc or [] with any missing label will raise\n",
      "KeyError in the future, you can use .reindex() as an alternative.\n",
      "\n",
      "See the documentation here:\n",
      "https://pandas.pydata.org/pandas-docs/stable/indexing.html#deprecate-loc-reindex-listlike\n",
      "  return self.loc[key]\n"
     ]
    }
   ],
   "source": [
    "strings = keyToStringS[nlp.vocab.vectors.keys()].values"
   ]
  },
  {
   "cell_type": "code",
   "execution_count": 44,
   "metadata": {
    "ExecuteTime": {
     "end_time": "2020-08-25T07:08:40.875362Z",
     "start_time": "2020-08-25T07:08:40.793407Z"
    },
    "hidden": true
   },
   "outputs": [],
   "source": [
    "word_vec_df.index = strings"
   ]
  },
  {
   "cell_type": "markdown",
   "metadata": {
    "heading_collapsed": true,
    "hidden": true
   },
   "source": [
    "## <font color=red>Figure3A:</font> PCA of class based terms"
   ]
  },
  {
   "cell_type": "code",
   "execution_count": 45,
   "metadata": {
    "ExecuteTime": {
     "end_time": "2020-08-25T07:08:43.002232Z",
     "start_time": "2020-08-25T07:08:40.881136Z"
    },
    "hidden": true
   },
   "outputs": [],
   "source": [
    "classes = word_vec_df.loc[['male', 'female', 'hermaphrodite', \n",
    "                           'atherosclerosis', 'cancer', \"Alzheimer's\",\n",
    "                           'Microarray', 'RNA-seq', 'ChIP-seq',\n",
    "                           'weeks', 'years', 'hours']]"
   ]
  },
  {
   "cell_type": "code",
   "execution_count": 46,
   "metadata": {
    "ExecuteTime": {
     "end_time": "2020-08-25T07:08:43.079556Z",
     "start_time": "2020-08-25T07:08:43.004881Z"
    },
    "hidden": true
   },
   "outputs": [],
   "source": [
    "dimensionReduction = decomposition.PCA(n_components = 2)\n",
    "M = dimensionReduction.fit_transform(classes)"
   ]
  },
  {
   "cell_type": "code",
   "execution_count": 47,
   "metadata": {
    "ExecuteTime": {
     "end_time": "2020-08-25T07:08:43.140075Z",
     "start_time": "2020-08-25T07:08:43.083257Z"
    },
    "hidden": true
   },
   "outputs": [],
   "source": [
    "tmpDf = pd.DataFrame(data=M,index=classes.index)"
   ]
  },
  {
   "cell_type": "code",
   "execution_count": 48,
   "metadata": {
    "ExecuteTime": {
     "end_time": "2020-08-25T07:08:43.229271Z",
     "start_time": "2020-08-25T07:08:43.143533Z"
    },
    "hidden": true
   },
   "outputs": [
    {
     "data": {
      "text/html": [
       "<div>\n",
       "<style scoped>\n",
       "    .dataframe tbody tr th:only-of-type {\n",
       "        vertical-align: middle;\n",
       "    }\n",
       "\n",
       "    .dataframe tbody tr th {\n",
       "        vertical-align: top;\n",
       "    }\n",
       "\n",
       "    .dataframe thead th {\n",
       "        text-align: right;\n",
       "    }\n",
       "</style>\n",
       "<table border=\"1\" class=\"dataframe\">\n",
       "  <thead>\n",
       "    <tr style=\"text-align: right;\">\n",
       "      <th></th>\n",
       "      <th>male</th>\n",
       "      <th>female</th>\n",
       "      <th>hermaphrodite</th>\n",
       "      <th>atherosclerosis</th>\n",
       "      <th>cancer</th>\n",
       "      <th>Alzheimer's</th>\n",
       "      <th>Microarray</th>\n",
       "      <th>RNA-seq</th>\n",
       "      <th>ChIP-seq</th>\n",
       "      <th>weeks</th>\n",
       "      <th>years</th>\n",
       "      <th>hours</th>\n",
       "    </tr>\n",
       "  </thead>\n",
       "  <tbody>\n",
       "    <tr>\n",
       "      <th>male</th>\n",
       "      <td>1.000000</td>\n",
       "      <td>0.938105</td>\n",
       "      <td>0.583863</td>\n",
       "      <td>0.097181</td>\n",
       "      <td>0.143148</td>\n",
       "      <td>-0.028984</td>\n",
       "      <td>-0.016748</td>\n",
       "      <td>0.115367</td>\n",
       "      <td>0.046411</td>\n",
       "      <td>0.161494</td>\n",
       "      <td>0.264595</td>\n",
       "      <td>0.021715</td>\n",
       "    </tr>\n",
       "    <tr>\n",
       "      <th>female</th>\n",
       "      <td>0.938105</td>\n",
       "      <td>1.000000</td>\n",
       "      <td>0.608827</td>\n",
       "      <td>0.080780</td>\n",
       "      <td>0.196720</td>\n",
       "      <td>-0.036350</td>\n",
       "      <td>-0.016621</td>\n",
       "      <td>0.110827</td>\n",
       "      <td>0.035601</td>\n",
       "      <td>0.178118</td>\n",
       "      <td>0.266951</td>\n",
       "      <td>0.045907</td>\n",
       "    </tr>\n",
       "    <tr>\n",
       "      <th>hermaphrodite</th>\n",
       "      <td>0.583863</td>\n",
       "      <td>0.608827</td>\n",
       "      <td>1.000000</td>\n",
       "      <td>-0.007679</td>\n",
       "      <td>0.090415</td>\n",
       "      <td>0.066847</td>\n",
       "      <td>0.090662</td>\n",
       "      <td>0.245263</td>\n",
       "      <td>0.114190</td>\n",
       "      <td>-0.027627</td>\n",
       "      <td>0.012671</td>\n",
       "      <td>0.025224</td>\n",
       "    </tr>\n",
       "    <tr>\n",
       "      <th>atherosclerosis</th>\n",
       "      <td>0.097181</td>\n",
       "      <td>0.080780</td>\n",
       "      <td>-0.007679</td>\n",
       "      <td>1.000000</td>\n",
       "      <td>0.267505</td>\n",
       "      <td>0.027128</td>\n",
       "      <td>-0.034172</td>\n",
       "      <td>0.035271</td>\n",
       "      <td>0.001385</td>\n",
       "      <td>0.006502</td>\n",
       "      <td>0.062373</td>\n",
       "      <td>-0.067954</td>\n",
       "    </tr>\n",
       "    <tr>\n",
       "      <th>cancer</th>\n",
       "      <td>0.143148</td>\n",
       "      <td>0.196720</td>\n",
       "      <td>0.090415</td>\n",
       "      <td>0.267505</td>\n",
       "      <td>1.000000</td>\n",
       "      <td>-0.022103</td>\n",
       "      <td>0.036467</td>\n",
       "      <td>0.104384</td>\n",
       "      <td>0.135636</td>\n",
       "      <td>0.002686</td>\n",
       "      <td>0.163813</td>\n",
       "      <td>-0.005366</td>\n",
       "    </tr>\n",
       "    <tr>\n",
       "      <th>Alzheimer's</th>\n",
       "      <td>-0.028984</td>\n",
       "      <td>-0.036350</td>\n",
       "      <td>0.066847</td>\n",
       "      <td>0.027128</td>\n",
       "      <td>-0.022103</td>\n",
       "      <td>1.000000</td>\n",
       "      <td>0.118230</td>\n",
       "      <td>-0.009507</td>\n",
       "      <td>-0.000299</td>\n",
       "      <td>-0.084315</td>\n",
       "      <td>0.023630</td>\n",
       "      <td>-0.107930</td>\n",
       "    </tr>\n",
       "    <tr>\n",
       "      <th>Microarray</th>\n",
       "      <td>-0.016748</td>\n",
       "      <td>-0.016621</td>\n",
       "      <td>0.090662</td>\n",
       "      <td>-0.034172</td>\n",
       "      <td>0.036467</td>\n",
       "      <td>0.118230</td>\n",
       "      <td>1.000000</td>\n",
       "      <td>0.618567</td>\n",
       "      <td>0.474958</td>\n",
       "      <td>-0.012997</td>\n",
       "      <td>0.013822</td>\n",
       "      <td>0.001283</td>\n",
       "    </tr>\n",
       "    <tr>\n",
       "      <th>RNA-seq</th>\n",
       "      <td>0.115367</td>\n",
       "      <td>0.110827</td>\n",
       "      <td>0.245263</td>\n",
       "      <td>0.035271</td>\n",
       "      <td>0.104384</td>\n",
       "      <td>-0.009507</td>\n",
       "      <td>0.618567</td>\n",
       "      <td>1.000000</td>\n",
       "      <td>0.724324</td>\n",
       "      <td>0.034025</td>\n",
       "      <td>0.080109</td>\n",
       "      <td>-0.015572</td>\n",
       "    </tr>\n",
       "    <tr>\n",
       "      <th>ChIP-seq</th>\n",
       "      <td>0.046411</td>\n",
       "      <td>0.035601</td>\n",
       "      <td>0.114190</td>\n",
       "      <td>0.001385</td>\n",
       "      <td>0.135636</td>\n",
       "      <td>-0.000299</td>\n",
       "      <td>0.474958</td>\n",
       "      <td>0.724324</td>\n",
       "      <td>1.000000</td>\n",
       "      <td>-0.016827</td>\n",
       "      <td>0.046470</td>\n",
       "      <td>0.012528</td>\n",
       "    </tr>\n",
       "    <tr>\n",
       "      <th>weeks</th>\n",
       "      <td>0.161494</td>\n",
       "      <td>0.178118</td>\n",
       "      <td>-0.027627</td>\n",
       "      <td>0.006502</td>\n",
       "      <td>0.002686</td>\n",
       "      <td>-0.084315</td>\n",
       "      <td>-0.012997</td>\n",
       "      <td>0.034025</td>\n",
       "      <td>-0.016827</td>\n",
       "      <td>1.000000</td>\n",
       "      <td>0.557497</td>\n",
       "      <td>0.671341</td>\n",
       "    </tr>\n",
       "    <tr>\n",
       "      <th>years</th>\n",
       "      <td>0.264595</td>\n",
       "      <td>0.266951</td>\n",
       "      <td>0.012671</td>\n",
       "      <td>0.062373</td>\n",
       "      <td>0.163813</td>\n",
       "      <td>0.023630</td>\n",
       "      <td>0.013822</td>\n",
       "      <td>0.080109</td>\n",
       "      <td>0.046470</td>\n",
       "      <td>0.557497</td>\n",
       "      <td>1.000000</td>\n",
       "      <td>0.304784</td>\n",
       "    </tr>\n",
       "    <tr>\n",
       "      <th>hours</th>\n",
       "      <td>0.021715</td>\n",
       "      <td>0.045907</td>\n",
       "      <td>0.025224</td>\n",
       "      <td>-0.067954</td>\n",
       "      <td>-0.005366</td>\n",
       "      <td>-0.107930</td>\n",
       "      <td>0.001283</td>\n",
       "      <td>-0.015572</td>\n",
       "      <td>0.012528</td>\n",
       "      <td>0.671341</td>\n",
       "      <td>0.304784</td>\n",
       "      <td>1.000000</td>\n",
       "    </tr>\n",
       "  </tbody>\n",
       "</table>\n",
       "</div>"
      ],
      "text/plain": [
       "                     male    female  hermaphrodite  atherosclerosis    cancer  \\\n",
       "male             1.000000  0.938105       0.583863         0.097181  0.143148   \n",
       "female           0.938105  1.000000       0.608827         0.080780  0.196720   \n",
       "hermaphrodite    0.583863  0.608827       1.000000        -0.007679  0.090415   \n",
       "atherosclerosis  0.097181  0.080780      -0.007679         1.000000  0.267505   \n",
       "cancer           0.143148  0.196720       0.090415         0.267505  1.000000   \n",
       "Alzheimer's     -0.028984 -0.036350       0.066847         0.027128 -0.022103   \n",
       "Microarray      -0.016748 -0.016621       0.090662        -0.034172  0.036467   \n",
       "RNA-seq          0.115367  0.110827       0.245263         0.035271  0.104384   \n",
       "ChIP-seq         0.046411  0.035601       0.114190         0.001385  0.135636   \n",
       "weeks            0.161494  0.178118      -0.027627         0.006502  0.002686   \n",
       "years            0.264595  0.266951       0.012671         0.062373  0.163813   \n",
       "hours            0.021715  0.045907       0.025224        -0.067954 -0.005366   \n",
       "\n",
       "                 Alzheimer's  Microarray   RNA-seq  ChIP-seq     weeks  \\\n",
       "male               -0.028984   -0.016748  0.115367  0.046411  0.161494   \n",
       "female             -0.036350   -0.016621  0.110827  0.035601  0.178118   \n",
       "hermaphrodite       0.066847    0.090662  0.245263  0.114190 -0.027627   \n",
       "atherosclerosis     0.027128   -0.034172  0.035271  0.001385  0.006502   \n",
       "cancer             -0.022103    0.036467  0.104384  0.135636  0.002686   \n",
       "Alzheimer's         1.000000    0.118230 -0.009507 -0.000299 -0.084315   \n",
       "Microarray          0.118230    1.000000  0.618567  0.474958 -0.012997   \n",
       "RNA-seq            -0.009507    0.618567  1.000000  0.724324  0.034025   \n",
       "ChIP-seq           -0.000299    0.474958  0.724324  1.000000 -0.016827   \n",
       "weeks              -0.084315   -0.012997  0.034025 -0.016827  1.000000   \n",
       "years               0.023630    0.013822  0.080109  0.046470  0.557497   \n",
       "hours              -0.107930    0.001283 -0.015572  0.012528  0.671341   \n",
       "\n",
       "                    years     hours  \n",
       "male             0.264595  0.021715  \n",
       "female           0.266951  0.045907  \n",
       "hermaphrodite    0.012671  0.025224  \n",
       "atherosclerosis  0.062373 -0.067954  \n",
       "cancer           0.163813 -0.005366  \n",
       "Alzheimer's      0.023630 -0.107930  \n",
       "Microarray       0.013822  0.001283  \n",
       "RNA-seq          0.080109 -0.015572  \n",
       "ChIP-seq         0.046470  0.012528  \n",
       "weeks            0.557497  0.671341  \n",
       "years            1.000000  0.304784  \n",
       "hours            0.304784  1.000000  "
      ]
     },
     "execution_count": 48,
     "metadata": {},
     "output_type": "execute_result"
    }
   ],
   "source": [
    "classes.T.corr()"
   ]
  },
  {
   "cell_type": "code",
   "execution_count": 49,
   "metadata": {
    "ExecuteTime": {
     "end_time": "2020-08-25T07:08:43.263433Z",
     "start_time": "2020-08-25T07:08:43.235216Z"
    },
    "hidden": true
   },
   "outputs": [],
   "source": [
    "var_exp = dimensionReduction.explained_variance_ratio_\n",
    "PC_1 = var_exp[0]*100\n",
    "PC_2 = var_exp[1]*100"
   ]
  },
  {
   "cell_type": "code",
   "execution_count": 50,
   "metadata": {
    "ExecuteTime": {
     "end_time": "2020-08-25T07:08:45.334336Z",
     "start_time": "2020-08-25T07:08:43.269566Z"
    },
    "hidden": true
   },
   "outputs": [],
   "source": [
    "fig,ax=plt.subplots(figsize=(6,6))\n",
    "tmpDf.plot(x=0,y=1,kind='scatter',ax=ax,s=14)\n",
    "for name,row in tmpDf.iterrows():\n",
    "    ax.annotate(xy=(row[0],row[1]),s=name, fontsize=16)\n",
    "ax.set_xlim(right=3.0)\n",
    "ax.set_xlabel('PC1 (%.2f%%)' % PC_1)\n",
    "ax.set_ylabel('PC2 (%.2f%%)' % PC_2)\n",
    "plt.savefig('../doc/figures/Figure3/Figure3A.eps', dpi=600, bbox_inches=\"tight\")\n",
    "plt.savefig('../doc/figures/Figure3/Figure3A.png', dpi=600, bbox_inches=\"tight\")\n",
    "plt.close();"
   ]
  },
  {
   "cell_type": "markdown",
   "metadata": {
    "heading_collapsed": true,
    "hidden": true
   },
   "source": [
    "## <font color=red>Figure3B:</font> Cosine similarity based hierarchical clustering of class based terms"
   ]
  },
  {
   "cell_type": "code",
   "execution_count": 51,
   "metadata": {
    "ExecuteTime": {
     "end_time": "2020-08-25T07:08:51.008686Z",
     "start_time": "2020-08-25T07:08:45.337618Z"
    },
    "hidden": true
   },
   "outputs": [],
   "source": [
    "sns.clustermap(data=classes.T.corr(), metric='cosine', z_score=True)\n",
    "plt.savefig('../doc/figures/Figure3/Figure3B.eps', dpi=600, bbox_inches=\"tight\")\n",
    "plt.savefig('../doc/figures/Figure3/Figure3B.png', dpi=600, bbox_inches=\"tight\")\n",
    "plt.close();"
   ]
  },
  {
   "cell_type": "markdown",
   "metadata": {
    "heading_collapsed": true,
    "hidden": true
   },
   "source": [
    "## <font color=red>Figure3C:</font> PCA of data type based terms"
   ]
  },
  {
   "cell_type": "code",
   "execution_count": 52,
   "metadata": {
    "ExecuteTime": {
     "end_time": "2020-08-25T07:08:51.194735Z",
     "start_time": "2020-08-25T07:08:51.013018Z"
    },
    "hidden": true
   },
   "outputs": [],
   "source": [
    "types = word_vec_df.loc[['DNase-seq', 'ChIP-seq', 'immunoprecipitation-sequencing', \n",
    "                         'mRNA-seq', 'RNA-sequencing', \"RNA-seq\",\n",
    "                         'bisulfite-sequencing', 'Bis-seq', 'Methyl-seq', 'bisulfite-seq']]"
   ]
  },
  {
   "cell_type": "code",
   "execution_count": 53,
   "metadata": {
    "ExecuteTime": {
     "end_time": "2020-08-25T07:08:51.286457Z",
     "start_time": "2020-08-25T07:08:51.197069Z"
    },
    "hidden": true
   },
   "outputs": [],
   "source": [
    "dimensionReduction = decomposition.PCA(n_components = 2)\n",
    "M = dimensionReduction.fit_transform(types)"
   ]
  },
  {
   "cell_type": "code",
   "execution_count": 54,
   "metadata": {
    "ExecuteTime": {
     "end_time": "2020-08-25T07:08:51.339196Z",
     "start_time": "2020-08-25T07:08:51.290328Z"
    },
    "hidden": true
   },
   "outputs": [],
   "source": [
    "tmpDf = pd.DataFrame(data=M,index=types.index)"
   ]
  },
  {
   "cell_type": "code",
   "execution_count": 55,
   "metadata": {
    "ExecuteTime": {
     "end_time": "2020-08-25T07:08:51.406241Z",
     "start_time": "2020-08-25T07:08:51.341673Z"
    },
    "hidden": true
   },
   "outputs": [],
   "source": [
    "var_exp = dimensionReduction.explained_variance_ratio_\n",
    "PC_1 = var_exp[0]*100\n",
    "PC_2 = var_exp[1]*100"
   ]
  },
  {
   "cell_type": "code",
   "execution_count": 56,
   "metadata": {
    "ExecuteTime": {
     "end_time": "2020-08-25T07:08:53.328508Z",
     "start_time": "2020-08-25T07:08:51.409239Z"
    },
    "hidden": true
   },
   "outputs": [],
   "source": [
    "fig,ax=plt.subplots(figsize=(6,6))\n",
    "tmpDf.plot(x=0,y=1,kind='scatter',ax=ax,s=14)\n",
    "for name,row in tmpDf.iterrows():\n",
    "    ax.annotate(xy=(row[0],row[1]),s=name, fontsize=16)\n",
    "ax.set_xlim(right=3.0)\n",
    "ax.set_xlabel('PC1 (%.2f%%)' % PC_1)\n",
    "ax.set_ylabel('PC2 (%.2f%%)' % PC_2)\n",
    "plt.savefig('../doc/figures/Figure3/Figure3C.eps', dpi=600, bbox_inches=\"tight\")\n",
    "plt.savefig('../doc/figures/Figure3/Figure3C.png', dpi=600, bbox_inches=\"tight\")\n",
    "plt.close();"
   ]
  },
  {
   "cell_type": "markdown",
   "metadata": {
    "heading_collapsed": true,
    "hidden": true
   },
   "source": [
    "## <font color=red>Figure3D:</font> Cosine similarity based hierarchical clustering of data type based terms"
   ]
  },
  {
   "cell_type": "code",
   "execution_count": 57,
   "metadata": {
    "ExecuteTime": {
     "end_time": "2020-08-25T07:09:00.087111Z",
     "start_time": "2020-08-25T07:08:53.331410Z"
    },
    "hidden": true
   },
   "outputs": [],
   "source": [
    "sns.clustermap(data=types.T.corr(), metric='cosine', z_score=True)\n",
    "plt.savefig('../doc/figures/Figure3/Figure3D.eps', dpi=600, bbox_inches=\"tight\")\n",
    "plt.savefig('../doc/figures/Figure3/Figure3D.png', dpi=600, bbox_inches=\"tight\")\n",
    "plt.close();"
   ]
  },
  {
   "cell_type": "markdown",
   "metadata": {
    "heading_collapsed": true,
    "hidden": true
   },
   "source": [
    "## <font color=red>Figure1F:</font> Cosine similarity based hierarchical clustering for methodology figure"
   ]
  },
  {
   "cell_type": "code",
   "execution_count": 58,
   "metadata": {
    "ExecuteTime": {
     "end_time": "2020-08-25T07:09:00.209337Z",
     "start_time": "2020-08-25T07:09:00.090852Z"
    },
    "hidden": true
   },
   "outputs": [],
   "source": [
    "terms = word_vec_df.loc[['RNA-sequencing', 'RNA-seq', \n",
    "                         'keratinocytes', 'epidermis',\n",
    "                         'psoriasis', 'inflammation']]"
   ]
  },
  {
   "cell_type": "code",
   "execution_count": 59,
   "metadata": {
    "ExecuteTime": {
     "end_time": "2020-08-25T07:09:00.271855Z",
     "start_time": "2020-08-25T07:09:00.211272Z"
    },
    "hidden": true
   },
   "outputs": [],
   "source": [
    "dimensionReduction = decomposition.PCA(n_components = 2)\n",
    "M = dimensionReduction.fit_transform(terms)"
   ]
  },
  {
   "cell_type": "code",
   "execution_count": 60,
   "metadata": {
    "ExecuteTime": {
     "end_time": "2020-08-25T07:09:00.326646Z",
     "start_time": "2020-08-25T07:09:00.278772Z"
    },
    "hidden": true
   },
   "outputs": [],
   "source": [
    "tmpDf = pd.DataFrame(data=M,index=terms.index)"
   ]
  },
  {
   "cell_type": "code",
   "execution_count": 61,
   "metadata": {
    "ExecuteTime": {
     "end_time": "2020-08-25T07:09:00.392339Z",
     "start_time": "2020-08-25T07:09:00.334566Z"
    },
    "hidden": true
   },
   "outputs": [],
   "source": [
    "var_exp = dimensionReduction.explained_variance_ratio_\n",
    "PC_1 = var_exp[0]*100\n",
    "PC_2 = var_exp[1]*100"
   ]
  },
  {
   "cell_type": "code",
   "execution_count": 62,
   "metadata": {
    "ExecuteTime": {
     "end_time": "2020-08-25T07:09:02.515112Z",
     "start_time": "2020-08-25T07:09:00.400702Z"
    },
    "hidden": true
   },
   "outputs": [],
   "source": [
    "fig,ax=plt.subplots(figsize=(6,6))\n",
    "tmpDf.plot(x=0,y=1,kind='scatter',ax=ax,s=14)\n",
    "for name,row in tmpDf.iterrows():\n",
    "    if name == 'inflammation':\n",
    "        ax.annotate(xy=(row[0],row[1]),s='psoriasis vulgaris', fontsize=20)\n",
    "    else:\n",
    "        ax.annotate(xy=(row[0],row[1]),s=name, fontsize=20)\n",
    "ax.set_xlim(right=3.0)\n",
    "ax.set_xlabel('First principal component' % PC_1, fontsize=24)\n",
    "ax.set_ylabel('Second principal component' % PC_2, fontsize=24)\n",
    "plt.savefig('../doc/figures/Figure1/Figure1F.eps', dpi=600, bbox_inches=\"tight\")\n",
    "plt.savefig('../doc/figures/Figure3/Figure1F.png', dpi=600, bbox_inches=\"tight\")\n",
    "plt.close();"
   ]
  }
 ],
 "metadata": {
  "kernelspec": {
   "display_name": "py3_PredictMEE",
   "language": "python",
   "name": "predictmee"
  },
  "language_info": {
   "codemirror_mode": {
    "name": "ipython",
    "version": 3
   },
   "file_extension": ".py",
   "mimetype": "text/x-python",
   "name": "python",
   "nbconvert_exporter": "python",
   "pygments_lexer": "ipython3",
   "version": "3.6.6"
  },
  "toc": {
   "base_numbering": 1,
   "nav_menu": {},
   "number_sections": true,
   "sideBar": true,
   "skip_h1_title": false,
   "title_cell": "Table of Contents",
   "title_sidebar": "Contents",
   "toc_cell": true,
   "toc_position": {
    "height": "calc(100% - 180px)",
    "left": "10px",
    "top": "150px",
    "width": "384px"
   },
   "toc_section_display": true,
   "toc_window_display": true
  }
 },
 "nbformat": 4,
 "nbformat_minor": 4
}
