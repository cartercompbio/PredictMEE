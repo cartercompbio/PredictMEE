{
 "cells": [
  {
   "cell_type": "markdown",
   "metadata": {
    "toc": true
   },
   "source": [
    "<h1>Table of Contents<span class=\"tocSkip\"></span></h1>\n",
    "<div class=\"toc\"><ul class=\"toc-item\"><li><span><a href=\"#Train-a-bi-LSTM-to-predict-short-entities\" data-toc-modified-id=\"Train-a-bi-LSTM-to-predict-short-entities-1\"><span class=\"toc-item-num\">1&nbsp;&nbsp;</span>Train a bi-LSTM to predict short entities<br></a></span></li><li><span><a href=\"#Set-up\" data-toc-modified-id=\"Set-up-2\"><span class=\"toc-item-num\">2&nbsp;&nbsp;</span>Set up</a></span><ul class=\"toc-item\"><li><span><a href=\"#Import-necessry-packages\" data-toc-modified-id=\"Import-necessry-packages-2.1\"><span class=\"toc-item-num\">2.1&nbsp;&nbsp;</span>Import necessry packages</a></span></li><li><span><a href=\"#Helper-functions\" data-toc-modified-id=\"Helper-functions-2.2\"><span class=\"toc-item-num\">2.2&nbsp;&nbsp;</span>Helper functions</a></span></li><li><span><a href=\"#Load-in-data\" data-toc-modified-id=\"Load-in-data-2.3\"><span class=\"toc-item-num\">2.3&nbsp;&nbsp;</span>Load in data</a></span><ul class=\"toc-item\"><li><span><a href=\"#Read-in-the-BioSample-annotations-and-build-dataframe\" data-toc-modified-id=\"Read-in-the-BioSample-annotations-and-build-dataframe-2.3.1\"><span class=\"toc-item-num\">2.3.1&nbsp;&nbsp;</span>Read in the BioSample annotations and build dataframe</a></span></li><li><span><a href=\"#Read-in-metadata-on-BioSample-entries-that-will-allow-us-to-cap-on-study\" data-toc-modified-id=\"Read-in-metadata-on-BioSample-entries-that-will-allow-us-to-cap-on-study-2.3.2\"><span class=\"toc-item-num\">2.3.2&nbsp;&nbsp;</span>Read in metadata on BioSample entries that will allow us to cap on study</a></span></li><li><span><a href=\"#Read-in-embeddings\" data-toc-modified-id=\"Read-in-embeddings-2.3.3\"><span class=\"toc-item-num\">2.3.3&nbsp;&nbsp;</span>Read in embeddings</a></span></li><li><span><a href=\"#Import-merging-of-entities-from-file\" data-toc-modified-id=\"Import-merging-of-entities-from-file-2.3.4\"><span class=\"toc-item-num\">2.3.4&nbsp;&nbsp;</span>Import merging of entities from file</a></span></li></ul></li></ul></li><li><span><a href=\"#Data-pre-processing\" data-toc-modified-id=\"Data-pre-processing-3\"><span class=\"toc-item-num\">3&nbsp;&nbsp;</span>Data pre-processing</a></span><ul class=\"toc-item\"><li><span><a href=\"#Filter-out-non-valid-attributes\" data-toc-modified-id=\"Filter-out-non-valid-attributes-3.1\"><span class=\"toc-item-num\">3.1&nbsp;&nbsp;</span>Filter out non-valid attributes</a></span></li><li><span><a href=\"#-Supp-Figure-1A--Cap-at-100-samples-per-study-to-avoid-study-bias\" data-toc-modified-id=\"-Supp-Figure-1A--Cap-at-100-samples-per-study-to-avoid-study-bias-3.2\"><span class=\"toc-item-num\">3.2&nbsp;&nbsp;</span><font color=\"red\"> Supp Figure 1A </font> Cap at 100 samples per study to avoid study bias</a></span></li><li><span><a href=\"#Filter-out-unwanted-training-examples-and-replace-all-white-space-with-'-'\" data-toc-modified-id=\"Filter-out-unwanted-training-examples-and-replace-all-white-space-with-'-'-3.3\"><span class=\"toc-item-num\">3.3&nbsp;&nbsp;</span>Filter out unwanted training examples and replace all white space with ' '</a></span></li><li><span><a href=\"#Take-only-values-between-length-2-and-7\" data-toc-modified-id=\"Take-only-values-between-length-2-and-7-3.4\"><span class=\"toc-item-num\">3.4&nbsp;&nbsp;</span>Take only values between length 2 and 7</a></span></li><li><span><a href=\"#Filter-out-test-set-examples\" data-toc-modified-id=\"Filter-out-test-set-examples-3.5\"><span class=\"toc-item-num\">3.5&nbsp;&nbsp;</span>Filter out test set examples</a></span></li><li><span><a href=\"#Replace-whitespace-with-'-'\" data-toc-modified-id=\"Replace-whitespace-with-'-'-3.6\"><span class=\"toc-item-num\">3.6&nbsp;&nbsp;</span>Replace whitespace with ' '</a></span></li><li><span><a href=\"#Final-dataset\" data-toc-modified-id=\"Final-dataset-3.7\"><span class=\"toc-item-num\">3.7&nbsp;&nbsp;</span>Final dataset</a></span></li></ul></li><li><span><a href=\"#Train/val-split\" data-toc-modified-id=\"Train/val-split-4\"><span class=\"toc-item-num\">4&nbsp;&nbsp;</span>Train/val split</a></span><ul class=\"toc-item\"><li><span><a href=\"#Start-by-pulling-out-only-samples-that-are-in-our-dataset-from-technical-metadata,-that-has-studies-in-it\" data-toc-modified-id=\"Start-by-pulling-out-only-samples-that-are-in-our-dataset-from-technical-metadata,-that-has-studies-in-it-4.1\"><span class=\"toc-item-num\">4.1&nbsp;&nbsp;</span>Start by pulling out only samples that are in our dataset from technical metadata, that has studies in it</a></span></li><li><span><a href=\"#Get-unique-studies\" data-toc-modified-id=\"Get-unique-studies-4.2\"><span class=\"toc-item-num\">4.2&nbsp;&nbsp;</span>Get unique studies</a></span></li><li><span><a href=\"#Select-studies-to-use-to-train-and-validate\" data-toc-modified-id=\"Select-studies-to-use-to-train-and-validate-4.3\"><span class=\"toc-item-num\">4.3&nbsp;&nbsp;</span>Select studies to use to train and validate</a></span></li><li><span><a href=\"#Generate-training-and-val-dataframes\" data-toc-modified-id=\"Generate-training-and-val-dataframes-4.4\"><span class=\"toc-item-num\">4.4&nbsp;&nbsp;</span>Generate training and val dataframes</a></span><ul class=\"toc-item\"><li><span><a href=\"#Training-set\" data-toc-modified-id=\"Training-set-4.4.1\"><span class=\"toc-item-num\">4.4.1&nbsp;&nbsp;</span>Training set</a></span></li><li><span><a href=\"#Validation-set\" data-toc-modified-id=\"Validation-set-4.4.2\"><span class=\"toc-item-num\">4.4.2&nbsp;&nbsp;</span>Validation set</a></span></li><li><span><a href=\"#Supp.-Figure-1B-Class-balance\" data-toc-modified-id=\"Supp.-Figure-1B-Class-balance-4.4.3\"><span class=\"toc-item-num\">4.4.3&nbsp;&nbsp;</span><font color=\"red\">Supp. Figure 1B</font> Class balance</a></span></li></ul></li></ul></li><li><span><a href=\"#Train-the-model\" data-toc-modified-id=\"Train-the-model-5\"><span class=\"toc-item-num\">5&nbsp;&nbsp;</span>Train the model</a></span><ul class=\"toc-item\"><li><span><a href=\"#Model-set-up\" data-toc-modified-id=\"Model-set-up-5.1\"><span class=\"toc-item-num\">5.1&nbsp;&nbsp;</span>Model set-up</a></span></li><li><span><a href=\"#Model-training\" data-toc-modified-id=\"Model-training-5.2\"><span class=\"toc-item-num\">5.2&nbsp;&nbsp;</span>Model training</a></span></li><li><span><a href=\"#Model-saving\" data-toc-modified-id=\"Model-saving-5.3\"><span class=\"toc-item-num\">5.3&nbsp;&nbsp;</span>Model saving</a></span></li></ul></li></ul></div>"
   ]
  },
  {
   "cell_type": "markdown",
   "metadata": {
    "heading_collapsed": true
   },
   "source": [
    "# Train a bi-LSTM to predict short entities<br>\n",
    "Adam Klie<br>\n",
    "11/17/2019<br>\n",
    "Updated: 08/31/2020\n",
    "Script to train a model based on merged entities passed in and training set decided on"
   ]
  },
  {
   "cell_type": "markdown",
   "metadata": {
    "heading_collapsed": true
   },
   "source": [
    "# Set up"
   ]
  },
  {
   "cell_type": "markdown",
   "metadata": {
    "heading_collapsed": true,
    "hidden": true
   },
   "source": [
    "## Import necessry packages"
   ]
  },
  {
   "cell_type": "code",
   "execution_count": 1,
   "metadata": {
    "ExecuteTime": {
     "end_time": "2020-08-31T23:53:05.222539Z",
     "start_time": "2020-08-31T23:52:58.322425Z"
    },
    "hidden": true,
    "jupyter": {
     "source_hidden": true
    },
    "scrolled": true
   },
   "outputs": [
    {
     "name": "stderr",
     "output_type": "stream",
     "text": [
      "/cellar/users/aklie/opt/miniconda3/envs/PredictMEE_new/lib/python3.6/importlib/_bootstrap.py:219: RuntimeWarning: numpy.dtype size changed, may indicate binary incompatibility. Expected 96, got 88\n",
      "  return f(*args, **kwds)\n",
      "/cellar/users/aklie/opt/miniconda3/envs/PredictMEE_new/lib/python3.6/importlib/_bootstrap.py:219: RuntimeWarning: numpy.ufunc size changed, may indicate binary incompatibility. Expected 192, got 176\n",
      "  return f(*args, **kwds)\n",
      "/cellar/users/aklie/opt/miniconda3/envs/PredictMEE_new/lib/python3.6/importlib/_bootstrap.py:219: RuntimeWarning: numpy.dtype size changed, may indicate binary incompatibility. Expected 96, got 88\n",
      "  return f(*args, **kwds)\n",
      "/cellar/users/aklie/opt/miniconda3/envs/PredictMEE_new/lib/python3.6/importlib/_bootstrap.py:219: RuntimeWarning: numpy.ufunc size changed, may indicate binary incompatibility. Expected 192, got 176\n",
      "  return f(*args, **kwds)\n",
      "Using TensorFlow backend.\n"
     ]
    }
   ],
   "source": [
    "import numpy as np\n",
    "import pandas as pd\n",
    "from tqdm import tqdm\n",
    "import matplotlib.pyplot as plt\n",
    "import matplotlib\n",
    "import seaborn as sns\n",
    "import spacy\n",
    "import tensorflow\n",
    "import keras\n",
    "from keras.models import Sequential, model_from_json, load_model\n",
    "from keras.layers import LSTM, Dense, Embedding, Bidirectional\n",
    "from keras.layers import TimeDistributed\n",
    "from keras.optimizers import Adam\n",
    "from sklearn import preprocessing, metrics\n",
    "\n",
    "# Autoreload extension\n",
    "if 'autoreload' not in get_ipython().extension_manager.loaded:\n",
    "    %load_ext autoreload\n",
    "    \n",
    "%autoreload 2"
   ]
  },
  {
   "cell_type": "markdown",
   "metadata": {
    "heading_collapsed": true,
    "hidden": true
   },
   "source": [
    "## Helper functions"
   ]
  },
  {
   "cell_type": "code",
   "execution_count": 2,
   "metadata": {
    "ExecuteTime": {
     "end_time": "2020-08-31T23:53:05.296723Z",
     "start_time": "2020-08-31T23:53:05.226617Z"
    },
    "hidden": true
   },
   "outputs": [],
   "source": [
    "# Function to build LSTM model.\n",
    "# embeddings: an mxn matrix of word embeddings with m words and n features for each word (this case is 5443656 x 200)\n",
    "# shape: parameter split into number of hidden units, \n",
    "def compile_lstm(embeddings, shape, settings):  # function definition\n",
    "    model = Sequential()\n",
    "    model.add(Embedding(embeddings.shape[0],\n",
    "                        embeddings.shape[1],\n",
    "                        input_length=shape['max_length'],\n",
    "                        trainable=False,\n",
    "                        weights=[embeddings],\n",
    "                        mask_zero=True))\n",
    "    \n",
    "    #the same dense layer is first applied extract the most useful info from embedding layers\n",
    "    model.add(TimeDistributed(Dense(shape['nr_hidden'], use_bias=False)))\n",
    "    model.add(Bidirectional(LSTM(shape['nr_hidden'],\n",
    "                                 recurrent_dropout=settings['dropout'],\n",
    "                                 dropout=settings['dropout'])))\n",
    "    model.add(Dense(shape['nr_class'], activation='sigmoid'))\n",
    "    model.compile(optimizer=Adam(lr=settings['lr']), loss='categorical_crossentropy', metrics=['accuracy'])\n",
    "    return model\n",
    "\n",
    "def get_features(docs, max_length):\n",
    "    docs = list(docs)\n",
    "    Xs = np.zeros((len(docs), max_length), dtype='int32')\n",
    "    for i, doc in tqdm(enumerate(docs),total=len(docs)):\n",
    "        j = 0\n",
    "        for token in doc:\n",
    "            ##rever to word vector\n",
    "            vector_id = token.vocab.vectors.find(key=token.orth)\n",
    "            if vector_id >= 0:\n",
    "                Xs[i, j] = vector_id\n",
    "            else:\n",
    "                Xs[i, j] = 0\n",
    "            j += 1\n",
    "            if j >= max_length:\n",
    "                break\n",
    "    return Xs"
   ]
  },
  {
   "cell_type": "code",
   "execution_count": 3,
   "metadata": {
    "ExecuteTime": {
     "end_time": "2020-08-31T23:53:05.439289Z",
     "start_time": "2020-08-31T23:53:05.299520Z"
    },
    "hidden": true
   },
   "outputs": [],
   "source": [
    "from matplotlib import rcParams\n",
    "import matplotlib as mpl\n",
    "\n",
    "rcParams['figure.figsize'] = (10, 6)\n",
    "rcParams['figure.dpi'] = 600 \n",
    "rcParams['lines.linewidth'] = 2\n",
    "rcParams['axes.facecolor'] = 'white'\n",
    "rcParams['font.size'] = 18\n",
    "rcParams['patch.edgecolor'] = 'white'\n",
    "rcParams['font.family'] = 'StixGeneral'\n",
    "\n",
    "rcParams['axes.labelsize'] = 36\n",
    "rcParams['ytick.labelsize'] = 30\n",
    "rcParams['xtick.labelsize'] = 30"
   ]
  },
  {
   "cell_type": "markdown",
   "metadata": {
    "heading_collapsed": true,
    "hidden": true
   },
   "source": [
    "## Load in data"
   ]
  },
  {
   "cell_type": "markdown",
   "metadata": {
    "heading_collapsed": true,
    "hidden": true
   },
   "source": [
    "### Read in the BioSample annotations and build dataframe"
   ]
  },
  {
   "cell_type": "code",
   "execution_count": 4,
   "metadata": {
    "ExecuteTime": {
     "end_time": "2020-08-31T23:53:18.206805Z",
     "start_time": "2020-08-31T23:53:05.442497Z"
    },
    "hidden": true
   },
   "outputs": [],
   "source": [
    "# Read in pandas Series from file\n",
    "SRS_dir = \"../data/sra/allSRS_05_15_2018.pickle\"\n",
    "allSRS = pd.read_pickle(SRS_dir)"
   ]
  },
  {
   "cell_type": "markdown",
   "metadata": {
    "heading_collapsed": true,
    "hidden": true
   },
   "source": [
    "### Read in metadata on BioSample entries that will allow us to cap on study"
   ]
  },
  {
   "cell_type": "code",
   "execution_count": 5,
   "metadata": {
    "ExecuteTime": {
     "end_time": "2020-08-31T23:53:25.796001Z",
     "start_time": "2020-08-31T23:53:18.211182Z"
    },
    "hidden": true
   },
   "outputs": [],
   "source": [
    "sra_dump_pickle_dir = '../data/sra/sra_dump.pickle'\n",
    "technical_meta_data_df = pd.read_pickle(sra_dump_pickle_dir)"
   ]
  },
  {
   "cell_type": "markdown",
   "metadata": {
    "heading_collapsed": true,
    "hidden": true
   },
   "source": [
    "### Read in embeddings"
   ]
  },
  {
   "cell_type": "code",
   "execution_count": 6,
   "metadata": {
    "ExecuteTime": {
     "end_time": "2020-08-31T23:54:31.294618Z",
     "start_time": "2020-08-31T23:53:25.799077Z"
    },
    "hidden": true
   },
   "outputs": [
    {
     "name": "stderr",
     "output_type": "stream",
     "text": [
      "/cellar/users/aklie/opt/miniconda3/envs/PredictMEE_new/lib/python3.6/importlib/_bootstrap.py:219: RuntimeWarning: numpy.dtype size changed, may indicate binary incompatibility. Expected 96, got 88\n",
      "  return f(*args, **kwds)\n",
      "/cellar/users/aklie/opt/miniconda3/envs/PredictMEE_new/lib/python3.6/importlib/_bootstrap.py:219: RuntimeWarning: numpy.ufunc size changed, may indicate binary incompatibility. Expected 192, got 176\n",
      "  return f(*args, **kwds)\n"
     ]
    }
   ],
   "source": [
    "nlp = spacy.load('../data/wikipedia-pubmed-and-PMC-w2v')"
   ]
  },
  {
   "cell_type": "markdown",
   "metadata": {
    "heading_collapsed": true,
    "hidden": true
   },
   "source": [
    "### Import merging of entities from file"
   ]
  },
  {
   "cell_type": "code",
   "execution_count": 7,
   "metadata": {
    "ExecuteTime": {
     "end_time": "2020-08-31T23:54:32.239388Z",
     "start_time": "2020-08-31T23:54:31.297164Z"
    },
    "hidden": true
   },
   "outputs": [],
   "source": [
    "model_iter = '11_class'"
   ]
  },
  {
   "cell_type": "code",
   "execution_count": 8,
   "metadata": {
    "ExecuteTime": {
     "end_time": "2020-08-31T23:54:32.356095Z",
     "start_time": "2020-08-31T23:54:32.241704Z"
    },
    "hidden": true
   },
   "outputs": [],
   "source": [
    "grouping_df = pd.read_csv('../results/embedding/{model}/entity_merging.csv'.format(model = model_iter))\n",
    "#grouping_df = pd.read_csv('../../deep_clean/results/model_v1/merging/entity_merging_model_v1.csv')\n",
    "myAttribs = grouping_df.attribute.unique()"
   ]
  },
  {
   "cell_type": "markdown",
   "metadata": {
    "heading_collapsed": true
   },
   "source": [
    "# Data pre-processing"
   ]
  },
  {
   "cell_type": "markdown",
   "metadata": {
    "heading_collapsed": true,
    "hidden": true
   },
   "source": [
    "## Filter out non-valid attributes"
   ]
  },
  {
   "cell_type": "code",
   "execution_count": 9,
   "metadata": {
    "ExecuteTime": {
     "end_time": "2020-08-31T23:54:34.548607Z",
     "start_time": "2020-08-31T23:54:32.358646Z"
    },
    "hidden": true
   },
   "outputs": [],
   "source": [
    "attribute_m = allSRS.index.get_level_values(1).isin(myAttribs)"
   ]
  },
  {
   "cell_type": "code",
   "execution_count": 10,
   "metadata": {
    "ExecuteTime": {
     "end_time": "2020-08-31T23:54:37.490725Z",
     "start_time": "2020-08-31T23:54:34.550961Z"
    },
    "hidden": true
   },
   "outputs": [],
   "source": [
    "subset_SRS = allSRS[attribute_m]"
   ]
  },
  {
   "cell_type": "markdown",
   "metadata": {
    "heading_collapsed": true,
    "hidden": true
   },
   "source": [
    "## <font color='red'> Supp Figure 1A </font> Cap at 100 samples per study to avoid study bias"
   ]
  },
  {
   "cell_type": "code",
   "execution_count": 11,
   "metadata": {
    "ExecuteTime": {
     "end_time": "2020-08-31T23:54:41.744752Z",
     "start_time": "2020-08-31T23:54:37.493389Z"
    },
    "hidden": true
   },
   "outputs": [
    {
     "name": "stdout",
     "output_type": "stream",
     "text": [
      "Number of samples left after capping: 2348023\n"
     ]
    }
   ],
   "source": [
    "max_sample_per_study_n = 100\n",
    "capped_samples = technical_meta_data_df.groupby('Study').head(n = max_sample_per_study_n)['Sample']\n",
    "print(\"Number of samples left after capping: %d\" % (len(capped_samples)))"
   ]
  },
  {
   "cell_type": "code",
   "execution_count": 12,
   "metadata": {
    "ExecuteTime": {
     "end_time": "2020-08-31T23:54:43.540199Z",
     "start_time": "2020-08-31T23:54:41.746669Z"
    },
    "hidden": true
   },
   "outputs": [],
   "source": [
    "study_distr = technical_meta_data_df.groupby('Study').head(n = max_sample_per_study_n)[\"Study\"].value_counts()"
   ]
  },
  {
   "cell_type": "code",
   "execution_count": 13,
   "metadata": {
    "ExecuteTime": {
     "end_time": "2020-08-31T23:54:46.441594Z",
     "start_time": "2020-08-31T23:54:43.545143Z"
    },
    "hidden": true
   },
   "outputs": [
    {
     "name": "stderr",
     "output_type": "stream",
     "text": [
      "/cellar/users/aklie/opt/miniconda3/envs/PredictMEE_new/lib/python3.6/site-packages/scipy/stats/stats.py:1713: FutureWarning: Using a non-tuple sequence for multidimensional indexing is deprecated; use `arr[tuple(seq)]` instead of `arr[seq]`. In the future this will be interpreted as an array index, `arr[np.array(seq)]`, which will result either in an error or a different result.\n",
      "  return np.add.reduce(sorted[indexer] * weights, axis=axis) / sumval\n"
     ]
    }
   ],
   "source": [
    "ax = sns.distplot(list(study_distr.values), kde=False)\n",
    "\n",
    "ax.set_ylabel('Frequency', fontsize = 24)\n",
    "ax.set_xlabel('Samples per Study', fontsize = 24)\n",
    "plt.savefig('../doc/figures/Supplementary/Supp_Figure1A.eps', dpi=600, bbox_inches=\"tight\")\n",
    "plt.savefig('../doc/figures/Supplementary/Supp_Figure1A.png', dpi=600, bbox_inches=\"tight\")\n",
    "plt.close();"
   ]
  },
  {
   "cell_type": "code",
   "execution_count": 14,
   "metadata": {
    "ExecuteTime": {
     "end_time": "2020-08-31T23:54:47.930287Z",
     "start_time": "2020-08-31T23:54:46.445287Z"
    },
    "hidden": true
   },
   "outputs": [],
   "source": [
    "capped_m = subset_SRS.index.get_level_values(0).isin(capped_samples.values)"
   ]
  },
  {
   "cell_type": "code",
   "execution_count": 15,
   "metadata": {
    "ExecuteTime": {
     "end_time": "2020-08-31T23:54:48.680365Z",
     "start_time": "2020-08-31T23:54:47.932173Z"
    },
    "hidden": true
   },
   "outputs": [],
   "source": [
    "subset_SRS = subset_SRS[capped_m]"
   ]
  },
  {
   "cell_type": "markdown",
   "metadata": {
    "heading_collapsed": true,
    "hidden": true
   },
   "source": [
    "## Filter out unwanted training examples and replace all white space with ' '"
   ]
  },
  {
   "cell_type": "code",
   "execution_count": 16,
   "metadata": {
    "ExecuteTime": {
     "end_time": "2020-08-31T23:54:48.726132Z",
     "start_time": "2020-08-31T23:54:48.682311Z"
    },
    "hidden": true
   },
   "outputs": [],
   "source": [
    "filterTextL = ['not collected','not applicable','missing','n[/]?a','unknown', '-', '--', 'none', 'no']\n",
    "filterTextRegex = \"|\".join(map(lambda myStr:'(?:{})'.format(myStr), filterTextL))"
   ]
  },
  {
   "cell_type": "code",
   "execution_count": 17,
   "metadata": {
    "ExecuteTime": {
     "end_time": "2020-08-31T23:54:58.052975Z",
     "start_time": "2020-08-31T23:54:48.728136Z"
    },
    "hidden": true
   },
   "outputs": [],
   "source": [
    "regex_m = subset_SRS.str.contains(filterTextRegex, case=False)"
   ]
  },
  {
   "cell_type": "code",
   "execution_count": 18,
   "metadata": {
    "ExecuteTime": {
     "end_time": "2020-08-31T23:54:58.488988Z",
     "start_time": "2020-08-31T23:54:58.055089Z"
    },
    "hidden": true
   },
   "outputs": [],
   "source": [
    "subset_SRS = subset_SRS[~regex_m]"
   ]
  },
  {
   "cell_type": "markdown",
   "metadata": {
    "heading_collapsed": true,
    "hidden": true
   },
   "source": [
    "## Take only values between length 2 and 7"
   ]
  },
  {
   "cell_type": "code",
   "execution_count": 19,
   "metadata": {
    "ExecuteTime": {
     "end_time": "2020-08-31T23:55:00.426646Z",
     "start_time": "2020-08-31T23:54:58.490905Z"
    },
    "hidden": true
   },
   "outputs": [],
   "source": [
    "attribute_wc = subset_SRS.str.count(' ') + 1\n",
    "wc_m = (attribute_wc >= 2) & (attribute_wc <= 7)"
   ]
  },
  {
   "cell_type": "code",
   "execution_count": 20,
   "metadata": {
    "ExecuteTime": {
     "end_time": "2020-08-31T23:55:00.758106Z",
     "start_time": "2020-08-31T23:55:00.428906Z"
    },
    "hidden": true
   },
   "outputs": [],
   "source": [
    "subset_SRS = subset_SRS[wc_m]"
   ]
  },
  {
   "cell_type": "markdown",
   "metadata": {
    "heading_collapsed": true,
    "hidden": true
   },
   "source": [
    "## Filter out test set examples"
   ]
  },
  {
   "cell_type": "code",
   "execution_count": 21,
   "metadata": {
    "ExecuteTime": {
     "end_time": "2020-08-31T23:55:00.851165Z",
     "start_time": "2020-08-31T23:55:00.759971Z"
    },
    "hidden": true
   },
   "outputs": [],
   "source": [
    "with open('../results/validation/{model}/validation_SRSs.txt'.format(model=model_iter), 'r') as f:\n",
    "    test_srs = [line.rstrip('\\n') for line in f.readlines()]"
   ]
  },
  {
   "cell_type": "code",
   "execution_count": 22,
   "metadata": {
    "ExecuteTime": {
     "end_time": "2020-08-31T23:55:01.131078Z",
     "start_time": "2020-08-31T23:55:00.853938Z"
    },
    "hidden": true
   },
   "outputs": [],
   "source": [
    "test_m = ~subset_SRS.index.get_level_values(0).isin(test_srs)"
   ]
  },
  {
   "cell_type": "code",
   "execution_count": 23,
   "metadata": {
    "ExecuteTime": {
     "end_time": "2020-08-31T23:55:01.292528Z",
     "start_time": "2020-08-31T23:55:01.133181Z"
    },
    "hidden": true
   },
   "outputs": [],
   "source": [
    "subset_SRS = subset_SRS[test_m]"
   ]
  },
  {
   "cell_type": "markdown",
   "metadata": {
    "heading_collapsed": true,
    "hidden": true
   },
   "source": [
    "## Replace whitespace with ' '"
   ]
  },
  {
   "cell_type": "code",
   "execution_count": 24,
   "metadata": {
    "ExecuteTime": {
     "end_time": "2020-08-31T23:55:03.952542Z",
     "start_time": "2020-08-31T23:55:01.294444Z"
    },
    "hidden": true
   },
   "outputs": [],
   "source": [
    "subset_SRS = subset_SRS.str.replace('\\s+', ' ')"
   ]
  },
  {
   "cell_type": "markdown",
   "metadata": {
    "heading_collapsed": true,
    "hidden": true
   },
   "source": [
    "## Final dataset"
   ]
  },
  {
   "cell_type": "code",
   "execution_count": 25,
   "metadata": {
    "ExecuteTime": {
     "end_time": "2020-08-31T23:55:04.250420Z",
     "start_time": "2020-08-31T23:55:03.954459Z"
    },
    "hidden": true
   },
   "outputs": [],
   "source": [
    "subset_df = pd.DataFrame(subset_SRS).reset_index()\n",
    "subset_df.columns = ['srs', 'attribute', 'value']"
   ]
  },
  {
   "cell_type": "code",
   "execution_count": 26,
   "metadata": {
    "ExecuteTime": {
     "end_time": "2020-08-31T23:55:04.597315Z",
     "start_time": "2020-08-31T23:55:04.252336Z"
    },
    "hidden": true
   },
   "outputs": [],
   "source": [
    "subset_df['original_attribute'] = subset_df['attribute']\n",
    "AttribToGroupNameS = grouping_df.groupby('attribute')['GroupName'].first()\n",
    "subset_df['attribute'] = AttribToGroupNameS[subset_df['original_attribute'].values].values"
   ]
  },
  {
   "cell_type": "code",
   "execution_count": 27,
   "metadata": {
    "ExecuteTime": {
     "end_time": "2020-08-31T23:55:04.666117Z",
     "start_time": "2020-08-31T23:55:04.599224Z"
    },
    "hidden": true
   },
   "outputs": [
    {
     "data": {
      "text/html": [
       "<div>\n",
       "<style scoped>\n",
       "    .dataframe tbody tr th:only-of-type {\n",
       "        vertical-align: middle;\n",
       "    }\n",
       "\n",
       "    .dataframe tbody tr th {\n",
       "        vertical-align: top;\n",
       "    }\n",
       "\n",
       "    .dataframe thead th {\n",
       "        text-align: right;\n",
       "    }\n",
       "</style>\n",
       "<table border=\"1\" class=\"dataframe\">\n",
       "  <thead>\n",
       "    <tr style=\"text-align: right;\">\n",
       "      <th></th>\n",
       "      <th>srs</th>\n",
       "      <th>attribute</th>\n",
       "      <th>value</th>\n",
       "      <th>original_attribute</th>\n",
       "    </tr>\n",
       "  </thead>\n",
       "  <tbody>\n",
       "    <tr>\n",
       "      <th>0</th>\n",
       "      <td>SRS1024493</td>\n",
       "      <td>Species</td>\n",
       "      <td>Camellia oleifera</td>\n",
       "      <td>SCIENTIFIC_NAME</td>\n",
       "    </tr>\n",
       "    <tr>\n",
       "      <th>1</th>\n",
       "      <td>SRS568274</td>\n",
       "      <td>Species</td>\n",
       "      <td>Homo sapiens</td>\n",
       "      <td>nat-host</td>\n",
       "    </tr>\n",
       "    <tr>\n",
       "      <th>2</th>\n",
       "      <td>ERS1412828</td>\n",
       "      <td>Species</td>\n",
       "      <td>Pundamilia nyererei</td>\n",
       "      <td>SCIENTIFIC_NAME</td>\n",
       "    </tr>\n",
       "    <tr>\n",
       "      <th>3</th>\n",
       "      <td>SRS1219231</td>\n",
       "      <td>Species</td>\n",
       "      <td>Salmonella enterica subsp. enterica</td>\n",
       "      <td>SCIENTIFIC_NAME</td>\n",
       "    </tr>\n",
       "    <tr>\n",
       "      <th>4</th>\n",
       "      <td>SRS1219231</td>\n",
       "      <td>Species</td>\n",
       "      <td>Homo sapiens</td>\n",
       "      <td>host</td>\n",
       "    </tr>\n",
       "  </tbody>\n",
       "</table>\n",
       "</div>"
      ],
      "text/plain": [
       "          srs attribute                                value  \\\n",
       "0  SRS1024493   Species                    Camellia oleifera   \n",
       "1   SRS568274   Species                         Homo sapiens   \n",
       "2  ERS1412828   Species                  Pundamilia nyererei   \n",
       "3  SRS1219231   Species  Salmonella enterica subsp. enterica   \n",
       "4  SRS1219231   Species                         Homo sapiens   \n",
       "\n",
       "  original_attribute  \n",
       "0    SCIENTIFIC_NAME  \n",
       "1           nat-host  \n",
       "2    SCIENTIFIC_NAME  \n",
       "3    SCIENTIFIC_NAME  \n",
       "4               host  "
      ]
     },
     "execution_count": 27,
     "metadata": {},
     "output_type": "execute_result"
    }
   ],
   "source": [
    "subset_df.head()"
   ]
  },
  {
   "cell_type": "markdown",
   "metadata": {
    "heading_collapsed": true
   },
   "source": [
    "# Train/val split"
   ]
  },
  {
   "cell_type": "markdown",
   "metadata": {
    "heading_collapsed": true,
    "hidden": true
   },
   "source": [
    "## Start by pulling out only samples that are in our dataset from technical metadata, that has studies in it"
   ]
  },
  {
   "cell_type": "code",
   "execution_count": 28,
   "metadata": {
    "ExecuteTime": {
     "end_time": "2020-08-31T23:55:11.723498Z",
     "start_time": "2020-08-31T23:55:04.667742Z"
    },
    "hidden": true
   },
   "outputs": [],
   "source": [
    "valid_srs_m = allSRS.index.get_level_values(0).unique()\n",
    "technical_meta_data_df_sub = technical_meta_data_df[technical_meta_data_df.Sample.isin(valid_srs_m)]"
   ]
  },
  {
   "cell_type": "markdown",
   "metadata": {
    "heading_collapsed": true,
    "hidden": true
   },
   "source": [
    "## Get unique studies"
   ]
  },
  {
   "cell_type": "code",
   "execution_count": 29,
   "metadata": {
    "ExecuteTime": {
     "end_time": "2020-08-31T23:55:13.966485Z",
     "start_time": "2020-08-31T23:55:11.725673Z"
    },
    "hidden": true
   },
   "outputs": [],
   "source": [
    "study_s = technical_meta_data_df_sub['Study'].drop_duplicates()  # Get unique studies that can be found in allSRS\n",
    "num_studies = len(study_s)"
   ]
  },
  {
   "cell_type": "markdown",
   "metadata": {
    "heading_collapsed": true,
    "hidden": true
   },
   "source": [
    "## Select studies to use to train and validate"
   ]
  },
  {
   "cell_type": "code",
   "execution_count": 30,
   "metadata": {
    "ExecuteTime": {
     "end_time": "2020-08-31T23:55:14.071199Z",
     "start_time": "2020-08-31T23:55:13.968371Z"
    },
    "hidden": true
   },
   "outputs": [],
   "source": [
    "train_test_ratio = 0.8\n",
    "train_n = int(num_studies * train_test_ratio)  # Number of training studies\n",
    "train_studies = study_s.sample(n = train_n, random_state = 0).values  # pick those training studies randomly"
   ]
  },
  {
   "cell_type": "code",
   "execution_count": 31,
   "metadata": {
    "ExecuteTime": {
     "end_time": "2020-08-31T23:55:14.383210Z",
     "start_time": "2020-08-31T23:55:14.073036Z"
    },
    "hidden": true
   },
   "outputs": [
    {
     "name": "stderr",
     "output_type": "stream",
     "text": [
      "/cellar/users/aklie/.local/lib/python3.6/site-packages/ipykernel_launcher.py:2: SettingWithCopyWarning: \n",
      "A value is trying to be set on a copy of a slice from a DataFrame.\n",
      "Try using .loc[row_indexer,col_indexer] = value instead\n",
      "\n",
      "See the caveats in the documentation: http://pandas.pydata.org/pandas-docs/stable/indexing.html#indexing-view-versus-copy\n",
      "  \n"
     ]
    }
   ],
   "source": [
    "# Label these studies with a column\n",
    "technical_meta_data_df_sub['Train'] = technical_meta_data_df_sub['Study'].isin(train_studies).values  "
   ]
  },
  {
   "cell_type": "code",
   "execution_count": 32,
   "metadata": {
    "ExecuteTime": {
     "end_time": "2020-08-31T23:55:14.631819Z",
     "start_time": "2020-08-31T23:55:14.385408Z"
    },
    "hidden": true
   },
   "outputs": [],
   "source": [
    "# Get the ids for the training and test samples\n",
    "train_mask = technical_meta_data_df_sub['Train']\n",
    "train_samples = technical_meta_data_df_sub['Sample'][train_mask].values  # IDs for training set\n",
    "val_samples = technical_meta_data_df_sub['Sample'][~train_mask].values  # IDs for test set"
   ]
  },
  {
   "cell_type": "markdown",
   "metadata": {
    "heading_collapsed": true,
    "hidden": true
   },
   "source": [
    "## Generate training and val dataframes"
   ]
  },
  {
   "cell_type": "code",
   "execution_count": 33,
   "metadata": {
    "ExecuteTime": {
     "end_time": "2020-08-31T23:55:14.677410Z",
     "start_time": "2020-08-31T23:55:14.633750Z"
    },
    "hidden": true
   },
   "outputs": [],
   "source": [
    "nDupTextMax = 1000\n",
    "cap_size = 20000"
   ]
  },
  {
   "cell_type": "markdown",
   "metadata": {
    "heading_collapsed": true,
    "hidden": true
   },
   "source": [
    "### Training set"
   ]
  },
  {
   "cell_type": "code",
   "execution_count": 34,
   "metadata": {
    "ExecuteTime": {
     "end_time": "2020-08-31T23:55:15.713580Z",
     "start_time": "2020-08-31T23:55:14.679168Z"
    },
    "hidden": true
   },
   "outputs": [],
   "source": [
    "train_df = subset_df[subset_df.srs.isin(train_samples)]"
   ]
  },
  {
   "cell_type": "code",
   "execution_count": 35,
   "metadata": {
    "ExecuteTime": {
     "end_time": "2020-08-31T23:55:16.977435Z",
     "start_time": "2020-08-31T23:55:15.715738Z"
    },
    "hidden": true
   },
   "outputs": [
    {
     "data": {
      "text/plain": [
       "Brachypodium distachyon    1000\n",
       "Staphylococcus aureus      1000\n",
       "Equus caballus             1000\n",
       "Ovis aries                 1000\n",
       "Streptococcus suis         1000\n",
       "Name: value, dtype: int64"
      ]
     },
     "execution_count": 35,
     "metadata": {},
     "output_type": "execute_result"
    }
   ],
   "source": [
    "# Cap how many of a given entity we want to use\n",
    "train_df = train_df.sample(train_df.shape[0])\n",
    "dedup_train_df = train_df.groupby(['value']).head(n = nDupTextMax)\n",
    "dedup_train_df['value'].value_counts().head()"
   ]
  },
  {
   "cell_type": "code",
   "execution_count": 36,
   "metadata": {
    "ExecuteTime": {
     "end_time": "2020-08-31T23:55:17.312840Z",
     "start_time": "2020-08-31T23:55:16.979963Z"
    },
    "hidden": true
   },
   "outputs": [],
   "source": [
    "# Balance the classes with class cap\n",
    "final_train_df = dedup_train_df.sample(dedup_train_df.shape[0]).groupby('attribute').head(n = cap_size)"
   ]
  },
  {
   "cell_type": "code",
   "execution_count": 37,
   "metadata": {
    "ExecuteTime": {
     "end_time": "2020-08-31T23:55:17.383177Z",
     "start_time": "2020-08-31T23:55:17.315210Z"
    },
    "hidden": true
   },
   "outputs": [
    {
     "name": "stdout",
     "output_type": "stream",
     "text": [
      "The number of training examples is 133677\n"
     ]
    },
    {
     "data": {
      "text/plain": [
       "Age                  20000\n",
       "Tissue               20000\n",
       "Species              20000\n",
       "Cell type            20000\n",
       "Strain               20000\n",
       "Genotype             14912\n",
       "Platform              7462\n",
       "Condition/Disease     5363\n",
       "Data type             3250\n",
       "Sex                   2053\n",
       "Protocol               637\n",
       "Name: attribute, dtype: int64"
      ]
     },
     "metadata": {},
     "output_type": "display_data"
    }
   ],
   "source": [
    "print(\"The number of training examples is %d\" % (final_train_df.shape[0]))\n",
    "train_counts = final_train_df.attribute.value_counts()\n",
    "display(train_counts)"
   ]
  },
  {
   "cell_type": "markdown",
   "metadata": {
    "heading_collapsed": true,
    "hidden": true
   },
   "source": [
    "### Validation set"
   ]
  },
  {
   "cell_type": "code",
   "execution_count": 38,
   "metadata": {
    "ExecuteTime": {
     "end_time": "2020-08-31T23:55:17.754778Z",
     "start_time": "2020-08-31T23:55:17.385788Z"
    },
    "hidden": true
   },
   "outputs": [],
   "source": [
    "val_df = subset_df[subset_df.srs.isin(val_samples)]"
   ]
  },
  {
   "cell_type": "code",
   "execution_count": 39,
   "metadata": {
    "ExecuteTime": {
     "end_time": "2020-08-31T23:55:18.270415Z",
     "start_time": "2020-08-31T23:55:17.757389Z"
    },
    "hidden": true
   },
   "outputs": [],
   "source": [
    "val_df = val_df.sample(val_df.shape[0])\n",
    "val_df = subset_df[subset_df.srs.isin(val_samples)]\n",
    "dedup_val_df = val_df.groupby(['value']).head(n = nDupTextMax)"
   ]
  },
  {
   "cell_type": "code",
   "execution_count": 40,
   "metadata": {
    "ExecuteTime": {
     "end_time": "2020-08-31T23:55:18.390040Z",
     "start_time": "2020-08-31T23:55:18.272921Z"
    },
    "hidden": true
   },
   "outputs": [],
   "source": [
    "final_val_df = dedup_val_df.sample(dedup_val_df.shape[0]).groupby('attribute').head(n = cap_size)"
   ]
  },
  {
   "cell_type": "code",
   "execution_count": 41,
   "metadata": {
    "ExecuteTime": {
     "end_time": "2020-08-31T23:55:18.453414Z",
     "start_time": "2020-08-31T23:55:18.393211Z"
    },
    "hidden": true
   },
   "outputs": [
    {
     "data": {
      "text/plain": [
       "Tissue               20000\n",
       "Species              20000\n",
       "Cell type            20000\n",
       "Age                   9300\n",
       "Strain                7928\n",
       "Genotype              4759\n",
       "Platform              1590\n",
       "Condition/Disease     1569\n",
       "Data type             1544\n",
       "Sex                    849\n",
       "Protocol               178\n",
       "Name: attribute, dtype: int64"
      ]
     },
     "metadata": {},
     "output_type": "display_data"
    }
   ],
   "source": [
    "val_counts = final_val_df.attribute.value_counts()\n",
    "display(val_counts)"
   ]
  },
  {
   "cell_type": "code",
   "execution_count": 42,
   "metadata": {
    "ExecuteTime": {
     "end_time": "2020-08-31T23:55:18.537868Z",
     "start_time": "2020-08-31T23:55:18.455412Z"
    },
    "hidden": true
   },
   "outputs": [
    {
     "data": {
      "text/plain": [
       "0.603796850863167"
      ]
     },
     "execution_count": 42,
     "metadata": {},
     "output_type": "execute_result"
    }
   ],
   "source": [
    "# Actual training and test split\n",
    "final_train_df.shape[0]/(final_train_df.shape[0] + final_val_df.shape[0])"
   ]
  },
  {
   "cell_type": "code",
   "execution_count": 43,
   "metadata": {
    "ExecuteTime": {
     "end_time": "2020-08-31T23:55:19.018057Z",
     "start_time": "2020-08-31T23:55:18.540318Z"
    },
    "hidden": true
   },
   "outputs": [],
   "source": [
    "final_train_df.to_pickle('../results/training/{model}/training_examples.pickle'.format(model = model_iter))\n",
    "final_val_df.to_pickle('../results/training/{model}/test_examples.pickle'.format(model = model_iter))"
   ]
  },
  {
   "cell_type": "markdown",
   "metadata": {
    "heading_collapsed": true,
    "hidden": true
   },
   "source": [
    "### <font color=red>Supp. Figure 1B</font> Class balance"
   ]
  },
  {
   "cell_type": "code",
   "execution_count": 45,
   "metadata": {
    "ExecuteTime": {
     "end_time": "2020-08-31T23:55:35.779226Z",
     "start_time": "2020-08-31T23:55:34.930511Z"
    },
    "hidden": true
   },
   "outputs": [
    {
     "name": "stderr",
     "output_type": "stream",
     "text": [
      "/cellar/users/aklie/.local/lib/python3.6/site-packages/ipykernel_launcher.py:1: FutureWarning: Sorting because non-concatenation axis is not aligned. A future version\n",
      "of pandas will change to not sort by default.\n",
      "\n",
      "To accept the future behavior, pass 'sort=False'.\n",
      "\n",
      "To retain the current behavior and silence the warning, pass 'sort=True'.\n",
      "\n",
      "  \"\"\"Entry point for launching an IPython kernel.\n"
     ]
    }
   ],
   "source": [
    "counts_df = pd.concat([pd.DataFrame(train_counts), pd.DataFrame(val_counts)], axis=1)\n",
    "counts_df.to_csv('../doc/figures/Supplementary/Supp_Figure1B.csv')"
   ]
  },
  {
   "cell_type": "markdown",
   "metadata": {
    "heading_collapsed": true
   },
   "source": [
    "# Train the model"
   ]
  },
  {
   "cell_type": "markdown",
   "metadata": {
    "heading_collapsed": true,
    "hidden": true
   },
   "source": [
    "## Model set-up"
   ]
  },
  {
   "cell_type": "code",
   "execution_count": 45,
   "metadata": {
    "ExecuteTime": {
     "end_time": "2020-08-25T07:17:48.974282Z",
     "start_time": "2020-08-25T07:17:48.921999Z"
    },
    "hidden": true
   },
   "outputs": [],
   "source": [
    "nr_hidden = 64 \n",
    "max_length = 7 # 95% percentile of training phrase length from NCIT\n",
    "dropout = 0.5\n",
    "learn_rate = 0.001 # General NN config\n",
    "nb_epoch = 1\n",
    "batch_size = 100"
   ]
  },
  {
   "cell_type": "code",
   "execution_count": 46,
   "metadata": {
    "ExecuteTime": {
     "end_time": "2020-08-25T07:17:49.034791Z",
     "start_time": "2020-08-25T07:17:48.977514Z"
    },
    "hidden": true
   },
   "outputs": [
    {
     "data": {
      "text/plain": [
       "array(['Sex', 'Age', 'Strain', 'Cell type', 'Condition/Disease',\n",
       "       'Genotype', 'Platform', 'Species', 'Protocol', 'Data type',\n",
       "       'Tissue'], dtype=object)"
      ]
     },
     "execution_count": 46,
     "metadata": {},
     "output_type": "execute_result"
    }
   ],
   "source": [
    "classNames = AttribToGroupNameS.unique()\n",
    "classNames"
   ]
  },
  {
   "cell_type": "code",
   "execution_count": 47,
   "metadata": {
    "ExecuteTime": {
     "end_time": "2020-08-25T07:17:49.097456Z",
     "start_time": "2020-08-25T07:17:49.037458Z"
    },
    "hidden": true
   },
   "outputs": [],
   "source": [
    "le = preprocessing.LabelEncoder()\n",
    "le.fit(classNames)\n",
    "nr_classes=len(le.classes_)"
   ]
  },
  {
   "cell_type": "code",
   "execution_count": 48,
   "metadata": {
    "ExecuteTime": {
     "end_time": "2020-08-25T07:17:49.159107Z",
     "start_time": "2020-08-25T07:17:49.100778Z"
    },
    "hidden": true
   },
   "outputs": [],
   "source": [
    "lstm_shape={'nr_hidden': 64, 'max_length': max_length, 'nr_class': nr_classes}\n",
    "lstm_settings={'dropout': 0.5, 'lr': 0.001}"
   ]
  },
  {
   "cell_type": "code",
   "execution_count": 49,
   "metadata": {
    "ExecuteTime": {
     "end_time": "2020-08-25T07:17:49.225420Z",
     "start_time": "2020-08-25T07:17:49.161948Z"
    },
    "hidden": true
   },
   "outputs": [],
   "source": [
    "embeddings = nlp.vocab.vectors.data"
   ]
  },
  {
   "cell_type": "code",
   "execution_count": 50,
   "metadata": {
    "ExecuteTime": {
     "end_time": "2020-08-25T07:18:05.157861Z",
     "start_time": "2020-08-25T07:17:49.227935Z"
    },
    "hidden": true
   },
   "outputs": [
    {
     "name": "stderr",
     "output_type": "stream",
     "text": [
      "100%|██████████| 133692/133692 [00:08<00:00, 15137.66it/s]\n",
      "100%|██████████| 87691/87691 [00:04<00:00, 19235.22it/s]\n",
      "100%|██████████| 133692/133692 [00:01<00:00, 98360.54it/s]\n",
      "100%|██████████| 87691/87691 [00:00<00:00, 100730.94it/s]\n"
     ]
    }
   ],
   "source": [
    "train_texts = final_train_df.value.tolist()\n",
    "dev_texts = final_val_df.value.tolist()\n",
    "\n",
    "train_labels = keras.utils.to_categorical(le.transform(final_train_df.attribute.values))\n",
    "dev_labels = keras.utils.to_categorical(le.transform(final_val_df.attribute.values))\n",
    "\n",
    "train_docs = list(tqdm(nlp.pipe(train_texts,n_threads=32),total=len(train_texts)))\n",
    "dev_docs = list(tqdm(nlp.pipe(dev_texts,n_threads=32),total=len(dev_texts)))\n",
    "\n",
    "train_X = get_features(train_docs, lstm_shape['max_length'])\n",
    "dev_X = get_features(dev_docs, lstm_shape['max_length'])"
   ]
  },
  {
   "cell_type": "code",
   "execution_count": 51,
   "metadata": {
    "ExecuteTime": {
     "end_time": "2020-08-25T07:18:05.758370Z",
     "start_time": "2020-08-25T07:18:05.161629Z"
    },
    "hidden": true
   },
   "outputs": [],
   "source": [
    "np.save('../results/training/{model}/classes.npy'.format(model = model_iter), le.classes_)"
   ]
  },
  {
   "cell_type": "code",
   "execution_count": 52,
   "metadata": {
    "ExecuteTime": {
     "end_time": "2020-08-25T07:18:25.339042Z",
     "start_time": "2020-08-25T07:18:05.761572Z"
    },
    "hidden": true
   },
   "outputs": [],
   "source": [
    "model = compile_lstm(embeddings, lstm_shape, lstm_settings)"
   ]
  },
  {
   "cell_type": "code",
   "execution_count": 53,
   "metadata": {
    "ExecuteTime": {
     "end_time": "2020-08-25T07:18:25.496554Z",
     "start_time": "2020-08-25T07:18:25.341805Z"
    },
    "hidden": true
   },
   "outputs": [],
   "source": [
    "from contextlib import redirect_stdout\n",
    "\n",
    "with open('../results/training/11_class/model_summary.txt', 'w') as f:\n",
    "    with redirect_stdout(f):\n",
    "        model.summary()"
   ]
  },
  {
   "cell_type": "markdown",
   "metadata": {
    "heading_collapsed": true,
    "hidden": true
   },
   "source": [
    "## Model training"
   ]
  },
  {
   "cell_type": "code",
   "execution_count": 54,
   "metadata": {
    "ExecuteTime": {
     "end_time": "2020-08-25T07:21:18.199244Z",
     "start_time": "2020-08-25T07:18:25.498775Z"
    },
    "hidden": true
   },
   "outputs": [],
   "source": [
    "%%capture keras_stdout\n",
    "lstm = model.fit(train_X, train_labels, validation_data = (dev_X, dev_labels),\n",
    "          nb_epoch = nb_epoch, verbose = 1, batch_size = batch_size)"
   ]
  },
  {
   "cell_type": "code",
   "execution_count": 55,
   "metadata": {
    "ExecuteTime": {
     "end_time": "2020-08-25T07:21:18.662190Z",
     "start_time": "2020-08-25T07:21:18.203921Z"
    },
    "hidden": true
   },
   "outputs": [
    {
     "data": {
      "text/plain": [
       "'2020_08_25'"
      ]
     },
     "execution_count": 55,
     "metadata": {},
     "output_type": "execute_result"
    }
   ],
   "source": [
    "import datetime\n",
    "x = datetime.datetime.now()\n",
    "today = x.strftime(\"%Y_%m_%d\")\n",
    "today"
   ]
  },
  {
   "cell_type": "markdown",
   "metadata": {
    "heading_collapsed": true,
    "hidden": true
   },
   "source": [
    "## Model saving"
   ]
  },
  {
   "cell_type": "code",
   "execution_count": 56,
   "metadata": {
    "ExecuteTime": {
     "end_time": "2020-08-25T07:21:46.301334Z",
     "start_time": "2020-08-25T07:21:18.664987Z"
    },
    "hidden": true
   },
   "outputs": [],
   "source": [
    "lstm.model.save('../models/{model}_{date}.h5'.format(model = model_iter, date=today))"
   ]
  },
  {
   "cell_type": "code",
   "execution_count": 57,
   "metadata": {
    "ExecuteTime": {
     "end_time": "2020-08-25T07:21:46.454930Z",
     "start_time": "2020-08-25T07:21:46.304523Z"
    },
    "hidden": true
   },
   "outputs": [],
   "source": [
    "keras_stdout_str = keras_stdout.stdout\n",
    "textfile = open('../results/training/{model}/keras_out.txt'.format(model = model_iter), 'w')\n",
    "textfile.write(keras_stdout_str)\n",
    "textfile.close()"
   ]
  }
 ],
 "metadata": {
  "kernelspec": {
   "display_name": "py3_PredictMEE",
   "language": "python",
   "name": "predictmee"
  },
  "language_info": {
   "codemirror_mode": {
    "name": "ipython",
    "version": 3
   },
   "file_extension": ".py",
   "mimetype": "text/x-python",
   "name": "python",
   "nbconvert_exporter": "python",
   "pygments_lexer": "ipython3",
   "version": "3.6.6"
  },
  "toc": {
   "base_numbering": 1,
   "nav_menu": {},
   "number_sections": true,
   "sideBar": true,
   "skip_h1_title": false,
   "title_cell": "Table of Contents",
   "title_sidebar": "Contents",
   "toc_cell": true,
   "toc_position": {},
   "toc_section_display": true,
   "toc_window_display": true
  }
 },
 "nbformat": 4,
 "nbformat_minor": 4
}
