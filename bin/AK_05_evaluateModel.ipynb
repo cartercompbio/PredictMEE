{
 "cells": [
  {
   "cell_type": "markdown",
   "metadata": {
    "toc": true
   },
   "source": [
    "<h1>Table of Contents<span class=\"tocSkip\"></span></h1>\n",
    "<div class=\"toc\"><ul class=\"toc-item\"><li><span><a href=\"#Evaluate-trained-models\" data-toc-modified-id=\"Evaluate-trained-models-1\"><span class=\"toc-item-num\">1&nbsp;&nbsp;</span>Evaluate trained models<br></a></span></li><li><span><a href=\"#Set-up\" data-toc-modified-id=\"Set-up-2\"><span class=\"toc-item-num\">2&nbsp;&nbsp;</span>Set up</a></span><ul class=\"toc-item\"><li><span><a href=\"#Import-necessry-packages\" data-toc-modified-id=\"Import-necessry-packages-2.1\"><span class=\"toc-item-num\">2.1&nbsp;&nbsp;</span>Import necessry packages</a></span></li><li><span><a href=\"#Helper-functions\" data-toc-modified-id=\"Helper-functions-2.2\"><span class=\"toc-item-num\">2.2&nbsp;&nbsp;</span>Helper functions</a></span></li><li><span><a href=\"#Plotting-parameters\" data-toc-modified-id=\"Plotting-parameters-2.3\"><span class=\"toc-item-num\">2.3&nbsp;&nbsp;</span>Plotting parameters</a></span></li><li><span><a href=\"#Load-data\" data-toc-modified-id=\"Load-data-2.4\"><span class=\"toc-item-num\">2.4&nbsp;&nbsp;</span>Load data</a></span><ul class=\"toc-item\"><li><span><a href=\"#Load-classes\" data-toc-modified-id=\"Load-classes-2.4.1\"><span class=\"toc-item-num\">2.4.1&nbsp;&nbsp;</span>Load classes</a></span></li><li><span><a href=\"#Load-accuracy-stats\" data-toc-modified-id=\"Load-accuracy-stats-2.4.2\"><span class=\"toc-item-num\">2.4.2&nbsp;&nbsp;</span>Load accuracy stats</a></span></li><li><span><a href=\"#Load-grouping\" data-toc-modified-id=\"Load-grouping-2.4.3\"><span class=\"toc-item-num\">2.4.3&nbsp;&nbsp;</span>Load grouping</a></span></li><li><span><a href=\"#Load-model-to-analyze`\" data-toc-modified-id=\"Load-model-to-analyze`-2.4.4\"><span class=\"toc-item-num\">2.4.4&nbsp;&nbsp;</span>Load model to analyze`</a></span></li><li><span><a href=\"#Load-NLP-model\" data-toc-modified-id=\"Load-NLP-model-2.4.5\"><span class=\"toc-item-num\">2.4.5&nbsp;&nbsp;</span>Load NLP model</a></span></li><li><span><a href=\"#Load-grouping\" data-toc-modified-id=\"Load-grouping-2.4.6\"><span class=\"toc-item-num\">2.4.6&nbsp;&nbsp;</span>Load grouping</a></span></li><li><span><a href=\"#Load-train-and-test-data\" data-toc-modified-id=\"Load-train-and-test-data-2.4.7\"><span class=\"toc-item-num\">2.4.7&nbsp;&nbsp;</span>Load train and test data</a></span></li></ul></li></ul></li><li><span><a href=\"#Analyze-current-model\" data-toc-modified-id=\"Analyze-current-model-3\"><span class=\"toc-item-num\">3&nbsp;&nbsp;</span>Analyze current model</a></span><ul class=\"toc-item\"><li><span><a href=\"#Make-an-accuracy-dataframe-from-keras-output\" data-toc-modified-id=\"Make-an-accuracy-dataframe-from-keras-output-3.1\"><span class=\"toc-item-num\">3.1&nbsp;&nbsp;</span>Make an accuracy dataframe from keras output</a></span></li><li><span><a href=\"#Figure-4B:-Accuracy-plot\" data-toc-modified-id=\"Figure-4B:-Accuracy-plot-3.2\"><span class=\"toc-item-num\">3.2&nbsp;&nbsp;</span><font color=\"red\">Figure 4B:</font> Accuracy plot</a></span></li><li><span><a href=\"#Model-accuracy\" data-toc-modified-id=\"Model-accuracy-3.3\"><span class=\"toc-item-num\">3.3&nbsp;&nbsp;</span>Model accuracy</a></span><ul class=\"toc-item\"><li><span><a href=\"#Overall-accuracy\" data-toc-modified-id=\"Overall-accuracy-3.3.1\"><span class=\"toc-item-num\">3.3.1&nbsp;&nbsp;</span>Overall accuracy</a></span></li><li><span><a href=\"#Figure-4C:-Per-class-accuracy\" data-toc-modified-id=\"Figure-4C:-Per-class-accuracy-3.3.2\"><span class=\"toc-item-num\">3.3.2&nbsp;&nbsp;</span><font color=\"red\">Figure 4C:</font> Per class accuracy</a></span></li></ul></li><li><span><a href=\"#Check-correct-vs-incorrect-probabilities\" data-toc-modified-id=\"Check-correct-vs-incorrect-probabilities-3.4\"><span class=\"toc-item-num\">3.4&nbsp;&nbsp;</span>Check correct vs incorrect probabilities</a></span></li><li><span><a href=\"#Performance-metrics\" data-toc-modified-id=\"Performance-metrics-3.5\"><span class=\"toc-item-num\">3.5&nbsp;&nbsp;</span>Performance metrics</a></span><ul class=\"toc-item\"><li><span><a href=\"#Figure-4A:-Metrics-table\" data-toc-modified-id=\"Figure-4A:-Metrics-table-3.5.1\"><span class=\"toc-item-num\">3.5.1&nbsp;&nbsp;</span><font color=\"red\">Figure 4A:</font> Metrics table</a></span></li><li><span><a href=\"#AUC-calculation\" data-toc-modified-id=\"AUC-calculation-3.5.2\"><span class=\"toc-item-num\">3.5.2&nbsp;&nbsp;</span>AUC calculation</a></span></li><li><span><a href=\"#Figure-4D:-ROC-curve\" data-toc-modified-id=\"Figure-4D:-ROC-curve-3.5.3\"><span class=\"toc-item-num\">3.5.3&nbsp;&nbsp;</span><font color=\"red\">Figure 4D:</font> ROC curve</a></span></li></ul></li></ul></li><li><span><a href=\"#Evaluate-training-set\" data-toc-modified-id=\"Evaluate-training-set-4\"><span class=\"toc-item-num\">4&nbsp;&nbsp;</span>Evaluate training set</a></span><ul class=\"toc-item\"><li><span><a href=\"#-Supp.-Figure-3-Correlation-heatmap-between-average-embedding-vector-of-each-class-in-training-set\" data-toc-modified-id=\"-Supp.-Figure-3-Correlation-heatmap-between-average-embedding-vector-of-each-class-in-training-set-4.1\"><span class=\"toc-item-num\">4.1&nbsp;&nbsp;</span><font color=\"red\"> Supp. Figure 3</font> Correlation heatmap between average embedding vector of each class in training set</a></span></li><li><span><a href=\"#-Supp.-Figure-1B-Number-of-examples-per-category\" data-toc-modified-id=\"-Supp.-Figure-1B-Number-of-examples-per-category-4.2\"><span class=\"toc-item-num\">4.2&nbsp;&nbsp;</span><font color=\"red\"> Supp. Figure 1B</font> Number of examples per category</a></span></li></ul></li></ul></div>"
   ]
  },
  {
   "cell_type": "markdown",
   "metadata": {
    "heading_collapsed": true
   },
   "source": [
    "# Evaluate trained models<br>\n",
    "Adam Klie<br>\n",
    "07/09/2020<br>\n",
    "Updated: 08/31/2020\n",
    "Script to evaluate the performance of trained model"
   ]
  },
  {
   "cell_type": "markdown",
   "metadata": {
    "heading_collapsed": true
   },
   "source": [
    "# Set up"
   ]
  },
  {
   "cell_type": "markdown",
   "metadata": {
    "heading_collapsed": true,
    "hidden": true
   },
   "source": [
    "## Import necessry packages"
   ]
  },
  {
   "cell_type": "code",
   "execution_count": 25,
   "metadata": {
    "ExecuteTime": {
     "end_time": "2020-09-01T00:01:03.484955Z",
     "start_time": "2020-09-01T00:01:03.479775Z"
    },
    "hidden": true
   },
   "outputs": [],
   "source": [
    "import numpy as np\n",
    "import pandas as pd\n",
    "from tqdm import tqdm\n",
    "import matplotlib.pyplot as plt\n",
    "import matplotlib\n",
    "import seaborn as sns\n",
    "from sklearn import preprocessing, metrics\n",
    "\n",
    "import spacy\n",
    "import tensorflow\n",
    "import keras\n",
    "from keras.models import load_model\n",
    "import scipy.spatial as sp"
   ]
  },
  {
   "cell_type": "markdown",
   "metadata": {
    "heading_collapsed": true,
    "hidden": true
   },
   "source": [
    "## Helper functions"
   ]
  },
  {
   "cell_type": "code",
   "execution_count": 26,
   "metadata": {
    "ExecuteTime": {
     "end_time": "2020-09-01T00:01:03.776841Z",
     "start_time": "2020-09-01T00:01:03.770232Z"
    },
    "hidden": true
   },
   "outputs": [],
   "source": [
    "def get_features(docs, max_length):\n",
    "    docs = list(docs)\n",
    "    Xs = np.zeros((len(docs), max_length), dtype='int32')\n",
    "    for i, doc in tqdm(enumerate(docs),total=len(docs)):\n",
    "        j = 0\n",
    "        for token in doc:\n",
    "            ##rever to word vector\n",
    "            vector_id = token.vocab.vectors.find(key=token.orth)\n",
    "            if vector_id >= 0:\n",
    "                Xs[i, j] = vector_id\n",
    "            else:\n",
    "                Xs[i, j] = 0\n",
    "            j += 1\n",
    "            if j >= max_length:\n",
    "                break\n",
    "    return Xs"
   ]
  },
  {
   "cell_type": "code",
   "execution_count": 27,
   "metadata": {
    "ExecuteTime": {
     "end_time": "2020-09-01T00:01:04.131287Z",
     "start_time": "2020-09-01T00:01:04.124728Z"
    },
    "hidden": true
   },
   "outputs": [],
   "source": [
    "def correlate_dataframes(df1, df2, metric = 'cosine' ):\n",
    "    M = 1 - sp.distance.cdist(df1, df2, metric)\n",
    "    return pd.DataFrame(data = M, index = df1.index, columns = df2.index)"
   ]
  },
  {
   "cell_type": "markdown",
   "metadata": {
    "heading_collapsed": true,
    "hidden": true
   },
   "source": [
    "## Plotting parameters"
   ]
  },
  {
   "cell_type": "code",
   "execution_count": 4,
   "metadata": {
    "ExecuteTime": {
     "end_time": "2020-08-31T22:53:05.832261Z",
     "start_time": "2020-08-31T22:53:05.599253Z"
    },
    "hidden": true
   },
   "outputs": [],
   "source": [
    "from matplotlib import rcParams\n",
    "import matplotlib as mpl\n",
    "\n",
    "rcParams['figure.figsize'] = (10, 6)\n",
    "rcParams['figure.dpi'] = 600 \n",
    "rcParams['lines.linewidth'] = 2\n",
    "rcParams['axes.facecolor'] = 'white'\n",
    "rcParams['font.size'] = 18\n",
    "rcParams['patch.edgecolor'] = 'white'\n",
    "rcParams['font.family'] = 'StixGeneral'\n",
    "\n",
    "rcParams['axes.labelsize'] = 36\n",
    "rcParams['ytick.labelsize'] = 30\n",
    "rcParams['xtick.labelsize'] = 30"
   ]
  },
  {
   "cell_type": "markdown",
   "metadata": {
    "heading_collapsed": true,
    "hidden": true
   },
   "source": [
    "## Load data"
   ]
  },
  {
   "cell_type": "markdown",
   "metadata": {
    "heading_collapsed": true,
    "hidden": true
   },
   "source": [
    "### Load classes"
   ]
  },
  {
   "cell_type": "code",
   "execution_count": 36,
   "metadata": {
    "ExecuteTime": {
     "end_time": "2020-09-01T00:03:30.398341Z",
     "start_time": "2020-09-01T00:03:30.319461Z"
    },
    "hidden": true
   },
   "outputs": [],
   "source": [
    "model_iter = '11_class'\n",
    "le = preprocessing.LabelEncoder()\n",
    "le.classes_ = np.load('../results/training/{model}/classes.npy'.format(model = model_iter))"
   ]
  },
  {
   "cell_type": "markdown",
   "metadata": {
    "heading_collapsed": true,
    "hidden": true
   },
   "source": [
    "### Load accuracy stats"
   ]
  },
  {
   "cell_type": "code",
   "execution_count": 37,
   "metadata": {
    "ExecuteTime": {
     "end_time": "2020-09-01T00:03:32.971360Z",
     "start_time": "2020-09-01T00:03:32.918292Z"
    },
    "hidden": true
   },
   "outputs": [],
   "source": [
    "with open('../results/training/{model}/keras_out.txt'.format(model = model_iter), 'r') as f:\n",
    "    acc_text = f.read()"
   ]
  },
  {
   "cell_type": "markdown",
   "metadata": {
    "heading_collapsed": true,
    "hidden": true
   },
   "source": [
    "### Load grouping"
   ]
  },
  {
   "cell_type": "code",
   "execution_count": 38,
   "metadata": {
    "ExecuteTime": {
     "end_time": "2020-09-01T00:03:35.212208Z",
     "start_time": "2020-09-01T00:03:35.174862Z"
    },
    "hidden": true
   },
   "outputs": [],
   "source": [
    "grouping_df = pd.read_csv('../results/embedding/{model}/entity_merging.csv'.format(model = model_iter))\n",
    "myAttribs = grouping_df.attribute.unique()"
   ]
  },
  {
   "cell_type": "markdown",
   "metadata": {
    "heading_collapsed": true,
    "hidden": true
   },
   "source": [
    "### Load model to analyze`"
   ]
  },
  {
   "cell_type": "code",
   "execution_count": 39,
   "metadata": {
    "ExecuteTime": {
     "end_time": "2020-09-01T00:04:44.041011Z",
     "start_time": "2020-09-01T00:04:03.996328Z"
    },
    "hidden": true
   },
   "outputs": [],
   "source": [
    "model = '11_class_2020_07_09'\n",
    "lstm = load_model(\"../models/{model}.h5\".format(model=model))\n",
    "max_length = 7\n",
    "nr_classes=len(le.classes_)\n",
    "lstm_shape={'nr_hidden': 64, 'max_length': max_length, 'nr_class': nr_classes}"
   ]
  },
  {
   "cell_type": "markdown",
   "metadata": {
    "heading_collapsed": true,
    "hidden": true
   },
   "source": [
    "### Load NLP model"
   ]
  },
  {
   "cell_type": "code",
   "execution_count": 40,
   "metadata": {
    "ExecuteTime": {
     "end_time": "2020-09-01T00:05:35.845589Z",
     "start_time": "2020-09-01T00:04:44.044413Z"
    },
    "hidden": true
   },
   "outputs": [],
   "source": [
    "nlp = spacy.load('../data/wikipedia-pubmed-and-PMC-w2v')"
   ]
  },
  {
   "cell_type": "markdown",
   "metadata": {
    "heading_collapsed": true,
    "hidden": true
   },
   "source": [
    "### Load grouping"
   ]
  },
  {
   "cell_type": "code",
   "execution_count": 41,
   "metadata": {
    "ExecuteTime": {
     "end_time": "2020-09-01T00:05:35.889972Z",
     "start_time": "2020-09-01T00:05:35.848355Z"
    },
    "hidden": true
   },
   "outputs": [],
   "source": [
    "grouping_df = pd.read_csv('../results/embedding/{model}/entity_merging.csv'.format(model = model_iter))\n",
    "myAttribs = grouping_df.attribute.unique()"
   ]
  },
  {
   "cell_type": "markdown",
   "metadata": {
    "heading_collapsed": true,
    "hidden": true
   },
   "source": [
    "### Load train and test data"
   ]
  },
  {
   "cell_type": "code",
   "execution_count": 42,
   "metadata": {
    "ExecuteTime": {
     "end_time": "2020-09-01T00:05:36.067236Z",
     "start_time": "2020-09-01T00:05:35.892364Z"
    },
    "hidden": true
   },
   "outputs": [],
   "source": [
    "model_iter = '11_class'\n",
    "train_df = pd.read_pickle('../results/training/{model}/training_examples.pickle'.format(model = model_iter))\n",
    "val_df = pd.read_pickle('../results/training/{model}/test_examples.pickle'.format(model = model_iter))"
   ]
  },
  {
   "cell_type": "markdown",
   "metadata": {
    "heading_collapsed": true
   },
   "source": [
    "# Analyze current model"
   ]
  },
  {
   "cell_type": "markdown",
   "metadata": {
    "heading_collapsed": true,
    "hidden": true
   },
   "source": [
    "## Make an accuracy dataframe from keras output"
   ]
  },
  {
   "cell_type": "code",
   "execution_count": 79,
   "metadata": {
    "ExecuteTime": {
     "end_time": "2020-09-01T00:10:10.203460Z",
     "start_time": "2020-09-01T00:10:10.186042Z"
    },
    "hidden": true
   },
   "outputs": [],
   "source": [
    "acc_df = pd.DataFrame(pd.Series(acc_text.split('\\n')).str.replace('\\x08',''))\n",
    "acc_df[\"train_acc\"] = acc_df[0].str.extract('acc: (\\d+.\\d+)').values.astype('float64')\n",
    "acc_df.dropna(inplace=True)"
   ]
  },
  {
   "cell_type": "code",
   "execution_count": 80,
   "metadata": {
    "ExecuteTime": {
     "end_time": "2020-09-01T00:10:10.327012Z",
     "start_time": "2020-09-01T00:10:10.206743Z"
    },
    "hidden": true
   },
   "outputs": [],
   "source": [
    "def get_training(x):\n",
    "    return float(int(x[0].split('/')[0])/1000)\n",
    "acc_df[\"examples_seen\"] = acc_df.apply(get_training, axis=1)"
   ]
  },
  {
   "cell_type": "markdown",
   "metadata": {
    "heading_collapsed": true,
    "hidden": true
   },
   "source": [
    "## <font color=red>Figure 4B:</font> Accuracy plot"
   ]
  },
  {
   "cell_type": "code",
   "execution_count": 81,
   "metadata": {
    "ExecuteTime": {
     "end_time": "2020-09-01T00:10:12.246012Z",
     "start_time": "2020-09-01T00:10:10.330794Z"
    },
    "hidden": true,
    "scrolled": true
   },
   "outputs": [],
   "source": [
    "fig,ax = plt.subplots(figsize=(6,6))\n",
    "ax.plot(acc_df.examples_seen.values, acc_df.train_acc.values, linewidth = 4)\n",
    "ax.set_xlabel('# of training examples (thousands)')\n",
    "ax.set_ylabel('Accuracy')\n",
    "ax.set_yticks(np.arange(0.1,1.1,0.1))\n",
    "ax.grid()\n",
    "\n",
    "plt.savefig('../doc/figures/Figure4/Figure4B.eps', dpi=600, bbox_inches=\"tight\")\n",
    "plt.savefig('../doc/figures/Figure4/Figure4B.png', dpi=600, bbox_inches=\"tight\")\n",
    "plt.close()"
   ]
  },
  {
   "cell_type": "markdown",
   "metadata": {
    "heading_collapsed": true,
    "hidden": true
   },
   "source": [
    "## Model accuracy"
   ]
  },
  {
   "cell_type": "markdown",
   "metadata": {
    "heading_collapsed": true,
    "hidden": true
   },
   "source": [
    "### Overall accuracy"
   ]
  },
  {
   "cell_type": "code",
   "execution_count": 82,
   "metadata": {
    "ExecuteTime": {
     "end_time": "2020-09-01T00:10:50.208980Z",
     "start_time": "2020-09-01T00:10:12.250090Z"
    },
    "hidden": true
   },
   "outputs": [
    {
     "name": "stderr",
     "output_type": "stream",
     "text": [
      "100%|██████████| 87717/87717 [00:03<00:00, 24574.87it/s]\n",
      "100%|██████████| 87717/87717 [00:00<00:00, 120101.35it/s]\n"
     ]
    }
   ],
   "source": [
    "val_texts = val_df.value.tolist()\n",
    "val_docs = list(tqdm(nlp.pipe(val_texts),total=len(val_texts)))\n",
    "val_X = get_features(val_docs,lstm_shape['max_length'])\n",
    "predictM = lstm.predict_proba(val_X)"
   ]
  },
  {
   "cell_type": "code",
   "execution_count": 83,
   "metadata": {
    "ExecuteTime": {
     "end_time": "2020-09-01T00:10:50.299523Z",
     "start_time": "2020-09-01T00:10:50.211177Z"
    },
    "hidden": true
   },
   "outputs": [],
   "source": [
    "probaDf_multI = pd.DataFrame(data = predictM, columns = le.classes_)\n",
    "probaDf_multI.index = pd.MultiIndex.from_arrays([val_df.attribute.values, val_texts], names=['entity','text'])\n",
    "probaDf = probaDf_multI.reset_index()"
   ]
  },
  {
   "cell_type": "code",
   "execution_count": 84,
   "metadata": {
    "ExecuteTime": {
     "end_time": "2020-09-01T00:10:50.412510Z",
     "start_time": "2020-09-01T00:10:50.301942Z"
    },
    "hidden": true
   },
   "outputs": [],
   "source": [
    "myClasses = grouping_df.GroupName.unique()\n",
    "predicted_types = probaDf.loc[:, probaDf.columns.isin(myClasses)].idxmax(axis=1)"
   ]
  },
  {
   "cell_type": "code",
   "execution_count": 85,
   "metadata": {
    "ExecuteTime": {
     "end_time": "2020-09-01T00:10:50.432784Z",
     "start_time": "2020-09-01T00:10:50.414273Z"
    },
    "hidden": true,
    "scrolled": true
   },
   "outputs": [
    {
     "name": "stdout",
     "output_type": "stream",
     "text": [
      "Accuracy: 0.8527993433427956\n"
     ]
    }
   ],
   "source": [
    "overall_acc = ((probaDf.entity == predicted_types).mean())\n",
    "print('Accuracy:', overall_acc)"
   ]
  },
  {
   "cell_type": "markdown",
   "metadata": {
    "heading_collapsed": true,
    "hidden": true
   },
   "source": [
    "### <font color =red>Figure 4C:</font> Per class accuracy"
   ]
  },
  {
   "cell_type": "code",
   "execution_count": 86,
   "metadata": {
    "ExecuteTime": {
     "end_time": "2020-09-01T00:10:50.488630Z",
     "start_time": "2020-09-01T00:10:50.435569Z"
    },
    "hidden": true
   },
   "outputs": [],
   "source": [
    "inEvalDf = probaDf_multI"
   ]
  },
  {
   "cell_type": "code",
   "execution_count": 87,
   "metadata": {
    "ExecuteTime": {
     "end_time": "2020-09-01T00:10:50.665528Z",
     "start_time": "2020-09-01T00:10:50.491140Z"
    },
    "hidden": true
   },
   "outputs": [],
   "source": [
    "minProbThreshold = 0.2\n",
    "confidence_mask = inEvalDf.max(axis=1)>=minProbThreshold\n",
    "tmpDf3 = inEvalDf.idxmax(axis=1).reset_index(name='predicted')"
   ]
  },
  {
   "cell_type": "code",
   "execution_count": 88,
   "metadata": {
    "ExecuteTime": {
     "end_time": "2020-09-01T00:10:50.706335Z",
     "start_time": "2020-09-01T00:10:50.667802Z"
    },
    "hidden": true
   },
   "outputs": [],
   "source": [
    "continDf=tmpDf3.groupby(['predicted','entity']).size().unstack().fillna(0)"
   ]
  },
  {
   "cell_type": "code",
   "execution_count": 89,
   "metadata": {
    "ExecuteTime": {
     "end_time": "2020-09-01T00:10:50.742958Z",
     "start_time": "2020-09-01T00:10:50.708864Z"
    },
    "hidden": true
   },
   "outputs": [],
   "source": [
    "continDf=continDf.loc[le.classes_, le.classes_]\n",
    "continDf.index=continDf.index.copy()\n",
    "continDf.columns=continDf.columns.copy()\n",
    "continDf.index.name='Predicted'\n",
    "continDf.columns.name='Actual'\n",
    "percentDf=(continDf/continDf.sum(axis=0)).T"
   ]
  },
  {
   "cell_type": "code",
   "execution_count": 90,
   "metadata": {
    "ExecuteTime": {
     "end_time": "2020-09-01T00:11:03.598817Z",
     "start_time": "2020-09-01T00:10:50.750715Z"
    },
    "hidden": true
   },
   "outputs": [],
   "source": [
    "fig,ax=plt.subplots(figsize=(24,10))\n",
    "#g.data2d.columns=g.data2d.columns.copy()\n",
    "#g.data2d.index=g.data2d.index.copy()\n",
    "\n",
    "sns.set(font_scale=2)\n",
    "sns.heatmap(data=percentDf,annot=True,fmt='0.0%', annot_kws={\"fontsize\":16})\n",
    "ax.set_ylabel('Ground truth', fontsize = 36)\n",
    "ax.set_xlabel('Predicted', fontsize = 36)\n",
    "\n",
    "plt.savefig('../doc/figures/Figure4/Figure4D_new.eps', dpi=600, bbox_inches=\"tight\")\n",
    "plt.savefig('../doc/figures/Figure4/Figure4D_new.png', dpi=600, bbox_inches=\"tight\")\n",
    "plt.close();"
   ]
  },
  {
   "cell_type": "markdown",
   "metadata": {
    "heading_collapsed": true,
    "hidden": true
   },
   "source": [
    "## Check correct vs incorrect probabilities"
   ]
  },
  {
   "cell_type": "code",
   "execution_count": 91,
   "metadata": {
    "ExecuteTime": {
     "end_time": "2020-09-01T00:11:03.907874Z",
     "start_time": "2020-09-01T00:11:03.601727Z"
    },
    "hidden": true
   },
   "outputs": [],
   "source": [
    "incorrect_df = probaDf[probaDf.entity != predicted_types][['entity','text']]\n",
    "incorrect_df['predicted'] = predicted_types"
   ]
  },
  {
   "cell_type": "code",
   "execution_count": 92,
   "metadata": {
    "ExecuteTime": {
     "end_time": "2020-09-01T00:11:03.994240Z",
     "start_time": "2020-09-01T00:11:03.910059Z"
    },
    "hidden": true
   },
   "outputs": [],
   "source": [
    "contdf_long=percentDf.stack().reset_index(name='Percent')"
   ]
  },
  {
   "cell_type": "code",
   "execution_count": 93,
   "metadata": {
    "ExecuteTime": {
     "end_time": "2020-09-01T00:11:04.062616Z",
     "start_time": "2020-09-01T00:11:03.996294Z"
    },
    "hidden": true
   },
   "outputs": [
    {
     "data": {
      "text/html": [
       "<div>\n",
       "<style scoped>\n",
       "    .dataframe tbody tr th:only-of-type {\n",
       "        vertical-align: middle;\n",
       "    }\n",
       "\n",
       "    .dataframe tbody tr th {\n",
       "        vertical-align: top;\n",
       "    }\n",
       "\n",
       "    .dataframe thead th {\n",
       "        text-align: right;\n",
       "    }\n",
       "</style>\n",
       "<table border=\"1\" class=\"dataframe\">\n",
       "  <thead>\n",
       "    <tr style=\"text-align: right;\">\n",
       "      <th></th>\n",
       "      <th>Actual</th>\n",
       "      <th>Predicted</th>\n",
       "      <th>Percent</th>\n",
       "    </tr>\n",
       "  </thead>\n",
       "  <tbody>\n",
       "    <tr>\n",
       "      <th>23</th>\n",
       "      <td>Condition/Disease</td>\n",
       "      <td>Cell type</td>\n",
       "      <td>0.053537</td>\n",
       "    </tr>\n",
       "    <tr>\n",
       "      <th>107</th>\n",
       "      <td>Strain</td>\n",
       "      <td>Species</td>\n",
       "      <td>0.065590</td>\n",
       "    </tr>\n",
       "    <tr>\n",
       "      <th>86</th>\n",
       "      <td>Sex</td>\n",
       "      <td>Strain</td>\n",
       "      <td>0.068316</td>\n",
       "    </tr>\n",
       "    <tr>\n",
       "      <th>64</th>\n",
       "      <td>Platform</td>\n",
       "      <td>Strain</td>\n",
       "      <td>0.079245</td>\n",
       "    </tr>\n",
       "    <tr>\n",
       "      <th>32</th>\n",
       "      <td>Condition/Disease</td>\n",
       "      <td>Tissue</td>\n",
       "      <td>0.107075</td>\n",
       "    </tr>\n",
       "    <tr>\n",
       "      <th>53</th>\n",
       "      <td>Genotype</td>\n",
       "      <td>Strain</td>\n",
       "      <td>0.115991</td>\n",
       "    </tr>\n",
       "    <tr>\n",
       "      <th>76</th>\n",
       "      <td>Protocol</td>\n",
       "      <td>Tissue</td>\n",
       "      <td>0.117978</td>\n",
       "    </tr>\n",
       "    <tr>\n",
       "      <th>111</th>\n",
       "      <td>Tissue</td>\n",
       "      <td>Cell type</td>\n",
       "      <td>0.144500</td>\n",
       "    </tr>\n",
       "    <tr>\n",
       "      <th>70</th>\n",
       "      <td>Protocol</td>\n",
       "      <td>Genotype</td>\n",
       "      <td>0.157303</td>\n",
       "    </tr>\n",
       "    <tr>\n",
       "      <th>21</th>\n",
       "      <td>Cell type</td>\n",
       "      <td>Tissue</td>\n",
       "      <td>0.219200</td>\n",
       "    </tr>\n",
       "    <tr>\n",
       "      <th>67</th>\n",
       "      <td>Protocol</td>\n",
       "      <td>Cell type</td>\n",
       "      <td>0.601124</td>\n",
       "    </tr>\n",
       "  </tbody>\n",
       "</table>\n",
       "</div>"
      ],
      "text/plain": [
       "                Actual  Predicted   Percent\n",
       "23   Condition/Disease  Cell type  0.053537\n",
       "107             Strain    Species  0.065590\n",
       "86                 Sex     Strain  0.068316\n",
       "64            Platform     Strain  0.079245\n",
       "32   Condition/Disease     Tissue  0.107075\n",
       "53            Genotype     Strain  0.115991\n",
       "76            Protocol     Tissue  0.117978\n",
       "111             Tissue  Cell type  0.144500\n",
       "70            Protocol   Genotype  0.157303\n",
       "21           Cell type     Tissue  0.219200\n",
       "67            Protocol  Cell type  0.601124"
      ]
     },
     "execution_count": 93,
     "metadata": {},
     "output_type": "execute_result"
    }
   ],
   "source": [
    "contdf_wrong=contdf_long[contdf_long.Actual!=contdf_long.Predicted].sort_values('Percent')\n",
    "contdf_wrong[contdf_wrong.Percent>0.05]"
   ]
  },
  {
   "cell_type": "code",
   "execution_count": 94,
   "metadata": {
    "ExecuteTime": {
     "end_time": "2020-09-01T00:11:04.105353Z",
     "start_time": "2020-09-01T00:11:04.064691Z"
    },
    "hidden": true
   },
   "outputs": [],
   "source": [
    "# plt.figure(figsize=(16, 16))\n",
    "# predDf=probaDf_multI.stack().reset_index()\n",
    "# predDf.columns=['entity','text','predicted','proba']\n",
    "# predDf['match'] = (predDf.entity == predDf.predicted)\n",
    "# g =sns.boxplot(data=predDf,x='entity',y='proba', hue='match', showfliers=False)\n",
    "# g.set_xticklabels(g.get_xticklabels(), rotation=45)\n",
    "# predDf[predDf['match']].groupby(['entity'])['proba'].quantile(0.25).to_dict()"
   ]
  },
  {
   "cell_type": "markdown",
   "metadata": {
    "heading_collapsed": true,
    "hidden": true
   },
   "source": [
    "## Performance metrics"
   ]
  },
  {
   "cell_type": "markdown",
   "metadata": {
    "heading_collapsed": true,
    "hidden": true
   },
   "source": [
    "### <font color =red>Figure 4A:</font> Metrics table"
   ]
  },
  {
   "cell_type": "code",
   "execution_count": 95,
   "metadata": {
    "ExecuteTime": {
     "end_time": "2020-09-01T00:11:04.267798Z",
     "start_time": "2020-09-01T00:11:04.107559Z"
    },
    "hidden": true
   },
   "outputs": [],
   "source": [
    "inTmpDf=inEvalDf.idxmax(axis=1).reset_index(name='predicted')"
   ]
  },
  {
   "cell_type": "code",
   "execution_count": 96,
   "metadata": {
    "ExecuteTime": {
     "end_time": "2020-09-01T00:11:04.287684Z",
     "start_time": "2020-09-01T00:11:04.270318Z"
    },
    "hidden": true
   },
   "outputs": [],
   "source": [
    "inTmpDf['correct']=inTmpDf.entity==inTmpDf.predicted"
   ]
  },
  {
   "cell_type": "code",
   "execution_count": 97,
   "metadata": {
    "ExecuteTime": {
     "end_time": "2020-09-01T00:11:04.379245Z",
     "start_time": "2020-09-01T00:11:04.291339Z"
    },
    "hidden": true
   },
   "outputs": [
    {
     "data": {
      "text/plain": [
       "entity\n",
       "Protocol             0.000000\n",
       "Cell type            0.696250\n",
       "Condition/Disease    0.737412\n",
       "Tissue               0.825100\n",
       "Strain               0.835015\n",
       "Genotype             0.853751\n",
       "Platform             0.920755\n",
       "Sex                  0.928151\n",
       "Age                  0.980430\n",
       "Species              0.981200\n",
       "Data type            1.000000\n",
       "Name: correct, dtype: float64"
      ]
     },
     "execution_count": 97,
     "metadata": {},
     "output_type": "execute_result"
    }
   ],
   "source": [
    "inTmpDf.groupby('entity')['correct'].mean().sort_values()"
   ]
  },
  {
   "cell_type": "code",
   "execution_count": 98,
   "metadata": {
    "ExecuteTime": {
     "end_time": "2020-09-01T00:11:05.099595Z",
     "start_time": "2020-09-01T00:11:04.382600Z"
    },
    "hidden": true
   },
   "outputs": [],
   "source": [
    "p_r_f1 = metrics.precision_recall_fscore_support(y_true=inTmpDf['entity'],y_pred=inTmpDf['predicted'],average='weighted')\n",
    "metric_df = pd.DataFrame({'Accuracy':overall_acc, \n",
    "                          'Precision':p_r_f1[0], \n",
    "                          'Recall':p_r_f1[1], \n",
    "                          'F1 Score':p_r_f1[2]}, index=[0])\n",
    "metric_df.to_csv('../doc/figures/Figure4/Figure4A.csv')\n",
    "metric_df.to_csv('../results/training/{model}/metrics.csv'.format(model=model_iter))"
   ]
  },
  {
   "cell_type": "code",
   "execution_count": 99,
   "metadata": {
    "ExecuteTime": {
     "end_time": "2020-09-01T00:11:05.108145Z",
     "start_time": "2020-09-01T00:11:05.101635Z"
    },
    "hidden": true
   },
   "outputs": [
    {
     "data": {
      "text/plain": [
       "(0.8512320581468972, 0.8527993433427956, 0.8507875168662575, None)"
      ]
     },
     "execution_count": 99,
     "metadata": {},
     "output_type": "execute_result"
    }
   ],
   "source": [
    "p_r_f1"
   ]
  },
  {
   "cell_type": "markdown",
   "metadata": {
    "heading_collapsed": true,
    "hidden": true
   },
   "source": [
    "### AUC calculation"
   ]
  },
  {
   "cell_type": "code",
   "execution_count": 100,
   "metadata": {
    "ExecuteTime": {
     "end_time": "2020-09-01T00:11:05.369836Z",
     "start_time": "2020-09-01T00:11:05.111120Z"
    },
    "hidden": true
   },
   "outputs": [],
   "source": [
    "y_test = preprocessing.label_binarize(inTmpDf.entity.values, classes=le.classes_)\n",
    "y_score = probaDf[le.classes_].values"
   ]
  },
  {
   "cell_type": "code",
   "execution_count": 101,
   "metadata": {
    "ExecuteTime": {
     "end_time": "2020-09-01T00:11:05.776938Z",
     "start_time": "2020-09-01T00:11:05.372171Z"
    },
    "hidden": true
   },
   "outputs": [],
   "source": [
    "# Compute ROC curve and ROC area for each class\n",
    "fpr_dict = dict()\n",
    "tpr_dict = dict()\n",
    "roc_auc_dict = dict()\n",
    "for i, class_ in enumerate(le.classes_):\n",
    "    fpr_dict[class_], tpr_dict[class_], _ = metrics.roc_curve(y_test[:, i], y_score[:, i])\n",
    "    roc_auc_dict[class_] = metrics.auc(fpr_dict[class_], tpr_dict[class_])\n",
    "\n",
    "# Compute micro-average ROC curve and ROC area\n",
    "fpr_dict[\"Micro\"], tpr_dict[\"Micro\"], _ = metrics.roc_curve(y_test.ravel(), y_score.ravel())\n",
    "roc_auc_dict[\"Micro\"] = metrics.auc(fpr_dict[\"Micro\"], tpr_dict[\"Micro\"])"
   ]
  },
  {
   "cell_type": "markdown",
   "metadata": {
    "heading_collapsed": true,
    "hidden": true
   },
   "source": [
    "### <font color =red>Figure 4D:</font> ROC curve"
   ]
  },
  {
   "cell_type": "code",
   "execution_count": 102,
   "metadata": {
    "ExecuteTime": {
     "end_time": "2020-09-01T00:11:12.543476Z",
     "start_time": "2020-09-01T00:11:05.779271Z"
    },
    "hidden": true
   },
   "outputs": [],
   "source": [
    "fig,ax=plt.subplots(figsize=(16, 6))\n",
    "for myClass in roc_auc_dict:\n",
    "    if myClass == \"Micro\":\n",
    "        lw = 4\n",
    "    else:\n",
    "        lw = 1\n",
    "    fpr = fpr_dict[myClass]\n",
    "    tpr = tpr_dict[myClass]\n",
    "    ax.plot(fpr, tpr, linewidth = lw,\n",
    "            label=\"{myClass} ({AUC})\".format(myClass=myClass, AUC=str(metrics.auc(fpr,tpr))[:5]))\n",
    "    \n",
    "ax.set_xlabel('False positive rate', fontsize = 24)\n",
    "ax.set_ylabel('True positive rate', fontsize = 24)\n",
    "plt.legend(fontsize='16', ncol=2, handleheight=2.4, labelspacing=0.05)\n",
    "ax.plot([0,1], [0,1], '--', alpha=0.5, zorder=0, color='gray')\n",
    "plt.savefig('../doc/figures/Figure4/Figure4D.eps', dpi=600, bbox_inches=\"tight\")\n",
    "plt.savefig('../doc/figures/Figure4/Figure4D.png', dpi=600, bbox_inches=\"tight\")\n",
    "plt.close();"
   ]
  },
  {
   "cell_type": "markdown",
   "metadata": {
    "heading_collapsed": true
   },
   "source": [
    "# Evaluate training set"
   ]
  },
  {
   "cell_type": "markdown",
   "metadata": {
    "heading_collapsed": true,
    "hidden": true
   },
   "source": [
    "## <font color=red> Supp. Figure 3</font> Correlation heatmap between average embedding vector of each class in training set"
   ]
  },
  {
   "cell_type": "code",
   "execution_count": 103,
   "metadata": {
    "ExecuteTime": {
     "end_time": "2020-09-01T00:11:32.670910Z",
     "start_time": "2020-09-01T00:11:12.545642Z"
    },
    "hidden": true
   },
   "outputs": [],
   "source": [
    "# get word2Vec for all attributes\n",
    "docs = nlp.pipe(train_df['value'].tolist())\n",
    "vectors = [doc.vector for doc in docs]\n",
    "doc_vector_df = pd.DataFrame(vectors, index = train_df.set_index(['srs','attribute','value']).index).astype(float)"
   ]
  },
  {
   "cell_type": "code",
   "execution_count": 104,
   "metadata": {
    "ExecuteTime": {
     "end_time": "2020-09-01T00:11:32.898243Z",
     "start_time": "2020-09-01T00:11:32.673312Z"
    },
    "hidden": true
   },
   "outputs": [],
   "source": [
    "# check cosine similarity of these classes\n",
    "attribute_means = doc_vector_df.groupby('attribute').mean()\n",
    "embedding_df = attribute_means[attribute_means.sum(axis=1).abs()>0]\n",
    "corr_df = correlate_dataframes(embedding_df, embedding_df)"
   ]
  },
  {
   "cell_type": "code",
   "execution_count": 105,
   "metadata": {
    "ExecuteTime": {
     "end_time": "2020-09-01T00:11:40.526139Z",
     "start_time": "2020-09-01T00:11:32.900238Z"
    },
    "hidden": true
   },
   "outputs": [],
   "source": [
    "sns.clustermap(data=corr_df,annot=True,fmt='0.1f', \n",
    "               cbar_kws={'label':'cosine similarity'}, \n",
    "               center=0.1, annot_kws={\"fontsize\":15})\n",
    "ax.set_ylabel('Ground truth', fontsize = 24)\n",
    "ax.set_xlabel('Predicted', fontsize = 24)\n",
    "plt.savefig('../doc/figures/Supplementary/Supp_Figure3.eps', dpi=600, bbox_inches=\"tight\")\n",
    "plt.savefig('../doc/figures/Supplementary/Supp_Figure3.png', dpi=600, bbox_inches=\"tight\")\n",
    "plt.close();"
   ]
  },
  {
   "cell_type": "code",
   "execution_count": 106,
   "metadata": {
    "ExecuteTime": {
     "end_time": "2020-09-01T00:11:40.537339Z",
     "start_time": "2020-09-01T00:11:40.528927Z"
    },
    "hidden": true
   },
   "outputs": [
    {
     "data": {
      "text/plain": [
       "attribute\n",
       "Cell type            5.364917\n",
       "Strain               5.199298\n",
       "Protocol             5.174615\n",
       "Tissue               5.060392\n",
       "Genotype             4.932029\n",
       "Data type            4.539147\n",
       "Sex                  4.221738\n",
       "Condition/Disease    3.743911\n",
       "Age                  3.672348\n",
       "Species              3.531311\n",
       "Platform             2.987110\n",
       "dtype: float64"
      ]
     },
     "execution_count": 106,
     "metadata": {},
     "output_type": "execute_result"
    }
   ],
   "source": [
    "corr_df.sum(axis=1).sort_values(ascending=False)"
   ]
  },
  {
   "cell_type": "markdown",
   "metadata": {
    "heading_collapsed": true,
    "hidden": true
   },
   "source": [
    "## <font color=red> Supp. Figure 1B</font> Number of examples per category"
   ]
  },
  {
   "cell_type": "code",
   "execution_count": 107,
   "metadata": {
    "ExecuteTime": {
     "end_time": "2020-09-01T00:11:40.658961Z",
     "start_time": "2020-09-01T00:11:40.539395Z"
    },
    "hidden": true
   },
   "outputs": [],
   "source": [
    "train_category_counts = train_df.attribute.value_counts().sort_index()\n",
    "val_category_counts = val_df.attribute.value_counts().sort_index()"
   ]
  },
  {
   "cell_type": "code",
   "execution_count": 108,
   "metadata": {
    "ExecuteTime": {
     "end_time": "2020-09-01T00:11:40.711271Z",
     "start_time": "2020-09-01T00:11:40.661201Z"
    },
    "hidden": true
   },
   "outputs": [],
   "source": [
    "category_counts = pd.concat([train_category_counts, val_category_counts], axis=1)\n",
    "category_counts.columns = [\"Train\", \"Test\"]"
   ]
  },
  {
   "cell_type": "code",
   "execution_count": 109,
   "metadata": {
    "ExecuteTime": {
     "end_time": "2020-09-01T00:11:40.776999Z",
     "start_time": "2020-09-01T00:11:40.713711Z"
    },
    "hidden": true
   },
   "outputs": [],
   "source": [
    "cat_order = category_counts.sort_values([\"Train\", \"Test\"], ascending=False).index"
   ]
  },
  {
   "cell_type": "code",
   "execution_count": 110,
   "metadata": {
    "ExecuteTime": {
     "end_time": "2020-09-01T00:11:40.837216Z",
     "start_time": "2020-09-01T00:11:40.780266Z"
    },
    "hidden": true
   },
   "outputs": [],
   "source": [
    "category_counts.reset_index(inplace=True)"
   ]
  },
  {
   "cell_type": "code",
   "execution_count": 111,
   "metadata": {
    "ExecuteTime": {
     "end_time": "2020-09-01T00:11:40.899675Z",
     "start_time": "2020-09-01T00:11:40.839448Z"
    },
    "hidden": true
   },
   "outputs": [],
   "source": [
    "tidy_category = category_counts.melt(id_vars='index').rename(columns=str.title)\n",
    "tidy_category.columns=['category', 'Set', 'examples']"
   ]
  },
  {
   "cell_type": "code",
   "execution_count": 112,
   "metadata": {
    "ExecuteTime": {
     "end_time": "2020-09-01T00:11:45.091040Z",
     "start_time": "2020-09-01T00:11:40.902447Z"
    },
    "hidden": true
   },
   "outputs": [],
   "source": [
    "ax = sns.barplot(x='category', y='examples', hue='Set', data=tidy_category, order=cat_order)\n",
    "\n",
    "for tick in ax.get_xticklabels():\n",
    "    tick.set_rotation(90)\n",
    "    \n",
    "ax.set_xlabel('Metadata Category', fontsize = 24)\n",
    "ax.set_ylabel('Number of Examples', fontsize = 24)\n",
    "plt.savefig('../doc/figures/Supplementary/Supp_Figure1B.eps', dpi=600, bbox_inches=\"tight\")\n",
    "plt.savefig('../doc/figures/Supplementary/Supp_Figure1B.png', dpi=600, bbox_inches=\"tight\")\n",
    "plt.close();"
   ]
  }
 ],
 "metadata": {
  "kernelspec": {
   "display_name": "py3_PredictMEE",
   "language": "python",
   "name": "predictmee"
  },
  "language_info": {
   "codemirror_mode": {
    "name": "ipython",
    "version": 3
   },
   "file_extension": ".py",
   "mimetype": "text/x-python",
   "name": "python",
   "nbconvert_exporter": "python",
   "pygments_lexer": "ipython3",
   "version": "3.6.6"
  },
  "toc": {
   "base_numbering": 1,
   "nav_menu": {},
   "number_sections": true,
   "sideBar": true,
   "skip_h1_title": false,
   "title_cell": "Table of Contents",
   "title_sidebar": "Contents",
   "toc_cell": true,
   "toc_position": {},
   "toc_section_display": true,
   "toc_window_display": true
  }
 },
 "nbformat": 4,
 "nbformat_minor": 4
}
