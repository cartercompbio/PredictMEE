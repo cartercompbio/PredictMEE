{
 "cells": [
  {
   "cell_type": "markdown",
   "metadata": {
    "toc": true
   },
   "source": [
    "<h1>Table of Contents<span class=\"tocSkip\"></span></h1>\n",
    "<div class=\"toc\"><ul class=\"toc-item\"><li><span><a href=\"#Evaluation-of-metadata-predictions\" data-toc-modified-id=\"Evaluation-of-metadata-predictions-1\"><span class=\"toc-item-num\">1&nbsp;&nbsp;</span>Evaluation of metadata predictions</a></span></li><li><span><a href=\"#Set-up\" data-toc-modified-id=\"Set-up-2\"><span class=\"toc-item-num\">2&nbsp;&nbsp;</span>Set-up</a></span><ul class=\"toc-item\"><li><span><a href=\"#Load-necessary-packages\" data-toc-modified-id=\"Load-necessary-packages-2.1\"><span class=\"toc-item-num\">2.1&nbsp;&nbsp;</span>Load necessary packages</a></span></li><li><span><a href=\"#Load-data\" data-toc-modified-id=\"Load-data-2.2\"><span class=\"toc-item-num\">2.2&nbsp;&nbsp;</span>Load data</a></span><ul class=\"toc-item\"><li><span><a href=\"#Load-embedding-model\" data-toc-modified-id=\"Load-embedding-model-2.2.1\"><span class=\"toc-item-num\">2.2.1&nbsp;&nbsp;</span>Load embedding model</a></span></li><li><span><a href=\"#Create-dataframe\" data-toc-modified-id=\"Create-dataframe-2.2.2\"><span class=\"toc-item-num\">2.2.2&nbsp;&nbsp;</span>Create dataframe</a></span></li></ul></li></ul></li><li><span><a href=\"#Prediction-performance\" data-toc-modified-id=\"Prediction-performance-3\"><span class=\"toc-item-num\">3&nbsp;&nbsp;</span>Prediction performance</a></span><ul class=\"toc-item\"><li><span><a href=\"#Covert-to-lower-case-for-better-comparison\" data-toc-modified-id=\"Covert-to-lower-case-for-better-comparison-3.1\"><span class=\"toc-item-num\">3.1&nbsp;&nbsp;</span>Covert to lower case for better comparison</a></span></li><li><span><a href=\"#Overall-prediction-stats\" data-toc-modified-id=\"Overall-prediction-stats-3.2\"><span class=\"toc-item-num\">3.2&nbsp;&nbsp;</span>Overall prediction stats</a></span></li><li><span><a href=\"#Exact-matches\" data-toc-modified-id=\"Exact-matches-3.3\"><span class=\"toc-item-num\">3.3&nbsp;&nbsp;</span>Exact matches</a></span></li><li><span><a href=\"#Contained-within\" data-toc-modified-id=\"Contained-within-3.4\"><span class=\"toc-item-num\">3.4&nbsp;&nbsp;</span>Contained within</a></span></li><li><span><a href=\"#Cosine-similarity\" data-toc-modified-id=\"Cosine-similarity-3.5\"><span class=\"toc-item-num\">3.5&nbsp;&nbsp;</span>Cosine similarity</a></span></li><li><span><a href=\"#-Table-1--accuracy-of-prediction\" data-toc-modified-id=\"-Table-1--accuracy-of-prediction-3.6\"><span class=\"toc-item-num\">3.6&nbsp;&nbsp;</span><font color=\"red\"> Table 1 </font> accuracy of prediction</a></span><ul class=\"toc-item\"><li><span><a href=\"#BLEU-scoring\" data-toc-modified-id=\"BLEU-scoring-3.6.1\"><span class=\"toc-item-num\">3.6.1&nbsp;&nbsp;</span>BLEU scoring</a></span></li><li><span><a href=\"#Levenshtein-distance\" data-toc-modified-id=\"Levenshtein-distance-3.6.2\"><span class=\"toc-item-num\">3.6.2&nbsp;&nbsp;</span>Levenshtein distance</a></span></li></ul></li></ul></li><li><span><a href=\"#Examples-of-misses?\" data-toc-modified-id=\"Examples-of-misses?-4\"><span class=\"toc-item-num\">4&nbsp;&nbsp;</span>Examples of misses?</a></span></li></ul></div>"
   ]
  },
  {
   "cell_type": "markdown",
   "metadata": {
    "heading_collapsed": true
   },
   "source": [
    "# Evaluation of metadata predictions\n",
    "Adam Klie<br>\n",
    "12/08/2019<br>\n",
    "Script to evaluate predictions"
   ]
  },
  {
   "cell_type": "markdown",
   "metadata": {},
   "source": [
    "# Set-up"
   ]
  },
  {
   "cell_type": "markdown",
   "metadata": {},
   "source": [
    "## Load necessary packages"
   ]
  },
  {
   "cell_type": "code",
   "execution_count": 1,
   "metadata": {
    "ExecuteTime": {
     "end_time": "2021-02-22T03:18:54.427200Z",
     "start_time": "2021-02-22T03:18:45.930590Z"
    }
   },
   "outputs": [
    {
     "name": "stderr",
     "output_type": "stream",
     "text": [
      "/cellar/users/aklie/opt/miniconda3/envs/PredictMEE_new/lib/python3.6/importlib/_bootstrap.py:219: RuntimeWarning: numpy.dtype size changed, may indicate binary incompatibility. Expected 96, got 88\n",
      "  return f(*args, **kwds)\n",
      "/cellar/users/aklie/opt/miniconda3/envs/PredictMEE_new/lib/python3.6/importlib/_bootstrap.py:219: RuntimeWarning: numpy.ufunc size changed, may indicate binary incompatibility. Expected 192, got 176\n",
      "  return f(*args, **kwds)\n",
      "/cellar/users/aklie/opt/miniconda3/envs/PredictMEE_new/lib/python3.6/importlib/_bootstrap.py:219: RuntimeWarning: numpy.dtype size changed, may indicate binary incompatibility. Expected 96, got 88\n",
      "  return f(*args, **kwds)\n",
      "/cellar/users/aklie/opt/miniconda3/envs/PredictMEE_new/lib/python3.6/importlib/_bootstrap.py:219: RuntimeWarning: numpy.ufunc size changed, may indicate binary incompatibility. Expected 192, got 176\n",
      "  return f(*args, **kwds)\n"
     ]
    }
   ],
   "source": [
    "%matplotlib inline\n",
    "import pandas as pd\n",
    "import numpy as np\n",
    "import matplotlib.pyplot as plt\n",
    "import seaborn as sns\n",
    "import spacy\n",
    "import Levenshtein\n",
    "\n",
    "from sklearn.metrics.pairwise import cosine_similarity\n",
    "from nltk.translate.bleu_score import sentence_bleu\n",
    "from nltk.translate.bleu_score import SmoothingFunction\n",
    "\n",
    "# Autoreload extension\n",
    "if 'autoreload' not in get_ipython().extension_manager.loaded:\n",
    "    %load_ext autoreload\n",
    "    \n",
    "%autoreload 2"
   ]
  },
  {
   "cell_type": "markdown",
   "metadata": {},
   "source": [
    "## Load data"
   ]
  },
  {
   "cell_type": "markdown",
   "metadata": {},
   "source": [
    "### Load embedding model"
   ]
  },
  {
   "cell_type": "code",
   "execution_count": 2,
   "metadata": {
    "ExecuteTime": {
     "end_time": "2021-02-22T03:20:22.749174Z",
     "start_time": "2021-02-22T03:18:54.430710Z"
    },
    "scrolled": true
   },
   "outputs": [
    {
     "name": "stderr",
     "output_type": "stream",
     "text": [
      "/cellar/users/aklie/opt/miniconda3/envs/PredictMEE_new/lib/python3.6/importlib/_bootstrap.py:219: RuntimeWarning: numpy.dtype size changed, may indicate binary incompatibility. Expected 96, got 88\n",
      "  return f(*args, **kwds)\n",
      "/cellar/users/aklie/opt/miniconda3/envs/PredictMEE_new/lib/python3.6/importlib/_bootstrap.py:219: RuntimeWarning: numpy.ufunc size changed, may indicate binary incompatibility. Expected 192, got 176\n",
      "  return f(*args, **kwds)\n"
     ]
    }
   ],
   "source": [
    "nlp = spacy.load('../data/wikipedia-pubmed-and-PMC-w2v')"
   ]
  },
  {
   "cell_type": "markdown",
   "metadata": {},
   "source": [
    "### Create dataframe"
   ]
  },
  {
   "cell_type": "code",
   "execution_count": 3,
   "metadata": {
    "ExecuteTime": {
     "end_time": "2021-02-22T03:20:23.057061Z",
     "start_time": "2021-02-22T03:20:22.752476Z"
    }
   },
   "outputs": [],
   "source": [
    "model_iter = '11_class'"
   ]
  },
  {
   "cell_type": "code",
   "execution_count": 4,
   "metadata": {
    "ExecuteTime": {
     "end_time": "2021-02-22T03:20:23.232722Z",
     "start_time": "2021-02-22T03:20:23.059938Z"
    }
   },
   "outputs": [],
   "source": [
    "grouping = pd.read_csv('../results/embedding/{model}/0.8_entity_merging.csv'.format(model=model_iter), index_col=0)"
   ]
  },
  {
   "cell_type": "code",
   "execution_count": 5,
   "metadata": {
    "ExecuteTime": {
     "end_time": "2021-02-22T03:20:23.279766Z",
     "start_time": "2021-02-22T03:20:23.236187Z"
    }
   },
   "outputs": [],
   "source": [
    "groups = grouping[grouping[\"I\"] == 0][\"GroupName\"].values"
   ]
  },
  {
   "cell_type": "code",
   "execution_count": 7,
   "metadata": {
    "ExecuteTime": {
     "end_time": "2021-02-22T03:20:36.036326Z",
     "start_time": "2021-02-22T03:20:34.312033Z"
    }
   },
   "outputs": [
    {
     "name": "stdout",
     "output_type": "stream",
     "text": [
      "Species : 1000 , 855\n",
      "Strain : 1000 , 295\n",
      "Cell type : 702 , 144\n",
      "Genotype : 595 , 130\n",
      "Condition/Disease : 122 , 23\n",
      "Tissue : 1000 , 237\n",
      "Sex : 190 , 4\n",
      "Age : 1000 , 224\n",
      "Data type : 78 , 12\n",
      "Platform : 275 , 30\n",
      "Protocol : 18 , 0\n"
     ]
    }
   ],
   "source": [
    "import warnings\n",
    "warnings.filterwarnings('ignore')\n",
    "validation_data_count = {}\n",
    "merged = pd.DataFrame()\n",
    "total_count = 0\n",
    "for group in groups:\n",
    "    group_dir = group.replace(' ', '_')\n",
    "    group_dir = group_dir.replace('/', '_')\n",
    "    #if group == \"Platform\":\n",
    "    #    continue\n",
    "    predicted_df = pd.read_pickle(\n",
    "    '../results/prediction/{mymodel}/{myclass}_prediction.pickle'.format(mymodel = model_iter, \n",
    "                                                                          myclass = group_dir))\n",
    "    class_validation = pd.read_pickle(\n",
    "    '../results/validation/{mymodel}/{myclass}_validation_values.pickle'.format(mymodel = model_iter, \n",
    "                                                                                myclass = group_dir))\n",
    "    validation_data = pd.read_pickle(\n",
    "    '../results/validation/{mymodel}/{myclass}_validation_set.pickle'.format(mymodel = model_iter, \n",
    "                                                                             myclass = group_dir))\n",
    "    class_df = predicted_df[predicted_df['predicted'] == group]\n",
    "    print(group, \":\", validation_data.shape[0], \",\", class_df.shape[0])\n",
    "    validation_data_count[group] = validation_data.shape[0]\n",
    "    tmp_df = class_validation.loc[class_df['srs'].values]\n",
    "    tmp_df = tmp_df.loc[~tmp_df.index.duplicated(keep = 'first')]\n",
    "    class_df['actual'] = tmp_df.loc[class_df['srs'].values]['value'].values\n",
    "    merged = pd.concat([merged, class_df], axis=0)\n",
    "    total_count = total_count + validation_data.shape[0]"
   ]
  },
  {
   "cell_type": "markdown",
   "metadata": {},
   "source": [
    "# Prediction performance"
   ]
  },
  {
   "cell_type": "markdown",
   "metadata": {},
   "source": [
    "## Covert to lower case for better comparison"
   ]
  },
  {
   "cell_type": "code",
   "execution_count": 8,
   "metadata": {
    "ExecuteTime": {
     "end_time": "2021-02-22T03:20:37.149652Z",
     "start_time": "2021-02-22T03:20:37.082405Z"
    }
   },
   "outputs": [],
   "source": [
    "merged[\"token\"] = merged[\"token\"].str.lower()\n",
    "merged[\"actual\"] = merged[\"actual\"].str.lower()"
   ]
  },
  {
   "cell_type": "markdown",
   "metadata": {},
   "source": [
    "## Overall prediction stats"
   ]
  },
  {
   "cell_type": "code",
   "execution_count": 9,
   "metadata": {
    "ExecuteTime": {
     "end_time": "2021-02-22T03:20:37.727475Z",
     "start_time": "2021-02-22T03:20:37.683530Z"
    }
   },
   "outputs": [
    {
     "name": "stdout",
     "output_type": "stream",
     "text": [
      "1954/5980 (32.68%) predicted\n"
     ]
    }
   ],
   "source": [
    "predicted_count = merged.shape[0]\n",
    "print(('%d/%d (%.2f%%) predicted' % \n",
    "       (predicted_count, total_count, predicted_count/total_count*100)))"
   ]
  },
  {
   "cell_type": "code",
   "execution_count": 10,
   "metadata": {
    "ExecuteTime": {
     "end_time": "2021-02-22T03:20:37.878970Z",
     "start_time": "2021-02-22T03:20:37.830971Z"
    }
   },
   "outputs": [
    {
     "data": {
      "text/plain": [
       "Species              855\n",
       "Strain               295\n",
       "Tissue               237\n",
       "Age                  224\n",
       "Cell type            144\n",
       "Genotype             130\n",
       "Platform              30\n",
       "Condition/Disease     23\n",
       "Data type             12\n",
       "Sex                    4\n",
       "Name: predicted, dtype: int64"
      ]
     },
     "execution_count": 10,
     "metadata": {},
     "output_type": "execute_result"
    }
   ],
   "source": [
    "merged[\"predicted\"].value_counts()"
   ]
  },
  {
   "cell_type": "code",
   "execution_count": 11,
   "metadata": {
    "ExecuteTime": {
     "end_time": "2021-02-22T03:20:39.630856Z",
     "start_time": "2021-02-22T03:20:39.589578Z"
    }
   },
   "outputs": [],
   "source": [
    "# missing_df = class_validation[~class_validation.index.isin(class_df['srs'].values)]\n",
    "# missing = validation_data[~validation_data.index.get_level_values(0).isin(class_df['srs'].values)]\n",
    "# if missing_df.shape[0] == len(missing):  # if there are not duplicate srs predictions\n",
    "#     missing_df['TITLE'] = missing.values"
   ]
  },
  {
   "cell_type": "code",
   "execution_count": 12,
   "metadata": {
    "ExecuteTime": {
     "end_time": "2021-02-22T03:20:39.773082Z",
     "start_time": "2021-02-22T03:20:39.729990Z"
    }
   },
   "outputs": [],
   "source": [
    "# missing_df.to_csv(\n",
    "#     '../results/{model}/predictions/{myclass}_missing.csv'.format(model = model_iter, myclass = predicted_class))"
   ]
  },
  {
   "cell_type": "markdown",
   "metadata": {},
   "source": [
    "## Exact matches"
   ]
  },
  {
   "cell_type": "code",
   "execution_count": 13,
   "metadata": {
    "ExecuteTime": {
     "end_time": "2021-02-22T03:20:40.087702Z",
     "start_time": "2021-02-22T03:20:40.035841Z"
    }
   },
   "outputs": [],
   "source": [
    "merged[\"exact_match\"] = merged['token'] == merged['actual']"
   ]
  },
  {
   "cell_type": "code",
   "execution_count": 14,
   "metadata": {
    "ExecuteTime": {
     "end_time": "2021-02-22T03:20:40.224315Z",
     "start_time": "2021-02-22T03:20:40.180703Z"
    }
   },
   "outputs": [
    {
     "name": "stdout",
     "output_type": "stream",
     "text": [
      "466/1954 (23.85%) exact matches\n"
     ]
    }
   ],
   "source": [
    "num_correct = merged[\"exact_match\"].sum()\n",
    "print(('%d/%d (%.2f%%) exact matches' % \n",
    "       (num_correct, predicted_count, num_correct/predicted_count*100)))"
   ]
  },
  {
   "cell_type": "code",
   "execution_count": 15,
   "metadata": {
    "ExecuteTime": {
     "end_time": "2021-02-22T03:20:40.758511Z",
     "start_time": "2021-02-22T03:20:40.686947Z"
    }
   },
   "outputs": [
    {
     "data": {
      "text/html": [
       "<div>\n",
       "<style scoped>\n",
       "    .dataframe tbody tr th:only-of-type {\n",
       "        vertical-align: middle;\n",
       "    }\n",
       "\n",
       "    .dataframe tbody tr th {\n",
       "        vertical-align: top;\n",
       "    }\n",
       "\n",
       "    .dataframe thead tr th {\n",
       "        text-align: left;\n",
       "    }\n",
       "\n",
       "    .dataframe thead tr:last-of-type th {\n",
       "        text-align: right;\n",
       "    }\n",
       "</style>\n",
       "<table border=\"1\" class=\"dataframe\">\n",
       "  <thead>\n",
       "    <tr>\n",
       "      <th></th>\n",
       "      <th colspan=\"2\" halign=\"left\">0</th>\n",
       "    </tr>\n",
       "    <tr>\n",
       "      <th>exact_match</th>\n",
       "      <th>False</th>\n",
       "      <th>True</th>\n",
       "    </tr>\n",
       "    <tr>\n",
       "      <th>predicted</th>\n",
       "      <th></th>\n",
       "      <th></th>\n",
       "    </tr>\n",
       "  </thead>\n",
       "  <tbody>\n",
       "    <tr>\n",
       "      <th>Age</th>\n",
       "      <td>186.0</td>\n",
       "      <td>38.0</td>\n",
       "    </tr>\n",
       "    <tr>\n",
       "      <th>Cell type</th>\n",
       "      <td>142.0</td>\n",
       "      <td>2.0</td>\n",
       "    </tr>\n",
       "    <tr>\n",
       "      <th>Condition/Disease</th>\n",
       "      <td>10.0</td>\n",
       "      <td>13.0</td>\n",
       "    </tr>\n",
       "    <tr>\n",
       "      <th>Data type</th>\n",
       "      <td>12.0</td>\n",
       "      <td>NaN</td>\n",
       "    </tr>\n",
       "    <tr>\n",
       "      <th>Genotype</th>\n",
       "      <td>108.0</td>\n",
       "      <td>22.0</td>\n",
       "    </tr>\n",
       "    <tr>\n",
       "      <th>Platform</th>\n",
       "      <td>30.0</td>\n",
       "      <td>NaN</td>\n",
       "    </tr>\n",
       "    <tr>\n",
       "      <th>Sex</th>\n",
       "      <td>4.0</td>\n",
       "      <td>NaN</td>\n",
       "    </tr>\n",
       "    <tr>\n",
       "      <th>Species</th>\n",
       "      <td>528.0</td>\n",
       "      <td>327.0</td>\n",
       "    </tr>\n",
       "    <tr>\n",
       "      <th>Strain</th>\n",
       "      <td>273.0</td>\n",
       "      <td>22.0</td>\n",
       "    </tr>\n",
       "    <tr>\n",
       "      <th>Tissue</th>\n",
       "      <td>195.0</td>\n",
       "      <td>42.0</td>\n",
       "    </tr>\n",
       "  </tbody>\n",
       "</table>\n",
       "</div>"
      ],
      "text/plain": [
       "                       0       \n",
       "exact_match        False  True \n",
       "predicted                      \n",
       "Age                186.0   38.0\n",
       "Cell type          142.0    2.0\n",
       "Condition/Disease   10.0   13.0\n",
       "Data type           12.0    NaN\n",
       "Genotype           108.0   22.0\n",
       "Platform            30.0    NaN\n",
       "Sex                  4.0    NaN\n",
       "Species            528.0  327.0\n",
       "Strain             273.0   22.0\n",
       "Tissue             195.0   42.0"
      ]
     },
     "execution_count": 15,
     "metadata": {},
     "output_type": "execute_result"
    }
   ],
   "source": [
    "class_exact = merged.groupby(['predicted', 'exact_match']).size().reset_index().pivot(index='predicted', \n",
    "                                                                                      columns='exact_match')\n",
    "class_exact"
   ]
  },
  {
   "cell_type": "code",
   "execution_count": 16,
   "metadata": {
    "ExecuteTime": {
     "end_time": "2021-02-22T03:20:40.831785Z",
     "start_time": "2021-02-22T03:20:40.779318Z"
    }
   },
   "outputs": [
    {
     "data": {
      "text/plain": [
       "exact_match\n",
       "False    0.404395\n",
       "True     0.531036\n",
       "Name: score, dtype: float32"
      ]
     },
     "execution_count": 16,
     "metadata": {},
     "output_type": "execute_result"
    }
   ],
   "source": [
    "merged.groupby('exact_match').mean()[\"score\"]"
   ]
  },
  {
   "cell_type": "code",
   "execution_count": 17,
   "metadata": {
    "ExecuteTime": {
     "end_time": "2021-02-22T03:20:41.321489Z",
     "start_time": "2021-02-22T03:20:40.836508Z"
    }
   },
   "outputs": [
    {
     "data": {
      "text/plain": [
       "<matplotlib.legend.Legend at 0x7f8824daa978>"
      ]
     },
     "execution_count": 17,
     "metadata": {},
     "output_type": "execute_result"
    },
    {
     "data": {
      "image/png": "[encoded data removed]",
      "text/plain": [
       "<Figure size 432x288 with 1 Axes>"
      ]
     },
     "metadata": {
      "needs_background": "light"
     },
     "output_type": "display_data"
    }
   ],
   "source": [
    "sns.distplot(merged[merged['exact_match'] == True]['score'], label='Match', kde=False)\n",
    "sns.distplot(merged[merged['exact_match'] == False]['score'], label='Non-match', kde=False)\n",
    "plt.legend(prop={'size': 12})"
   ]
  },
  {
   "cell_type": "code",
   "execution_count": 18,
   "metadata": {
    "ExecuteTime": {
     "end_time": "2021-02-22T03:20:41.364915Z",
     "start_time": "2021-02-22T03:20:41.325198Z"
    }
   },
   "outputs": [],
   "source": [
    "# exact_correct_df.to_csv(\n",
    "#     '../results/{model}/predictions/{myclass}_correct.csv'.format(model = model_iter, myclass = predicted_class))\n",
    "# exact_incorrect_df.to_csv(\n",
    "#     '../results/{model}/predictions/{myclass}_incorrect.csv'.format(model = model_iter, myclass = predicted_class))"
   ]
  },
  {
   "cell_type": "code",
   "execution_count": 19,
   "metadata": {
    "ExecuteTime": {
     "end_time": "2021-02-22T03:20:42.058639Z",
     "start_time": "2021-02-22T03:20:41.367795Z"
    }
   },
   "outputs": [
    {
     "data": {
      "image/png": "[encoded data removed]",
      "text/plain": [
       "<Figure size 432x288 with 1 Axes>"
      ]
     },
     "metadata": {
      "needs_background": "light"
     },
     "output_type": "display_data"
    }
   ],
   "source": [
    "ax = sns.violinplot(x='predicted', y='score', data=merged, hue='exact_match')"
   ]
  },
  {
   "cell_type": "markdown",
   "metadata": {},
   "source": [
    "## Contained within"
   ]
  },
  {
   "cell_type": "code",
   "execution_count": 20,
   "metadata": {
    "ExecuteTime": {
     "end_time": "2021-02-22T03:20:42.100443Z",
     "start_time": "2021-02-22T03:20:42.061850Z"
    }
   },
   "outputs": [],
   "source": [
    "def within(x):\n",
    "    if (x[\"actual\"] in x['token']) or (x['token'] in x[\"actual\"]):\n",
    "        return True\n",
    "    else:\n",
    "        return False"
   ]
  },
  {
   "cell_type": "code",
   "execution_count": 21,
   "metadata": {
    "ExecuteTime": {
     "end_time": "2021-02-22T03:20:42.303861Z",
     "start_time": "2021-02-22T03:20:42.105851Z"
    }
   },
   "outputs": [],
   "source": [
    "merged['within'] = merged.apply(within, axis=1)\n",
    "count = merged['within'].sum()"
   ]
  },
  {
   "cell_type": "code",
   "execution_count": 22,
   "metadata": {
    "ExecuteTime": {
     "end_time": "2021-02-22T03:20:42.348338Z",
     "start_time": "2021-02-22T03:20:42.307779Z"
    }
   },
   "outputs": [
    {
     "name": "stdout",
     "output_type": "stream",
     "text": [
      "1330/1954 (68.07%) of predicted contained in actual\n"
     ]
    }
   ],
   "source": [
    "print(('%d/%d (%.2f%%) of predicted contained in actual' % \n",
    "       (count, predicted_count, count/predicted_count*100)))"
   ]
  },
  {
   "cell_type": "code",
   "execution_count": 23,
   "metadata": {
    "ExecuteTime": {
     "end_time": "2021-02-22T03:20:42.656369Z",
     "start_time": "2021-02-22T03:20:42.351398Z"
    }
   },
   "outputs": [],
   "source": [
    "class_contain = merged.groupby(['predicted', 'within']).size().reset_index().pivot(index='predicted', \n",
    "                                                                                      columns='within')\n",
    "class_contain.columns = [\"non-match\", \"match\"]\n",
    "class_contain[\"fraction_match\"] = class_contain[\"match\"]/class_contain.sum(axis=1)"
   ]
  },
  {
   "cell_type": "code",
   "execution_count": 24,
   "metadata": {
    "ExecuteTime": {
     "end_time": "2021-02-22T03:20:42.710072Z",
     "start_time": "2021-02-22T03:20:42.659445Z"
    }
   },
   "outputs": [
    {
     "data": {
      "text/html": [
       "<div>\n",
       "<style scoped>\n",
       "    .dataframe tbody tr th:only-of-type {\n",
       "        vertical-align: middle;\n",
       "    }\n",
       "\n",
       "    .dataframe tbody tr th {\n",
       "        vertical-align: top;\n",
       "    }\n",
       "\n",
       "    .dataframe thead th {\n",
       "        text-align: right;\n",
       "    }\n",
       "</style>\n",
       "<table border=\"1\" class=\"dataframe\">\n",
       "  <thead>\n",
       "    <tr style=\"text-align: right;\">\n",
       "      <th></th>\n",
       "      <th>non-match</th>\n",
       "      <th>match</th>\n",
       "      <th>fraction_match</th>\n",
       "    </tr>\n",
       "    <tr>\n",
       "      <th>predicted</th>\n",
       "      <th></th>\n",
       "      <th></th>\n",
       "      <th></th>\n",
       "    </tr>\n",
       "  </thead>\n",
       "  <tbody>\n",
       "    <tr>\n",
       "      <th>Age</th>\n",
       "      <td>160.0</td>\n",
       "      <td>64.0</td>\n",
       "      <td>0.285714</td>\n",
       "    </tr>\n",
       "    <tr>\n",
       "      <th>Cell type</th>\n",
       "      <td>90.0</td>\n",
       "      <td>54.0</td>\n",
       "      <td>0.375000</td>\n",
       "    </tr>\n",
       "    <tr>\n",
       "      <th>Condition/Disease</th>\n",
       "      <td>3.0</td>\n",
       "      <td>20.0</td>\n",
       "      <td>0.869565</td>\n",
       "    </tr>\n",
       "    <tr>\n",
       "      <th>Data type</th>\n",
       "      <td>12.0</td>\n",
       "      <td>NaN</td>\n",
       "      <td>NaN</td>\n",
       "    </tr>\n",
       "    <tr>\n",
       "      <th>Genotype</th>\n",
       "      <td>80.0</td>\n",
       "      <td>50.0</td>\n",
       "      <td>0.384615</td>\n",
       "    </tr>\n",
       "    <tr>\n",
       "      <th>Platform</th>\n",
       "      <td>21.0</td>\n",
       "      <td>9.0</td>\n",
       "      <td>0.300000</td>\n",
       "    </tr>\n",
       "    <tr>\n",
       "      <th>Sex</th>\n",
       "      <td>3.0</td>\n",
       "      <td>1.0</td>\n",
       "      <td>0.250000</td>\n",
       "    </tr>\n",
       "    <tr>\n",
       "      <th>Species</th>\n",
       "      <td>95.0</td>\n",
       "      <td>760.0</td>\n",
       "      <td>0.888889</td>\n",
       "    </tr>\n",
       "    <tr>\n",
       "      <th>Strain</th>\n",
       "      <td>54.0</td>\n",
       "      <td>241.0</td>\n",
       "      <td>0.816949</td>\n",
       "    </tr>\n",
       "    <tr>\n",
       "      <th>Tissue</th>\n",
       "      <td>106.0</td>\n",
       "      <td>131.0</td>\n",
       "      <td>0.552743</td>\n",
       "    </tr>\n",
       "  </tbody>\n",
       "</table>\n",
       "</div>"
      ],
      "text/plain": [
       "                   non-match  match  fraction_match\n",
       "predicted                                          \n",
       "Age                    160.0   64.0        0.285714\n",
       "Cell type               90.0   54.0        0.375000\n",
       "Condition/Disease        3.0   20.0        0.869565\n",
       "Data type               12.0    NaN             NaN\n",
       "Genotype                80.0   50.0        0.384615\n",
       "Platform                21.0    9.0        0.300000\n",
       "Sex                      3.0    1.0        0.250000\n",
       "Species                 95.0  760.0        0.888889\n",
       "Strain                  54.0  241.0        0.816949\n",
       "Tissue                 106.0  131.0        0.552743"
      ]
     },
     "execution_count": 24,
     "metadata": {},
     "output_type": "execute_result"
    }
   ],
   "source": [
    "class_contain"
   ]
  },
  {
   "cell_type": "markdown",
   "metadata": {},
   "source": [
    "## Cosine similarity"
   ]
  },
  {
   "cell_type": "code",
   "execution_count": 25,
   "metadata": {
    "ExecuteTime": {
     "end_time": "2021-02-22T03:20:43.281973Z",
     "start_time": "2021-02-22T03:20:42.713594Z"
    }
   },
   "outputs": [],
   "source": [
    "predicted_docs = nlp.pipe(merged['token'].tolist())\n",
    "predicted_vectors = np.array([doc.vector for doc in predicted_docs])\n",
    "\n",
    "actual_docs = nlp.pipe(merged['actual'].tolist())\n",
    "actual_vectors = np.array([doc.vector for doc in actual_docs])"
   ]
  },
  {
   "cell_type": "code",
   "execution_count": 26,
   "metadata": {
    "ExecuteTime": {
     "end_time": "2021-02-22T03:20:43.780466Z",
     "start_time": "2021-02-22T03:20:43.285276Z"
    }
   },
   "outputs": [],
   "source": [
    "similarities = []\n",
    "for i in range(len(predicted_vectors)):\n",
    "    cosine_sim = cosine_similarity(predicted_vectors[i].reshape(1,200), actual_vectors[i].reshape(1,200))\n",
    "    similarities.append(float(cosine_sim))"
   ]
  },
  {
   "cell_type": "code",
   "execution_count": 27,
   "metadata": {
    "ExecuteTime": {
     "end_time": "2021-02-22T03:20:43.827940Z",
     "start_time": "2021-02-22T03:20:43.783207Z"
    },
    "cell_style": "center"
   },
   "outputs": [],
   "source": [
    "merged[\"cosine_similarity\"] = similarities"
   ]
  },
  {
   "cell_type": "code",
   "execution_count": 28,
   "metadata": {
    "ExecuteTime": {
     "end_time": "2021-02-22T03:20:44.081213Z",
     "start_time": "2021-02-22T03:20:43.832107Z"
    }
   },
   "outputs": [
    {
     "data": {
      "text/plain": [
       "(array([340.,  98.,  46.,  36.,  51.,  42.,  88., 121., 198., 934.]),\n",
       " array([-0.04997848,  0.0550194 ,  0.16001727,  0.26501514,  0.37001301,\n",
       "         0.47501088,  0.58000875,  0.68500662,  0.7900045 ,  0.89500237,\n",
       "         1.00000024]),\n",
       " <a list of 10 Patch objects>)"
      ]
     },
     "execution_count": 28,
     "metadata": {},
     "output_type": "execute_result"
    },
    {
     "data": {
      "image/png": "[encoded data removed]",
      "text/plain": [
       "<Figure size 432x288 with 1 Axes>"
      ]
     },
     "metadata": {
      "needs_background": "light"
     },
     "output_type": "display_data"
    }
   ],
   "source": [
    "plt.hist(merged['cosine_similarity'])"
   ]
  },
  {
   "cell_type": "code",
   "execution_count": 29,
   "metadata": {
    "ExecuteTime": {
     "end_time": "2021-02-22T03:20:44.125712Z",
     "start_time": "2021-02-22T03:20:44.084015Z"
    }
   },
   "outputs": [],
   "source": [
    "sim_threshold = 0.7\n",
    "merged[\"cosine_match\"] = merged['cosine_similarity'].values > sim_threshold\n",
    "num_sim = merged[\"cosine_match\"].sum()"
   ]
  },
  {
   "cell_type": "code",
   "execution_count": 30,
   "metadata": {
    "ExecuteTime": {
     "end_time": "2021-02-22T03:20:44.203965Z",
     "start_time": "2021-02-22T03:20:44.128456Z"
    },
    "scrolled": true
   },
   "outputs": [
    {
     "name": "stdout",
     "output_type": "stream",
     "text": [
      "1245/1954 (63.72%) Predicted with cosine similarity greater than 0.7\n",
      "\n"
     ]
    }
   ],
   "source": [
    "print(('%d/%d (%.2f%%) Predicted with cosine similarity greater than %.1f\\n' \n",
    "                     % (num_sim, predicted_count, num_sim/predicted_count*100, sim_threshold)))"
   ]
  },
  {
   "cell_type": "code",
   "execution_count": 31,
   "metadata": {
    "ExecuteTime": {
     "end_time": "2021-02-22T03:20:44.283810Z",
     "start_time": "2021-02-22T03:20:44.207517Z"
    }
   },
   "outputs": [],
   "source": [
    "class_cosine = merged.groupby(['predicted', 'cosine_match']).size().reset_index().pivot(index='predicted', \n",
    "                                                                                        columns='cosine_match')\n",
    "class_cosine.columns = [\"non-match\", \"match\"]\n",
    "class_cosine[\"fraction_match\"] = class_cosine[\"match\"]/class_cosine.sum(axis=1)"
   ]
  },
  {
   "cell_type": "code",
   "execution_count": 32,
   "metadata": {
    "ExecuteTime": {
     "end_time": "2021-02-22T03:20:44.346953Z",
     "start_time": "2021-02-22T03:20:44.286720Z"
    }
   },
   "outputs": [
    {
     "data": {
      "text/html": [
       "<div>\n",
       "<style scoped>\n",
       "    .dataframe tbody tr th:only-of-type {\n",
       "        vertical-align: middle;\n",
       "    }\n",
       "\n",
       "    .dataframe tbody tr th {\n",
       "        vertical-align: top;\n",
       "    }\n",
       "\n",
       "    .dataframe thead th {\n",
       "        text-align: right;\n",
       "    }\n",
       "</style>\n",
       "<table border=\"1\" class=\"dataframe\">\n",
       "  <thead>\n",
       "    <tr style=\"text-align: right;\">\n",
       "      <th></th>\n",
       "      <th>non-match</th>\n",
       "      <th>match</th>\n",
       "      <th>fraction_match</th>\n",
       "    </tr>\n",
       "    <tr>\n",
       "      <th>predicted</th>\n",
       "      <th></th>\n",
       "      <th></th>\n",
       "      <th></th>\n",
       "    </tr>\n",
       "  </thead>\n",
       "  <tbody>\n",
       "    <tr>\n",
       "      <th>Age</th>\n",
       "      <td>121.0</td>\n",
       "      <td>103.0</td>\n",
       "      <td>0.459821</td>\n",
       "    </tr>\n",
       "    <tr>\n",
       "      <th>Cell type</th>\n",
       "      <td>80.0</td>\n",
       "      <td>64.0</td>\n",
       "      <td>0.444444</td>\n",
       "    </tr>\n",
       "    <tr>\n",
       "      <th>Condition/Disease</th>\n",
       "      <td>2.0</td>\n",
       "      <td>21.0</td>\n",
       "      <td>0.913043</td>\n",
       "    </tr>\n",
       "    <tr>\n",
       "      <th>Data type</th>\n",
       "      <td>2.0</td>\n",
       "      <td>10.0</td>\n",
       "      <td>0.833333</td>\n",
       "    </tr>\n",
       "    <tr>\n",
       "      <th>Genotype</th>\n",
       "      <td>65.0</td>\n",
       "      <td>65.0</td>\n",
       "      <td>0.500000</td>\n",
       "    </tr>\n",
       "    <tr>\n",
       "      <th>Platform</th>\n",
       "      <td>19.0</td>\n",
       "      <td>11.0</td>\n",
       "      <td>0.366667</td>\n",
       "    </tr>\n",
       "    <tr>\n",
       "      <th>Sex</th>\n",
       "      <td>NaN</td>\n",
       "      <td>4.0</td>\n",
       "      <td>1.000000</td>\n",
       "    </tr>\n",
       "    <tr>\n",
       "      <th>Species</th>\n",
       "      <td>56.0</td>\n",
       "      <td>799.0</td>\n",
       "      <td>0.934503</td>\n",
       "    </tr>\n",
       "    <tr>\n",
       "      <th>Strain</th>\n",
       "      <td>269.0</td>\n",
       "      <td>26.0</td>\n",
       "      <td>0.088136</td>\n",
       "    </tr>\n",
       "    <tr>\n",
       "      <th>Tissue</th>\n",
       "      <td>95.0</td>\n",
       "      <td>142.0</td>\n",
       "      <td>0.599156</td>\n",
       "    </tr>\n",
       "  </tbody>\n",
       "</table>\n",
       "</div>"
      ],
      "text/plain": [
       "                   non-match  match  fraction_match\n",
       "predicted                                          \n",
       "Age                    121.0  103.0        0.459821\n",
       "Cell type               80.0   64.0        0.444444\n",
       "Condition/Disease        2.0   21.0        0.913043\n",
       "Data type                2.0   10.0        0.833333\n",
       "Genotype                65.0   65.0        0.500000\n",
       "Platform                19.0   11.0        0.366667\n",
       "Sex                      NaN    4.0        1.000000\n",
       "Species                 56.0  799.0        0.934503\n",
       "Strain                 269.0   26.0        0.088136\n",
       "Tissue                  95.0  142.0        0.599156"
      ]
     },
     "execution_count": 32,
     "metadata": {},
     "output_type": "execute_result"
    }
   ],
   "source": [
    "class_cosine"
   ]
  },
  {
   "cell_type": "code",
   "execution_count": 33,
   "metadata": {
    "ExecuteTime": {
     "end_time": "2021-02-22T03:20:44.415785Z",
     "start_time": "2021-02-22T03:20:44.352019Z"
    }
   },
   "outputs": [],
   "source": [
    "title_counts = pd.DataFrame(pd.Series(validation_data_count), columns=['titles'])"
   ]
  },
  {
   "cell_type": "markdown",
   "metadata": {},
   "source": [
    "## <font color='red'> Table 1 </font> accuracy of prediction"
   ]
  },
  {
   "cell_type": "code",
   "execution_count": 34,
   "metadata": {
    "ExecuteTime": {
     "end_time": "2021-02-22T03:20:44.489788Z",
     "start_time": "2021-02-22T03:20:44.418562Z"
    }
   },
   "outputs": [],
   "source": [
    "merged[\"either\"] = merged[\"within\"] | merged[\"cosine_match\"]"
   ]
  },
  {
   "cell_type": "code",
   "execution_count": 35,
   "metadata": {
    "ExecuteTime": {
     "end_time": "2021-02-22T03:20:44.568471Z",
     "start_time": "2021-02-22T03:20:44.492559Z"
    }
   },
   "outputs": [],
   "source": [
    "class_either = merged.groupby(['predicted', 'either']).size().reset_index().pivot(index='predicted', \n",
    "                                                                                        columns='either')\n",
    "class_either.columns = [\"non-match\", \"match\"]\n",
    "class_either[\"either_match\"] = class_either[\"match\"]/class_either.sum(axis=1)"
   ]
  },
  {
   "cell_type": "code",
   "execution_count": 36,
   "metadata": {
    "ExecuteTime": {
     "end_time": "2021-02-22T03:20:44.631167Z",
     "start_time": "2021-02-22T03:20:44.571535Z"
    }
   },
   "outputs": [
    {
     "data": {
      "text/html": [
       "<div>\n",
       "<style scoped>\n",
       "    .dataframe tbody tr th:only-of-type {\n",
       "        vertical-align: middle;\n",
       "    }\n",
       "\n",
       "    .dataframe tbody tr th {\n",
       "        vertical-align: top;\n",
       "    }\n",
       "\n",
       "    .dataframe thead th {\n",
       "        text-align: right;\n",
       "    }\n",
       "</style>\n",
       "<table border=\"1\" class=\"dataframe\">\n",
       "  <thead>\n",
       "    <tr style=\"text-align: right;\">\n",
       "      <th></th>\n",
       "      <th>non-match</th>\n",
       "      <th>match</th>\n",
       "      <th>either_match</th>\n",
       "    </tr>\n",
       "    <tr>\n",
       "      <th>predicted</th>\n",
       "      <th></th>\n",
       "      <th></th>\n",
       "      <th></th>\n",
       "    </tr>\n",
       "  </thead>\n",
       "  <tbody>\n",
       "    <tr>\n",
       "      <th>Age</th>\n",
       "      <td>118.0</td>\n",
       "      <td>106.0</td>\n",
       "      <td>0.473214</td>\n",
       "    </tr>\n",
       "    <tr>\n",
       "      <th>Cell type</th>\n",
       "      <td>76.0</td>\n",
       "      <td>68.0</td>\n",
       "      <td>0.472222</td>\n",
       "    </tr>\n",
       "    <tr>\n",
       "      <th>Condition/Disease</th>\n",
       "      <td>1.0</td>\n",
       "      <td>22.0</td>\n",
       "      <td>0.956522</td>\n",
       "    </tr>\n",
       "    <tr>\n",
       "      <th>Data type</th>\n",
       "      <td>2.0</td>\n",
       "      <td>10.0</td>\n",
       "      <td>0.833333</td>\n",
       "    </tr>\n",
       "    <tr>\n",
       "      <th>Genotype</th>\n",
       "      <td>49.0</td>\n",
       "      <td>81.0</td>\n",
       "      <td>0.623077</td>\n",
       "    </tr>\n",
       "    <tr>\n",
       "      <th>Platform</th>\n",
       "      <td>19.0</td>\n",
       "      <td>11.0</td>\n",
       "      <td>0.366667</td>\n",
       "    </tr>\n",
       "    <tr>\n",
       "      <th>Sex</th>\n",
       "      <td>NaN</td>\n",
       "      <td>4.0</td>\n",
       "      <td>1.000000</td>\n",
       "    </tr>\n",
       "    <tr>\n",
       "      <th>Species</th>\n",
       "      <td>44.0</td>\n",
       "      <td>811.0</td>\n",
       "      <td>0.948538</td>\n",
       "    </tr>\n",
       "    <tr>\n",
       "      <th>Strain</th>\n",
       "      <td>53.0</td>\n",
       "      <td>242.0</td>\n",
       "      <td>0.820339</td>\n",
       "    </tr>\n",
       "    <tr>\n",
       "      <th>Tissue</th>\n",
       "      <td>86.0</td>\n",
       "      <td>151.0</td>\n",
       "      <td>0.637131</td>\n",
       "    </tr>\n",
       "  </tbody>\n",
       "</table>\n",
       "</div>"
      ],
      "text/plain": [
       "                   non-match  match  either_match\n",
       "predicted                                        \n",
       "Age                    118.0  106.0      0.473214\n",
       "Cell type               76.0   68.0      0.472222\n",
       "Condition/Disease        1.0   22.0      0.956522\n",
       "Data type                2.0   10.0      0.833333\n",
       "Genotype                49.0   81.0      0.623077\n",
       "Platform                19.0   11.0      0.366667\n",
       "Sex                      NaN    4.0      1.000000\n",
       "Species                 44.0  811.0      0.948538\n",
       "Strain                  53.0  242.0      0.820339\n",
       "Tissue                  86.0  151.0      0.637131"
      ]
     },
     "execution_count": 36,
     "metadata": {},
     "output_type": "execute_result"
    }
   ],
   "source": [
    "class_either"
   ]
  },
  {
   "cell_type": "code",
   "execution_count": 37,
   "metadata": {
    "ExecuteTime": {
     "end_time": "2021-02-22T03:20:44.784490Z",
     "start_time": "2021-02-22T03:20:44.730531Z"
    }
   },
   "outputs": [],
   "source": [
    "table1 = class_cosine.merge(pd.DataFrame(merged[\"predicted\"].value_counts()), left_index=True, right_index=True)\n",
    "table1 = table1.merge(title_counts, left_index=True, right_index=True)\n",
    "table1 = table1.merge(class_contain, left_index=True, right_index=True, suffixes=['_cosine', '_contain'])\n",
    "table1 = table1.merge(class_either, left_index=True, right_index=True, suffixes=['_either', '_either'])"
   ]
  },
  {
   "cell_type": "code",
   "execution_count": 38,
   "metadata": {
    "ExecuteTime": {
     "end_time": "2021-02-22T03:20:47.481406Z",
     "start_time": "2021-02-22T03:20:47.397475Z"
    }
   },
   "outputs": [],
   "source": [
    "table1[\"fraction_predicted\"] = table1['predicted']/table1['titles']"
   ]
  },
  {
   "cell_type": "code",
   "execution_count": 39,
   "metadata": {
    "ExecuteTime": {
     "end_time": "2021-02-22T03:20:47.614747Z",
     "start_time": "2021-02-22T03:20:47.491828Z"
    }
   },
   "outputs": [],
   "source": [
    "table1 = table1[['titles', 'predicted', 'fraction_predicted', \n",
    "        'match_cosine', 'fraction_match_cosine', 'match_contain', 'fraction_match_contain', 'match', 'either_match']]"
   ]
  },
  {
   "cell_type": "code",
   "execution_count": 40,
   "metadata": {
    "ExecuteTime": {
     "end_time": "2021-02-22T03:20:48.484462Z",
     "start_time": "2021-02-22T03:20:48.341642Z"
    }
   },
   "outputs": [],
   "source": [
    "table1['percent_correct'] = table1[[\"fraction_match_cosine\", \"fraction_match_contain\"]].max(axis=1)"
   ]
  },
  {
   "cell_type": "code",
   "execution_count": 48,
   "metadata": {
    "ExecuteTime": {
     "end_time": "2021-02-22T05:40:00.580879Z",
     "start_time": "2021-02-22T05:40:00.250914Z"
    }
   },
   "outputs": [
    {
     "data": {
      "text/html": [
       "<div>\n",
       "<style scoped>\n",
       "    .dataframe tbody tr th:only-of-type {\n",
       "        vertical-align: middle;\n",
       "    }\n",
       "\n",
       "    .dataframe tbody tr th {\n",
       "        vertical-align: top;\n",
       "    }\n",
       "\n",
       "    .dataframe thead th {\n",
       "        text-align: right;\n",
       "    }\n",
       "</style>\n",
       "<table border=\"1\" class=\"dataframe\">\n",
       "  <thead>\n",
       "    <tr style=\"text-align: right;\">\n",
       "      <th></th>\n",
       "      <th>titles</th>\n",
       "      <th>predicted</th>\n",
       "      <th>fraction_predicted</th>\n",
       "      <th>match_cosine</th>\n",
       "      <th>fraction_match_cosine</th>\n",
       "      <th>match_contain</th>\n",
       "      <th>fraction_match_contain</th>\n",
       "      <th>match</th>\n",
       "      <th>either_match</th>\n",
       "      <th>percent_correct</th>\n",
       "    </tr>\n",
       "  </thead>\n",
       "  <tbody>\n",
       "    <tr>\n",
       "      <th>Age</th>\n",
       "      <td>1000</td>\n",
       "      <td>224</td>\n",
       "      <td>0.224000</td>\n",
       "      <td>103.0</td>\n",
       "      <td>0.459821</td>\n",
       "      <td>64.0</td>\n",
       "      <td>0.285714</td>\n",
       "      <td>106.0</td>\n",
       "      <td>0.473214</td>\n",
       "      <td>0.459821</td>\n",
       "    </tr>\n",
       "    <tr>\n",
       "      <th>Cell type</th>\n",
       "      <td>702</td>\n",
       "      <td>144</td>\n",
       "      <td>0.205128</td>\n",
       "      <td>64.0</td>\n",
       "      <td>0.444444</td>\n",
       "      <td>54.0</td>\n",
       "      <td>0.375000</td>\n",
       "      <td>68.0</td>\n",
       "      <td>0.472222</td>\n",
       "      <td>0.444444</td>\n",
       "    </tr>\n",
       "    <tr>\n",
       "      <th>Condition/Disease</th>\n",
       "      <td>122</td>\n",
       "      <td>23</td>\n",
       "      <td>0.188525</td>\n",
       "      <td>21.0</td>\n",
       "      <td>0.913043</td>\n",
       "      <td>20.0</td>\n",
       "      <td>0.869565</td>\n",
       "      <td>22.0</td>\n",
       "      <td>0.956522</td>\n",
       "      <td>0.913043</td>\n",
       "    </tr>\n",
       "    <tr>\n",
       "      <th>Data type</th>\n",
       "      <td>78</td>\n",
       "      <td>12</td>\n",
       "      <td>0.153846</td>\n",
       "      <td>10.0</td>\n",
       "      <td>0.833333</td>\n",
       "      <td>NaN</td>\n",
       "      <td>NaN</td>\n",
       "      <td>10.0</td>\n",
       "      <td>0.833333</td>\n",
       "      <td>0.833333</td>\n",
       "    </tr>\n",
       "    <tr>\n",
       "      <th>Genotype</th>\n",
       "      <td>595</td>\n",
       "      <td>130</td>\n",
       "      <td>0.218487</td>\n",
       "      <td>65.0</td>\n",
       "      <td>0.500000</td>\n",
       "      <td>50.0</td>\n",
       "      <td>0.384615</td>\n",
       "      <td>81.0</td>\n",
       "      <td>0.623077</td>\n",
       "      <td>0.500000</td>\n",
       "    </tr>\n",
       "    <tr>\n",
       "      <th>Platform</th>\n",
       "      <td>275</td>\n",
       "      <td>30</td>\n",
       "      <td>0.109091</td>\n",
       "      <td>11.0</td>\n",
       "      <td>0.366667</td>\n",
       "      <td>9.0</td>\n",
       "      <td>0.300000</td>\n",
       "      <td>11.0</td>\n",
       "      <td>0.366667</td>\n",
       "      <td>0.366667</td>\n",
       "    </tr>\n",
       "    <tr>\n",
       "      <th>Sex</th>\n",
       "      <td>190</td>\n",
       "      <td>4</td>\n",
       "      <td>0.021053</td>\n",
       "      <td>4.0</td>\n",
       "      <td>1.000000</td>\n",
       "      <td>1.0</td>\n",
       "      <td>0.250000</td>\n",
       "      <td>4.0</td>\n",
       "      <td>1.000000</td>\n",
       "      <td>1.000000</td>\n",
       "    </tr>\n",
       "    <tr>\n",
       "      <th>Species</th>\n",
       "      <td>1000</td>\n",
       "      <td>855</td>\n",
       "      <td>0.855000</td>\n",
       "      <td>799.0</td>\n",
       "      <td>0.934503</td>\n",
       "      <td>760.0</td>\n",
       "      <td>0.888889</td>\n",
       "      <td>811.0</td>\n",
       "      <td>0.948538</td>\n",
       "      <td>0.934503</td>\n",
       "    </tr>\n",
       "    <tr>\n",
       "      <th>Strain</th>\n",
       "      <td>1000</td>\n",
       "      <td>295</td>\n",
       "      <td>0.295000</td>\n",
       "      <td>26.0</td>\n",
       "      <td>0.088136</td>\n",
       "      <td>241.0</td>\n",
       "      <td>0.816949</td>\n",
       "      <td>242.0</td>\n",
       "      <td>0.820339</td>\n",
       "      <td>0.816949</td>\n",
       "    </tr>\n",
       "    <tr>\n",
       "      <th>Tissue</th>\n",
       "      <td>1000</td>\n",
       "      <td>237</td>\n",
       "      <td>0.237000</td>\n",
       "      <td>142.0</td>\n",
       "      <td>0.599156</td>\n",
       "      <td>131.0</td>\n",
       "      <td>0.552743</td>\n",
       "      <td>151.0</td>\n",
       "      <td>0.637131</td>\n",
       "      <td>0.599156</td>\n",
       "    </tr>\n",
       "  </tbody>\n",
       "</table>\n",
       "</div>"
      ],
      "text/plain": [
       "                   titles  predicted  fraction_predicted  match_cosine  \\\n",
       "Age                  1000        224            0.224000         103.0   \n",
       "Cell type             702        144            0.205128          64.0   \n",
       "Condition/Disease     122         23            0.188525          21.0   \n",
       "Data type              78         12            0.153846          10.0   \n",
       "Genotype              595        130            0.218487          65.0   \n",
       "Platform              275         30            0.109091          11.0   \n",
       "Sex                   190          4            0.021053           4.0   \n",
       "Species              1000        855            0.855000         799.0   \n",
       "Strain               1000        295            0.295000          26.0   \n",
       "Tissue               1000        237            0.237000         142.0   \n",
       "\n",
       "                   fraction_match_cosine  match_contain  \\\n",
       "Age                             0.459821           64.0   \n",
       "Cell type                       0.444444           54.0   \n",
       "Condition/Disease               0.913043           20.0   \n",
       "Data type                       0.833333            NaN   \n",
       "Genotype                        0.500000           50.0   \n",
       "Platform                        0.366667            9.0   \n",
       "Sex                             1.000000            1.0   \n",
       "Species                         0.934503          760.0   \n",
       "Strain                          0.088136          241.0   \n",
       "Tissue                          0.599156          131.0   \n",
       "\n",
       "                   fraction_match_contain  match  either_match  \\\n",
       "Age                              0.285714  106.0      0.473214   \n",
       "Cell type                        0.375000   68.0      0.472222   \n",
       "Condition/Disease                0.869565   22.0      0.956522   \n",
       "Data type                             NaN   10.0      0.833333   \n",
       "Genotype                         0.384615   81.0      0.623077   \n",
       "Platform                         0.300000   11.0      0.366667   \n",
       "Sex                              0.250000    4.0      1.000000   \n",
       "Species                          0.888889  811.0      0.948538   \n",
       "Strain                           0.816949  242.0      0.820339   \n",
       "Tissue                           0.552743  151.0      0.637131   \n",
       "\n",
       "                   percent_correct  \n",
       "Age                       0.459821  \n",
       "Cell type                 0.444444  \n",
       "Condition/Disease         0.913043  \n",
       "Data type                 0.833333  \n",
       "Genotype                  0.500000  \n",
       "Platform                  0.366667  \n",
       "Sex                       1.000000  \n",
       "Species                   0.934503  \n",
       "Strain                    0.816949  \n",
       "Tissue                    0.599156  "
      ]
     },
     "execution_count": 48,
     "metadata": {},
     "output_type": "execute_result"
    }
   ],
   "source": [
    "table1"
   ]
  },
  {
   "cell_type": "code",
   "execution_count": 171,
   "metadata": {
    "ExecuteTime": {
     "end_time": "2021-02-16T09:04:10.065262Z",
     "start_time": "2021-02-16T09:04:09.971683Z"
    }
   },
   "outputs": [],
   "source": [
    "table1.to_csv('../doc/revision/reviewer_3/1_grams_comment_3.csv', index=True)"
   ]
  },
  {
   "cell_type": "markdown",
   "metadata": {},
   "source": [
    "### BLEU scoring"
   ]
  },
  {
   "cell_type": "code",
   "execution_count": 153,
   "metadata": {
    "ExecuteTime": {
     "end_time": "2021-02-16T06:23:28.020886Z",
     "start_time": "2021-02-16T06:23:27.973033Z"
    }
   },
   "outputs": [],
   "source": [
    "def bleu1(x):\n",
    "    return sentence_bleu(x[\"predicted\"], x[\"actual\"], weights=(1, 0, 0, 0), smoothing_function=smoother.method1)\n",
    "\n",
    "def bleu4(x):\n",
    "    return sentence_bleu(x[\"predicted\"], x[\"actual\"], weights=(0, 0, 0, 1), smoothing_function=smoother.method1)"
   ]
  },
  {
   "cell_type": "code",
   "execution_count": 154,
   "metadata": {
    "ExecuteTime": {
     "end_time": "2021-02-16T06:23:28.424488Z",
     "start_time": "2021-02-16T06:23:28.318588Z"
    }
   },
   "outputs": [
    {
     "ename": "KeyError",
     "evalue": "('actual', 'occurred at index Age')",
     "output_type": "error",
     "traceback": [
      "\u001b[0;31m---------------------------------------------------------------------------\u001b[0m",
      "\u001b[0;31mTypeError\u001b[0m                                 Traceback (most recent call last)",
      "\u001b[0;32m~/opt/miniconda3/envs/PredictMEE_new/lib/python3.6/site-packages/pandas/core/indexes/base.py\u001b[0m in \u001b[0;36mget_value\u001b[0;34m(self, series, key)\u001b[0m\n\u001b[1;32m   3123\u001b[0m             \u001b[0;32mtry\u001b[0m\u001b[0;34m:\u001b[0m\u001b[0;34m\u001b[0m\u001b[0m\n\u001b[0;32m-> 3124\u001b[0;31m                 \u001b[0;32mreturn\u001b[0m \u001b[0mlibindex\u001b[0m\u001b[0;34m.\u001b[0m\u001b[0mget_value_box\u001b[0m\u001b[0;34m(\u001b[0m\u001b[0ms\u001b[0m\u001b[0;34m,\u001b[0m \u001b[0mkey\u001b[0m\u001b[0;34m)\u001b[0m\u001b[0;34m\u001b[0m\u001b[0m\n\u001b[0m\u001b[1;32m   3125\u001b[0m             \u001b[0;32mexcept\u001b[0m \u001b[0mIndexError\u001b[0m\u001b[0;34m:\u001b[0m\u001b[0;34m\u001b[0m\u001b[0m\n",
      "\u001b[0;32mpandas/_libs/index.pyx\u001b[0m in \u001b[0;36mpandas._libs.index.get_value_box\u001b[0;34m()\u001b[0m\n",
      "\u001b[0;32mpandas/_libs/index.pyx\u001b[0m in \u001b[0;36mpandas._libs.index.get_value_box\u001b[0;34m()\u001b[0m\n",
      "\u001b[0;31mTypeError\u001b[0m: 'str' object cannot be interpreted as an integer",
      "\nDuring handling of the above exception, another exception occurred:\n",
      "\u001b[0;31mKeyError\u001b[0m                                  Traceback (most recent call last)",
      "\u001b[0;32m<ipython-input-154-7868a9ec4465>\u001b[0m in \u001b[0;36m<module>\u001b[0;34m\u001b[0m\n\u001b[1;32m      1\u001b[0m \u001b[0msmoother\u001b[0m \u001b[0;34m=\u001b[0m \u001b[0mSmoothingFunction\u001b[0m\u001b[0;34m(\u001b[0m\u001b[0;34m)\u001b[0m\u001b[0;34m\u001b[0m\u001b[0m\n\u001b[0;32m----> 2\u001b[0;31m \u001b[0mtable1\u001b[0m\u001b[0;34m[\u001b[0m\u001b[0;34m\"BLUE1\"\u001b[0m\u001b[0;34m]\u001b[0m \u001b[0;34m=\u001b[0m \u001b[0mtable1\u001b[0m\u001b[0;34m.\u001b[0m\u001b[0mapply\u001b[0m\u001b[0;34m(\u001b[0m\u001b[0mbleu1\u001b[0m\u001b[0;34m,\u001b[0m \u001b[0maxis\u001b[0m\u001b[0;34m=\u001b[0m\u001b[0;36m1\u001b[0m\u001b[0;34m)\u001b[0m\u001b[0;34m\u001b[0m\u001b[0m\n\u001b[0m\u001b[1;32m      3\u001b[0m \u001b[0mtable1\u001b[0m\u001b[0;34m[\u001b[0m\u001b[0;34m\"BLUE4\"\u001b[0m\u001b[0;34m]\u001b[0m \u001b[0;34m=\u001b[0m \u001b[0mtable1\u001b[0m\u001b[0;34m.\u001b[0m\u001b[0mapply\u001b[0m\u001b[0;34m(\u001b[0m\u001b[0mbleu4\u001b[0m\u001b[0;34m,\u001b[0m \u001b[0maxis\u001b[0m\u001b[0;34m=\u001b[0m\u001b[0;36m1\u001b[0m\u001b[0;34m)\u001b[0m\u001b[0;34m\u001b[0m\u001b[0m\n",
      "\u001b[0;32m~/opt/miniconda3/envs/PredictMEE_new/lib/python3.6/site-packages/pandas/core/frame.py\u001b[0m in \u001b[0;36mapply\u001b[0;34m(self, func, axis, broadcast, raw, reduce, result_type, args, **kwds)\u001b[0m\n\u001b[1;32m   6012\u001b[0m                          \u001b[0margs\u001b[0m\u001b[0;34m=\u001b[0m\u001b[0margs\u001b[0m\u001b[0;34m,\u001b[0m\u001b[0;34m\u001b[0m\u001b[0m\n\u001b[1;32m   6013\u001b[0m                          kwds=kwds)\n\u001b[0;32m-> 6014\u001b[0;31m         \u001b[0;32mreturn\u001b[0m \u001b[0mop\u001b[0m\u001b[0;34m.\u001b[0m\u001b[0mget_result\u001b[0m\u001b[0;34m(\u001b[0m\u001b[0;34m)\u001b[0m\u001b[0;34m\u001b[0m\u001b[0m\n\u001b[0m\u001b[1;32m   6015\u001b[0m \u001b[0;34m\u001b[0m\u001b[0m\n\u001b[1;32m   6016\u001b[0m     \u001b[0;32mdef\u001b[0m \u001b[0mapplymap\u001b[0m\u001b[0;34m(\u001b[0m\u001b[0mself\u001b[0m\u001b[0;34m,\u001b[0m \u001b[0mfunc\u001b[0m\u001b[0;34m)\u001b[0m\u001b[0;34m:\u001b[0m\u001b[0;34m\u001b[0m\u001b[0m\n",
      "\u001b[0;32m~/opt/miniconda3/envs/PredictMEE_new/lib/python3.6/site-packages/pandas/core/apply.py\u001b[0m in \u001b[0;36mget_result\u001b[0;34m(self)\u001b[0m\n\u001b[1;32m    140\u001b[0m             \u001b[0;32mreturn\u001b[0m \u001b[0mself\u001b[0m\u001b[0;34m.\u001b[0m\u001b[0mapply_raw\u001b[0m\u001b[0;34m(\u001b[0m\u001b[0;34m)\u001b[0m\u001b[0;34m\u001b[0m\u001b[0m\n\u001b[1;32m    141\u001b[0m \u001b[0;34m\u001b[0m\u001b[0m\n\u001b[0;32m--> 142\u001b[0;31m         \u001b[0;32mreturn\u001b[0m \u001b[0mself\u001b[0m\u001b[0;34m.\u001b[0m\u001b[0mapply_standard\u001b[0m\u001b[0;34m(\u001b[0m\u001b[0;34m)\u001b[0m\u001b[0;34m\u001b[0m\u001b[0m\n\u001b[0m\u001b[1;32m    143\u001b[0m \u001b[0;34m\u001b[0m\u001b[0m\n\u001b[1;32m    144\u001b[0m     \u001b[0;32mdef\u001b[0m \u001b[0mapply_empty_result\u001b[0m\u001b[0;34m(\u001b[0m\u001b[0mself\u001b[0m\u001b[0;34m)\u001b[0m\u001b[0;34m:\u001b[0m\u001b[0;34m\u001b[0m\u001b[0m\n",
      "\u001b[0;32m~/opt/miniconda3/envs/PredictMEE_new/lib/python3.6/site-packages/pandas/core/apply.py\u001b[0m in \u001b[0;36mapply_standard\u001b[0;34m(self)\u001b[0m\n\u001b[1;32m    246\u001b[0m \u001b[0;34m\u001b[0m\u001b[0m\n\u001b[1;32m    247\u001b[0m         \u001b[0;31m# compute the result using the series generator\u001b[0m\u001b[0;34m\u001b[0m\u001b[0;34m\u001b[0m\u001b[0m\n\u001b[0;32m--> 248\u001b[0;31m         \u001b[0mself\u001b[0m\u001b[0;34m.\u001b[0m\u001b[0mapply_series_generator\u001b[0m\u001b[0;34m(\u001b[0m\u001b[0;34m)\u001b[0m\u001b[0;34m\u001b[0m\u001b[0m\n\u001b[0m\u001b[1;32m    249\u001b[0m \u001b[0;34m\u001b[0m\u001b[0m\n\u001b[1;32m    250\u001b[0m         \u001b[0;31m# wrap results\u001b[0m\u001b[0;34m\u001b[0m\u001b[0;34m\u001b[0m\u001b[0m\n",
      "\u001b[0;32m~/opt/miniconda3/envs/PredictMEE_new/lib/python3.6/site-packages/pandas/core/apply.py\u001b[0m in \u001b[0;36mapply_series_generator\u001b[0;34m(self)\u001b[0m\n\u001b[1;32m    275\u001b[0m             \u001b[0;32mtry\u001b[0m\u001b[0;34m:\u001b[0m\u001b[0;34m\u001b[0m\u001b[0m\n\u001b[1;32m    276\u001b[0m                 \u001b[0;32mfor\u001b[0m \u001b[0mi\u001b[0m\u001b[0;34m,\u001b[0m \u001b[0mv\u001b[0m \u001b[0;32min\u001b[0m \u001b[0menumerate\u001b[0m\u001b[0;34m(\u001b[0m\u001b[0mseries_gen\u001b[0m\u001b[0;34m)\u001b[0m\u001b[0;34m:\u001b[0m\u001b[0;34m\u001b[0m\u001b[0m\n\u001b[0;32m--> 277\u001b[0;31m                     \u001b[0mresults\u001b[0m\u001b[0;34m[\u001b[0m\u001b[0mi\u001b[0m\u001b[0;34m]\u001b[0m \u001b[0;34m=\u001b[0m \u001b[0mself\u001b[0m\u001b[0;34m.\u001b[0m\u001b[0mf\u001b[0m\u001b[0;34m(\u001b[0m\u001b[0mv\u001b[0m\u001b[0;34m)\u001b[0m\u001b[0;34m\u001b[0m\u001b[0m\n\u001b[0m\u001b[1;32m    278\u001b[0m                     \u001b[0mkeys\u001b[0m\u001b[0;34m.\u001b[0m\u001b[0mappend\u001b[0m\u001b[0;34m(\u001b[0m\u001b[0mv\u001b[0m\u001b[0;34m.\u001b[0m\u001b[0mname\u001b[0m\u001b[0;34m)\u001b[0m\u001b[0;34m\u001b[0m\u001b[0m\n\u001b[1;32m    279\u001b[0m             \u001b[0;32mexcept\u001b[0m \u001b[0mException\u001b[0m \u001b[0;32mas\u001b[0m \u001b[0me\u001b[0m\u001b[0;34m:\u001b[0m\u001b[0;34m\u001b[0m\u001b[0m\n",
      "\u001b[0;32m<ipython-input-153-fc258426b7a0>\u001b[0m in \u001b[0;36mbleu1\u001b[0;34m(x)\u001b[0m\n\u001b[1;32m      1\u001b[0m \u001b[0;32mdef\u001b[0m \u001b[0mbleu1\u001b[0m\u001b[0;34m(\u001b[0m\u001b[0mx\u001b[0m\u001b[0;34m)\u001b[0m\u001b[0;34m:\u001b[0m\u001b[0;34m\u001b[0m\u001b[0m\n\u001b[0;32m----> 2\u001b[0;31m     \u001b[0;32mreturn\u001b[0m \u001b[0msentence_bleu\u001b[0m\u001b[0;34m(\u001b[0m\u001b[0mx\u001b[0m\u001b[0;34m[\u001b[0m\u001b[0;34m\"predicted\"\u001b[0m\u001b[0;34m]\u001b[0m\u001b[0;34m,\u001b[0m \u001b[0mx\u001b[0m\u001b[0;34m[\u001b[0m\u001b[0;34m\"actual\"\u001b[0m\u001b[0;34m]\u001b[0m\u001b[0;34m,\u001b[0m \u001b[0mweights\u001b[0m\u001b[0;34m=\u001b[0m\u001b[0;34m(\u001b[0m\u001b[0;36m1\u001b[0m\u001b[0;34m,\u001b[0m \u001b[0;36m0\u001b[0m\u001b[0;34m,\u001b[0m \u001b[0;36m0\u001b[0m\u001b[0;34m,\u001b[0m \u001b[0;36m0\u001b[0m\u001b[0;34m)\u001b[0m\u001b[0;34m,\u001b[0m \u001b[0msmoothing_function\u001b[0m\u001b[0;34m=\u001b[0m\u001b[0msmoother\u001b[0m\u001b[0;34m.\u001b[0m\u001b[0mmethod1\u001b[0m\u001b[0;34m)\u001b[0m\u001b[0;34m\u001b[0m\u001b[0m\n\u001b[0m\u001b[1;32m      3\u001b[0m \u001b[0;34m\u001b[0m\u001b[0m\n\u001b[1;32m      4\u001b[0m \u001b[0;32mdef\u001b[0m \u001b[0mbleu4\u001b[0m\u001b[0;34m(\u001b[0m\u001b[0mx\u001b[0m\u001b[0;34m)\u001b[0m\u001b[0;34m:\u001b[0m\u001b[0;34m\u001b[0m\u001b[0m\n\u001b[1;32m      5\u001b[0m     \u001b[0;32mreturn\u001b[0m \u001b[0msentence_bleu\u001b[0m\u001b[0;34m(\u001b[0m\u001b[0mx\u001b[0m\u001b[0;34m[\u001b[0m\u001b[0;34m\"predicted\"\u001b[0m\u001b[0;34m]\u001b[0m\u001b[0;34m,\u001b[0m \u001b[0mx\u001b[0m\u001b[0;34m[\u001b[0m\u001b[0;34m\"actual\"\u001b[0m\u001b[0;34m]\u001b[0m\u001b[0;34m,\u001b[0m \u001b[0mweights\u001b[0m\u001b[0;34m=\u001b[0m\u001b[0;34m(\u001b[0m\u001b[0;36m0\u001b[0m\u001b[0;34m,\u001b[0m \u001b[0;36m0\u001b[0m\u001b[0;34m,\u001b[0m \u001b[0;36m0\u001b[0m\u001b[0;34m,\u001b[0m \u001b[0;36m1\u001b[0m\u001b[0;34m)\u001b[0m\u001b[0;34m,\u001b[0m \u001b[0msmoothing_function\u001b[0m\u001b[0;34m=\u001b[0m\u001b[0msmoother\u001b[0m\u001b[0;34m.\u001b[0m\u001b[0mmethod1\u001b[0m\u001b[0;34m)\u001b[0m\u001b[0;34m\u001b[0m\u001b[0m\n",
      "\u001b[0;32m~/opt/miniconda3/envs/PredictMEE_new/lib/python3.6/site-packages/pandas/core/series.py\u001b[0m in \u001b[0;36m__getitem__\u001b[0;34m(self, key)\u001b[0m\n\u001b[1;32m    765\u001b[0m         \u001b[0mkey\u001b[0m \u001b[0;34m=\u001b[0m \u001b[0mcom\u001b[0m\u001b[0;34m.\u001b[0m\u001b[0m_apply_if_callable\u001b[0m\u001b[0;34m(\u001b[0m\u001b[0mkey\u001b[0m\u001b[0;34m,\u001b[0m \u001b[0mself\u001b[0m\u001b[0;34m)\u001b[0m\u001b[0;34m\u001b[0m\u001b[0m\n\u001b[1;32m    766\u001b[0m         \u001b[0;32mtry\u001b[0m\u001b[0;34m:\u001b[0m\u001b[0;34m\u001b[0m\u001b[0m\n\u001b[0;32m--> 767\u001b[0;31m             \u001b[0mresult\u001b[0m \u001b[0;34m=\u001b[0m \u001b[0mself\u001b[0m\u001b[0;34m.\u001b[0m\u001b[0mindex\u001b[0m\u001b[0;34m.\u001b[0m\u001b[0mget_value\u001b[0m\u001b[0;34m(\u001b[0m\u001b[0mself\u001b[0m\u001b[0;34m,\u001b[0m \u001b[0mkey\u001b[0m\u001b[0;34m)\u001b[0m\u001b[0;34m\u001b[0m\u001b[0m\n\u001b[0m\u001b[1;32m    768\u001b[0m \u001b[0;34m\u001b[0m\u001b[0m\n\u001b[1;32m    769\u001b[0m             \u001b[0;32mif\u001b[0m \u001b[0;32mnot\u001b[0m \u001b[0mis_scalar\u001b[0m\u001b[0;34m(\u001b[0m\u001b[0mresult\u001b[0m\u001b[0;34m)\u001b[0m\u001b[0;34m:\u001b[0m\u001b[0;34m\u001b[0m\u001b[0m\n",
      "\u001b[0;32m~/opt/miniconda3/envs/PredictMEE_new/lib/python3.6/site-packages/pandas/core/indexes/base.py\u001b[0m in \u001b[0;36mget_value\u001b[0;34m(self, series, key)\u001b[0m\n\u001b[1;32m   3130\u001b[0m                     \u001b[0;32mraise\u001b[0m \u001b[0mInvalidIndexError\u001b[0m\u001b[0;34m(\u001b[0m\u001b[0mkey\u001b[0m\u001b[0;34m)\u001b[0m\u001b[0;34m\u001b[0m\u001b[0m\n\u001b[1;32m   3131\u001b[0m                 \u001b[0;32melse\u001b[0m\u001b[0;34m:\u001b[0m\u001b[0;34m\u001b[0m\u001b[0m\n\u001b[0;32m-> 3132\u001b[0;31m                     \u001b[0;32mraise\u001b[0m \u001b[0me1\u001b[0m\u001b[0;34m\u001b[0m\u001b[0m\n\u001b[0m\u001b[1;32m   3133\u001b[0m             \u001b[0;32mexcept\u001b[0m \u001b[0mException\u001b[0m\u001b[0;34m:\u001b[0m  \u001b[0;31m# pragma: no cover\u001b[0m\u001b[0;34m\u001b[0m\u001b[0m\n\u001b[1;32m   3134\u001b[0m                 \u001b[0;32mraise\u001b[0m \u001b[0me1\u001b[0m\u001b[0;34m\u001b[0m\u001b[0m\n",
      "\u001b[0;32m~/opt/miniconda3/envs/PredictMEE_new/lib/python3.6/site-packages/pandas/core/indexes/base.py\u001b[0m in \u001b[0;36mget_value\u001b[0;34m(self, series, key)\u001b[0m\n\u001b[1;32m   3116\u001b[0m         \u001b[0;32mtry\u001b[0m\u001b[0;34m:\u001b[0m\u001b[0;34m\u001b[0m\u001b[0m\n\u001b[1;32m   3117\u001b[0m             return self._engine.get_value(s, k,\n\u001b[0;32m-> 3118\u001b[0;31m                                           tz=getattr(series.dtype, 'tz', None))\n\u001b[0m\u001b[1;32m   3119\u001b[0m         \u001b[0;32mexcept\u001b[0m \u001b[0mKeyError\u001b[0m \u001b[0;32mas\u001b[0m \u001b[0me1\u001b[0m\u001b[0;34m:\u001b[0m\u001b[0;34m\u001b[0m\u001b[0m\n\u001b[1;32m   3120\u001b[0m             \u001b[0;32mif\u001b[0m \u001b[0mlen\u001b[0m\u001b[0;34m(\u001b[0m\u001b[0mself\u001b[0m\u001b[0;34m)\u001b[0m \u001b[0;34m>\u001b[0m \u001b[0;36m0\u001b[0m \u001b[0;32mand\u001b[0m \u001b[0mself\u001b[0m\u001b[0;34m.\u001b[0m\u001b[0minferred_type\u001b[0m \u001b[0;32min\u001b[0m \u001b[0;34m[\u001b[0m\u001b[0;34m'integer'\u001b[0m\u001b[0;34m,\u001b[0m \u001b[0;34m'boolean'\u001b[0m\u001b[0;34m]\u001b[0m\u001b[0;34m:\u001b[0m\u001b[0;34m\u001b[0m\u001b[0m\n",
      "\u001b[0;32mpandas/_libs/index.pyx\u001b[0m in \u001b[0;36mpandas._libs.index.IndexEngine.get_value\u001b[0;34m()\u001b[0m\n",
      "\u001b[0;32mpandas/_libs/index.pyx\u001b[0m in \u001b[0;36mpandas._libs.index.IndexEngine.get_value\u001b[0;34m()\u001b[0m\n",
      "\u001b[0;32mpandas/_libs/index.pyx\u001b[0m in \u001b[0;36mpandas._libs.index.IndexEngine.get_loc\u001b[0;34m()\u001b[0m\n",
      "\u001b[0;32mpandas/_libs/hashtable_class_helper.pxi\u001b[0m in \u001b[0;36mpandas._libs.hashtable.PyObjectHashTable.get_item\u001b[0;34m()\u001b[0m\n",
      "\u001b[0;32mpandas/_libs/hashtable_class_helper.pxi\u001b[0m in \u001b[0;36mpandas._libs.hashtable.PyObjectHashTable.get_item\u001b[0;34m()\u001b[0m\n",
      "\u001b[0;31mKeyError\u001b[0m: ('actual', 'occurred at index Age')"
     ]
    }
   ],
   "source": [
    "smoother = SmoothingFunction()\n",
    "table1[\"BLUE1\"] = table1.apply(bleu1, axis=1)\n",
    "table1[\"BLUE4\"] = table1.apply(bleu4, axis=1)"
   ]
  },
  {
   "cell_type": "markdown",
   "metadata": {},
   "source": [
    "### Levenshtein distance"
   ]
  },
  {
   "cell_type": "code",
   "execution_count": 155,
   "metadata": {
    "ExecuteTime": {
     "end_time": "2021-02-16T06:23:29.060721Z",
     "start_time": "2021-02-16T06:23:29.014092Z"
    }
   },
   "outputs": [],
   "source": [
    "def levenshtein(x):\n",
    "    return Levenshtein.distance(x[\"predicted\"], x[\"actual\"])"
   ]
  },
  {
   "cell_type": "code",
   "execution_count": 156,
   "metadata": {
    "ExecuteTime": {
     "end_time": "2021-02-16T06:23:29.368448Z",
     "start_time": "2021-02-16T06:23:29.265342Z"
    }
   },
   "outputs": [
    {
     "ename": "KeyError",
     "evalue": "('actual', 'occurred at index Age')",
     "output_type": "error",
     "traceback": [
      "\u001b[0;31m---------------------------------------------------------------------------\u001b[0m",
      "\u001b[0;31mTypeError\u001b[0m                                 Traceback (most recent call last)",
      "\u001b[0;32m~/opt/miniconda3/envs/PredictMEE_new/lib/python3.6/site-packages/pandas/core/indexes/base.py\u001b[0m in \u001b[0;36mget_value\u001b[0;34m(self, series, key)\u001b[0m\n\u001b[1;32m   3123\u001b[0m             \u001b[0;32mtry\u001b[0m\u001b[0;34m:\u001b[0m\u001b[0;34m\u001b[0m\u001b[0m\n\u001b[0;32m-> 3124\u001b[0;31m                 \u001b[0;32mreturn\u001b[0m \u001b[0mlibindex\u001b[0m\u001b[0;34m.\u001b[0m\u001b[0mget_value_box\u001b[0m\u001b[0;34m(\u001b[0m\u001b[0ms\u001b[0m\u001b[0;34m,\u001b[0m \u001b[0mkey\u001b[0m\u001b[0;34m)\u001b[0m\u001b[0;34m\u001b[0m\u001b[0m\n\u001b[0m\u001b[1;32m   3125\u001b[0m             \u001b[0;32mexcept\u001b[0m \u001b[0mIndexError\u001b[0m\u001b[0;34m:\u001b[0m\u001b[0;34m\u001b[0m\u001b[0m\n",
      "\u001b[0;32mpandas/_libs/index.pyx\u001b[0m in \u001b[0;36mpandas._libs.index.get_value_box\u001b[0;34m()\u001b[0m\n",
      "\u001b[0;32mpandas/_libs/index.pyx\u001b[0m in \u001b[0;36mpandas._libs.index.get_value_box\u001b[0;34m()\u001b[0m\n",
      "\u001b[0;31mTypeError\u001b[0m: 'str' object cannot be interpreted as an integer",
      "\nDuring handling of the above exception, another exception occurred:\n",
      "\u001b[0;31mKeyError\u001b[0m                                  Traceback (most recent call last)",
      "\u001b[0;32m<ipython-input-156-671a7017afc8>\u001b[0m in \u001b[0;36m<module>\u001b[0;34m\u001b[0m\n\u001b[0;32m----> 1\u001b[0;31m \u001b[0mtable1\u001b[0m\u001b[0;34m[\u001b[0m\u001b[0;34m\"levenshtein\"\u001b[0m\u001b[0;34m]\u001b[0m \u001b[0;34m=\u001b[0m \u001b[0mtable1\u001b[0m\u001b[0;34m.\u001b[0m\u001b[0mapply\u001b[0m\u001b[0;34m(\u001b[0m\u001b[0mlevenshtein\u001b[0m\u001b[0;34m,\u001b[0m \u001b[0maxis\u001b[0m\u001b[0;34m=\u001b[0m\u001b[0;36m1\u001b[0m\u001b[0;34m)\u001b[0m\u001b[0;34m\u001b[0m\u001b[0m\n\u001b[0m",
      "\u001b[0;32m~/opt/miniconda3/envs/PredictMEE_new/lib/python3.6/site-packages/pandas/core/frame.py\u001b[0m in \u001b[0;36mapply\u001b[0;34m(self, func, axis, broadcast, raw, reduce, result_type, args, **kwds)\u001b[0m\n\u001b[1;32m   6012\u001b[0m                          \u001b[0margs\u001b[0m\u001b[0;34m=\u001b[0m\u001b[0margs\u001b[0m\u001b[0;34m,\u001b[0m\u001b[0;34m\u001b[0m\u001b[0m\n\u001b[1;32m   6013\u001b[0m                          kwds=kwds)\n\u001b[0;32m-> 6014\u001b[0;31m         \u001b[0;32mreturn\u001b[0m \u001b[0mop\u001b[0m\u001b[0;34m.\u001b[0m\u001b[0mget_result\u001b[0m\u001b[0;34m(\u001b[0m\u001b[0;34m)\u001b[0m\u001b[0;34m\u001b[0m\u001b[0m\n\u001b[0m\u001b[1;32m   6015\u001b[0m \u001b[0;34m\u001b[0m\u001b[0m\n\u001b[1;32m   6016\u001b[0m     \u001b[0;32mdef\u001b[0m \u001b[0mapplymap\u001b[0m\u001b[0;34m(\u001b[0m\u001b[0mself\u001b[0m\u001b[0;34m,\u001b[0m \u001b[0mfunc\u001b[0m\u001b[0;34m)\u001b[0m\u001b[0;34m:\u001b[0m\u001b[0;34m\u001b[0m\u001b[0m\n",
      "\u001b[0;32m~/opt/miniconda3/envs/PredictMEE_new/lib/python3.6/site-packages/pandas/core/apply.py\u001b[0m in \u001b[0;36mget_result\u001b[0;34m(self)\u001b[0m\n\u001b[1;32m    140\u001b[0m             \u001b[0;32mreturn\u001b[0m \u001b[0mself\u001b[0m\u001b[0;34m.\u001b[0m\u001b[0mapply_raw\u001b[0m\u001b[0;34m(\u001b[0m\u001b[0;34m)\u001b[0m\u001b[0;34m\u001b[0m\u001b[0m\n\u001b[1;32m    141\u001b[0m \u001b[0;34m\u001b[0m\u001b[0m\n\u001b[0;32m--> 142\u001b[0;31m         \u001b[0;32mreturn\u001b[0m \u001b[0mself\u001b[0m\u001b[0;34m.\u001b[0m\u001b[0mapply_standard\u001b[0m\u001b[0;34m(\u001b[0m\u001b[0;34m)\u001b[0m\u001b[0;34m\u001b[0m\u001b[0m\n\u001b[0m\u001b[1;32m    143\u001b[0m \u001b[0;34m\u001b[0m\u001b[0m\n\u001b[1;32m    144\u001b[0m     \u001b[0;32mdef\u001b[0m \u001b[0mapply_empty_result\u001b[0m\u001b[0;34m(\u001b[0m\u001b[0mself\u001b[0m\u001b[0;34m)\u001b[0m\u001b[0;34m:\u001b[0m\u001b[0;34m\u001b[0m\u001b[0m\n",
      "\u001b[0;32m~/opt/miniconda3/envs/PredictMEE_new/lib/python3.6/site-packages/pandas/core/apply.py\u001b[0m in \u001b[0;36mapply_standard\u001b[0;34m(self)\u001b[0m\n\u001b[1;32m    246\u001b[0m \u001b[0;34m\u001b[0m\u001b[0m\n\u001b[1;32m    247\u001b[0m         \u001b[0;31m# compute the result using the series generator\u001b[0m\u001b[0;34m\u001b[0m\u001b[0;34m\u001b[0m\u001b[0m\n\u001b[0;32m--> 248\u001b[0;31m         \u001b[0mself\u001b[0m\u001b[0;34m.\u001b[0m\u001b[0mapply_series_generator\u001b[0m\u001b[0;34m(\u001b[0m\u001b[0;34m)\u001b[0m\u001b[0;34m\u001b[0m\u001b[0m\n\u001b[0m\u001b[1;32m    249\u001b[0m \u001b[0;34m\u001b[0m\u001b[0m\n\u001b[1;32m    250\u001b[0m         \u001b[0;31m# wrap results\u001b[0m\u001b[0;34m\u001b[0m\u001b[0;34m\u001b[0m\u001b[0m\n",
      "\u001b[0;32m~/opt/miniconda3/envs/PredictMEE_new/lib/python3.6/site-packages/pandas/core/apply.py\u001b[0m in \u001b[0;36mapply_series_generator\u001b[0;34m(self)\u001b[0m\n\u001b[1;32m    275\u001b[0m             \u001b[0;32mtry\u001b[0m\u001b[0;34m:\u001b[0m\u001b[0;34m\u001b[0m\u001b[0m\n\u001b[1;32m    276\u001b[0m                 \u001b[0;32mfor\u001b[0m \u001b[0mi\u001b[0m\u001b[0;34m,\u001b[0m \u001b[0mv\u001b[0m \u001b[0;32min\u001b[0m \u001b[0menumerate\u001b[0m\u001b[0;34m(\u001b[0m\u001b[0mseries_gen\u001b[0m\u001b[0;34m)\u001b[0m\u001b[0;34m:\u001b[0m\u001b[0;34m\u001b[0m\u001b[0m\n\u001b[0;32m--> 277\u001b[0;31m                     \u001b[0mresults\u001b[0m\u001b[0;34m[\u001b[0m\u001b[0mi\u001b[0m\u001b[0;34m]\u001b[0m \u001b[0;34m=\u001b[0m \u001b[0mself\u001b[0m\u001b[0;34m.\u001b[0m\u001b[0mf\u001b[0m\u001b[0;34m(\u001b[0m\u001b[0mv\u001b[0m\u001b[0;34m)\u001b[0m\u001b[0;34m\u001b[0m\u001b[0m\n\u001b[0m\u001b[1;32m    278\u001b[0m                     \u001b[0mkeys\u001b[0m\u001b[0;34m.\u001b[0m\u001b[0mappend\u001b[0m\u001b[0;34m(\u001b[0m\u001b[0mv\u001b[0m\u001b[0;34m.\u001b[0m\u001b[0mname\u001b[0m\u001b[0;34m)\u001b[0m\u001b[0;34m\u001b[0m\u001b[0m\n\u001b[1;32m    279\u001b[0m             \u001b[0;32mexcept\u001b[0m \u001b[0mException\u001b[0m \u001b[0;32mas\u001b[0m \u001b[0me\u001b[0m\u001b[0;34m:\u001b[0m\u001b[0;34m\u001b[0m\u001b[0m\n",
      "\u001b[0;32m<ipython-input-155-5d7be487ae39>\u001b[0m in \u001b[0;36mlevenshtein\u001b[0;34m(x)\u001b[0m\n\u001b[1;32m      1\u001b[0m \u001b[0;32mdef\u001b[0m \u001b[0mlevenshtein\u001b[0m\u001b[0;34m(\u001b[0m\u001b[0mx\u001b[0m\u001b[0;34m)\u001b[0m\u001b[0;34m:\u001b[0m\u001b[0;34m\u001b[0m\u001b[0m\n\u001b[0;32m----> 2\u001b[0;31m     \u001b[0;32mreturn\u001b[0m \u001b[0mLevenshtein\u001b[0m\u001b[0;34m.\u001b[0m\u001b[0mdistance\u001b[0m\u001b[0;34m(\u001b[0m\u001b[0mx\u001b[0m\u001b[0;34m[\u001b[0m\u001b[0;34m\"predicted\"\u001b[0m\u001b[0;34m]\u001b[0m\u001b[0;34m,\u001b[0m \u001b[0mx\u001b[0m\u001b[0;34m[\u001b[0m\u001b[0;34m\"actual\"\u001b[0m\u001b[0;34m]\u001b[0m\u001b[0;34m)\u001b[0m\u001b[0;34m\u001b[0m\u001b[0m\n\u001b[0m",
      "\u001b[0;32m~/opt/miniconda3/envs/PredictMEE_new/lib/python3.6/site-packages/pandas/core/series.py\u001b[0m in \u001b[0;36m__getitem__\u001b[0;34m(self, key)\u001b[0m\n\u001b[1;32m    765\u001b[0m         \u001b[0mkey\u001b[0m \u001b[0;34m=\u001b[0m \u001b[0mcom\u001b[0m\u001b[0;34m.\u001b[0m\u001b[0m_apply_if_callable\u001b[0m\u001b[0;34m(\u001b[0m\u001b[0mkey\u001b[0m\u001b[0;34m,\u001b[0m \u001b[0mself\u001b[0m\u001b[0;34m)\u001b[0m\u001b[0;34m\u001b[0m\u001b[0m\n\u001b[1;32m    766\u001b[0m         \u001b[0;32mtry\u001b[0m\u001b[0;34m:\u001b[0m\u001b[0;34m\u001b[0m\u001b[0m\n\u001b[0;32m--> 767\u001b[0;31m             \u001b[0mresult\u001b[0m \u001b[0;34m=\u001b[0m \u001b[0mself\u001b[0m\u001b[0;34m.\u001b[0m\u001b[0mindex\u001b[0m\u001b[0;34m.\u001b[0m\u001b[0mget_value\u001b[0m\u001b[0;34m(\u001b[0m\u001b[0mself\u001b[0m\u001b[0;34m,\u001b[0m \u001b[0mkey\u001b[0m\u001b[0;34m)\u001b[0m\u001b[0;34m\u001b[0m\u001b[0m\n\u001b[0m\u001b[1;32m    768\u001b[0m \u001b[0;34m\u001b[0m\u001b[0m\n\u001b[1;32m    769\u001b[0m             \u001b[0;32mif\u001b[0m \u001b[0;32mnot\u001b[0m \u001b[0mis_scalar\u001b[0m\u001b[0;34m(\u001b[0m\u001b[0mresult\u001b[0m\u001b[0;34m)\u001b[0m\u001b[0;34m:\u001b[0m\u001b[0;34m\u001b[0m\u001b[0m\n",
      "\u001b[0;32m~/opt/miniconda3/envs/PredictMEE_new/lib/python3.6/site-packages/pandas/core/indexes/base.py\u001b[0m in \u001b[0;36mget_value\u001b[0;34m(self, series, key)\u001b[0m\n\u001b[1;32m   3130\u001b[0m                     \u001b[0;32mraise\u001b[0m \u001b[0mInvalidIndexError\u001b[0m\u001b[0;34m(\u001b[0m\u001b[0mkey\u001b[0m\u001b[0;34m)\u001b[0m\u001b[0;34m\u001b[0m\u001b[0m\n\u001b[1;32m   3131\u001b[0m                 \u001b[0;32melse\u001b[0m\u001b[0;34m:\u001b[0m\u001b[0;34m\u001b[0m\u001b[0m\n\u001b[0;32m-> 3132\u001b[0;31m                     \u001b[0;32mraise\u001b[0m \u001b[0me1\u001b[0m\u001b[0;34m\u001b[0m\u001b[0m\n\u001b[0m\u001b[1;32m   3133\u001b[0m             \u001b[0;32mexcept\u001b[0m \u001b[0mException\u001b[0m\u001b[0;34m:\u001b[0m  \u001b[0;31m# pragma: no cover\u001b[0m\u001b[0;34m\u001b[0m\u001b[0m\n\u001b[1;32m   3134\u001b[0m                 \u001b[0;32mraise\u001b[0m \u001b[0me1\u001b[0m\u001b[0;34m\u001b[0m\u001b[0m\n",
      "\u001b[0;32m~/opt/miniconda3/envs/PredictMEE_new/lib/python3.6/site-packages/pandas/core/indexes/base.py\u001b[0m in \u001b[0;36mget_value\u001b[0;34m(self, series, key)\u001b[0m\n\u001b[1;32m   3116\u001b[0m         \u001b[0;32mtry\u001b[0m\u001b[0;34m:\u001b[0m\u001b[0;34m\u001b[0m\u001b[0m\n\u001b[1;32m   3117\u001b[0m             return self._engine.get_value(s, k,\n\u001b[0;32m-> 3118\u001b[0;31m                                           tz=getattr(series.dtype, 'tz', None))\n\u001b[0m\u001b[1;32m   3119\u001b[0m         \u001b[0;32mexcept\u001b[0m \u001b[0mKeyError\u001b[0m \u001b[0;32mas\u001b[0m \u001b[0me1\u001b[0m\u001b[0;34m:\u001b[0m\u001b[0;34m\u001b[0m\u001b[0m\n\u001b[1;32m   3120\u001b[0m             \u001b[0;32mif\u001b[0m \u001b[0mlen\u001b[0m\u001b[0;34m(\u001b[0m\u001b[0mself\u001b[0m\u001b[0;34m)\u001b[0m \u001b[0;34m>\u001b[0m \u001b[0;36m0\u001b[0m \u001b[0;32mand\u001b[0m \u001b[0mself\u001b[0m\u001b[0;34m.\u001b[0m\u001b[0minferred_type\u001b[0m \u001b[0;32min\u001b[0m \u001b[0;34m[\u001b[0m\u001b[0;34m'integer'\u001b[0m\u001b[0;34m,\u001b[0m \u001b[0;34m'boolean'\u001b[0m\u001b[0;34m]\u001b[0m\u001b[0;34m:\u001b[0m\u001b[0;34m\u001b[0m\u001b[0m\n",
      "\u001b[0;32mpandas/_libs/index.pyx\u001b[0m in \u001b[0;36mpandas._libs.index.IndexEngine.get_value\u001b[0;34m()\u001b[0m\n",
      "\u001b[0;32mpandas/_libs/index.pyx\u001b[0m in \u001b[0;36mpandas._libs.index.IndexEngine.get_value\u001b[0;34m()\u001b[0m\n",
      "\u001b[0;32mpandas/_libs/index.pyx\u001b[0m in \u001b[0;36mpandas._libs.index.IndexEngine.get_loc\u001b[0;34m()\u001b[0m\n",
      "\u001b[0;32mpandas/_libs/hashtable_class_helper.pxi\u001b[0m in \u001b[0;36mpandas._libs.hashtable.PyObjectHashTable.get_item\u001b[0;34m()\u001b[0m\n",
      "\u001b[0;32mpandas/_libs/hashtable_class_helper.pxi\u001b[0m in \u001b[0;36mpandas._libs.hashtable.PyObjectHashTable.get_item\u001b[0;34m()\u001b[0m\n",
      "\u001b[0;31mKeyError\u001b[0m: ('actual', 'occurred at index Age')"
     ]
    }
   ],
   "source": [
    "table1[\"levenshtein\"] = table1.apply(levenshtein, axis=1)"
   ]
  },
  {
   "cell_type": "markdown",
   "metadata": {},
   "source": [
    "# Examples of misses?"
   ]
  },
  {
   "cell_type": "code",
   "execution_count": 50,
   "metadata": {
    "ExecuteTime": {
     "end_time": "2021-02-22T05:41:26.671724Z",
     "start_time": "2021-02-22T05:41:26.627103Z"
    }
   },
   "outputs": [],
   "source": [
    "missed = merged[~merged[\"either\"]]\n",
    "missed_df = missed[[\"predicted\", \"orig_text\",\"recovered_txt\", \"actual\"]]"
   ]
  },
  {
   "cell_type": "code",
   "execution_count": 51,
   "metadata": {
    "ExecuteTime": {
     "end_time": "2021-02-22T05:41:27.366008Z",
     "start_time": "2021-02-22T05:41:27.229669Z"
    }
   },
   "outputs": [],
   "source": [
    "missed_df.to_csv('../doc/tables/Supplementary/revision/Supp_Table3.csv')"
   ]
  },
  {
   "cell_type": "code",
   "execution_count": 60,
   "metadata": {
    "ExecuteTime": {
     "end_time": "2021-02-22T05:42:54.839911Z",
     "start_time": "2021-02-22T05:42:54.791767Z"
    }
   },
   "outputs": [
    {
     "data": {
      "text/plain": [
       "217"
      ]
     },
     "execution_count": 60,
     "metadata": {},
     "output_type": "execute_result"
    }
   ],
   "source": [
    "((missed_df.actual.str.count(\" \") + 1) == 1).sum()"
   ]
  },
  {
   "cell_type": "code",
   "execution_count": 61,
   "metadata": {
    "ExecuteTime": {
     "end_time": "2021-02-22T05:42:59.787272Z",
     "start_time": "2021-02-22T05:42:59.715228Z"
    }
   },
   "outputs": [
    {
     "data": {
      "text/html": [
       "<div>\n",
       "<style scoped>\n",
       "    .dataframe tbody tr th:only-of-type {\n",
       "        vertical-align: middle;\n",
       "    }\n",
       "\n",
       "    .dataframe tbody tr th {\n",
       "        vertical-align: top;\n",
       "    }\n",
       "\n",
       "    .dataframe thead th {\n",
       "        text-align: right;\n",
       "    }\n",
       "</style>\n",
       "<table border=\"1\" class=\"dataframe\">\n",
       "  <thead>\n",
       "    <tr style=\"text-align: right;\">\n",
       "      <th></th>\n",
       "      <th>predicted</th>\n",
       "      <th>orig_text</th>\n",
       "      <th>recovered_txt</th>\n",
       "      <th>actual</th>\n",
       "    </tr>\n",
       "  </thead>\n",
       "  <tbody>\n",
       "    <tr>\n",
       "      <th>2544</th>\n",
       "      <td>Species</td>\n",
       "      <td>32% Streptococcus mutans UA159 69</td>\n",
       "      <td>Streptococcus mutans</td>\n",
       "      <td>mixed sample</td>\n",
       "    </tr>\n",
       "    <tr>\n",
       "      <th>2536</th>\n",
       "      <td>Species</td>\n",
       "      <td>68% Lactobacillus casei 4646</td>\n",
       "      <td>Lactobacillus casei</td>\n",
       "      <td>mixed sample</td>\n",
       "    </tr>\n",
       "    <tr>\n",
       "      <th>2535</th>\n",
       "      <td>Species</td>\n",
       "      <td>A cucumber genomic variation map reveals impac...</td>\n",
       "      <td>A cucumber</td>\n",
       "      <td>cucumis sativus</td>\n",
       "    </tr>\n",
       "    <tr>\n",
       "      <th>2403</th>\n",
       "      <td>Species</td>\n",
       "      <td>Bulk soils compared rhizosphere communities pl...</td>\n",
       "      <td>Saxifraga oppositifolia</td>\n",
       "      <td>unidentified bacterium</td>\n",
       "    </tr>\n",
       "    <tr>\n",
       "      <th>2400</th>\n",
       "      <td>Species</td>\n",
       "      <td>CBo1 isolated gut Bactrocera oleae</td>\n",
       "      <td>Bactrocera oleae</td>\n",
       "      <td>chryseobacterium sp. 113(2015)</td>\n",
       "    </tr>\n",
       "    <tr>\n",
       "      <th>2256</th>\n",
       "      <td>Species</td>\n",
       "      <td>Endophytic isolate branches Citrus sinensis</td>\n",
       "      <td>Citrus sinensis</td>\n",
       "      <td>curtobacterium sp. er1/6</td>\n",
       "    </tr>\n",
       "    <tr>\n",
       "      <th>2245</th>\n",
       "      <td>Species</td>\n",
       "      <td>Environmental/Metagenome sample subarctic root...</td>\n",
       "      <td>subarctic root</td>\n",
       "      <td>fungi</td>\n",
       "    </tr>\n",
       "    <tr>\n",
       "      <th>2066</th>\n",
       "      <td>Species</td>\n",
       "      <td>Generic sample Fusobacterium nucleatum</td>\n",
       "      <td>Fusobacterium nucleatum</td>\n",
       "      <td>fusobacterium phage funu1</td>\n",
       "    </tr>\n",
       "    <tr>\n",
       "      <th>2051</th>\n",
       "      <td>Species</td>\n",
       "      <td>Generic sample Homo sapiens respiratory syncyt...</td>\n",
       "      <td>Homo sapiens</td>\n",
       "      <td>human orthopneumovirus</td>\n",
       "    </tr>\n",
       "    <tr>\n",
       "      <th>2023</th>\n",
       "      <td>Species</td>\n",
       "      <td>Generic sample Mimulus guttatus</td>\n",
       "      <td>Mimulus guttatus</td>\n",
       "      <td>erythranthe guttata</td>\n",
       "    </tr>\n",
       "    <tr>\n",
       "      <th>1658</th>\n",
       "      <td>Species</td>\n",
       "      <td>Human respiratory syncytial virus</td>\n",
       "      <td>syncytial virus</td>\n",
       "      <td>human orthopneumovirus</td>\n",
       "    </tr>\n",
       "    <tr>\n",
       "      <th>1655</th>\n",
       "      <td>Species</td>\n",
       "      <td>Hyphomicrobium facile subsp</td>\n",
       "      <td>facile subsp</td>\n",
       "      <td>hyphomicrobium facile</td>\n",
       "    </tr>\n",
       "    <tr>\n",
       "      <th>1620</th>\n",
       "      <td>Species</td>\n",
       "      <td>Ip394_Japanese crested ibis (founder E)</td>\n",
       "      <td>Ip394_Japanese crested ibis</td>\n",
       "      <td>nipponia nippon</td>\n",
       "    </tr>\n",
       "    <tr>\n",
       "      <th>1607</th>\n",
       "      <td>Species</td>\n",
       "      <td>Lathyrus pratensis clone 275 reared Lathyrus p...</td>\n",
       "      <td>Lathyrus pratensis</td>\n",
       "      <td>acyrthosiphon pisum</td>\n",
       "    </tr>\n",
       "    <tr>\n",
       "      <th>1533</th>\n",
       "      <td>Species</td>\n",
       "      <td>MIMARKS Survey related sample Borrelia burgdor...</td>\n",
       "      <td>Borrelia burgdorferi</td>\n",
       "      <td>borrelia sp. s07cg098</td>\n",
       "    </tr>\n",
       "    <tr>\n",
       "      <th>1531</th>\n",
       "      <td>Species</td>\n",
       "      <td>MIMARKS Survey related sample Borrelia burgdor...</td>\n",
       "      <td>Borrelia burgdorferi</td>\n",
       "      <td>borrelia sp. s07as020</td>\n",
       "    </tr>\n",
       "    <tr>\n",
       "      <th>1532</th>\n",
       "      <td>Species</td>\n",
       "      <td>MIMARKS Survey related sample Borrelia burgdor...</td>\n",
       "      <td>Borrelia burgdorferi</td>\n",
       "      <td>borrelia sp. s10cg023</td>\n",
       "    </tr>\n",
       "    <tr>\n",
       "      <th>1534</th>\n",
       "      <td>Species</td>\n",
       "      <td>MIMARKS Survey related sample Borrelia burgdor...</td>\n",
       "      <td>Borrelia burgdorferi</td>\n",
       "      <td>borrelia sp. s08cg103</td>\n",
       "    </tr>\n",
       "    <tr>\n",
       "      <th>1512</th>\n",
       "      <td>Species</td>\n",
       "      <td>Medicago truncatula</td>\n",
       "      <td>Medicago truncatula</td>\n",
       "      <td>mixed culture</td>\n",
       "    </tr>\n",
       "    <tr>\n",
       "      <th>1421</th>\n",
       "      <td>Species</td>\n",
       "      <td>Mycobacterium lepromatosis red squirrel M1960/...</td>\n",
       "      <td>squirrel M1960/270411</td>\n",
       "      <td>mycobacterium lepromatosis</td>\n",
       "    </tr>\n",
       "    <tr>\n",
       "      <th>1301</th>\n",
       "      <td>Species</td>\n",
       "      <td>Phylogenomic characterization causative strain...</td>\n",
       "      <td>characterization causative</td>\n",
       "      <td>legionella pneumophila</td>\n",
       "    </tr>\n",
       "    <tr>\n",
       "      <th>1271</th>\n",
       "      <td>Species</td>\n",
       "      <td>Picea engelmannii cultivated The Arboretum Hor...</td>\n",
       "      <td>Picea engelmannii</td>\n",
       "      <td>populus tremula</td>\n",
       "    </tr>\n",
       "    <tr>\n",
       "      <th>1245</th>\n",
       "      <td>Species</td>\n",
       "      <td>Plant DNA metabarcoding data uncleaned surface...</td>\n",
       "      <td>subfossil tree</td>\n",
       "      <td>pinus sylvestris</td>\n",
       "    </tr>\n",
       "    <tr>\n",
       "      <th>1244</th>\n",
       "      <td>Species</td>\n",
       "      <td>Plant DNA metabarcoding data uncleaned surface...</td>\n",
       "      <td>subfossil tree</td>\n",
       "      <td>pinus sylvestris</td>\n",
       "    </tr>\n",
       "    <tr>\n",
       "      <th>1243</th>\n",
       "      <td>Species</td>\n",
       "      <td>Plant DNA metabarcoding data uncleaned surface...</td>\n",
       "      <td>subfossil tree</td>\n",
       "      <td>pinus sylvestris</td>\n",
       "    </tr>\n",
       "    <tr>\n",
       "      <th>1123</th>\n",
       "      <td>Species</td>\n",
       "      <td>Root tissue samples Caladium hortulanum (MissM...</td>\n",
       "      <td>Caladium hortulanum</td>\n",
       "      <td>caladium bicolor</td>\n",
       "    </tr>\n",
       "    <tr>\n",
       "      <th>1117</th>\n",
       "      <td>Species</td>\n",
       "      <td>SYNE2/ESR2A CALM1 loci Clupea pallisii PH3</td>\n",
       "      <td>Clupea pallisii</td>\n",
       "      <td>clupea pallasii</td>\n",
       "    </tr>\n",
       "    <tr>\n",
       "      <th>1112</th>\n",
       "      <td>Species</td>\n",
       "      <td>SYNE2/ESR2A CALM1 loci Clupea pallisii PH5</td>\n",
       "      <td>Clupea pallisii</td>\n",
       "      <td>clupea pallasii</td>\n",
       "    </tr>\n",
       "    <tr>\n",
       "      <th>812</th>\n",
       "      <td>Species</td>\n",
       "      <td>Small RNAs Miscanthus rhizomes</td>\n",
       "      <td>Miscanthus rhizomes</td>\n",
       "      <td>miscanthus x giganteus</td>\n",
       "    </tr>\n",
       "    <tr>\n",
       "      <th>791</th>\n",
       "      <td>Species</td>\n",
       "      <td>Stable isotope probing targeting methane-utili...</td>\n",
       "      <td>arctic lake</td>\n",
       "      <td>bacteria</td>\n",
       "    </tr>\n",
       "    <tr>\n",
       "      <th>...</th>\n",
       "      <td>...</td>\n",
       "      <td>...</td>\n",
       "      <td>...</td>\n",
       "      <td>...</td>\n",
       "    </tr>\n",
       "    <tr>\n",
       "      <th>261</th>\n",
       "      <td>Age</td>\n",
       "      <td>Vaginal microbiota associated preterm delivery</td>\n",
       "      <td>preterm delivery</td>\n",
       "      <td>31</td>\n",
       "    </tr>\n",
       "    <tr>\n",
       "      <th>262</th>\n",
       "      <td>Age</td>\n",
       "      <td>Vaginal microbiota associated preterm delivery</td>\n",
       "      <td>preterm delivery</td>\n",
       "      <td>21</td>\n",
       "    </tr>\n",
       "    <tr>\n",
       "      <th>187</th>\n",
       "      <td>Age</td>\n",
       "      <td>Zeitgeber Time 00</td>\n",
       "      <td>Zeitgeber Time</td>\n",
       "      <td>3 weeks</td>\n",
       "    </tr>\n",
       "    <tr>\n",
       "      <th>185</th>\n",
       "      <td>Age</td>\n",
       "      <td>Zeitgeber Time 18</td>\n",
       "      <td>Zeitgeber Time</td>\n",
       "      <td>5 weeks</td>\n",
       "    </tr>\n",
       "    <tr>\n",
       "      <th>176</th>\n",
       "      <td>Age</td>\n",
       "      <td>bisulfite treated genomic DNA old sun exposed ...</td>\n",
       "      <td>old sun</td>\n",
       "      <td>83</td>\n",
       "    </tr>\n",
       "    <tr>\n",
       "      <th>164</th>\n",
       "      <td>Age</td>\n",
       "      <td>cinerea B9 different inoculation time treatments</td>\n",
       "      <td>time treatments</td>\n",
       "      <td>1 year</td>\n",
       "    </tr>\n",
       "    <tr>\n",
       "      <th>130</th>\n",
       "      <td>Age</td>\n",
       "      <td>five 5w old individuals (male)</td>\n",
       "      <td>5w old</td>\n",
       "      <td>5 week</td>\n",
       "    </tr>\n",
       "    <tr>\n",
       "      <th>12</th>\n",
       "      <td>Age</td>\n",
       "      <td>time point 2</td>\n",
       "      <td>time point</td>\n",
       "      <td>65.397</td>\n",
       "    </tr>\n",
       "    <tr>\n",
       "      <th>2</th>\n",
       "      <td>Age</td>\n",
       "      <td>zebrafish normal developmental age 72hpf contr...</td>\n",
       "      <td>developmental age</td>\n",
       "      <td>72 hpf£¨hour post fertilization£©</td>\n",
       "    </tr>\n",
       "    <tr>\n",
       "      <th>222</th>\n",
       "      <td>Data type</td>\n",
       "      <td>Non-tumor DNA sample human male participant db...</td>\n",
       "      <td>Exome Sequencing Chronic</td>\n",
       "      <td>snv aggregate (.maf)</td>\n",
       "    </tr>\n",
       "    <tr>\n",
       "      <th>39</th>\n",
       "      <td>Data type</td>\n",
       "      <td>Tumor DNA sample human male participant dbGaP ...</td>\n",
       "      <td>Exome Sequencing Chronic</td>\n",
       "      <td>snv aggregate (.maf)</td>\n",
       "    </tr>\n",
       "    <tr>\n",
       "      <th>633</th>\n",
       "      <td>Platform</td>\n",
       "      <td>16S rDNA amplicon patient 11</td>\n",
       "      <td>16S rDNA amplicon</td>\n",
       "      <td>454</td>\n",
       "    </tr>\n",
       "    <tr>\n",
       "      <th>629</th>\n",
       "      <td>Platform</td>\n",
       "      <td>16S rDNA amplicon patient 5</td>\n",
       "      <td>16S rDNA amplicon</td>\n",
       "      <td>454</td>\n",
       "    </tr>\n",
       "    <tr>\n",
       "      <th>625</th>\n",
       "      <td>Platform</td>\n",
       "      <td>16S rRNA control root 3</td>\n",
       "      <td>16S rRNA</td>\n",
       "      <td>ion torrent</td>\n",
       "    </tr>\n",
       "    <tr>\n",
       "      <th>623</th>\n",
       "      <td>Platform</td>\n",
       "      <td>16S rRNA mycorrhiza leaf 1</td>\n",
       "      <td>16S rRNA</td>\n",
       "      <td>ion torrent</td>\n",
       "    </tr>\n",
       "    <tr>\n",
       "      <th>619</th>\n",
       "      <td>Platform</td>\n",
       "      <td>16S rRNA sequences fecal bacterial community C...</td>\n",
       "      <td>16S rRNA</td>\n",
       "      <td>454 gs flx</td>\n",
       "    </tr>\n",
       "    <tr>\n",
       "      <th>363</th>\n",
       "      <td>Platform</td>\n",
       "      <td>Mouse fecal sample VLP-purification 454 Sequen...</td>\n",
       "      <td>454 Sequencing</td>\n",
       "      <td>454 flx titanium</td>\n",
       "    </tr>\n",
       "    <tr>\n",
       "      <th>364</th>\n",
       "      <td>Platform</td>\n",
       "      <td>Mouse fecal sample VLP-purification 454 Sequen...</td>\n",
       "      <td>454 Sequencing</td>\n",
       "      <td>454 flx titanium</td>\n",
       "    </tr>\n",
       "    <tr>\n",
       "      <th>278</th>\n",
       "      <td>Platform</td>\n",
       "      <td>Pyrosequencing 16S rRNA amplicons pig gastroin...</td>\n",
       "      <td>Pyrosequencing 16S rRNA amplicons</td>\n",
       "      <td>pyrosequncing</td>\n",
       "    </tr>\n",
       "    <tr>\n",
       "      <th>280</th>\n",
       "      <td>Platform</td>\n",
       "      <td>Pyrosequencing 16S rRNA amplicons pig gastroin...</td>\n",
       "      <td>Pyrosequencing 16S rRNA amplicons</td>\n",
       "      <td>pyrosequncing</td>\n",
       "    </tr>\n",
       "    <tr>\n",
       "      <th>279</th>\n",
       "      <td>Platform</td>\n",
       "      <td>Pyrosequencing 16S rRNA amplicons pig gastroin...</td>\n",
       "      <td>Pyrosequencing 16S rRNA amplicons</td>\n",
       "      <td>pyrosequncing</td>\n",
       "    </tr>\n",
       "    <tr>\n",
       "      <th>120</th>\n",
       "      <td>Platform</td>\n",
       "      <td>SAG SCGC_AB-704-M06 partial SSU rRNA gene</td>\n",
       "      <td>SSU rRNA</td>\n",
       "      <td>sanger</td>\n",
       "    </tr>\n",
       "    <tr>\n",
       "      <th>117</th>\n",
       "      <td>Platform</td>\n",
       "      <td>SAG SCGC_AB-704-N13 partial SSU rRNA gene</td>\n",
       "      <td>SSU rRNA</td>\n",
       "      <td>sanger</td>\n",
       "    </tr>\n",
       "    <tr>\n",
       "      <th>114</th>\n",
       "      <td>Platform</td>\n",
       "      <td>SAG SCGC_AB-706-C03 partial SSU rRNA gene</td>\n",
       "      <td>SSU rRNA</td>\n",
       "      <td>sanger</td>\n",
       "    </tr>\n",
       "    <tr>\n",
       "      <th>111</th>\n",
       "      <td>Platform</td>\n",
       "      <td>SAG SCGC_AB-706-E02 partial SSU rRNA gene</td>\n",
       "      <td>SSU rRNA</td>\n",
       "      <td>sanger</td>\n",
       "    </tr>\n",
       "    <tr>\n",
       "      <th>108</th>\n",
       "      <td>Platform</td>\n",
       "      <td>SAG SCGC_AB-706-E13 partial SSU rRNA gene</td>\n",
       "      <td>SSU rRNA</td>\n",
       "      <td>sanger</td>\n",
       "    </tr>\n",
       "    <tr>\n",
       "      <th>105</th>\n",
       "      <td>Platform</td>\n",
       "      <td>SAG SCGC_AB-706-E22 partial SSU rRNA gene</td>\n",
       "      <td>SSU rRNA</td>\n",
       "      <td>sanger</td>\n",
       "    </tr>\n",
       "    <tr>\n",
       "      <th>102</th>\n",
       "      <td>Platform</td>\n",
       "      <td>SAG SCGC_AB-706-F21 partial SSU rRNA gene</td>\n",
       "      <td>SSU rRNA</td>\n",
       "      <td>sanger</td>\n",
       "    </tr>\n",
       "    <tr>\n",
       "      <th>99</th>\n",
       "      <td>Platform</td>\n",
       "      <td>SAG SCGC_AB-706-K06 partial SSU rRNA gene</td>\n",
       "      <td>SSU rRNA</td>\n",
       "      <td>sanger</td>\n",
       "    </tr>\n",
       "    <tr>\n",
       "      <th>96</th>\n",
       "      <td>Platform</td>\n",
       "      <td>SAG SCGC_AB-706-M02 partial SSU rRNA gene</td>\n",
       "      <td>SSU rRNA</td>\n",
       "      <td>sanger</td>\n",
       "    </tr>\n",
       "  </tbody>\n",
       "</table>\n",
       "<p>448 rows × 4 columns</p>\n",
       "</div>"
      ],
      "text/plain": [
       "      predicted                                          orig_text  \\\n",
       "2544    Species                  32% Streptococcus mutans UA159 69   \n",
       "2536    Species                       68% Lactobacillus casei 4646   \n",
       "2535    Species  A cucumber genomic variation map reveals impac...   \n",
       "2403    Species  Bulk soils compared rhizosphere communities pl...   \n",
       "2400    Species                 CBo1 isolated gut Bactrocera oleae   \n",
       "2256    Species        Endophytic isolate branches Citrus sinensis   \n",
       "2245    Species  Environmental/Metagenome sample subarctic root...   \n",
       "2066    Species             Generic sample Fusobacterium nucleatum   \n",
       "2051    Species  Generic sample Homo sapiens respiratory syncyt...   \n",
       "2023    Species                    Generic sample Mimulus guttatus   \n",
       "1658    Species                  Human respiratory syncytial virus   \n",
       "1655    Species                        Hyphomicrobium facile subsp   \n",
       "1620    Species            Ip394_Japanese crested ibis (founder E)   \n",
       "1607    Species  Lathyrus pratensis clone 275 reared Lathyrus p...   \n",
       "1533    Species  MIMARKS Survey related sample Borrelia burgdor...   \n",
       "1531    Species  MIMARKS Survey related sample Borrelia burgdor...   \n",
       "1532    Species  MIMARKS Survey related sample Borrelia burgdor...   \n",
       "1534    Species  MIMARKS Survey related sample Borrelia burgdor...   \n",
       "1512    Species                                Medicago truncatula   \n",
       "1421    Species  Mycobacterium lepromatosis red squirrel M1960/...   \n",
       "1301    Species  Phylogenomic characterization causative strain...   \n",
       "1271    Species  Picea engelmannii cultivated The Arboretum Hor...   \n",
       "1245    Species  Plant DNA metabarcoding data uncleaned surface...   \n",
       "1244    Species  Plant DNA metabarcoding data uncleaned surface...   \n",
       "1243    Species  Plant DNA metabarcoding data uncleaned surface...   \n",
       "1123    Species  Root tissue samples Caladium hortulanum (MissM...   \n",
       "1117    Species         SYNE2/ESR2A CALM1 loci Clupea pallisii PH3   \n",
       "1112    Species         SYNE2/ESR2A CALM1 loci Clupea pallisii PH5   \n",
       "812     Species                     Small RNAs Miscanthus rhizomes   \n",
       "791     Species  Stable isotope probing targeting methane-utili...   \n",
       "...         ...                                                ...   \n",
       "261         Age     Vaginal microbiota associated preterm delivery   \n",
       "262         Age     Vaginal microbiota associated preterm delivery   \n",
       "187         Age                                  Zeitgeber Time 00   \n",
       "185         Age                                  Zeitgeber Time 18   \n",
       "176         Age  bisulfite treated genomic DNA old sun exposed ...   \n",
       "164         Age   cinerea B9 different inoculation time treatments   \n",
       "130         Age                     five 5w old individuals (male)   \n",
       "12          Age                                       time point 2   \n",
       "2           Age  zebrafish normal developmental age 72hpf contr...   \n",
       "222   Data type  Non-tumor DNA sample human male participant db...   \n",
       "39    Data type  Tumor DNA sample human male participant dbGaP ...   \n",
       "633    Platform                       16S rDNA amplicon patient 11   \n",
       "629    Platform                        16S rDNA amplicon patient 5   \n",
       "625    Platform                            16S rRNA control root 3   \n",
       "623    Platform                         16S rRNA mycorrhiza leaf 1   \n",
       "619    Platform  16S rRNA sequences fecal bacterial community C...   \n",
       "363    Platform  Mouse fecal sample VLP-purification 454 Sequen...   \n",
       "364    Platform  Mouse fecal sample VLP-purification 454 Sequen...   \n",
       "278    Platform  Pyrosequencing 16S rRNA amplicons pig gastroin...   \n",
       "280    Platform  Pyrosequencing 16S rRNA amplicons pig gastroin...   \n",
       "279    Platform  Pyrosequencing 16S rRNA amplicons pig gastroin...   \n",
       "120    Platform          SAG SCGC_AB-704-M06 partial SSU rRNA gene   \n",
       "117    Platform          SAG SCGC_AB-704-N13 partial SSU rRNA gene   \n",
       "114    Platform          SAG SCGC_AB-706-C03 partial SSU rRNA gene   \n",
       "111    Platform          SAG SCGC_AB-706-E02 partial SSU rRNA gene   \n",
       "108    Platform          SAG SCGC_AB-706-E13 partial SSU rRNA gene   \n",
       "105    Platform          SAG SCGC_AB-706-E22 partial SSU rRNA gene   \n",
       "102    Platform          SAG SCGC_AB-706-F21 partial SSU rRNA gene   \n",
       "99     Platform          SAG SCGC_AB-706-K06 partial SSU rRNA gene   \n",
       "96     Platform          SAG SCGC_AB-706-M02 partial SSU rRNA gene   \n",
       "\n",
       "                          recovered_txt                             actual  \n",
       "2544               Streptococcus mutans                       mixed sample  \n",
       "2536                Lactobacillus casei                       mixed sample  \n",
       "2535                         A cucumber                    cucumis sativus  \n",
       "2403            Saxifraga oppositifolia             unidentified bacterium  \n",
       "2400                   Bactrocera oleae     chryseobacterium sp. 113(2015)  \n",
       "2256                    Citrus sinensis           curtobacterium sp. er1/6  \n",
       "2245                     subarctic root                              fungi  \n",
       "2066            Fusobacterium nucleatum          fusobacterium phage funu1  \n",
       "2051                       Homo sapiens             human orthopneumovirus  \n",
       "2023                   Mimulus guttatus                erythranthe guttata  \n",
       "1658                    syncytial virus             human orthopneumovirus  \n",
       "1655                       facile subsp              hyphomicrobium facile  \n",
       "1620        Ip394_Japanese crested ibis                    nipponia nippon  \n",
       "1607                 Lathyrus pratensis                acyrthosiphon pisum  \n",
       "1533               Borrelia burgdorferi              borrelia sp. s07cg098  \n",
       "1531               Borrelia burgdorferi              borrelia sp. s07as020  \n",
       "1532               Borrelia burgdorferi              borrelia sp. s10cg023  \n",
       "1534               Borrelia burgdorferi              borrelia sp. s08cg103  \n",
       "1512                Medicago truncatula                      mixed culture  \n",
       "1421              squirrel M1960/270411         mycobacterium lepromatosis  \n",
       "1301         characterization causative             legionella pneumophila  \n",
       "1271                  Picea engelmannii                    populus tremula  \n",
       "1245                     subfossil tree                   pinus sylvestris  \n",
       "1244                     subfossil tree                   pinus sylvestris  \n",
       "1243                     subfossil tree                   pinus sylvestris  \n",
       "1123                Caladium hortulanum                   caladium bicolor  \n",
       "1117                    Clupea pallisii                    clupea pallasii  \n",
       "1112                    Clupea pallisii                    clupea pallasii  \n",
       "812                 Miscanthus rhizomes             miscanthus x giganteus  \n",
       "791                         arctic lake                           bacteria  \n",
       "...                                 ...                                ...  \n",
       "261                    preterm delivery                                 31  \n",
       "262                    preterm delivery                                 21  \n",
       "187                      Zeitgeber Time                            3 weeks  \n",
       "185                      Zeitgeber Time                            5 weeks  \n",
       "176                             old sun                                 83  \n",
       "164                     time treatments                             1 year  \n",
       "130                              5w old                             5 week  \n",
       "12                           time point                             65.397  \n",
       "2                     developmental age  72 hpf£¨hour post fertilization£©  \n",
       "222            Exome Sequencing Chronic               snv aggregate (.maf)  \n",
       "39             Exome Sequencing Chronic               snv aggregate (.maf)  \n",
       "633                   16S rDNA amplicon                                454  \n",
       "629                   16S rDNA amplicon                                454  \n",
       "625                            16S rRNA                        ion torrent  \n",
       "623                            16S rRNA                        ion torrent  \n",
       "619                            16S rRNA                         454 gs flx  \n",
       "363                      454 Sequencing                   454 flx titanium  \n",
       "364                      454 Sequencing                   454 flx titanium  \n",
       "278   Pyrosequencing 16S rRNA amplicons                      pyrosequncing  \n",
       "280   Pyrosequencing 16S rRNA amplicons                      pyrosequncing  \n",
       "279   Pyrosequencing 16S rRNA amplicons                      pyrosequncing  \n",
       "120                            SSU rRNA                             sanger  \n",
       "117                            SSU rRNA                             sanger  \n",
       "114                            SSU rRNA                             sanger  \n",
       "111                            SSU rRNA                             sanger  \n",
       "108                            SSU rRNA                             sanger  \n",
       "105                            SSU rRNA                             sanger  \n",
       "102                            SSU rRNA                             sanger  \n",
       "99                             SSU rRNA                             sanger  \n",
       "96                             SSU rRNA                             sanger  \n",
       "\n",
       "[448 rows x 4 columns]"
      ]
     },
     "execution_count": 61,
     "metadata": {},
     "output_type": "execute_result"
    }
   ],
   "source": [
    "missed_df"
   ]
  },
  {
   "cell_type": "code",
   "execution_count": null,
   "metadata": {},
   "outputs": [],
   "source": []
  }
 ],
 "metadata": {
  "kernelspec": {
   "display_name": "py3_PredictMEE",
   "language": "python",
   "name": "predictmee"
  },
  "language_info": {
   "codemirror_mode": {
    "name": "ipython",
    "version": 3
   },
   "file_extension": ".py",
   "mimetype": "text/x-python",
   "name": "python",
   "nbconvert_exporter": "python",
   "pygments_lexer": "ipython3",
   "version": "3.6.6"
  },
  "toc": {
   "base_numbering": 1,
   "nav_menu": {},
   "number_sections": true,
   "sideBar": true,
   "skip_h1_title": false,
   "title_cell": "Table of Contents",
   "title_sidebar": "Contents",
   "toc_cell": true,
   "toc_position": {},
   "toc_section_display": true,
   "toc_window_display": true
  }
 },
 "nbformat": 4,
 "nbformat_minor": 2
}
