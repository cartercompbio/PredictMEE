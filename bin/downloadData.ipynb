{
 "cells": [
  {
   "cell_type": "markdown",
   "metadata": {
    "toc": true
   },
   "source": [
    "<h1>Table of Contents<span class=\"tocSkip\"></span></h1>\n",
    "<div class=\"toc\"><ul class=\"toc-item\"><li><span><a href=\"#Metadata-download\" data-toc-modified-id=\"Metadata-download-1\"><span class=\"toc-item-num\">1&nbsp;&nbsp;</span>Metadata download</a></span></li><li><span><a href=\"#SRA\" data-toc-modified-id=\"SRA-2\"><span class=\"toc-item-num\">2&nbsp;&nbsp;</span>SRA</a></span><ul class=\"toc-item\"><li><span><a href=\"#Import-needed-packages\" data-toc-modified-id=\"Import-needed-packages-2.1\"><span class=\"toc-item-num\">2.1&nbsp;&nbsp;</span>Import needed packages</a></span></li><li><span><a href=\"#Download-per-sample-metadata-from-NCBI-FTP-using-previously-parsed-for-now,-will-need-to-write-code-to-parse\" data-toc-modified-id=\"Download-per-sample-metadata-from-NCBI-FTP-using-previously-parsed-for-now,-will-need-to-write-code-to-parse-2.2\"><span class=\"toc-item-num\">2.2&nbsp;&nbsp;</span>Download per sample metadata from <a href=\"https://ftp.ncbi.nlm.nih.gov/sra/reports/Metadata/\" target=\"_blank\">NCBI FTP</a> <font color=\"red\">using previously parsed for now, will need to write code to parse</font></a></span></li><li><span><a href=\"#Sample-and-study-technical-metadata-need-to-find-where-this-is-hiding\" data-toc-modified-id=\"Sample-and-study-technical-metadata-need-to-find-where-this-is-hiding-2.3\"><span class=\"toc-item-num\">2.3&nbsp;&nbsp;</span>Sample and study technical metadata <font color=\"red\">need to find where this is hiding</font></a></span></li><li><span><a href=\"#Download-BioSample-attribute-definitions\" data-toc-modified-id=\"Download-BioSample-attribute-definitions-2.4\"><span class=\"toc-item-num\">2.4&nbsp;&nbsp;</span>Download BioSample <a href=\"https://www.ncbi.nlm.nih.gov/biosample/docs/attributes/\" target=\"_blank\">attribute definitions</a></a></span></li></ul></li><li><span><a href=\"#Qiita\" data-toc-modified-id=\"Qiita-3\"><span class=\"toc-item-num\">3&nbsp;&nbsp;</span>Qiita</a></span><ul class=\"toc-item\"><li><span><a href=\"#Download-metadata-from-Qiita\" data-toc-modified-id=\"Download-metadata-from-Qiita-3.1\"><span class=\"toc-item-num\">3.1&nbsp;&nbsp;</span>Download metadata from Qiita</a></span></li><li><span><a href=\"#Save-lists-of-Study-IDs-from-downloaded-file-names\" data-toc-modified-id=\"Save-lists-of-Study-IDs-from-downloaded-file-names-3.2\"><span class=\"toc-item-num\">3.2&nbsp;&nbsp;</span>Save lists of Study IDs from downloaded file names</a></span></li><li><span><a href=\"#Pull-out-the-metadata-from-groups-of-studies-and-save-as-pickle-objects\" data-toc-modified-id=\"Pull-out-the-metadata-from-groups-of-studies-and-save-as-pickle-objects-3.3\"><span class=\"toc-item-num\">3.3&nbsp;&nbsp;</span>Pull out the metadata from groups of studies and save as pickle objects</a></span></li><li><span><a href=\"#Combine-the-attribute-value-pairs-from-each-group-into-a-final-dataframe-and-save\" data-toc-modified-id=\"Combine-the-attribute-value-pairs-from-each-group-into-a-final-dataframe-and-save-3.4\"><span class=\"toc-item-num\">3.4&nbsp;&nbsp;</span>Combine the attribute-value pairs from each group into a final dataframe and save</a></span></li></ul></li><li><span><a href=\"#Word-vector-model\" data-toc-modified-id=\"Word-vector-model-4\"><span class=\"toc-item-num\">4&nbsp;&nbsp;</span>Word vector model</a></span></li></ul></div>"
   ]
  },
  {
   "cell_type": "markdown",
   "metadata": {
    "heading_collapsed": true
   },
   "source": [
    "# Metadata download\n",
    "Adam Klie<br>\n",
    "11/23/2019<br>\n",
    "Updated 08/24/2020<br>\n",
    "Script to download relevant data for building, training and testing metadata prediction models"
   ]
  },
  {
   "cell_type": "markdown",
   "metadata": {
    "heading_collapsed": true
   },
   "source": [
    "# SRA"
   ]
  },
  {
   "cell_type": "markdown",
   "metadata": {
    "heading_collapsed": true,
    "hidden": true
   },
   "source": [
    "## Import needed packages"
   ]
  },
  {
   "cell_type": "code",
   "execution_count": 25,
   "metadata": {
    "ExecuteTime": {
     "end_time": "2020-08-25T06:25:49.113588Z",
     "start_time": "2020-08-25T06:25:48.897530Z"
    },
    "hidden": true
   },
   "outputs": [],
   "source": [
    "import xml.etree.ElementTree as ET\n",
    "import pandas as pd\n",
    "import ipywidgets as widgets\n",
    "from IPython.display import IFrame\n",
    "import qgrid\n",
    "import tqdm\n",
    "import os\n",
    "import glob\n",
    "import random\n",
    "\n",
    "# Autoreload extension\n",
    "if 'autoreload' not in get_ipython().extension_manager.loaded:\n",
    "    %load_ext autoreload\n",
    "    \n",
    "%autoreload 2"
   ]
  },
  {
   "cell_type": "markdown",
   "metadata": {
    "heading_collapsed": true,
    "hidden": true
   },
   "source": [
    "## Download per sample metadata from [NCBI FTP](https://ftp.ncbi.nlm.nih.gov/sra/reports/Metadata/) <font color='red'>using previously parsed for now, will need to write code to parse</font>"
   ]
  },
  {
   "cell_type": "code",
   "execution_count": 26,
   "metadata": {
    "ExecuteTime": {
     "end_time": "2020-08-25T06:25:52.823659Z",
     "start_time": "2020-08-25T06:25:52.796932Z"
    },
    "hidden": true
   },
   "outputs": [
    {
     "data": {
      "text/html": [
       "\n",
       "        <iframe\n",
       "            width=\"800\"\n",
       "            height=\"450\"\n",
       "            src=\"https://ftp.ncbi.nlm.nih.gov/sra/reports/Metadata/\"\n",
       "            frameborder=\"0\"\n",
       "            allowfullscreen\n",
       "        ></iframe>\n",
       "        "
      ],
      "text/plain": [
       "<IPython.lib.display.IFrame at 0x7f208b2f2080>"
      ]
     },
     "execution_count": 26,
     "metadata": {},
     "output_type": "execute_result"
    }
   ],
   "source": [
    "IFrame('https://ftp.ncbi.nlm.nih.gov/sra/reports/Metadata/', width=800, height=450)"
   ]
  },
  {
   "cell_type": "code",
   "execution_count": 27,
   "metadata": {
    "ExecuteTime": {
     "end_time": "2020-08-25T06:25:52.996751Z",
     "start_time": "2020-08-25T06:25:52.967486Z"
    },
    "hidden": true
   },
   "outputs": [],
   "source": [
    "#!wget -O ../data/sra/NCBI_SRA_Metadata_20181202.tar.gz https://ftp.ncbi.nlm.nih.gov/sra/reports/Metadata/NCBI_SRA_Metadata_20181202.tar.gz"
   ]
  },
  {
   "cell_type": "code",
   "execution_count": 28,
   "metadata": {
    "ExecuteTime": {
     "end_time": "2020-08-25T06:25:53.174730Z",
     "start_time": "2020-08-25T06:25:53.147939Z"
    },
    "hidden": true
   },
   "outputs": [],
   "source": [
    "#!tar -vxzf ../data/NCBI_SRA_Metadata_20181202.tar.gz\n",
    "#sra_raw = pd.read_json('../data/NCBI_SRA_Metadata_20181202')"
   ]
  },
  {
   "cell_type": "markdown",
   "metadata": {
    "heading_collapsed": true,
    "hidden": true
   },
   "source": [
    "## Sample and study technical metadata <font color='red'>need to find where this is hiding</font>"
   ]
  },
  {
   "cell_type": "markdown",
   "metadata": {
    "heading_collapsed": true,
    "hidden": true
   },
   "source": [
    "## Download BioSample [attribute definitions](https://www.ncbi.nlm.nih.gov/biosample/docs/attributes/)"
   ]
  },
  {
   "cell_type": "code",
   "execution_count": 29,
   "metadata": {
    "ExecuteTime": {
     "end_time": "2020-08-25T06:26:04.333781Z",
     "start_time": "2020-08-25T06:26:04.302651Z"
    },
    "hidden": true
   },
   "outputs": [
    {
     "data": {
      "text/html": [
       "\n",
       "        <iframe\n",
       "            width=\"800\"\n",
       "            height=\"500\"\n",
       "            src=\"https://www.ncbi.nlm.nih.gov/biosample/docs/attributes/\"\n",
       "            frameborder=\"0\"\n",
       "            allowfullscreen\n",
       "        ></iframe>\n",
       "        "
      ],
      "text/plain": [
       "<IPython.lib.display.IFrame at 0x7f208acff630>"
      ]
     },
     "execution_count": 29,
     "metadata": {},
     "output_type": "execute_result"
    }
   ],
   "source": [
    "IFrame('https://www.ncbi.nlm.nih.gov/biosample/docs/attributes/', width=800, height=500)"
   ]
  },
  {
   "cell_type": "code",
   "execution_count": 30,
   "metadata": {
    "ExecuteTime": {
     "end_time": "2020-08-25T06:26:04.839044Z",
     "start_time": "2020-08-25T06:26:04.814176Z"
    },
    "hidden": true
   },
   "outputs": [],
   "source": [
    "#!wget -O ../data/BioSampleAttributes.xml https://www.ncbi.nlm.nih.gov/biosample/docs/attributes/?format=xml"
   ]
  },
  {
   "cell_type": "code",
   "execution_count": 31,
   "metadata": {
    "ExecuteTime": {
     "end_time": "2020-08-25T06:26:05.024347Z",
     "start_time": "2020-08-25T06:26:05.001169Z"
    },
    "cell_style": "center",
    "hidden": true
   },
   "outputs": [],
   "source": [
    "def parseXML(xmlfile):\n",
    "  \n",
    "    # create element tree object\n",
    "    tree = ET.parse(xmlfile)\n",
    "  \n",
    "    # get root element\n",
    "    root = tree.getroot()\n",
    "    \n",
    "    # create empty list for news items\n",
    "    attribute_df = pd.DataFrame()\n",
    "  \n",
    "    # iterate news items\n",
    "    for item in root.findall('./Attribute'):\n",
    "        \n",
    "        # empty news dictionary\n",
    "        attribute = {}\n",
    "  \n",
    "        # iterate child elements of item\n",
    "        for child in item:\n",
    "            attribute[child.tag] = child.text\n",
    "            \n",
    "        # append news dictionary to news items list\n",
    "        attribute_df = attribute_df.append(attribute, ignore_index = True)\n",
    "      \n",
    "    # return news items list\n",
    "    return attribute_df"
   ]
  },
  {
   "cell_type": "code",
   "execution_count": 32,
   "metadata": {
    "ExecuteTime": {
     "end_time": "2020-08-25T06:26:07.799773Z",
     "start_time": "2020-08-25T06:26:05.254487Z"
    },
    "hidden": true
   },
   "outputs": [],
   "source": [
    "df = parseXML('../data/sra/BioSampleAttributes.xml').set_index('Name')"
   ]
  },
  {
   "cell_type": "code",
   "execution_count": 33,
   "metadata": {
    "ExecuteTime": {
     "end_time": "2020-08-25T06:26:11.691926Z",
     "start_time": "2020-08-25T06:26:11.525103Z"
    },
    "hidden": true
   },
   "outputs": [],
   "source": [
    "qgrid_widget = qgrid.show_grid(df, show_toolbar=True)"
   ]
  },
  {
   "cell_type": "code",
   "execution_count": 34,
   "metadata": {
    "ExecuteTime": {
     "end_time": "2020-08-25T06:26:19.535917Z",
     "start_time": "2020-08-25T06:26:19.502651Z"
    },
    "hidden": true
   },
   "outputs": [
    {
     "data": {
      "application/vnd.jupyter.widget-view+json": {
       "model_id": "7417d91a4f524548bbb6d0bf9c73df2f",
       "version_major": 2,
       "version_minor": 0
      },
      "text/plain": [
       "QgridWidget(grid_options={'fullWidthRows': True, 'syncColumnCellResize': True, 'forceFitColumns': True, 'defau…"
      ]
     },
     "metadata": {},
     "output_type": "display_data"
    }
   ],
   "source": [
    "qgrid_widget"
   ]
  },
  {
   "cell_type": "code",
   "execution_count": 35,
   "metadata": {
    "ExecuteTime": {
     "end_time": "2020-08-25T06:27:23.762701Z",
     "start_time": "2020-08-25T06:27:23.508981Z"
    },
    "hidden": true
   },
   "outputs": [],
   "source": [
    "df.to_pickle('../data/sra/BioSampleAttributes.pickle')"
   ]
  },
  {
   "cell_type": "markdown",
   "metadata": {
    "heading_collapsed": true
   },
   "source": [
    "# Qiita"
   ]
  },
  {
   "cell_type": "markdown",
   "metadata": {
    "heading_collapsed": true,
    "hidden": true
   },
   "source": [
    "## Download metadata from Qiita "
   ]
  },
  {
   "cell_type": "markdown",
   "metadata": {
    "hidden": true
   },
   "source": [
    "Start by going to the [Qiita website](https://qiita.ucsd.edu/), selecting the \"More Info\" drop down and selecting the \"Download public BIOM and metadata files\" option."
   ]
  },
  {
   "cell_type": "code",
   "execution_count": 36,
   "metadata": {
    "ExecuteTime": {
     "end_time": "2020-08-25T06:28:57.981261Z",
     "start_time": "2020-08-25T06:28:57.762681Z"
    },
    "hidden": true
   },
   "outputs": [
    {
     "data": {
      "text/html": [
       "\n",
       "        <iframe\n",
       "            width=\"800\"\n",
       "            height=\"500\"\n",
       "            src=\"https://qiita.ucsd.edu/\"\n",
       "            frameborder=\"0\"\n",
       "            allowfullscreen\n",
       "        ></iframe>\n",
       "        "
      ],
      "text/plain": [
       "<IPython.lib.display.IFrame at 0x7f20f8262cf8>"
      ]
     },
     "execution_count": 36,
     "metadata": {},
     "output_type": "execute_result"
    }
   ],
   "source": [
    "IFrame('https://qiita.ucsd.edu/', width=800, height=500)"
   ]
  },
  {
   "cell_type": "markdown",
   "metadata": {
    "heading_collapsed": true,
    "hidden": true
   },
   "source": [
    "## Save lists of Study IDs from downloaded file names"
   ]
  },
  {
   "cell_type": "code",
   "execution_count": 2,
   "metadata": {
    "ExecuteTime": {
     "end_time": "2020-08-25T05:49:05.792771Z",
     "start_time": "2020-08-25T05:49:05.760595Z"
    },
    "hidden": true
   },
   "outputs": [],
   "source": [
    "file_ids = list(set([file_id.split(\"_\")[0] for file_id in os.listdir(\"../data/qiita/download/\")]))"
   ]
  },
  {
   "cell_type": "code",
   "execution_count": 3,
   "metadata": {
    "ExecuteTime": {
     "end_time": "2020-08-25T05:49:06.537608Z",
     "start_time": "2020-08-25T05:49:06.510119Z"
    },
    "hidden": true
   },
   "outputs": [],
   "source": [
    "random.shuffle(file_ids)"
   ]
  },
  {
   "cell_type": "code",
   "execution_count": 4,
   "metadata": {
    "ExecuteTime": {
     "end_time": "2020-08-25T05:49:08.607213Z",
     "start_time": "2020-08-25T05:49:08.579498Z"
    },
    "hidden": true
   },
   "outputs": [],
   "source": [
    "id_groups = [file_ids[i:i + 20] for i in range(0, len(file_ids), 20)]"
   ]
  },
  {
   "cell_type": "code",
   "execution_count": 5,
   "metadata": {
    "ExecuteTime": {
     "end_time": "2020-08-25T05:49:10.048929Z",
     "start_time": "2020-08-25T05:49:09.380513Z"
    },
    "hidden": true
   },
   "outputs": [],
   "source": [
    "for i,group in enumerate(id_groups):\n",
    "    with open('../data/qiita/file_ids_{}.txt'.format(i+1), 'w') as f:\n",
    "        f.write(\"\\n\".join(group))"
   ]
  },
  {
   "cell_type": "markdown",
   "metadata": {
    "heading_collapsed": true,
    "hidden": true
   },
   "source": [
    "## Pull out the metadata from groups of studies and save as pickle objects"
   ]
  },
  {
   "cell_type": "code",
   "execution_count": 14,
   "metadata": {
    "ExecuteTime": {
     "end_time": "2020-08-25T06:02:19.815169Z",
     "start_time": "2020-08-25T06:02:19.457820Z"
    },
    "hidden": true
   },
   "outputs": [
    {
     "name": "stdout",
     "output_type": "stream",
     "text": [
      "Submitted batch job 3287403\r\n"
     ]
    }
   ],
   "source": [
    "# !sbatch downloadQiitaMetadata.sbatch"
   ]
  },
  {
   "cell_type": "markdown",
   "metadata": {
    "heading_collapsed": true,
    "hidden": true
   },
   "source": [
    "## Combine the attribute-value pairs from each group into a final dataframe and save"
   ]
  },
  {
   "cell_type": "code",
   "execution_count": 20,
   "metadata": {
    "ExecuteTime": {
     "end_time": "2020-08-25T06:15:50.320018Z",
     "start_time": "2020-08-25T06:09:53.863007Z"
    },
    "hidden": true
   },
   "outputs": [
    {
     "data": {
      "application/vnd.jupyter.widget-view+json": {
       "model_id": "e100c2313506426bba81f76ec6061402",
       "version_major": 2,
       "version_minor": 0
      },
      "text/plain": [
       "HBox(children=(IntProgress(value=0, max=27), HTML(value='')))"
      ]
     },
     "metadata": {},
     "output_type": "display_data"
    }
   ],
   "source": [
    "# qiita_pairs = pd.Series(index = pd.MultiIndex(levels=[[],[]], labels=[[],[]], names=[u'Sample_ID', u'Attribute']))\n",
    "# for i in tqdm.tqdm_notebook(range(27)):\n",
    "#     curr_pickle = pd.read_pickle('../data/qiita/file_ids_{}.pickle'.format(i+1))\n",
    "#     qiita_pairs = pd.concat([qiita_pairs, curr_pickle], axis=0)\n",
    "# qiita_pairs.to_pickle('allQiita.pickle')"
   ]
  },
  {
   "cell_type": "markdown",
   "metadata": {
    "heading_collapsed": true
   },
   "source": [
    "# Word vector model"
   ]
  },
  {
   "cell_type": "code",
   "execution_count": null,
   "metadata": {
    "ExecuteTime": {
     "end_time": "2020-08-25T02:01:43.121053Z",
     "start_time": "2020-08-25T02:01:43.079083Z"
    },
    "hidden": true
   },
   "outputs": [],
   "source": [
    "# wget http://evexdb.org/pmresources/vec-space-models/PubMed-w2v.bin"
   ]
  }
 ],
 "metadata": {
  "kernelspec": {
   "display_name": "py3_PredictMEE",
   "language": "python",
   "name": "predictmee"
  },
  "language_info": {
   "codemirror_mode": {
    "name": "ipython",
    "version": 3
   },
   "file_extension": ".py",
   "mimetype": "text/x-python",
   "name": "python",
   "nbconvert_exporter": "python",
   "pygments_lexer": "ipython3",
   "version": "3.6.6"
  },
  "toc": {
   "base_numbering": 1,
   "nav_menu": {},
   "number_sections": true,
   "sideBar": true,
   "skip_h1_title": false,
   "title_cell": "Table of Contents",
   "title_sidebar": "Contents",
   "toc_cell": true,
   "toc_position": {},
   "toc_section_display": true,
   "toc_window_display": true
  }
 },
 "nbformat": 4,
 "nbformat_minor": 4
}
