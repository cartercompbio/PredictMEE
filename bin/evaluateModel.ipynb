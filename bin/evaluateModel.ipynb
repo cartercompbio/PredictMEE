{
 "cells": [
  {
   "cell_type": "markdown",
   "metadata": {
    "toc": true
   },
   "source": [
    "<h1>Table of Contents<span class=\"tocSkip\"></span></h1>\n",
    "<div class=\"toc\"><ul class=\"toc-item\"><li><span><a href=\"#Evaluate-trained-models\" data-toc-modified-id=\"Evaluate-trained-models-1\"><span class=\"toc-item-num\">1&nbsp;&nbsp;</span>Evaluate trained models<br></a></span><ul class=\"toc-item\"><li><span><a href=\"#Set-up\" data-toc-modified-id=\"Set-up-1.1\"><span class=\"toc-item-num\">1.1&nbsp;&nbsp;</span>Set up</a></span><ul class=\"toc-item\"><li><span><a href=\"#Import-necessry-packages\" data-toc-modified-id=\"Import-necessry-packages-1.1.1\"><span class=\"toc-item-num\">1.1.1&nbsp;&nbsp;</span>Import necessry packages</a></span></li><li><span><a href=\"#Helper-functions\" data-toc-modified-id=\"Helper-functions-1.1.2\"><span class=\"toc-item-num\">1.1.2&nbsp;&nbsp;</span>Helper functions</a></span></li><li><span><a href=\"#Plotting-parameters\" data-toc-modified-id=\"Plotting-parameters-1.1.3\"><span class=\"toc-item-num\">1.1.3&nbsp;&nbsp;</span>Plotting parameters</a></span></li><li><span><a href=\"#Load-data\" data-toc-modified-id=\"Load-data-1.1.4\"><span class=\"toc-item-num\">1.1.4&nbsp;&nbsp;</span>Load data</a></span><ul class=\"toc-item\"><li><span><a href=\"#Load-classes\" data-toc-modified-id=\"Load-classes-1.1.4.1\"><span class=\"toc-item-num\">1.1.4.1&nbsp;&nbsp;</span>Load classes</a></span></li><li><span><a href=\"#Load-accuracy-stats\" data-toc-modified-id=\"Load-accuracy-stats-1.1.4.2\"><span class=\"toc-item-num\">1.1.4.2&nbsp;&nbsp;</span>Load accuracy stats</a></span></li><li><span><a href=\"#Load-grouping\" data-toc-modified-id=\"Load-grouping-1.1.4.3\"><span class=\"toc-item-num\">1.1.4.3&nbsp;&nbsp;</span>Load grouping</a></span></li><li><span><a href=\"#Load-model-to-analyze`\" data-toc-modified-id=\"Load-model-to-analyze`-1.1.4.4\"><span class=\"toc-item-num\">1.1.4.4&nbsp;&nbsp;</span>Load model to analyze`</a></span></li><li><span><a href=\"#Load-NLP-model\" data-toc-modified-id=\"Load-NLP-model-1.1.4.5\"><span class=\"toc-item-num\">1.1.4.5&nbsp;&nbsp;</span>Load NLP model</a></span></li><li><span><a href=\"#Load-grouping\" data-toc-modified-id=\"Load-grouping-1.1.4.6\"><span class=\"toc-item-num\">1.1.4.6&nbsp;&nbsp;</span>Load grouping</a></span></li><li><span><a href=\"#Load-train-and-test-data\" data-toc-modified-id=\"Load-train-and-test-data-1.1.4.7\"><span class=\"toc-item-num\">1.1.4.7&nbsp;&nbsp;</span>Load train and test data</a></span></li></ul></li></ul></li><li><span><a href=\"#Analyze-current-model\" data-toc-modified-id=\"Analyze-current-model-1.2\"><span class=\"toc-item-num\">1.2&nbsp;&nbsp;</span>Analyze current model</a></span><ul class=\"toc-item\"><li><span><a href=\"#Make-an-accuracy-dataframe-from-keras-output\" data-toc-modified-id=\"Make-an-accuracy-dataframe-from-keras-output-1.2.1\"><span class=\"toc-item-num\">1.2.1&nbsp;&nbsp;</span>Make an accuracy dataframe from keras output</a></span></li><li><span><a href=\"#Figure-4B:-Accuracy-plot\" data-toc-modified-id=\"Figure-4B:-Accuracy-plot-1.2.2\"><span class=\"toc-item-num\">1.2.2&nbsp;&nbsp;</span><font color=\"red\">Figure 4B:</font> Accuracy plot</a></span></li><li><span><a href=\"#Model-accuracy\" data-toc-modified-id=\"Model-accuracy-1.2.3\"><span class=\"toc-item-num\">1.2.3&nbsp;&nbsp;</span>Model accuracy</a></span><ul class=\"toc-item\"><li><span><a href=\"#Overall-accuracy\" data-toc-modified-id=\"Overall-accuracy-1.2.3.1\"><span class=\"toc-item-num\">1.2.3.1&nbsp;&nbsp;</span>Overall accuracy</a></span></li><li><span><a href=\"#Figure-4C:-Per-class-accuracy\" data-toc-modified-id=\"Figure-4C:-Per-class-accuracy-1.2.3.2\"><span class=\"toc-item-num\">1.2.3.2&nbsp;&nbsp;</span><font color=\"red\">Figure 4C:</font> Per class accuracy</a></span></li></ul></li><li><span><a href=\"#Check-correct-vs-incorrect-probabilities\" data-toc-modified-id=\"Check-correct-vs-incorrect-probabilities-1.2.4\"><span class=\"toc-item-num\">1.2.4&nbsp;&nbsp;</span>Check correct vs incorrect probabilities</a></span></li><li><span><a href=\"#Performance-metrics\" data-toc-modified-id=\"Performance-metrics-1.2.5\"><span class=\"toc-item-num\">1.2.5&nbsp;&nbsp;</span>Performance metrics</a></span><ul class=\"toc-item\"><li><span><a href=\"#Figure-4A:-Metrics-table\" data-toc-modified-id=\"Figure-4A:-Metrics-table-1.2.5.1\"><span class=\"toc-item-num\">1.2.5.1&nbsp;&nbsp;</span><font color=\"red\">Figure 4A:</font> Metrics table</a></span></li><li><span><a href=\"#AUC-calculation\" data-toc-modified-id=\"AUC-calculation-1.2.5.2\"><span class=\"toc-item-num\">1.2.5.2&nbsp;&nbsp;</span>AUC calculation</a></span></li><li><span><a href=\"#Figure-4D:-ROC-curve\" data-toc-modified-id=\"Figure-4D:-ROC-curve-1.2.5.3\"><span class=\"toc-item-num\">1.2.5.3&nbsp;&nbsp;</span><font color=\"red\">Figure 4D:</font> ROC curve</a></span></li></ul></li></ul></li><li><span><a href=\"#Evaluate-training-set\" data-toc-modified-id=\"Evaluate-training-set-1.3\"><span class=\"toc-item-num\">1.3&nbsp;&nbsp;</span>Evaluate training set</a></span><ul class=\"toc-item\"><li><span><a href=\"#-Supp.-Figure2B-Correlation-heatmap-between-average-embedding-vector-of-each-class-in-training-set\" data-toc-modified-id=\"-Supp.-Figure2B-Correlation-heatmap-between-average-embedding-vector-of-each-class-in-training-set-1.3.1\"><span class=\"toc-item-num\">1.3.1&nbsp;&nbsp;</span><font color=\"red\"> Supp. Figure2B</font> Correlation heatmap between average embedding vector of each class in training set</a></span></li></ul></li></ul></li></ul></div>"
   ]
  },
  {
   "cell_type": "markdown",
   "metadata": {},
   "source": [
    "# Evaluate trained models<br>\n",
    "Adam Klie<br>\n",
    "07/09/2020<br>\n",
    "Script to evaluate the performance of trained model"
   ]
  },
  {
   "cell_type": "markdown",
   "metadata": {},
   "source": [
    "## Set up"
   ]
  },
  {
   "cell_type": "markdown",
   "metadata": {},
   "source": [
    "### Import necessry packages"
   ]
  },
  {
   "cell_type": "code",
   "execution_count": 1,
   "metadata": {
    "ExecuteTime": {
     "end_time": "2020-08-25T07:21:09.362036Z",
     "start_time": "2020-08-25T07:20:59.221735Z"
    }
   },
   "outputs": [
    {
     "name": "stderr",
     "output_type": "stream",
     "text": [
      "/cellar/users/aklie/opt/miniconda3/envs/PredictMEE_new/lib/python3.6/importlib/_bootstrap.py:219: RuntimeWarning: numpy.dtype size changed, may indicate binary incompatibility. Expected 96, got 88\n",
      "  return f(*args, **kwds)\n",
      "/cellar/users/aklie/opt/miniconda3/envs/PredictMEE_new/lib/python3.6/importlib/_bootstrap.py:219: RuntimeWarning: numpy.ufunc size changed, may indicate binary incompatibility. Expected 192, got 176\n",
      "  return f(*args, **kwds)\n",
      "/cellar/users/aklie/opt/miniconda3/envs/PredictMEE_new/lib/python3.6/importlib/_bootstrap.py:219: RuntimeWarning: numpy.dtype size changed, may indicate binary incompatibility. Expected 96, got 88\n",
      "  return f(*args, **kwds)\n",
      "/cellar/users/aklie/opt/miniconda3/envs/PredictMEE_new/lib/python3.6/importlib/_bootstrap.py:219: RuntimeWarning: numpy.ufunc size changed, may indicate binary incompatibility. Expected 192, got 176\n",
      "  return f(*args, **kwds)\n",
      "Using TensorFlow backend.\n"
     ]
    }
   ],
   "source": [
    "import numpy as np\n",
    "import pandas as pd\n",
    "from tqdm import tqdm\n",
    "import matplotlib.pyplot as plt\n",
    "import matplotlib\n",
    "import seaborn as sns\n",
    "from sklearn import preprocessing, metrics\n",
    "\n",
    "import spacy\n",
    "import tensorflow\n",
    "import keras\n",
    "from keras.models import load_model\n",
    "import scipy.spatial as sp"
   ]
  },
  {
   "cell_type": "markdown",
   "metadata": {},
   "source": [
    "### Helper functions"
   ]
  },
  {
   "cell_type": "code",
   "execution_count": 2,
   "metadata": {
    "ExecuteTime": {
     "end_time": "2020-08-25T07:21:09.394093Z",
     "start_time": "2020-08-25T07:21:09.371124Z"
    }
   },
   "outputs": [],
   "source": [
    "def get_features(docs, max_length):\n",
    "    docs = list(docs)\n",
    "    Xs = np.zeros((len(docs), max_length), dtype='int32')\n",
    "    for i, doc in tqdm(enumerate(docs),total=len(docs)):\n",
    "        j = 0\n",
    "        for token in doc:\n",
    "            ##rever to word vector\n",
    "            vector_id = token.vocab.vectors.find(key=token.orth)\n",
    "            if vector_id >= 0:\n",
    "                Xs[i, j] = vector_id\n",
    "            else:\n",
    "                Xs[i, j] = 0\n",
    "            j += 1\n",
    "            if j >= max_length:\n",
    "                break\n",
    "    return Xs"
   ]
  },
  {
   "cell_type": "code",
   "execution_count": 3,
   "metadata": {
    "ExecuteTime": {
     "end_time": "2020-08-25T07:21:09.451254Z",
     "start_time": "2020-08-25T07:21:09.398509Z"
    }
   },
   "outputs": [],
   "source": [
    "def correlate_dataframes(df1, df2, metric = 'cosine' ):\n",
    "    M = 1 - sp.distance.cdist(df1, df2, metric)\n",
    "    return pd.DataFrame(data = M, index = df1.index, columns = df2.index)"
   ]
  },
  {
   "cell_type": "markdown",
   "metadata": {},
   "source": [
    "### Plotting parameters"
   ]
  },
  {
   "cell_type": "code",
   "execution_count": 4,
   "metadata": {
    "ExecuteTime": {
     "end_time": "2020-08-25T07:21:09.512677Z",
     "start_time": "2020-08-25T07:21:09.453830Z"
    }
   },
   "outputs": [],
   "source": [
    "from matplotlib import rcParams\n",
    "import matplotlib as mpl\n",
    "\n",
    "rcParams['figure.figsize'] = (10, 6)\n",
    "rcParams['figure.dpi'] = 600 \n",
    "rcParams['lines.linewidth'] = 2\n",
    "rcParams['axes.facecolor'] = 'white'\n",
    "rcParams['font.size'] = 18\n",
    "rcParams['patch.edgecolor'] = 'white'\n",
    "rcParams['font.family'] = 'StixGeneral'\n",
    "\n",
    "rcParams['axes.labelsize'] = 36\n",
    "rcParams['ytick.labelsize'] = 30\n",
    "rcParams['xtick.labelsize'] = 30"
   ]
  },
  {
   "cell_type": "markdown",
   "metadata": {},
   "source": [
    "### Load data"
   ]
  },
  {
   "cell_type": "markdown",
   "metadata": {},
   "source": [
    "#### Load classes"
   ]
  },
  {
   "cell_type": "code",
   "execution_count": 5,
   "metadata": {
    "ExecuteTime": {
     "end_time": "2020-08-25T07:21:09.573441Z",
     "start_time": "2020-08-25T07:21:09.515738Z"
    }
   },
   "outputs": [],
   "source": [
    "model_iter = '11_class'\n",
    "le = preprocessing.LabelEncoder()\n",
    "le.classes_ = np.load('../results/training/{model}/classes.npy'.format(model = model_iter))"
   ]
  },
  {
   "cell_type": "markdown",
   "metadata": {},
   "source": [
    "#### Load accuracy stats"
   ]
  },
  {
   "cell_type": "code",
   "execution_count": 6,
   "metadata": {
    "ExecuteTime": {
     "end_time": "2020-08-25T07:21:09.631330Z",
     "start_time": "2020-08-25T07:21:09.576010Z"
    }
   },
   "outputs": [],
   "source": [
    "with open('../results/training/{model}/keras_out.txt'.format(model = model_iter), 'r') as f:\n",
    "    acc_text = f.read()"
   ]
  },
  {
   "cell_type": "markdown",
   "metadata": {},
   "source": [
    "#### Load grouping"
   ]
  },
  {
   "cell_type": "code",
   "execution_count": 7,
   "metadata": {
    "ExecuteTime": {
     "end_time": "2020-08-25T07:21:09.724400Z",
     "start_time": "2020-08-25T07:21:09.634255Z"
    }
   },
   "outputs": [],
   "source": [
    "grouping_df = pd.read_csv('../results/embedding/{model}/entity_merging.csv'.format(model = model_iter))\n",
    "myAttribs = grouping_df.attribute.unique()"
   ]
  },
  {
   "cell_type": "markdown",
   "metadata": {},
   "source": [
    "#### Load model to analyze`"
   ]
  },
  {
   "cell_type": "code",
   "execution_count": 8,
   "metadata": {
    "ExecuteTime": {
     "end_time": "2020-08-25T07:21:48.304930Z",
     "start_time": "2020-08-25T07:21:09.734870Z"
    }
   },
   "outputs": [],
   "source": [
    "model = '11_class_2020_08_24'\n",
    "lstm = load_model(\"../models/{model}.h5\".format(model=model))\n",
    "max_length = 7\n",
    "nr_classes=len(le.classes_)\n",
    "lstm_shape={'nr_hidden': 64, 'max_length': max_length, 'nr_class': nr_classes}"
   ]
  },
  {
   "cell_type": "markdown",
   "metadata": {},
   "source": [
    "#### Load NLP model"
   ]
  },
  {
   "cell_type": "code",
   "execution_count": 9,
   "metadata": {
    "ExecuteTime": {
     "end_time": "2020-08-25T07:23:04.372992Z",
     "start_time": "2020-08-25T07:21:48.306738Z"
    }
   },
   "outputs": [
    {
     "name": "stderr",
     "output_type": "stream",
     "text": [
      "/cellar/users/aklie/opt/miniconda3/envs/PredictMEE_new/lib/python3.6/importlib/_bootstrap.py:219: RuntimeWarning: numpy.dtype size changed, may indicate binary incompatibility. Expected 96, got 88\n",
      "  return f(*args, **kwds)\n",
      "/cellar/users/aklie/opt/miniconda3/envs/PredictMEE_new/lib/python3.6/importlib/_bootstrap.py:219: RuntimeWarning: numpy.ufunc size changed, may indicate binary incompatibility. Expected 192, got 176\n",
      "  return f(*args, **kwds)\n"
     ]
    }
   ],
   "source": [
    "nlp = spacy.load('../data/wikipedia-pubmed-and-PMC-w2v')"
   ]
  },
  {
   "cell_type": "markdown",
   "metadata": {},
   "source": [
    "#### Load grouping"
   ]
  },
  {
   "cell_type": "code",
   "execution_count": 10,
   "metadata": {
    "ExecuteTime": {
     "end_time": "2020-08-25T07:23:04.411399Z",
     "start_time": "2020-08-25T07:23:04.376799Z"
    }
   },
   "outputs": [],
   "source": [
    "grouping_df = pd.read_csv('../results/embedding/{model}/entity_merging.csv'.format(model = model_iter))\n",
    "myAttribs = grouping_df.attribute.unique()"
   ]
  },
  {
   "cell_type": "markdown",
   "metadata": {},
   "source": [
    "#### Load train and test data"
   ]
  },
  {
   "cell_type": "code",
   "execution_count": 11,
   "metadata": {
    "ExecuteTime": {
     "end_time": "2020-08-25T07:23:04.780395Z",
     "start_time": "2020-08-25T07:23:04.414008Z"
    }
   },
   "outputs": [],
   "source": [
    "model_iter = '11_class'\n",
    "train_df = pd.read_pickle('../results/training/{model}/training_examples.pickle'.format(model = model_iter))\n",
    "val_df = pd.read_pickle('../results/training/{model}/test_examples.pickle'.format(model = model_iter))"
   ]
  },
  {
   "cell_type": "markdown",
   "metadata": {},
   "source": [
    "## Analyze current model"
   ]
  },
  {
   "cell_type": "markdown",
   "metadata": {},
   "source": [
    "### Make an accuracy dataframe from keras output"
   ]
  },
  {
   "cell_type": "code",
   "execution_count": 12,
   "metadata": {
    "ExecuteTime": {
     "end_time": "2020-08-25T07:23:04.820368Z",
     "start_time": "2020-08-25T07:23:04.783408Z"
    }
   },
   "outputs": [],
   "source": [
    "acc_df = pd.DataFrame(pd.Series(acc_text.split('\\n')).str.replace('\\x08',''))\n",
    "acc_df[\"train_acc\"] = acc_df[0].str.extract('acc: (\\d+.\\d+)').values.astype('float64')\n",
    "acc_df.dropna(inplace=True)"
   ]
  },
  {
   "cell_type": "code",
   "execution_count": 13,
   "metadata": {
    "ExecuteTime": {
     "end_time": "2020-08-25T07:23:04.992566Z",
     "start_time": "2020-08-25T07:23:04.826260Z"
    }
   },
   "outputs": [],
   "source": [
    "def get_training(x):\n",
    "    return float(int(x[0].split('/')[0])/1000)\n",
    "acc_df[\"examples_seen\"] = acc_df.apply(get_training, axis=1)"
   ]
  },
  {
   "cell_type": "markdown",
   "metadata": {},
   "source": [
    "### <font color=red>Figure 4B:</font> Accuracy plot"
   ]
  },
  {
   "cell_type": "code",
   "execution_count": 14,
   "metadata": {
    "ExecuteTime": {
     "end_time": "2020-08-25T07:23:10.429460Z",
     "start_time": "2020-08-25T07:23:05.001344Z"
    },
    "scrolled": true
   },
   "outputs": [],
   "source": [
    "fig,ax = plt.subplots(figsize=(6,6))\n",
    "ax.plot(acc_df.examples_seen.values, acc_df.train_acc.values, linewidth = 4)\n",
    "ax.set_xlabel('# of training examples (thousands)')\n",
    "ax.set_ylabel('Accuracy')\n",
    "ax.set_yticks(np.arange(0.1,1.1,0.1))\n",
    "ax.grid()\n",
    "\n",
    "plt.savefig('../doc/figures/Figure4/Figure4B.eps', dpi=600, bbox_inches=\"tight\")\n",
    "plt.savefig('../doc/figures/Figure4/Figure4B.png', dpi=600, bbox_inches=\"tight\")\n",
    "plt.close()"
   ]
  },
  {
   "cell_type": "markdown",
   "metadata": {},
   "source": [
    "### Model accuracy"
   ]
  },
  {
   "cell_type": "markdown",
   "metadata": {},
   "source": [
    "#### Overall accuracy"
   ]
  },
  {
   "cell_type": "code",
   "execution_count": 15,
   "metadata": {
    "ExecuteTime": {
     "end_time": "2020-08-25T07:24:38.710073Z",
     "start_time": "2020-08-25T07:23:10.438825Z"
    }
   },
   "outputs": [
    {
     "name": "stderr",
     "output_type": "stream",
     "text": [
      "100%|██████████| 87691/87691 [00:13<00:00, 6371.82it/s]\n",
      "100%|██████████| 87691/87691 [00:02<00:00, 43406.27it/s]\n"
     ]
    }
   ],
   "source": [
    "val_texts = val_df.value.tolist()\n",
    "val_docs = list(tqdm(nlp.pipe(val_texts),total=len(val_texts)))\n",
    "val_X = get_features(val_docs,lstm_shape['max_length'])\n",
    "predictM = lstm.predict_proba(val_X)"
   ]
  },
  {
   "cell_type": "code",
   "execution_count": 16,
   "metadata": {
    "ExecuteTime": {
     "end_time": "2020-08-25T07:24:38.918641Z",
     "start_time": "2020-08-25T07:24:38.720409Z"
    }
   },
   "outputs": [],
   "source": [
    "probaDf_multI = pd.DataFrame(data = predictM, columns = le.classes_)\n",
    "probaDf_multI.index = pd.MultiIndex.from_arrays([val_df.attribute.values, val_texts], names=['entity','text'])\n",
    "probaDf = probaDf_multI.reset_index()"
   ]
  },
  {
   "cell_type": "code",
   "execution_count": 17,
   "metadata": {
    "ExecuteTime": {
     "end_time": "2020-08-25T07:24:39.154640Z",
     "start_time": "2020-08-25T07:24:38.927320Z"
    }
   },
   "outputs": [],
   "source": [
    "myClasses = grouping_df.GroupName.unique()\n",
    "predicted_types = probaDf.loc[:, probaDf.columns.isin(myClasses)].idxmax(axis=1)"
   ]
  },
  {
   "cell_type": "code",
   "execution_count": 18,
   "metadata": {
    "ExecuteTime": {
     "end_time": "2020-08-25T07:24:39.188313Z",
     "start_time": "2020-08-25T07:24:39.158081Z"
    },
    "scrolled": true
   },
   "outputs": [
    {
     "name": "stdout",
     "output_type": "stream",
     "text": [
      "Accuracy: 0.8514328722445861\n"
     ]
    }
   ],
   "source": [
    "overall_acc = ((probaDf.entity == predicted_types).mean())\n",
    "print('Accuracy:', overall_acc)"
   ]
  },
  {
   "cell_type": "markdown",
   "metadata": {},
   "source": [
    "#### <font color =red>Figure 4C:</font> Per class accuracy"
   ]
  },
  {
   "cell_type": "code",
   "execution_count": 19,
   "metadata": {
    "ExecuteTime": {
     "end_time": "2020-08-25T07:24:39.257262Z",
     "start_time": "2020-08-25T07:24:39.197281Z"
    }
   },
   "outputs": [],
   "source": [
    "inEvalDf = probaDf_multI"
   ]
  },
  {
   "cell_type": "code",
   "execution_count": 20,
   "metadata": {
    "ExecuteTime": {
     "end_time": "2020-08-25T07:24:39.554463Z",
     "start_time": "2020-08-25T07:24:39.267979Z"
    }
   },
   "outputs": [],
   "source": [
    "minProbThreshold = 0.2\n",
    "confidence_mask = inEvalDf.max(axis=1)>=minProbThreshold\n",
    "tmpDf3 = inEvalDf.idxmax(axis=1).reset_index(name='predicted')"
   ]
  },
  {
   "cell_type": "code",
   "execution_count": 21,
   "metadata": {
    "ExecuteTime": {
     "end_time": "2020-08-25T07:24:39.615940Z",
     "start_time": "2020-08-25T07:24:39.562535Z"
    }
   },
   "outputs": [],
   "source": [
    "continDf=tmpDf3.groupby(['predicted','entity']).size().unstack().fillna(0)"
   ]
  },
  {
   "cell_type": "code",
   "execution_count": 22,
   "metadata": {
    "ExecuteTime": {
     "end_time": "2020-08-25T07:24:39.668993Z",
     "start_time": "2020-08-25T07:24:39.623953Z"
    }
   },
   "outputs": [],
   "source": [
    "continDf=continDf.loc[le.classes_, le.classes_]\n",
    "continDf.index=continDf.index.copy()\n",
    "continDf.columns=continDf.columns.copy()\n",
    "continDf.index.name='Predicted'\n",
    "continDf.columns.name='Actual'\n",
    "percentDf=(continDf/continDf.sum(axis=0)).T"
   ]
  },
  {
   "cell_type": "code",
   "execution_count": 23,
   "metadata": {
    "ExecuteTime": {
     "end_time": "2020-08-25T07:24:59.668523Z",
     "start_time": "2020-08-25T07:24:39.671488Z"
    }
   },
   "outputs": [],
   "source": [
    "fig,ax=plt.subplots(figsize=(24,10))\n",
    "#g.data2d.columns=g.data2d.columns.copy()\n",
    "#g.data2d.index=g.data2d.index.copy()\n",
    "\n",
    "sns.set(font_scale=2)\n",
    "sns.heatmap(data=percentDf,annot=True,fmt='0.0%', annot_kws={\"fontsize\":16})\n",
    "ax.set_ylabel('Ground truth', fontsize = 36)\n",
    "ax.set_xlabel('Predicted', fontsize = 36)\n",
    "\n",
    "plt.savefig('../doc/figures/Figure4/Figure4D_new.eps', dpi=600, bbox_inches=\"tight\")\n",
    "plt.savefig('../doc/figures/Figure4/Figure4D_new.png', dpi=600, bbox_inches=\"tight\")\n",
    "plt.close();"
   ]
  },
  {
   "cell_type": "markdown",
   "metadata": {},
   "source": [
    "### Check correct vs incorrect probabilities"
   ]
  },
  {
   "cell_type": "code",
   "execution_count": 24,
   "metadata": {
    "ExecuteTime": {
     "end_time": "2020-08-25T07:25:00.044776Z",
     "start_time": "2020-08-25T07:24:59.671777Z"
    }
   },
   "outputs": [],
   "source": [
    "incorrect_df = probaDf[probaDf.entity != predicted_types][['entity','text']]\n",
    "incorrect_df['predicted'] = predicted_types"
   ]
  },
  {
   "cell_type": "code",
   "execution_count": 25,
   "metadata": {
    "ExecuteTime": {
     "end_time": "2020-08-25T07:25:00.100130Z",
     "start_time": "2020-08-25T07:25:00.047577Z"
    }
   },
   "outputs": [],
   "source": [
    "contdf_long=percentDf.stack().reset_index(name='Percent')"
   ]
  },
  {
   "cell_type": "code",
   "execution_count": 26,
   "metadata": {
    "ExecuteTime": {
     "end_time": "2020-08-25T07:25:00.185628Z",
     "start_time": "2020-08-25T07:25:00.102721Z"
    }
   },
   "outputs": [
    {
     "data": {
      "text/html": [
       "<div>\n",
       "<style scoped>\n",
       "    .dataframe tbody tr th:only-of-type {\n",
       "        vertical-align: middle;\n",
       "    }\n",
       "\n",
       "    .dataframe tbody tr th {\n",
       "        vertical-align: top;\n",
       "    }\n",
       "\n",
       "    .dataframe thead th {\n",
       "        text-align: right;\n",
       "    }\n",
       "</style>\n",
       "<table border=\"1\" class=\"dataframe\">\n",
       "  <thead>\n",
       "    <tr style=\"text-align: right;\">\n",
       "      <th></th>\n",
       "      <th>Actual</th>\n",
       "      <th>Predicted</th>\n",
       "      <th>Percent</th>\n",
       "    </tr>\n",
       "  </thead>\n",
       "  <tbody>\n",
       "    <tr>\n",
       "      <th>103</th>\n",
       "      <td>Strain</td>\n",
       "      <td>Genotype</td>\n",
       "      <td>0.057554</td>\n",
       "    </tr>\n",
       "    <tr>\n",
       "      <th>56</th>\n",
       "      <td>Platform</td>\n",
       "      <td>Cell type</td>\n",
       "      <td>0.062893</td>\n",
       "    </tr>\n",
       "    <tr>\n",
       "      <th>107</th>\n",
       "      <td>Strain</td>\n",
       "      <td>Species</td>\n",
       "      <td>0.065505</td>\n",
       "    </tr>\n",
       "    <tr>\n",
       "      <th>86</th>\n",
       "      <td>Sex</td>\n",
       "      <td>Strain</td>\n",
       "      <td>0.067995</td>\n",
       "    </tr>\n",
       "    <tr>\n",
       "      <th>53</th>\n",
       "      <td>Genotype</td>\n",
       "      <td>Strain</td>\n",
       "      <td>0.099853</td>\n",
       "    </tr>\n",
       "    <tr>\n",
       "      <th>32</th>\n",
       "      <td>Condition/Disease</td>\n",
       "      <td>Tissue</td>\n",
       "      <td>0.106709</td>\n",
       "    </tr>\n",
       "    <tr>\n",
       "      <th>76</th>\n",
       "      <td>Protocol</td>\n",
       "      <td>Tissue</td>\n",
       "      <td>0.117978</td>\n",
       "    </tr>\n",
       "    <tr>\n",
       "      <th>111</th>\n",
       "      <td>Tissue</td>\n",
       "      <td>Cell type</td>\n",
       "      <td>0.129950</td>\n",
       "    </tr>\n",
       "    <tr>\n",
       "      <th>69</th>\n",
       "      <td>Protocol</td>\n",
       "      <td>Data type</td>\n",
       "      <td>0.157303</td>\n",
       "    </tr>\n",
       "    <tr>\n",
       "      <th>21</th>\n",
       "      <td>Cell type</td>\n",
       "      <td>Tissue</td>\n",
       "      <td>0.204050</td>\n",
       "    </tr>\n",
       "    <tr>\n",
       "      <th>70</th>\n",
       "      <td>Protocol</td>\n",
       "      <td>Genotype</td>\n",
       "      <td>0.235955</td>\n",
       "    </tr>\n",
       "    <tr>\n",
       "      <th>67</th>\n",
       "      <td>Protocol</td>\n",
       "      <td>Cell type</td>\n",
       "      <td>0.370787</td>\n",
       "    </tr>\n",
       "  </tbody>\n",
       "</table>\n",
       "</div>"
      ],
      "text/plain": [
       "                Actual  Predicted   Percent\n",
       "103             Strain   Genotype  0.057554\n",
       "56            Platform  Cell type  0.062893\n",
       "107             Strain    Species  0.065505\n",
       "86                 Sex     Strain  0.067995\n",
       "53            Genotype     Strain  0.099853\n",
       "32   Condition/Disease     Tissue  0.106709\n",
       "76            Protocol     Tissue  0.117978\n",
       "111             Tissue  Cell type  0.129950\n",
       "69            Protocol  Data type  0.157303\n",
       "21           Cell type     Tissue  0.204050\n",
       "70            Protocol   Genotype  0.235955\n",
       "67            Protocol  Cell type  0.370787"
      ]
     },
     "execution_count": 26,
     "metadata": {},
     "output_type": "execute_result"
    }
   ],
   "source": [
    "contdf_wrong=contdf_long[contdf_long.Actual!=contdf_long.Predicted].sort_values('Percent')\n",
    "contdf_wrong[contdf_wrong.Percent>0.05]"
   ]
  },
  {
   "cell_type": "code",
   "execution_count": 27,
   "metadata": {
    "ExecuteTime": {
     "end_time": "2020-08-25T07:25:00.247169Z",
     "start_time": "2020-08-25T07:25:00.188595Z"
    }
   },
   "outputs": [],
   "source": [
    "# plt.figure(figsize=(16, 16))\n",
    "# predDf=probaDf_multI.stack().reset_index()\n",
    "# predDf.columns=['entity','text','predicted','proba']\n",
    "# predDf['match'] = (predDf.entity == predDf.predicted)\n",
    "# g =sns.boxplot(data=predDf,x='entity',y='proba', hue='match', showfliers=False)\n",
    "# g.set_xticklabels(g.get_xticklabels(), rotation=45)\n",
    "# predDf[predDf['match']].groupby(['entity'])['proba'].quantile(0.25).to_dict()"
   ]
  },
  {
   "cell_type": "markdown",
   "metadata": {},
   "source": [
    "### Performance metrics"
   ]
  },
  {
   "cell_type": "markdown",
   "metadata": {},
   "source": [
    "#### <font color =red>Figure 4A:</font> Metrics table"
   ]
  },
  {
   "cell_type": "code",
   "execution_count": 28,
   "metadata": {
    "ExecuteTime": {
     "end_time": "2020-08-25T07:25:00.546486Z",
     "start_time": "2020-08-25T07:25:00.250455Z"
    }
   },
   "outputs": [],
   "source": [
    "inTmpDf=inEvalDf.idxmax(axis=1).reset_index(name='predicted')"
   ]
  },
  {
   "cell_type": "code",
   "execution_count": 29,
   "metadata": {
    "ExecuteTime": {
     "end_time": "2020-08-25T07:25:00.572805Z",
     "start_time": "2020-08-25T07:25:00.549502Z"
    }
   },
   "outputs": [],
   "source": [
    "inTmpDf['correct']=inTmpDf.entity==inTmpDf.predicted"
   ]
  },
  {
   "cell_type": "code",
   "execution_count": 30,
   "metadata": {
    "ExecuteTime": {
     "end_time": "2020-08-25T07:25:00.683184Z",
     "start_time": "2020-08-25T07:25:00.575619Z"
    }
   },
   "outputs": [
    {
     "data": {
      "text/plain": [
       "entity\n",
       "Protocol             0.000000\n",
       "Cell type            0.695550\n",
       "Condition/Disease    0.741853\n",
       "Strain               0.821785\n",
       "Tissue               0.824400\n",
       "Genotype             0.867917\n",
       "Platform             0.920755\n",
       "Sex                  0.929660\n",
       "Species              0.976900\n",
       "Age                  0.982996\n",
       "Data type            1.000000\n",
       "Name: correct, dtype: float64"
      ]
     },
     "execution_count": 30,
     "metadata": {},
     "output_type": "execute_result"
    }
   ],
   "source": [
    "inTmpDf.groupby('entity')['correct'].mean().sort_values()"
   ]
  },
  {
   "cell_type": "code",
   "execution_count": 31,
   "metadata": {
    "ExecuteTime": {
     "end_time": "2020-08-25T07:25:01.380554Z",
     "start_time": "2020-08-25T07:25:00.686370Z"
    }
   },
   "outputs": [],
   "source": [
    "p_r_f1 = metrics.precision_recall_fscore_support(y_true=inTmpDf['entity'],y_pred=inTmpDf['predicted'],average='weighted')\n",
    "metric_df = pd.DataFrame({'Accuracy':overall_acc, \n",
    "                          'Precision':p_r_f1[0], \n",
    "                          'Recall':p_r_f1[1], \n",
    "                          'F1 Score':p_r_f1[2]}, index=[0])\n",
    "metric_df.to_csv('../doc/figures/Figure4/Figure4A.csv')\n",
    "metric_df.to_csv('../results/training/{model}/metrics.csv'.format(model=model_iter))"
   ]
  },
  {
   "cell_type": "code",
   "execution_count": 32,
   "metadata": {
    "ExecuteTime": {
     "end_time": "2020-08-25T07:25:01.388687Z",
     "start_time": "2020-08-25T07:25:01.383364Z"
    }
   },
   "outputs": [
    {
     "data": {
      "text/plain": [
       "(0.8501714365335531, 0.8514328722445861, 0.8492104143067657, None)"
      ]
     },
     "execution_count": 32,
     "metadata": {},
     "output_type": "execute_result"
    }
   ],
   "source": [
    "p_r_f1"
   ]
  },
  {
   "cell_type": "markdown",
   "metadata": {},
   "source": [
    "#### AUC calculation"
   ]
  },
  {
   "cell_type": "code",
   "execution_count": 33,
   "metadata": {
    "ExecuteTime": {
     "end_time": "2020-08-25T07:25:01.576893Z",
     "start_time": "2020-08-25T07:25:01.391388Z"
    }
   },
   "outputs": [],
   "source": [
    "y_test = preprocessing.label_binarize(inTmpDf.entity.values, classes=le.classes_)\n",
    "y_score = probaDf[le.classes_].values"
   ]
  },
  {
   "cell_type": "code",
   "execution_count": 34,
   "metadata": {
    "ExecuteTime": {
     "end_time": "2020-08-25T07:25:02.052623Z",
     "start_time": "2020-08-25T07:25:01.579395Z"
    }
   },
   "outputs": [],
   "source": [
    "# Compute ROC curve and ROC area for each class\n",
    "fpr_dict = dict()\n",
    "tpr_dict = dict()\n",
    "roc_auc_dict = dict()\n",
    "for i, class_ in enumerate(le.classes_):\n",
    "    fpr_dict[class_], tpr_dict[class_], _ = metrics.roc_curve(y_test[:, i], y_score[:, i])\n",
    "    roc_auc_dict[class_] = metrics.auc(fpr_dict[class_], tpr_dict[class_])\n",
    "\n",
    "# Compute micro-average ROC curve and ROC area\n",
    "fpr_dict[\"Micro\"], tpr_dict[\"Micro\"], _ = metrics.roc_curve(y_test.ravel(), y_score.ravel())\n",
    "roc_auc_dict[\"Micro\"] = metrics.auc(fpr_dict[\"Micro\"], tpr_dict[\"Micro\"])"
   ]
  },
  {
   "cell_type": "markdown",
   "metadata": {},
   "source": [
    "#### <font color =red>Figure 4D:</font> ROC curve"
   ]
  },
  {
   "cell_type": "code",
   "execution_count": 35,
   "metadata": {
    "ExecuteTime": {
     "end_time": "2020-08-25T07:25:11.370042Z",
     "start_time": "2020-08-25T07:25:02.055148Z"
    }
   },
   "outputs": [],
   "source": [
    "fig,ax=plt.subplots(figsize=(16, 6))\n",
    "for myClass in roc_auc_dict:\n",
    "    if myClass == \"Micro\":\n",
    "        lw = 4\n",
    "    else:\n",
    "        lw = 1\n",
    "    fpr = fpr_dict[myClass]\n",
    "    tpr = tpr_dict[myClass]\n",
    "    ax.plot(fpr, tpr, linewidth = lw,\n",
    "            label=\"{myClass} ({AUC})\".format(myClass=myClass, AUC=str(metrics.auc(fpr,tpr))[:5]))\n",
    "    \n",
    "ax.set_xlabel('False positive rate', fontsize = 24)\n",
    "ax.set_ylabel('True positive rate', fontsize = 24)\n",
    "plt.legend(fontsize='16', ncol=2, handleheight=2.4, labelspacing=0.05)\n",
    "ax.plot([0,1], [0,1], '--', alpha=0.5, zorder=0, color='gray')\n",
    "plt.savefig('../doc/figures/Figure4/Figure4D.eps', dpi=600, bbox_inches=\"tight\")\n",
    "plt.savefig('../doc/figures/Figure4/Figure4D.png', dpi=600, bbox_inches=\"tight\")\n",
    "plt.close();"
   ]
  },
  {
   "cell_type": "markdown",
   "metadata": {},
   "source": [
    "## Evaluate training set"
   ]
  },
  {
   "cell_type": "markdown",
   "metadata": {},
   "source": [
    "### <font color=red> Supp. Figure2B</font> Correlation heatmap between average embedding vector of each class in training set"
   ]
  },
  {
   "cell_type": "code",
   "execution_count": 36,
   "metadata": {
    "ExecuteTime": {
     "end_time": "2020-08-25T07:25:49.214619Z",
     "start_time": "2020-08-25T07:25:11.372490Z"
    }
   },
   "outputs": [],
   "source": [
    "# get word2Vec for all attributes\n",
    "docs = nlp.pipe(train_df['value'].tolist())\n",
    "vectors = [doc.vector for doc in docs]\n",
    "doc_vector_df = pd.DataFrame(vectors, index = train_df.set_index(['srs','attribute','value']).index).astype(float)"
   ]
  },
  {
   "cell_type": "code",
   "execution_count": 37,
   "metadata": {
    "ExecuteTime": {
     "end_time": "2020-08-25T07:25:49.998942Z",
     "start_time": "2020-08-25T07:25:49.219777Z"
    }
   },
   "outputs": [],
   "source": [
    "# check cosine similarity of these classes\n",
    "attribute_means = doc_vector_df.groupby('attribute').mean()\n",
    "embedding_df = attribute_means[attribute_means.sum(axis=1).abs()>0]\n",
    "corr_df = correlate_dataframes(embedding_df, embedding_df)"
   ]
  },
  {
   "cell_type": "code",
   "execution_count": 38,
   "metadata": {
    "ExecuteTime": {
     "end_time": "2020-08-25T07:26:05.444056Z",
     "start_time": "2020-08-25T07:25:50.003350Z"
    }
   },
   "outputs": [],
   "source": [
    "sns.clustermap(data=corr_df,annot=True,fmt='0.1f', \n",
    "               cbar_kws={'label':'cosine similarity'}, \n",
    "               center=0.1, annot_kws={\"fontsize\":15})\n",
    "ax.set_ylabel('Ground truth', fontsize = 24)\n",
    "ax.set_xlabel('Predicted', fontsize = 24)\n",
    "plt.savefig('../doc/figures/Supplementary/Supp_Figure2B.eps', dpi=600, bbox_inches=\"tight\")\n",
    "plt.savefig('../doc/figures/Supplementary/Supp_Figure2B.png', dpi=600, bbox_inches=\"tight\")\n",
    "plt.close();"
   ]
  },
  {
   "cell_type": "code",
   "execution_count": 39,
   "metadata": {
    "ExecuteTime": {
     "end_time": "2020-08-25T07:26:05.462270Z",
     "start_time": "2020-08-25T07:26:05.447436Z"
    }
   },
   "outputs": [
    {
     "data": {
      "text/plain": [
       "attribute\n",
       "Cell type            5.368700\n",
       "Strain               5.195292\n",
       "Protocol             5.177281\n",
       "Tissue               5.073671\n",
       "Genotype             4.932866\n",
       "Data type            4.541894\n",
       "Sex                  4.221091\n",
       "Condition/Disease    3.755639\n",
       "Age                  3.659722\n",
       "Species              3.536610\n",
       "Platform             2.989283\n",
       "dtype: float64"
      ]
     },
     "execution_count": 39,
     "metadata": {},
     "output_type": "execute_result"
    }
   ],
   "source": [
    "corr_df.sum(axis=1).sort_values(ascending=False)"
   ]
  },
  {
   "cell_type": "code",
   "execution_count": 40,
   "metadata": {
    "ExecuteTime": {
     "end_time": "2020-08-25T07:26:05.597317Z",
     "start_time": "2020-08-25T07:26:05.466828Z"
    }
   },
   "outputs": [],
   "source": [
    "train_category_counts = train_df.attribute.value_counts().sort_index()\n",
    "val_category_counts = val_df.attribute.value_counts().sort_index()"
   ]
  },
  {
   "cell_type": "code",
   "execution_count": 41,
   "metadata": {
    "ExecuteTime": {
     "end_time": "2020-08-25T07:26:07.519507Z",
     "start_time": "2020-08-25T07:26:05.600412Z"
    }
   },
   "outputs": [
    {
     "ename": "NameError",
     "evalue": "name 'train_study_counts' is not defined",
     "output_type": "error",
     "traceback": [
      "\u001b[0;31m---------------------------------------------------------------------------\u001b[0m",
      "\u001b[0;31mNameError\u001b[0m                                 Traceback (most recent call last)",
      "\u001b[0;32m<ipython-input-41-be327e457dcf>\u001b[0m in \u001b[0;36m<module>\u001b[0;34m()\u001b[0m\n\u001b[1;32m      1\u001b[0m \u001b[0mcategory_counts\u001b[0m \u001b[0;34m=\u001b[0m \u001b[0mpd\u001b[0m\u001b[0;34m.\u001b[0m\u001b[0mconcat\u001b[0m\u001b[0;34m(\u001b[0m\u001b[0;34m[\u001b[0m\u001b[0mtrain_category_counts\u001b[0m\u001b[0;34m,\u001b[0m \u001b[0mval_category_counts\u001b[0m\u001b[0;34m]\u001b[0m\u001b[0;34m,\u001b[0m \u001b[0maxis\u001b[0m\u001b[0;34m=\u001b[0m\u001b[0;36m1\u001b[0m\u001b[0;34m)\u001b[0m\u001b[0;34m\u001b[0m\u001b[0m\n\u001b[1;32m      2\u001b[0m \u001b[0mcategory_counts\u001b[0m\u001b[0;34m.\u001b[0m\u001b[0mcolumns\u001b[0m \u001b[0;34m=\u001b[0m \u001b[0;34m[\u001b[0m\u001b[0;34m\"Train\"\u001b[0m\u001b[0;34m,\u001b[0m \u001b[0;34m\"Test\"\u001b[0m\u001b[0;34m]\u001b[0m\u001b[0;34m\u001b[0m\u001b[0m\n\u001b[0;32m----> 3\u001b[0;31m \u001b[0mstudy_counts\u001b[0m \u001b[0;34m=\u001b[0m \u001b[0mpd\u001b[0m\u001b[0;34m.\u001b[0m\u001b[0mconcat\u001b[0m\u001b[0;34m(\u001b[0m\u001b[0;34m[\u001b[0m\u001b[0mtrain_study_counts\u001b[0m\u001b[0;34m,\u001b[0m \u001b[0mval_study_counts\u001b[0m\u001b[0;34m]\u001b[0m\u001b[0;34m,\u001b[0m \u001b[0maxis\u001b[0m\u001b[0;34m=\u001b[0m\u001b[0;36m1\u001b[0m\u001b[0;34m)\u001b[0m\u001b[0;34m\u001b[0m\u001b[0m\n\u001b[0m\u001b[1;32m      4\u001b[0m \u001b[0mstudy_counts\u001b[0m\u001b[0;34m.\u001b[0m\u001b[0mcolumns\u001b[0m \u001b[0;34m=\u001b[0m \u001b[0;34m[\u001b[0m\u001b[0;34m\"Train\"\u001b[0m\u001b[0;34m,\u001b[0m \u001b[0;34m\"Test\"\u001b[0m\u001b[0;34m]\u001b[0m\u001b[0;34m\u001b[0m\u001b[0m\n",
      "\u001b[0;31mNameError\u001b[0m: name 'train_study_counts' is not defined"
     ]
    }
   ],
   "source": [
    "category_counts = pd.concat([train_category_counts, val_category_counts], axis=1)\n",
    "category_counts.columns = [\"Train\", \"Test\"]\n",
    "study_counts = pd.concat([train_study_counts, val_study_counts], axis=1)\n",
    "study_counts.columns = [\"Train\", \"Test\"]"
   ]
  },
  {
   "cell_type": "code",
   "execution_count": null,
   "metadata": {
    "ExecuteTime": {
     "end_time": "2020-08-25T07:26:07.521589Z",
     "start_time": "2020-08-25T07:20:59.396Z"
    }
   },
   "outputs": [],
   "source": [
    "cat_order = category_counts.sort_values([\"Train\", \"Test\"], ascending=False).index"
   ]
  },
  {
   "cell_type": "code",
   "execution_count": null,
   "metadata": {
    "ExecuteTime": {
     "end_time": "2020-08-25T07:26:07.523574Z",
     "start_time": "2020-08-25T07:20:59.399Z"
    }
   },
   "outputs": [],
   "source": [
    "category_counts.reset_index(inplace=True)"
   ]
  },
  {
   "cell_type": "code",
   "execution_count": null,
   "metadata": {
    "ExecuteTime": {
     "end_time": "2020-08-25T07:26:07.527527Z",
     "start_time": "2020-08-25T07:20:59.403Z"
    }
   },
   "outputs": [],
   "source": [
    "tidy_category = category_counts.melt(id_vars='index').rename(columns=str.title)\n",
    "tidy_category.columns=['category', 'Set', 'examples']"
   ]
  },
  {
   "cell_type": "code",
   "execution_count": null,
   "metadata": {
    "ExecuteTime": {
     "end_time": "2020-08-25T07:26:07.529826Z",
     "start_time": "2020-08-25T07:20:59.407Z"
    }
   },
   "outputs": [],
   "source": [
    "ax = sns.barplot(x='category', y='examples', hue='Set', data=tidy_category, order=cat_order)\n",
    "\n",
    "for tick in ax.get_xticklabels():\n",
    "    tick.set_rotation(90)\n",
    "    \n",
    "ax.set_xlabel('Metadata Category', fontsize = 24)\n",
    "ax.set_ylabel('Number of Examples', fontsize = 24)\n",
    "plt.savefig('../doc/figures/Supplementary/Supp_Figure2A_new.eps', dpi=600, bbox_inches=\"tight\")\n",
    "plt.savefig('../doc/figures/Supplementary/Supp_Figure2A_new.png', dpi=600, bbox_inches=\"tight\")\n",
    "plt.close();"
   ]
  }
 ],
 "metadata": {
  "kernelspec": {
   "display_name": "py3_PredictMEE",
   "language": "python",
   "name": "predictmee"
  },
  "language_info": {
   "codemirror_mode": {
    "name": "ipython",
    "version": 3
   },
   "file_extension": ".py",
   "mimetype": "text/x-python",
   "name": "python",
   "nbconvert_exporter": "python",
   "pygments_lexer": "ipython3",
   "version": "3.6.6"
  },
  "toc": {
   "base_numbering": 1,
   "nav_menu": {},
   "number_sections": true,
   "sideBar": true,
   "skip_h1_title": false,
   "title_cell": "Table of Contents",
   "title_sidebar": "Contents",
   "toc_cell": true,
   "toc_position": {},
   "toc_section_display": true,
   "toc_window_display": true
  }
 },
 "nbformat": 4,
 "nbformat_minor": 4
}
