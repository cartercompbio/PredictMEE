{
 "cells": [
  {
   "cell_type": "markdown",
   "metadata": {
    "toc": true
   },
   "source": [
    "<h1>Table of Contents<span class=\"tocSkip\"></span></h1>\n",
    "<div class=\"toc\"><ul class=\"toc-item\"><li><span><a href=\"#Evaluation-of-metadata-predictions\" data-toc-modified-id=\"Evaluation-of-metadata-predictions-1\"><span class=\"toc-item-num\">1&nbsp;&nbsp;</span>Evaluation of metadata predictions</a></span><ul class=\"toc-item\"><li><span><a href=\"#Set-up\" data-toc-modified-id=\"Set-up-1.1\"><span class=\"toc-item-num\">1.1&nbsp;&nbsp;</span>Set-up</a></span><ul class=\"toc-item\"><li><span><a href=\"#Load-necessary-packages\" data-toc-modified-id=\"Load-necessary-packages-1.1.1\"><span class=\"toc-item-num\">1.1.1&nbsp;&nbsp;</span>Load necessary packages</a></span></li><li><span><a href=\"#Load-data\" data-toc-modified-id=\"Load-data-1.1.2\"><span class=\"toc-item-num\">1.1.2&nbsp;&nbsp;</span>Load data</a></span><ul class=\"toc-item\"><li><span><a href=\"#Load-embedding-model\" data-toc-modified-id=\"Load-embedding-model-1.1.2.1\"><span class=\"toc-item-num\">1.1.2.1&nbsp;&nbsp;</span>Load embedding model</a></span></li><li><span><a href=\"#Create-dataframe\" data-toc-modified-id=\"Create-dataframe-1.1.2.2\"><span class=\"toc-item-num\">1.1.2.2&nbsp;&nbsp;</span>Create dataframe</a></span></li></ul></li></ul></li><li><span><a href=\"#Prediction-performance\" data-toc-modified-id=\"Prediction-performance-1.2\"><span class=\"toc-item-num\">1.2&nbsp;&nbsp;</span>Prediction performance</a></span><ul class=\"toc-item\"><li><span><a href=\"#Covert-to-lower-case-for-better-comparison\" data-toc-modified-id=\"Covert-to-lower-case-for-better-comparison-1.2.1\"><span class=\"toc-item-num\">1.2.1&nbsp;&nbsp;</span>Covert to lower case for better comparison</a></span></li><li><span><a href=\"#Overall-prediction-stats\" data-toc-modified-id=\"Overall-prediction-stats-1.2.2\"><span class=\"toc-item-num\">1.2.2&nbsp;&nbsp;</span>Overall prediction stats</a></span></li><li><span><a href=\"#Exact-matches\" data-toc-modified-id=\"Exact-matches-1.2.3\"><span class=\"toc-item-num\">1.2.3&nbsp;&nbsp;</span>Exact matches</a></span></li><li><span><a href=\"#Contained-within\" data-toc-modified-id=\"Contained-within-1.2.4\"><span class=\"toc-item-num\">1.2.4&nbsp;&nbsp;</span>Contained within</a></span></li><li><span><a href=\"#Cosine-similarity\" data-toc-modified-id=\"Cosine-similarity-1.2.5\"><span class=\"toc-item-num\">1.2.5&nbsp;&nbsp;</span>Cosine similarity</a></span></li><li><span><a href=\"#If-either-cosine-or-contain\" data-toc-modified-id=\"If-either-cosine-or-contain-1.2.6\"><span class=\"toc-item-num\">1.2.6&nbsp;&nbsp;</span>If either cosine or contain</a></span><ul class=\"toc-item\"><li><span><a href=\"#BLEU-scoring\" data-toc-modified-id=\"BLEU-scoring-1.2.6.1\"><span class=\"toc-item-num\">1.2.6.1&nbsp;&nbsp;</span>BLEU scoring</a></span></li><li><span><a href=\"#Levenshtein-distance\" data-toc-modified-id=\"Levenshtein-distance-1.2.6.2\"><span class=\"toc-item-num\">1.2.6.2&nbsp;&nbsp;</span>Levenshtein distance</a></span></li></ul></li></ul></li><li><span><a href=\"#Examples-of-misses?\" data-toc-modified-id=\"Examples-of-misses?-1.3\"><span class=\"toc-item-num\">1.3&nbsp;&nbsp;</span>Examples of misses?</a></span></li></ul></li></ul></div>"
   ]
  },
  {
   "cell_type": "markdown",
   "metadata": {},
   "source": [
    "# Evaluation of metadata predictions\n",
    "Adam Klie<br>\n",
    "12/08/2019<br>\n",
    "Script to evaluate predictions"
   ]
  },
  {
   "cell_type": "markdown",
   "metadata": {},
   "source": [
    "## Set-up"
   ]
  },
  {
   "cell_type": "markdown",
   "metadata": {},
   "source": [
    "### Load necessary packages"
   ]
  },
  {
   "cell_type": "code",
   "execution_count": 1,
   "metadata": {
    "ExecuteTime": {
     "end_time": "2020-08-25T07:22:52.427906Z",
     "start_time": "2020-08-25T07:22:47.318971Z"
    }
   },
   "outputs": [
    {
     "name": "stderr",
     "output_type": "stream",
     "text": [
      "/cellar/users/aklie/opt/miniconda3/envs/PredictMEE_new/lib/python3.6/importlib/_bootstrap.py:219: RuntimeWarning: numpy.dtype size changed, may indicate binary incompatibility. Expected 96, got 88\n",
      "  return f(*args, **kwds)\n",
      "/cellar/users/aklie/opt/miniconda3/envs/PredictMEE_new/lib/python3.6/importlib/_bootstrap.py:219: RuntimeWarning: numpy.ufunc size changed, may indicate binary incompatibility. Expected 192, got 176\n",
      "  return f(*args, **kwds)\n",
      "/cellar/users/aklie/opt/miniconda3/envs/PredictMEE_new/lib/python3.6/importlib/_bootstrap.py:219: RuntimeWarning: numpy.dtype size changed, may indicate binary incompatibility. Expected 96, got 88\n",
      "  return f(*args, **kwds)\n",
      "/cellar/users/aklie/opt/miniconda3/envs/PredictMEE_new/lib/python3.6/importlib/_bootstrap.py:219: RuntimeWarning: numpy.ufunc size changed, may indicate binary incompatibility. Expected 192, got 176\n",
      "  return f(*args, **kwds)\n"
     ]
    }
   ],
   "source": [
    "%matplotlib inline\n",
    "import pandas as pd\n",
    "import numpy as np\n",
    "import matplotlib.pyplot as plt\n",
    "import seaborn as sns\n",
    "import spacy\n",
    "import Levenshtein\n",
    "\n",
    "from sklearn.metrics.pairwise import cosine_similarity\n",
    "from nltk.translate.bleu_score import sentence_bleu\n",
    "from nltk.translate.bleu_score import SmoothingFunction\n",
    "\n",
    "# Autoreload extension\n",
    "if 'autoreload' not in get_ipython().extension_manager.loaded:\n",
    "    %load_ext autoreload\n",
    "    \n",
    "%autoreload 2"
   ]
  },
  {
   "cell_type": "markdown",
   "metadata": {},
   "source": [
    "### Load data"
   ]
  },
  {
   "cell_type": "markdown",
   "metadata": {},
   "source": [
    "#### Load embedding model"
   ]
  },
  {
   "cell_type": "code",
   "execution_count": 2,
   "metadata": {
    "ExecuteTime": {
     "end_time": "2020-08-25T07:24:47.882503Z",
     "start_time": "2020-08-25T07:22:52.450217Z"
    },
    "scrolled": true
   },
   "outputs": [
    {
     "name": "stderr",
     "output_type": "stream",
     "text": [
      "/cellar/users/aklie/opt/miniconda3/envs/PredictMEE_new/lib/python3.6/importlib/_bootstrap.py:219: RuntimeWarning: numpy.dtype size changed, may indicate binary incompatibility. Expected 96, got 88\n",
      "  return f(*args, **kwds)\n",
      "/cellar/users/aklie/opt/miniconda3/envs/PredictMEE_new/lib/python3.6/importlib/_bootstrap.py:219: RuntimeWarning: numpy.ufunc size changed, may indicate binary incompatibility. Expected 192, got 176\n",
      "  return f(*args, **kwds)\n"
     ]
    }
   ],
   "source": [
    "nlp = spacy.load('../data/wikipedia-pubmed-and-PMC-w2v')"
   ]
  },
  {
   "cell_type": "markdown",
   "metadata": {},
   "source": [
    "#### Create dataframe"
   ]
  },
  {
   "cell_type": "code",
   "execution_count": 3,
   "metadata": {
    "ExecuteTime": {
     "end_time": "2020-08-25T07:24:48.178032Z",
     "start_time": "2020-08-25T07:24:47.885109Z"
    }
   },
   "outputs": [],
   "source": [
    "model_iter = '11_class'"
   ]
  },
  {
   "cell_type": "code",
   "execution_count": 4,
   "metadata": {
    "ExecuteTime": {
     "end_time": "2020-08-25T07:24:48.263411Z",
     "start_time": "2020-08-25T07:24:48.182943Z"
    }
   },
   "outputs": [],
   "source": [
    "grouping = pd.read_csv('../results/embedding/{model}/entity_merging.csv'.format(model=model_iter), index_col=0)"
   ]
  },
  {
   "cell_type": "code",
   "execution_count": 5,
   "metadata": {
    "ExecuteTime": {
     "end_time": "2020-08-25T07:24:48.308105Z",
     "start_time": "2020-08-25T07:24:48.266730Z"
    }
   },
   "outputs": [],
   "source": [
    "groups = grouping[grouping[\"I\"] == 0][\"GroupName\"].values"
   ]
  },
  {
   "cell_type": "code",
   "execution_count": 6,
   "metadata": {
    "ExecuteTime": {
     "end_time": "2020-08-25T07:24:49.388746Z",
     "start_time": "2020-08-25T07:24:48.311022Z"
    }
   },
   "outputs": [
    {
     "name": "stdout",
     "output_type": "stream",
     "text": [
      "Species : 1000 , 855\n",
      "Strain : 1000 , 295\n",
      "Cell type : 732 , 144\n",
      "Genotype : 575 , 130\n",
      "Condition/Disease : 126 , 23\n",
      "Tissue : 1000 , 237\n",
      "Sex : 184 , 4\n"
     ]
    },
    {
     "ename": "KeyError",
     "evalue": "\"None of [['SRS819363' 'SRS819365' 'ERS1026194' 'SRS716817']] are in the [index]\"",
     "output_type": "error",
     "traceback": [
      "\u001b[0;31m---------------------------------------------------------------------------\u001b[0m",
      "\u001b[0;31mKeyError\u001b[0m                                  Traceback (most recent call last)",
      "\u001b[0;32m<ipython-input-6-e820ad9779f5>\u001b[0m in \u001b[0;36m<module>\u001b[0;34m()\u001b[0m\n\u001b[1;32m     21\u001b[0m     \u001b[0mprint\u001b[0m\u001b[0;34m(\u001b[0m\u001b[0mgroup\u001b[0m\u001b[0;34m,\u001b[0m \u001b[0;34m\":\"\u001b[0m\u001b[0;34m,\u001b[0m \u001b[0mvalidation_data\u001b[0m\u001b[0;34m.\u001b[0m\u001b[0mshape\u001b[0m\u001b[0;34m[\u001b[0m\u001b[0;36m0\u001b[0m\u001b[0;34m]\u001b[0m\u001b[0;34m,\u001b[0m \u001b[0;34m\",\"\u001b[0m\u001b[0;34m,\u001b[0m \u001b[0mclass_df\u001b[0m\u001b[0;34m.\u001b[0m\u001b[0mshape\u001b[0m\u001b[0;34m[\u001b[0m\u001b[0;36m0\u001b[0m\u001b[0;34m]\u001b[0m\u001b[0;34m)\u001b[0m\u001b[0;34m\u001b[0m\u001b[0m\n\u001b[1;32m     22\u001b[0m     \u001b[0mvalidation_data_count\u001b[0m\u001b[0;34m[\u001b[0m\u001b[0mgroup\u001b[0m\u001b[0;34m]\u001b[0m \u001b[0;34m=\u001b[0m \u001b[0mvalidation_data\u001b[0m\u001b[0;34m.\u001b[0m\u001b[0mshape\u001b[0m\u001b[0;34m[\u001b[0m\u001b[0;36m0\u001b[0m\u001b[0;34m]\u001b[0m\u001b[0;34m\u001b[0m\u001b[0m\n\u001b[0;32m---> 23\u001b[0;31m     \u001b[0mtmp_df\u001b[0m \u001b[0;34m=\u001b[0m \u001b[0mclass_validation\u001b[0m\u001b[0;34m.\u001b[0m\u001b[0mloc\u001b[0m\u001b[0;34m[\u001b[0m\u001b[0mclass_df\u001b[0m\u001b[0;34m[\u001b[0m\u001b[0;34m'srs'\u001b[0m\u001b[0;34m]\u001b[0m\u001b[0;34m.\u001b[0m\u001b[0mvalues\u001b[0m\u001b[0;34m]\u001b[0m\u001b[0;34m\u001b[0m\u001b[0m\n\u001b[0m\u001b[1;32m     24\u001b[0m     \u001b[0mtmp_df\u001b[0m \u001b[0;34m=\u001b[0m \u001b[0mtmp_df\u001b[0m\u001b[0;34m.\u001b[0m\u001b[0mloc\u001b[0m\u001b[0;34m[\u001b[0m\u001b[0;34m~\u001b[0m\u001b[0mtmp_df\u001b[0m\u001b[0;34m.\u001b[0m\u001b[0mindex\u001b[0m\u001b[0;34m.\u001b[0m\u001b[0mduplicated\u001b[0m\u001b[0;34m(\u001b[0m\u001b[0mkeep\u001b[0m \u001b[0;34m=\u001b[0m \u001b[0;34m'first'\u001b[0m\u001b[0;34m)\u001b[0m\u001b[0;34m]\u001b[0m\u001b[0;34m\u001b[0m\u001b[0m\n\u001b[1;32m     25\u001b[0m     \u001b[0mclass_df\u001b[0m\u001b[0;34m[\u001b[0m\u001b[0;34m'actual'\u001b[0m\u001b[0;34m]\u001b[0m \u001b[0;34m=\u001b[0m \u001b[0mtmp_df\u001b[0m\u001b[0;34m.\u001b[0m\u001b[0mloc\u001b[0m\u001b[0;34m[\u001b[0m\u001b[0mclass_df\u001b[0m\u001b[0;34m[\u001b[0m\u001b[0;34m'srs'\u001b[0m\u001b[0;34m]\u001b[0m\u001b[0;34m.\u001b[0m\u001b[0mvalues\u001b[0m\u001b[0;34m]\u001b[0m\u001b[0;34m[\u001b[0m\u001b[0;34m'value'\u001b[0m\u001b[0;34m]\u001b[0m\u001b[0;34m.\u001b[0m\u001b[0mvalues\u001b[0m\u001b[0;34m\u001b[0m\u001b[0m\n",
      "\u001b[0;32m~/opt/miniconda3/envs/PredictMEE_new/lib/python3.6/site-packages/pandas/core/indexing.py\u001b[0m in \u001b[0;36m__getitem__\u001b[0;34m(self, key)\u001b[0m\n\u001b[1;32m   1476\u001b[0m \u001b[0;34m\u001b[0m\u001b[0m\n\u001b[1;32m   1477\u001b[0m             \u001b[0mmaybe_callable\u001b[0m \u001b[0;34m=\u001b[0m \u001b[0mcom\u001b[0m\u001b[0;34m.\u001b[0m\u001b[0m_apply_if_callable\u001b[0m\u001b[0;34m(\u001b[0m\u001b[0mkey\u001b[0m\u001b[0;34m,\u001b[0m \u001b[0mself\u001b[0m\u001b[0;34m.\u001b[0m\u001b[0mobj\u001b[0m\u001b[0;34m)\u001b[0m\u001b[0;34m\u001b[0m\u001b[0m\n\u001b[0;32m-> 1478\u001b[0;31m             \u001b[0;32mreturn\u001b[0m \u001b[0mself\u001b[0m\u001b[0;34m.\u001b[0m\u001b[0m_getitem_axis\u001b[0m\u001b[0;34m(\u001b[0m\u001b[0mmaybe_callable\u001b[0m\u001b[0;34m,\u001b[0m \u001b[0maxis\u001b[0m\u001b[0;34m=\u001b[0m\u001b[0maxis\u001b[0m\u001b[0;34m)\u001b[0m\u001b[0;34m\u001b[0m\u001b[0m\n\u001b[0m\u001b[1;32m   1479\u001b[0m \u001b[0;34m\u001b[0m\u001b[0m\n\u001b[1;32m   1480\u001b[0m     \u001b[0;32mdef\u001b[0m \u001b[0m_is_scalar_access\u001b[0m\u001b[0;34m(\u001b[0m\u001b[0mself\u001b[0m\u001b[0;34m,\u001b[0m \u001b[0mkey\u001b[0m\u001b[0;34m)\u001b[0m\u001b[0;34m:\u001b[0m\u001b[0;34m\u001b[0m\u001b[0m\n",
      "\u001b[0;32m~/opt/miniconda3/envs/PredictMEE_new/lib/python3.6/site-packages/pandas/core/indexing.py\u001b[0m in \u001b[0;36m_getitem_axis\u001b[0;34m(self, key, axis)\u001b[0m\n\u001b[1;32m   1899\u001b[0m                     \u001b[0;32mraise\u001b[0m \u001b[0mValueError\u001b[0m\u001b[0;34m(\u001b[0m\u001b[0;34m'Cannot index with multidimensional key'\u001b[0m\u001b[0;34m)\u001b[0m\u001b[0;34m\u001b[0m\u001b[0m\n\u001b[1;32m   1900\u001b[0m \u001b[0;34m\u001b[0m\u001b[0m\n\u001b[0;32m-> 1901\u001b[0;31m                 \u001b[0;32mreturn\u001b[0m \u001b[0mself\u001b[0m\u001b[0;34m.\u001b[0m\u001b[0m_getitem_iterable\u001b[0m\u001b[0;34m(\u001b[0m\u001b[0mkey\u001b[0m\u001b[0;34m,\u001b[0m \u001b[0maxis\u001b[0m\u001b[0;34m=\u001b[0m\u001b[0maxis\u001b[0m\u001b[0;34m)\u001b[0m\u001b[0;34m\u001b[0m\u001b[0m\n\u001b[0m\u001b[1;32m   1902\u001b[0m \u001b[0;34m\u001b[0m\u001b[0m\n\u001b[1;32m   1903\u001b[0m             \u001b[0;31m# nested tuple slicing\u001b[0m\u001b[0;34m\u001b[0m\u001b[0;34m\u001b[0m\u001b[0m\n",
      "\u001b[0;32m~/opt/miniconda3/envs/PredictMEE_new/lib/python3.6/site-packages/pandas/core/indexing.py\u001b[0m in \u001b[0;36m_getitem_iterable\u001b[0;34m(self, key, axis)\u001b[0m\n\u001b[1;32m   1141\u001b[0m             \u001b[0;32mif\u001b[0m \u001b[0mlabels\u001b[0m\u001b[0;34m.\u001b[0m\u001b[0mis_unique\u001b[0m \u001b[0;32mand\u001b[0m \u001b[0mIndex\u001b[0m\u001b[0;34m(\u001b[0m\u001b[0mkeyarr\u001b[0m\u001b[0;34m)\u001b[0m\u001b[0;34m.\u001b[0m\u001b[0mis_unique\u001b[0m\u001b[0;34m:\u001b[0m\u001b[0;34m\u001b[0m\u001b[0m\n\u001b[1;32m   1142\u001b[0m                 \u001b[0mindexer\u001b[0m \u001b[0;34m=\u001b[0m \u001b[0max\u001b[0m\u001b[0;34m.\u001b[0m\u001b[0mget_indexer_for\u001b[0m\u001b[0;34m(\u001b[0m\u001b[0mkey\u001b[0m\u001b[0;34m)\u001b[0m\u001b[0;34m\u001b[0m\u001b[0m\n\u001b[0;32m-> 1143\u001b[0;31m                 \u001b[0mself\u001b[0m\u001b[0;34m.\u001b[0m\u001b[0m_validate_read_indexer\u001b[0m\u001b[0;34m(\u001b[0m\u001b[0mkey\u001b[0m\u001b[0;34m,\u001b[0m \u001b[0mindexer\u001b[0m\u001b[0;34m,\u001b[0m \u001b[0maxis\u001b[0m\u001b[0;34m)\u001b[0m\u001b[0;34m\u001b[0m\u001b[0m\n\u001b[0m\u001b[1;32m   1144\u001b[0m \u001b[0;34m\u001b[0m\u001b[0m\n\u001b[1;32m   1145\u001b[0m                 \u001b[0md\u001b[0m \u001b[0;34m=\u001b[0m \u001b[0;34m{\u001b[0m\u001b[0maxis\u001b[0m\u001b[0;34m:\u001b[0m \u001b[0;34m[\u001b[0m\u001b[0max\u001b[0m\u001b[0;34m.\u001b[0m\u001b[0mreindex\u001b[0m\u001b[0;34m(\u001b[0m\u001b[0mkeyarr\u001b[0m\u001b[0;34m)\u001b[0m\u001b[0;34m[\u001b[0m\u001b[0;36m0\u001b[0m\u001b[0;34m]\u001b[0m\u001b[0;34m,\u001b[0m \u001b[0mindexer\u001b[0m\u001b[0;34m]\u001b[0m\u001b[0;34m}\u001b[0m\u001b[0;34m\u001b[0m\u001b[0m\n",
      "\u001b[0;32m~/opt/miniconda3/envs/PredictMEE_new/lib/python3.6/site-packages/pandas/core/indexing.py\u001b[0m in \u001b[0;36m_validate_read_indexer\u001b[0;34m(self, key, indexer, axis)\u001b[0m\n\u001b[1;32m   1204\u001b[0m                 raise KeyError(\n\u001b[1;32m   1205\u001b[0m                     u\"None of [{key}] are in the [{axis}]\".format(\n\u001b[0;32m-> 1206\u001b[0;31m                         key=key, axis=self.obj._get_axis_name(axis)))\n\u001b[0m\u001b[1;32m   1207\u001b[0m \u001b[0;34m\u001b[0m\u001b[0m\n\u001b[1;32m   1208\u001b[0m             \u001b[0;31m# we skip the warning on Categorical/Interval\u001b[0m\u001b[0;34m\u001b[0m\u001b[0;34m\u001b[0m\u001b[0m\n",
      "\u001b[0;31mKeyError\u001b[0m: \"None of [['SRS819363' 'SRS819365' 'ERS1026194' 'SRS716817']] are in the [index]\""
     ]
    }
   ],
   "source": [
    "import warnings\n",
    "warnings.filterwarnings('ignore')\n",
    "validation_data_count = {}\n",
    "merged = pd.DataFrame()\n",
    "total_count = 0\n",
    "for group in groups:\n",
    "    group_dir = group.replace(' ', '_')\n",
    "    group_dir = group_dir.replace('/', '_')\n",
    "    #if group == \"Platform\":\n",
    "    #    continue\n",
    "    predicted_df = pd.read_pickle(\n",
    "    '../results/prediction/{mymodel}/{myclass}_prediction.pickle'.format(mymodel = model_iter, \n",
    "                                                                          myclass = group_dir))\n",
    "    class_validation = pd.read_pickle(\n",
    "    '../results/validation/{mymodel}/{myclass}_validation_values.pickle'.format(mymodel = model_iter, \n",
    "                                                                                myclass = group_dir))\n",
    "    validation_data = pd.read_pickle(\n",
    "    '../results/validation/{mymodel}/{myclass}_validation_set.pickle'.format(mymodel = model_iter, \n",
    "                                                                             myclass = group_dir))\n",
    "    class_df = predicted_df[predicted_df['predicted'] == group]\n",
    "    print(group, \":\", validation_data.shape[0], \",\", class_df.shape[0])\n",
    "    validation_data_count[group] = validation_data.shape[0]\n",
    "    tmp_df = class_validation.loc[class_df['srs'].values]\n",
    "    tmp_df = tmp_df.loc[~tmp_df.index.duplicated(keep = 'first')]\n",
    "    class_df['actual'] = tmp_df.loc[class_df['srs'].values]['value'].values\n",
    "    merged = pd.concat([merged, class_df], axis=0)\n",
    "    total_count = total_count + validation_data.shape[0]"
   ]
  },
  {
   "cell_type": "markdown",
   "metadata": {},
   "source": [
    "## Prediction performance"
   ]
  },
  {
   "cell_type": "markdown",
   "metadata": {},
   "source": [
    "### Covert to lower case for better comparison"
   ]
  },
  {
   "cell_type": "code",
   "execution_count": null,
   "metadata": {
    "ExecuteTime": {
     "end_time": "2020-08-25T07:24:49.390045Z",
     "start_time": "2020-08-25T07:22:47.336Z"
    }
   },
   "outputs": [],
   "source": [
    "merged[\"token\"] = merged[\"token\"].str.lower()\n",
    "merged[\"actual\"] = merged[\"actual\"].str.lower()"
   ]
  },
  {
   "cell_type": "markdown",
   "metadata": {},
   "source": [
    "### Overall prediction stats"
   ]
  },
  {
   "cell_type": "code",
   "execution_count": null,
   "metadata": {
    "ExecuteTime": {
     "end_time": "2020-08-25T07:24:49.390889Z",
     "start_time": "2020-08-25T07:22:47.342Z"
    }
   },
   "outputs": [],
   "source": [
    "predicted_count = merged.shape[0]\n",
    "print(('%d/%d (%.2f%%) predicted' % \n",
    "       (predicted_count, total_count, predicted_count/total_count*100)))"
   ]
  },
  {
   "cell_type": "code",
   "execution_count": null,
   "metadata": {
    "ExecuteTime": {
     "end_time": "2020-08-25T07:24:49.391607Z",
     "start_time": "2020-08-25T07:22:47.347Z"
    }
   },
   "outputs": [],
   "source": [
    "merged[\"predicted\"].value_counts()"
   ]
  },
  {
   "cell_type": "code",
   "execution_count": null,
   "metadata": {
    "ExecuteTime": {
     "end_time": "2020-08-25T07:24:49.393524Z",
     "start_time": "2020-08-25T07:22:47.352Z"
    }
   },
   "outputs": [],
   "source": [
    "# missing_df = class_validation[~class_validation.index.isin(class_df['srs'].values)]\n",
    "# missing = validation_data[~validation_data.index.get_level_values(0).isin(class_df['srs'].values)]\n",
    "# if missing_df.shape[0] == len(missing):  # if there are not duplicate srs predictions\n",
    "#     missing_df['TITLE'] = missing.values"
   ]
  },
  {
   "cell_type": "code",
   "execution_count": null,
   "metadata": {
    "ExecuteTime": {
     "end_time": "2020-08-25T07:24:49.394836Z",
     "start_time": "2020-08-25T07:22:47.359Z"
    }
   },
   "outputs": [],
   "source": [
    "# missing_df.to_csv(\n",
    "#     '../results/{model}/predictions/{myclass}_missing.csv'.format(model = model_iter, myclass = predicted_class))"
   ]
  },
  {
   "cell_type": "markdown",
   "metadata": {},
   "source": [
    "### Exact matches"
   ]
  },
  {
   "cell_type": "code",
   "execution_count": null,
   "metadata": {
    "ExecuteTime": {
     "end_time": "2020-08-25T07:24:49.396205Z",
     "start_time": "2020-08-25T07:22:47.365Z"
    }
   },
   "outputs": [],
   "source": [
    "merged[\"exact_match\"] = merged['token'] == merged['actual']"
   ]
  },
  {
   "cell_type": "code",
   "execution_count": null,
   "metadata": {
    "ExecuteTime": {
     "end_time": "2020-08-25T07:24:49.397484Z",
     "start_time": "2020-08-25T07:22:47.370Z"
    }
   },
   "outputs": [],
   "source": [
    "num_correct = merged[\"exact_match\"].sum()\n",
    "print(('%d/%d (%.2f%%) exact matches' % \n",
    "       (num_correct, predicted_count, num_correct/predicted_count*100)))"
   ]
  },
  {
   "cell_type": "code",
   "execution_count": null,
   "metadata": {
    "ExecuteTime": {
     "end_time": "2020-08-25T07:24:49.398716Z",
     "start_time": "2020-08-25T07:22:47.377Z"
    }
   },
   "outputs": [],
   "source": [
    "class_exact = merged.groupby(['predicted', 'exact_match']).size().reset_index().pivot(index='predicted', \n",
    "                                                                                      columns='exact_match')\n",
    "class_exact"
   ]
  },
  {
   "cell_type": "code",
   "execution_count": null,
   "metadata": {
    "ExecuteTime": {
     "end_time": "2020-08-25T07:24:49.399931Z",
     "start_time": "2020-08-25T07:22:47.382Z"
    }
   },
   "outputs": [],
   "source": [
    "merged.groupby('exact_match').mean()[\"score\"]"
   ]
  },
  {
   "cell_type": "code",
   "execution_count": null,
   "metadata": {
    "ExecuteTime": {
     "end_time": "2020-08-25T07:24:49.401249Z",
     "start_time": "2020-08-25T07:22:47.387Z"
    }
   },
   "outputs": [],
   "source": [
    "sns.distplot(merged[merged['exact_match'] == True]['score'], label='Match', kde=False)\n",
    "sns.distplot(merged[merged['exact_match'] == False]['score'], label='Non-match', kde=False)\n",
    "plt.legend(prop={'size': 12})"
   ]
  },
  {
   "cell_type": "code",
   "execution_count": null,
   "metadata": {
    "ExecuteTime": {
     "end_time": "2020-08-25T07:24:49.402450Z",
     "start_time": "2020-08-25T07:22:47.392Z"
    }
   },
   "outputs": [],
   "source": [
    "# exact_correct_df.to_csv(\n",
    "#     '../results/{model}/predictions/{myclass}_correct.csv'.format(model = model_iter, myclass = predicted_class))\n",
    "# exact_incorrect_df.to_csv(\n",
    "#     '../results/{model}/predictions/{myclass}_incorrect.csv'.format(model = model_iter, myclass = predicted_class))"
   ]
  },
  {
   "cell_type": "code",
   "execution_count": null,
   "metadata": {
    "ExecuteTime": {
     "end_time": "2020-08-25T07:24:49.403729Z",
     "start_time": "2020-08-25T07:22:47.397Z"
    }
   },
   "outputs": [],
   "source": [
    "ax = sns.violinplot(x='predicted', y='score', data=merged, hue='exact_match')"
   ]
  },
  {
   "cell_type": "markdown",
   "metadata": {},
   "source": [
    "### Contained within"
   ]
  },
  {
   "cell_type": "code",
   "execution_count": null,
   "metadata": {
    "ExecuteTime": {
     "end_time": "2020-08-25T07:24:49.405139Z",
     "start_time": "2020-08-25T07:22:47.402Z"
    }
   },
   "outputs": [],
   "source": [
    "def within(x):\n",
    "    if (x[\"actual\"] in x['token']) or (x['token'] in x[\"actual\"]):\n",
    "        return True\n",
    "    else:\n",
    "        return False"
   ]
  },
  {
   "cell_type": "code",
   "execution_count": null,
   "metadata": {
    "ExecuteTime": {
     "end_time": "2020-08-25T07:24:49.406409Z",
     "start_time": "2020-08-25T07:22:47.407Z"
    }
   },
   "outputs": [],
   "source": [
    "merged['within'] = merged.apply(within, axis=1)\n",
    "count = merged['within'].sum()"
   ]
  },
  {
   "cell_type": "code",
   "execution_count": null,
   "metadata": {
    "ExecuteTime": {
     "end_time": "2020-08-25T07:24:49.408011Z",
     "start_time": "2020-08-25T07:22:47.412Z"
    }
   },
   "outputs": [],
   "source": [
    "print(('%d/%d (%.2f%%) of predicted contained in actual' % \n",
    "       (count, predicted_count, count/predicted_count*100)))"
   ]
  },
  {
   "cell_type": "code",
   "execution_count": null,
   "metadata": {
    "ExecuteTime": {
     "end_time": "2020-08-25T07:24:49.409831Z",
     "start_time": "2020-08-25T07:22:47.420Z"
    }
   },
   "outputs": [],
   "source": [
    "class_contain = merged.groupby(['predicted', 'within']).size().reset_index().pivot(index='predicted', \n",
    "                                                                                      columns='within')\n",
    "class_contain.columns = [\"non-match\", \"match\"]\n",
    "class_contain[\"fraction_match\"] = class_contain[\"match\"]/class_contain.sum(axis=1)"
   ]
  },
  {
   "cell_type": "code",
   "execution_count": null,
   "metadata": {
    "ExecuteTime": {
     "end_time": "2020-08-25T07:24:49.411356Z",
     "start_time": "2020-08-25T07:22:47.425Z"
    }
   },
   "outputs": [],
   "source": [
    "class_contain"
   ]
  },
  {
   "cell_type": "markdown",
   "metadata": {},
   "source": [
    "### Cosine similarity"
   ]
  },
  {
   "cell_type": "code",
   "execution_count": null,
   "metadata": {
    "ExecuteTime": {
     "end_time": "2020-08-25T07:24:49.412902Z",
     "start_time": "2020-08-25T07:22:47.430Z"
    }
   },
   "outputs": [],
   "source": [
    "predicted_docs = nlp.pipe(merged['token'].tolist())\n",
    "predicted_vectors = np.array([doc.vector for doc in predicted_docs])\n",
    "\n",
    "actual_docs = nlp.pipe(merged['actual'].tolist())\n",
    "actual_vectors = np.array([doc.vector for doc in actual_docs])"
   ]
  },
  {
   "cell_type": "code",
   "execution_count": null,
   "metadata": {
    "ExecuteTime": {
     "end_time": "2020-08-25T07:24:49.414448Z",
     "start_time": "2020-08-25T07:22:47.435Z"
    }
   },
   "outputs": [],
   "source": [
    "similarities = []\n",
    "for i in range(len(predicted_vectors)):\n",
    "    cosine_sim = cosine_similarity(predicted_vectors[i].reshape(1,200), actual_vectors[i].reshape(1,200))\n",
    "    similarities.append(float(cosine_sim))"
   ]
  },
  {
   "cell_type": "code",
   "execution_count": null,
   "metadata": {
    "ExecuteTime": {
     "end_time": "2020-08-25T07:24:49.415996Z",
     "start_time": "2020-08-25T07:22:47.439Z"
    },
    "cell_style": "center"
   },
   "outputs": [],
   "source": [
    "merged[\"cosine_similarity\"] = similarities"
   ]
  },
  {
   "cell_type": "code",
   "execution_count": null,
   "metadata": {
    "ExecuteTime": {
     "end_time": "2020-08-25T07:24:49.418075Z",
     "start_time": "2020-08-25T07:22:47.444Z"
    }
   },
   "outputs": [],
   "source": [
    "plt.hist(merged['cosine_similarity'])"
   ]
  },
  {
   "cell_type": "code",
   "execution_count": null,
   "metadata": {
    "ExecuteTime": {
     "end_time": "2020-08-25T07:24:49.419577Z",
     "start_time": "2020-08-25T07:22:47.448Z"
    }
   },
   "outputs": [],
   "source": [
    "sim_threshold = 0.70\n",
    "merged[\"cosine_match\"] = merged['cosine_similarity'].values > sim_threshold\n",
    "num_sim = merged[\"cosine_match\"].sum()"
   ]
  },
  {
   "cell_type": "code",
   "execution_count": null,
   "metadata": {
    "ExecuteTime": {
     "end_time": "2020-08-25T07:24:49.421172Z",
     "start_time": "2020-08-25T07:22:47.452Z"
    },
    "scrolled": true
   },
   "outputs": [],
   "source": [
    "print(('%d/%d (%.2f%%) Predicted with cosine similarity greater than %.1f\\n' \n",
    "                     % (num_sim, predicted_count, num_sim/predicted_count*100, sim_threshold)))"
   ]
  },
  {
   "cell_type": "code",
   "execution_count": null,
   "metadata": {
    "ExecuteTime": {
     "end_time": "2020-08-25T07:24:49.422696Z",
     "start_time": "2020-08-25T07:22:47.457Z"
    }
   },
   "outputs": [],
   "source": [
    "class_cosine = merged.groupby(['predicted', 'cosine_match']).size().reset_index().pivot(index='predicted', \n",
    "                                                                                        columns='cosine_match')\n",
    "class_cosine.columns = [\"non-match\", \"match\"]\n",
    "class_cosine[\"fraction_match\"] = class_cosine[\"match\"]/class_cosine.sum(axis=1)"
   ]
  },
  {
   "cell_type": "code",
   "execution_count": null,
   "metadata": {
    "ExecuteTime": {
     "end_time": "2020-08-25T07:24:49.424720Z",
     "start_time": "2020-08-25T07:22:47.462Z"
    }
   },
   "outputs": [],
   "source": [
    "class_cosine"
   ]
  },
  {
   "cell_type": "code",
   "execution_count": null,
   "metadata": {
    "ExecuteTime": {
     "end_time": "2020-08-25T07:24:49.426353Z",
     "start_time": "2020-08-25T07:22:47.467Z"
    }
   },
   "outputs": [],
   "source": [
    "title_counts = pd.DataFrame(pd.Series(validation_data_count), columns=['titles'])"
   ]
  },
  {
   "cell_type": "code",
   "execution_count": null,
   "metadata": {
    "ExecuteTime": {
     "end_time": "2020-08-25T07:24:49.427842Z",
     "start_time": "2020-08-25T07:22:47.472Z"
    },
    "scrolled": true
   },
   "outputs": [],
   "source": [
    "class_contain"
   ]
  },
  {
   "cell_type": "markdown",
   "metadata": {},
   "source": [
    "### If either cosine or contain"
   ]
  },
  {
   "cell_type": "code",
   "execution_count": null,
   "metadata": {
    "ExecuteTime": {
     "end_time": "2020-08-25T07:24:49.429881Z",
     "start_time": "2020-08-25T07:22:47.478Z"
    }
   },
   "outputs": [],
   "source": [
    "merged[\"either\"] = merged[\"within\"] | merged[\"cosine_match\"]"
   ]
  },
  {
   "cell_type": "code",
   "execution_count": null,
   "metadata": {
    "ExecuteTime": {
     "end_time": "2020-08-25T07:24:49.431496Z",
     "start_time": "2020-08-25T07:22:47.483Z"
    }
   },
   "outputs": [],
   "source": [
    "class_either = merged.groupby(['predicted', 'either']).size().reset_index().pivot(index='predicted', \n",
    "                                                                                        columns='either')\n",
    "class_either.columns = [\"non-match\", \"match\"]\n",
    "class_either[\"either_match\"] = class_either[\"match\"]/class_either.sum(axis=1)"
   ]
  },
  {
   "cell_type": "code",
   "execution_count": null,
   "metadata": {
    "ExecuteTime": {
     "end_time": "2020-08-25T07:24:49.438895Z",
     "start_time": "2020-08-25T07:22:47.488Z"
    }
   },
   "outputs": [],
   "source": [
    "class_either"
   ]
  },
  {
   "cell_type": "code",
   "execution_count": null,
   "metadata": {
    "ExecuteTime": {
     "end_time": "2020-08-25T07:24:49.441112Z",
     "start_time": "2020-08-25T07:22:47.493Z"
    }
   },
   "outputs": [],
   "source": [
    "table1 = class_cosine.merge(pd.DataFrame(merged[\"predicted\"].value_counts()), left_index=True, right_index=True)\n",
    "table1 = table1.merge(title_counts, left_index=True, right_index=True)\n",
    "table1 = table1.merge(class_contain, left_index=True, right_index=True, suffixes=['_cosine', '_contain'])\n",
    "table1 = table1.merge(class_either, left_index=True, right_index=True, suffixes=['_either', '_either'])"
   ]
  },
  {
   "cell_type": "code",
   "execution_count": null,
   "metadata": {
    "ExecuteTime": {
     "end_time": "2020-08-25T07:24:49.442901Z",
     "start_time": "2020-08-25T07:22:47.497Z"
    }
   },
   "outputs": [],
   "source": [
    "table1[\"fraction_predicted\"] = table1['predicted']/table1['titles']"
   ]
  },
  {
   "cell_type": "code",
   "execution_count": null,
   "metadata": {
    "ExecuteTime": {
     "end_time": "2020-08-25T07:24:49.444701Z",
     "start_time": "2020-08-25T07:22:47.503Z"
    }
   },
   "outputs": [],
   "source": [
    "table1"
   ]
  },
  {
   "cell_type": "code",
   "execution_count": null,
   "metadata": {
    "ExecuteTime": {
     "end_time": "2020-08-25T07:24:49.446500Z",
     "start_time": "2020-08-25T07:22:47.508Z"
    }
   },
   "outputs": [],
   "source": [
    "table1 = table1[['titles', 'predicted', 'fraction_predicted', \n",
    "        'match_cosine', 'fraction_match_cosine', 'match_contain', 'fraction_match_contain', 'match', 'either_match']]"
   ]
  },
  {
   "cell_type": "code",
   "execution_count": null,
   "metadata": {
    "ExecuteTime": {
     "end_time": "2020-08-25T07:24:49.448553Z",
     "start_time": "2020-08-25T07:22:47.512Z"
    }
   },
   "outputs": [],
   "source": [
    "table1['percent_correct'] = table1[[\"fraction_match_cosine\", \"fraction_match_contain\"]].max(axis=1)"
   ]
  },
  {
   "cell_type": "code",
   "execution_count": null,
   "metadata": {
    "ExecuteTime": {
     "end_time": "2020-08-25T07:24:49.450341Z",
     "start_time": "2020-08-25T07:22:47.521Z"
    }
   },
   "outputs": [],
   "source": [
    "table1"
   ]
  },
  {
   "cell_type": "code",
   "execution_count": null,
   "metadata": {
    "ExecuteTime": {
     "end_time": "2020-08-25T07:24:49.452131Z",
     "start_time": "2020-08-25T07:22:47.526Z"
    }
   },
   "outputs": [],
   "source": [
    "table1.to_csv('../doc/tables/Table1.csv', index=True)"
   ]
  },
  {
   "cell_type": "markdown",
   "metadata": {},
   "source": [
    "#### BLEU scoring"
   ]
  },
  {
   "cell_type": "code",
   "execution_count": null,
   "metadata": {
    "ExecuteTime": {
     "end_time": "2020-08-25T07:24:49.454285Z",
     "start_time": "2020-08-25T07:22:47.531Z"
    }
   },
   "outputs": [],
   "source": [
    "def bleu1(x):\n",
    "    return sentence_bleu(x[\"predicted\"], x[\"actual\"], weights=(1, 0, 0, 0), smoothing_function=smoother.method1)\n",
    "\n",
    "def bleu4(x):\n",
    "    return sentence_bleu(x[\"predicted\"], x[\"actual\"], weights=(0, 0, 0, 1), smoothing_function=smoother.method1)"
   ]
  },
  {
   "cell_type": "code",
   "execution_count": null,
   "metadata": {
    "ExecuteTime": {
     "end_time": "2020-08-25T07:24:49.456071Z",
     "start_time": "2020-08-25T07:22:47.538Z"
    }
   },
   "outputs": [],
   "source": [
    "smoother = SmoothingFunction()\n",
    "table1[\"BLUE1\"] = table1.apply(bleu1, axis=1)\n",
    "table1[\"BLUE4\"] = table1.apply(bleu4, axis=1)"
   ]
  },
  {
   "cell_type": "markdown",
   "metadata": {},
   "source": [
    "#### Levenshtein distance"
   ]
  },
  {
   "cell_type": "code",
   "execution_count": null,
   "metadata": {
    "ExecuteTime": {
     "end_time": "2020-08-25T07:24:49.457867Z",
     "start_time": "2020-08-25T07:22:47.543Z"
    }
   },
   "outputs": [],
   "source": [
    "def levenshtein(x):\n",
    "    return Levenshtein.distance(x[\"predicted\"], x[\"actual\"])"
   ]
  },
  {
   "cell_type": "code",
   "execution_count": null,
   "metadata": {
    "ExecuteTime": {
     "end_time": "2020-08-25T07:24:49.459658Z",
     "start_time": "2020-08-25T07:22:47.548Z"
    }
   },
   "outputs": [],
   "source": [
    "table1[\"levenshtein\"] = table1.apply(levenshtein, axis=1)"
   ]
  },
  {
   "cell_type": "markdown",
   "metadata": {},
   "source": [
    "## Examples of misses?"
   ]
  },
  {
   "cell_type": "code",
   "execution_count": null,
   "metadata": {
    "ExecuteTime": {
     "end_time": "2020-08-25T07:24:49.461463Z",
     "start_time": "2020-08-25T07:22:47.553Z"
    }
   },
   "outputs": [],
   "source": [
    "missed = merged[~merged[\"either\"]]\n",
    "missed_df = missed[[\"predicted\", \"orig_text\",\"recovered_txt\", \"actual\"]]"
   ]
  },
  {
   "cell_type": "code",
   "execution_count": null,
   "metadata": {
    "ExecuteTime": {
     "end_time": "2020-08-25T07:24:49.463236Z",
     "start_time": "2020-08-25T07:22:47.559Z"
    }
   },
   "outputs": [],
   "source": [
    "missed_df.to_csv('../doc/figures/Supplementary/Supp_Table3.csv')"
   ]
  },
  {
   "cell_type": "code",
   "execution_count": null,
   "metadata": {
    "ExecuteTime": {
     "end_time": "2020-08-25T07:24:49.465015Z",
     "start_time": "2020-08-25T07:22:47.564Z"
    }
   },
   "outputs": [],
   "source": [
    "missed.columns"
   ]
  }
 ],
 "metadata": {
  "kernelspec": {
   "display_name": "py3_PredictMEE",
   "language": "python",
   "name": "predictmee"
  },
  "language_info": {
   "codemirror_mode": {
    "name": "ipython",
    "version": 3
   },
   "file_extension": ".py",
   "mimetype": "text/x-python",
   "name": "python",
   "nbconvert_exporter": "python",
   "pygments_lexer": "ipython3",
   "version": "3.6.6"
  },
  "toc": {
   "base_numbering": 1,
   "nav_menu": {},
   "number_sections": true,
   "sideBar": true,
   "skip_h1_title": false,
   "title_cell": "Table of Contents",
   "title_sidebar": "Contents",
   "toc_cell": true,
   "toc_position": {},
   "toc_section_display": true,
   "toc_window_display": true
  }
 },
 "nbformat": 4,
 "nbformat_minor": 2
}
