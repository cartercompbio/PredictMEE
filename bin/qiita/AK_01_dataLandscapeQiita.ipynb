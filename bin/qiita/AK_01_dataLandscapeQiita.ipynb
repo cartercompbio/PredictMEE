{
 "cells": [
  {
   "cell_type": "markdown",
   "metadata": {
    "toc": true
   },
   "source": [
    "<h1>Table of Contents<span class=\"tocSkip\"></span></h1>\n",
    "<div class=\"toc\"><ul class=\"toc-item\"><li><span><a href=\"#Qiita-data-landscape\" data-toc-modified-id=\"Qiita-data-landscape-1\"><span class=\"toc-item-num\">1&nbsp;&nbsp;</span>Qiita data landscape</a></span></li><li><span><a href=\"#Set-up\" data-toc-modified-id=\"Set-up-2\"><span class=\"toc-item-num\">2&nbsp;&nbsp;</span>Set-up</a></span><ul class=\"toc-item\"><li><span><a href=\"#Import-needed-packages-and-set-up-plotting\" data-toc-modified-id=\"Import-needed-packages-and-set-up-plotting-2.1\"><span class=\"toc-item-num\">2.1&nbsp;&nbsp;</span>Import needed packages and set up plotting</a></span></li><li><span><a href=\"#Helper-function-to-find-coverage-of-attributes\" data-toc-modified-id=\"Helper-function-to-find-coverage-of-attributes-2.2\"><span class=\"toc-item-num\">2.2&nbsp;&nbsp;</span>Helper function to find coverage of attributes</a></span></li><li><span><a href=\"#Read-in-downloaded-Qiita-attribute-value-pairs\" data-toc-modified-id=\"Read-in-downloaded-Qiita-attribute-value-pairs-2.3\"><span class=\"toc-item-num\">2.3&nbsp;&nbsp;</span>Read in downloaded Qiita attribute-value pairs</a></span><ul class=\"toc-item\"><li><span><a href=\"#Load-full-dataset-and-attribute-descriptions\" data-toc-modified-id=\"Load-full-dataset-and-attribute-descriptions-2.3.1\"><span class=\"toc-item-num\">2.3.1&nbsp;&nbsp;</span>Load full dataset and attribute descriptions</a></span></li><li><span><a href=\"#Build-a-dataframe-to-aid-with-analysis\" data-toc-modified-id=\"Build-a-dataframe-to-aid-with-analysis-2.3.2\"><span class=\"toc-item-num\">2.3.2&nbsp;&nbsp;</span>Build a dataframe to aid with analysis</a></span></li><li><span><a href=\"#Pull-put-study-to-sample-mapping-from-sample_id\" data-toc-modified-id=\"Pull-put-study-to-sample-mapping-from-sample_id-2.3.3\"><span class=\"toc-item-num\">2.3.3&nbsp;&nbsp;</span>Pull put study to sample mapping from sample_id</a></span></li></ul></li></ul></li><li><span><a href=\"#Overall-data-landscape\" data-toc-modified-id=\"Overall-data-landscape-3\"><span class=\"toc-item-num\">3&nbsp;&nbsp;</span>Overall data landscape</a></span><ul class=\"toc-item\"><li><span><a href=\"#Find-the-total-number-of-annotations,-samples-with-annotations,-and-studies-with-annotations\" data-toc-modified-id=\"Find-the-total-number-of-annotations,-samples-with-annotations,-and-studies-with-annotations-3.1\"><span class=\"toc-item-num\">3.1&nbsp;&nbsp;</span>Find the total number of annotations, samples with annotations, and studies with annotations</a></span></li><li><span><a href=\"#Determine-the-coverage-of-different-attributes\" data-toc-modified-id=\"Determine-the-coverage-of-different-attributes-3.2\"><span class=\"toc-item-num\">3.2&nbsp;&nbsp;</span>Determine the coverage of different attributes</a></span><ul class=\"toc-item\"><li><span><a href=\"#Remove-duplicate-values-for-a-single-sample-when-looking-at-coverage-of-samples\" data-toc-modified-id=\"Remove-duplicate-values-for-a-single-sample-when-looking-at-coverage-of-samples-3.2.1\"><span class=\"toc-item-num\">3.2.1&nbsp;&nbsp;</span>Remove duplicate values for a single sample when looking at coverage of samples</a></span></li><li><span><a href=\"#Coverage-of-most-used-attributes-across-entire-dataset\" data-toc-modified-id=\"Coverage-of-most-used-attributes-across-entire-dataset-3.2.2\"><span class=\"toc-item-num\">3.2.2&nbsp;&nbsp;</span>Coverage of most used attributes across entire dataset</a></span></li><li><span><a href=\"#Coverage-of-a-few-MIxS-attributes\" data-toc-modified-id=\"Coverage-of-a-few-MIxS-attributes-3.2.3\"><span class=\"toc-item-num\">3.2.3&nbsp;&nbsp;</span>Coverage of a few MIxS attributes</a></span></li></ul></li></ul></li><li><span><a href=\"#Human-samples-only\" data-toc-modified-id=\"Human-samples-only-4\"><span class=\"toc-item-num\">4&nbsp;&nbsp;</span>Human samples only</a></span><ul class=\"toc-item\"><li><span><a href=\"#All-human-samples\" data-toc-modified-id=\"All-human-samples-4.1\"><span class=\"toc-item-num\">4.1&nbsp;&nbsp;</span>All human samples</a></span><ul class=\"toc-item\"><li><span><a href=\"#Find-the-total-number-of-annotations,-samples-with-annotations,-and-studies-with-annotations\" data-toc-modified-id=\"Find-the-total-number-of-annotations,-samples-with-annotations,-and-studies-with-annotations-4.1.1\"><span class=\"toc-item-num\">4.1.1&nbsp;&nbsp;</span>Find the total number of annotations, samples with annotations, and studies with annotations</a></span></li><li><span><a href=\"#Coverage-of-selected-classes\" data-toc-modified-id=\"Coverage-of-selected-classes-4.1.2\"><span class=\"toc-item-num\">4.1.2&nbsp;&nbsp;</span>Coverage of selected classes</a></span><ul class=\"toc-item\"><li><span><a href=\"#Remove-duplicate-values-for-a-single-sample-when-looking-at-coverage-of-samples\" data-toc-modified-id=\"Remove-duplicate-values-for-a-single-sample-when-looking-at-coverage-of-samples-4.1.2.1\"><span class=\"toc-item-num\">4.1.2.1&nbsp;&nbsp;</span>Remove duplicate values for a single sample when looking at coverage of samples</a></span></li><li><span><a href=\"#Plot-attribute-coverage\" data-toc-modified-id=\"Plot-attribute-coverage-4.1.2.2\"><span class=\"toc-item-num\">4.1.2.2&nbsp;&nbsp;</span>Plot attribute coverage</a></span></li></ul></li></ul></li><li><span><a href=\"#Human-gut-samples\" data-toc-modified-id=\"Human-gut-samples-4.2\"><span class=\"toc-item-num\">4.2&nbsp;&nbsp;</span>Human-gut samples</a></span><ul class=\"toc-item\"><li><span><a href=\"#Find-the-total-number-of-annotations,-samples-with-annotations,-and-studies-with-annotations\" data-toc-modified-id=\"Find-the-total-number-of-annotations,-samples-with-annotations,-and-studies-with-annotations-4.2.1\"><span class=\"toc-item-num\">4.2.1&nbsp;&nbsp;</span>Find the total number of annotations, samples with annotations, and studies with annotations</a></span></li><li><span><a href=\"#Coverage-of-selected-classes\" data-toc-modified-id=\"Coverage-of-selected-classes-4.2.2\"><span class=\"toc-item-num\">4.2.2&nbsp;&nbsp;</span>Coverage of selected classes</a></span><ul class=\"toc-item\"><li><span><a href=\"#Remove-duplicate-values-for-a-single-sample-when-looking-at-coverage-of-samples\" data-toc-modified-id=\"Remove-duplicate-values-for-a-single-sample-when-looking-at-coverage-of-samples-4.2.2.1\"><span class=\"toc-item-num\">4.2.2.1&nbsp;&nbsp;</span>Remove duplicate values for a single sample when looking at coverage of samples</a></span></li><li><span><a href=\"#Plot-attribute-coverage\" data-toc-modified-id=\"Plot-attribute-coverage-4.2.2.2\"><span class=\"toc-item-num\">4.2.2.2&nbsp;&nbsp;</span>Plot attribute coverage</a></span></li></ul></li></ul></li><li><span><a href=\"#Pull-list-of-all-attributes-for-venn-diagram\" data-toc-modified-id=\"Pull-list-of-all-attributes-for-venn-diagram-4.3\"><span class=\"toc-item-num\">4.3&nbsp;&nbsp;</span>Pull list of all attributes for venn diagram</a></span></li></ul></li><li><span><a href=\"#Attribute-word-length-and-total-characters\" data-toc-modified-id=\"Attribute-word-length-and-total-characters-5\"><span class=\"toc-item-num\">5&nbsp;&nbsp;</span>Attribute word length and total characters</a></span><ul class=\"toc-item\"><li><span><a href=\"#Plot-word-count-distributions-for-attributes\" data-toc-modified-id=\"Plot-word-count-distributions-for-attributes-5.1\"><span class=\"toc-item-num\">5.1&nbsp;&nbsp;</span>Plot word count distributions for attributes</a></span></li></ul></li><li><span><a href=\"#WIP:-disease-phenotype-data\" data-toc-modified-id=\"WIP:-disease-phenotype-data-6\"><span class=\"toc-item-num\">6&nbsp;&nbsp;</span>WIP: disease phenotype data</a></span></li><li><span><a href=\"#WIP:-Specific-value-distributions\" data-toc-modified-id=\"WIP:-Specific-value-distributions-7\"><span class=\"toc-item-num\">7&nbsp;&nbsp;</span>WIP: Specific value distributions</a></span></li></ul></div>"
   ]
  },
  {
   "cell_type": "markdown",
   "metadata": {},
   "source": [
    "# Qiita data landscape\n",
    "Adam Klie<br>\n",
    "08/17/2020<br>\n",
    "Script to analyze the metadata landscape of [Qiita](https://qiita.ucsd.edu/)"
   ]
  },
  {
   "cell_type": "code",
   "execution_count": null,
   "metadata": {},
   "outputs": [],
   "source": []
  },
  {
   "cell_type": "markdown",
   "metadata": {},
   "source": [
    "# Set-up"
   ]
  },
  {
   "cell_type": "markdown",
   "metadata": {},
   "source": [
    "## Import needed packages and set up plotting"
   ]
  },
  {
   "cell_type": "code",
   "execution_count": 29,
   "metadata": {
    "ExecuteTime": {
     "end_time": "2020-08-31T20:39:27.733847Z",
     "start_time": "2020-08-31T20:39:27.209274Z"
    }
   },
   "outputs": [],
   "source": [
    "%matplotlib inline\n",
    "from tqdm import tqdm\n",
    "import pandas as pd\n",
    "import numpy as np\n",
    "import matplotlib.pyplot as plt\n",
    "import brewer2mpl\n",
    "import seaborn as sns\n",
    "from IPython.display import display, HTML\n",
    "import qgrid\n",
    "\n",
    "# Autoreload extension\n",
    "if 'autoreload' not in get_ipython().extension_manager.loaded:\n",
    "    %load_ext autoreload\n",
    "    \n",
    "%autoreload 2"
   ]
  },
  {
   "cell_type": "code",
   "execution_count": 2,
   "metadata": {
    "ExecuteTime": {
     "end_time": "2020-08-31T16:05:46.342181Z",
     "start_time": "2020-08-31T16:05:46.310604Z"
    }
   },
   "outputs": [],
   "source": [
    "from matplotlib import rcParams\n",
    "import matplotlib as mpl\n",
    "\n",
    "#colorbrewer2 Dark2 qualitative color table\n",
    "dark2_colors = brewer2mpl.get_map('Dark2', 'Qualitative', 7).mpl_colors\n",
    "\n",
    "rcParams['figure.figsize'] = (10, 6)\n",
    "rcParams['figure.dpi'] = 600\n",
    "\n",
    "\n",
    "rcParams['axes.prop_cycle'] = mpl.cycler(color=dark2_colors) \n",
    "rcParams['lines.linewidth'] = 2\n",
    "rcParams['axes.facecolor'] = 'white'\n",
    "rcParams['patch.edgecolor'] = 'white'\n",
    "rcParams['patch.facecolor'] = dark2_colors[0]\n",
    "rcParams['pdf.fonttype'] = 42  # Allows for easiest maniputlation in Illustrator\n",
    "rcParams['ps.fonttype'] = 42  # Allows for easiest maniputlation in Illustrator\n",
    "\n",
    "rcParams['axes.labelsize'] = 36\n",
    "rcParams['ytick.labelsize'] = 30\n",
    "rcParams['xtick.labelsize'] = 30"
   ]
  },
  {
   "cell_type": "markdown",
   "metadata": {
    "heading_collapsed": true
   },
   "source": [
    "## Helper function to find coverage of attributes"
   ]
  },
  {
   "cell_type": "code",
   "execution_count": 3,
   "metadata": {
    "ExecuteTime": {
     "end_time": "2020-08-31T16:05:53.727716Z",
     "start_time": "2020-08-31T16:05:53.691774Z"
    },
    "hidden": true
   },
   "outputs": [],
   "source": [
    "def find_coverage(attributes, attributeCounts, num_samples):\n",
    "    coverage = {}\n",
    "    for attribute in attributes:\n",
    "        if attribute in attributeCounts.index:\n",
    "            coverage[attribute] = attributeCounts[attribute]/num_samples*100\n",
    "        else:\n",
    "            coverage[attribute] = 0\n",
    "    return(pd.Series(coverage).sort_values(ascending=False))"
   ]
  },
  {
   "cell_type": "markdown",
   "metadata": {
    "heading_collapsed": true
   },
   "source": [
    "## Read in downloaded Qiita attribute-value pairs"
   ]
  },
  {
   "cell_type": "markdown",
   "metadata": {
    "heading_collapsed": true,
    "hidden": true
   },
   "source": [
    "### Load full dataset and attribute descriptions"
   ]
  },
  {
   "cell_type": "code",
   "execution_count": 4,
   "metadata": {
    "ExecuteTime": {
     "end_time": "2020-08-31T16:06:55.296785Z",
     "start_time": "2020-08-31T16:06:43.947109Z"
    },
    "hidden": true
   },
   "outputs": [],
   "source": [
    "# Load Qiita attribute value pairs, dropping any NAs that occured because of merging\n",
    "qiita_dir = \"../../data/qiita/allQiita.pickle\"\n",
    "allQiita = pd.read_pickle(qiita_dir).dropna()"
   ]
  },
  {
   "cell_type": "markdown",
   "metadata": {
    "heading_collapsed": true,
    "hidden": true
   },
   "source": [
    "### Build a dataframe to aid with analysis"
   ]
  },
  {
   "cell_type": "code",
   "execution_count": 5,
   "metadata": {
    "ExecuteTime": {
     "end_time": "2020-08-31T16:07:25.061049Z",
     "start_time": "2020-08-31T16:07:08.794291Z"
    },
    "hidden": true
   },
   "outputs": [],
   "source": [
    "# build a dataframe for the key (attribute) and values for each sample (srs)\n",
    "qiita_df = pd.DataFrame(allQiita).reset_index()\n",
    "qiita_df.columns = ['sample_id', 'attribute', 'value']\n",
    "qiita_df = qiita_df.set_index('sample_id')"
   ]
  },
  {
   "cell_type": "markdown",
   "metadata": {
    "heading_collapsed": true,
    "hidden": true
   },
   "source": [
    "### Pull put study to sample mapping from sample_id"
   ]
  },
  {
   "cell_type": "code",
   "execution_count": 6,
   "metadata": {
    "ExecuteTime": {
     "end_time": "2020-08-30T20:35:49.833695Z",
     "start_time": "2020-08-30T20:35:49.365052Z"
    },
    "hidden": true
   },
   "outputs": [],
   "source": [
    "# one_sample = qiita_df.drop_duplicates('sample_id')\n",
    "# sample_ids = one_sample.sample_id.astype('str')\n",
    "# studies = [sample_id[0] for sample_id in sample_ids.str.split('.').values]\n",
    "# study_mapping = pd.Series(index=sample_ids.values, data=studies)\n",
    "# study_mapping.to_pickle('../../data/qiita/study_mapping.pickle')"
   ]
  },
  {
   "cell_type": "code",
   "execution_count": 6,
   "metadata": {
    "ExecuteTime": {
     "end_time": "2020-08-31T16:07:25.225698Z",
     "start_time": "2020-08-31T16:07:25.063972Z"
    },
    "hidden": true
   },
   "outputs": [],
   "source": [
    "study_mapping = pd.read_pickle('../../data/qiita/study_mapping.pickle')"
   ]
  },
  {
   "cell_type": "markdown",
   "metadata": {
    "heading_collapsed": true
   },
   "source": [
    "# Overall data landscape "
   ]
  },
  {
   "cell_type": "markdown",
   "metadata": {
    "heading_collapsed": true,
    "hidden": true
   },
   "source": [
    "## Find the total number of annotations, samples with annotations, and studies with annotations"
   ]
  },
  {
   "cell_type": "code",
   "execution_count": 7,
   "metadata": {
    "ExecuteTime": {
     "end_time": "2020-08-31T16:07:43.352690Z",
     "start_time": "2020-08-31T16:07:37.946660Z"
    },
    "hidden": true
   },
   "outputs": [],
   "source": [
    "attributeCounts = qiita_df['attribute'].value_counts()"
   ]
  },
  {
   "cell_type": "code",
   "execution_count": 8,
   "metadata": {
    "ExecuteTime": {
     "end_time": "2020-08-31T16:07:43.448290Z",
     "start_time": "2020-08-31T16:07:43.356156Z"
    },
    "hidden": true
   },
   "outputs": [],
   "source": [
    "outtext = \"\""
   ]
  },
  {
   "cell_type": "code",
   "execution_count": 9,
   "metadata": {
    "ExecuteTime": {
     "end_time": "2020-08-31T16:07:43.594630Z",
     "start_time": "2020-08-31T16:07:43.457839Z"
    },
    "hidden": true
   },
   "outputs": [
    {
     "data": {
      "text/plain": [
       "39526432"
      ]
     },
     "execution_count": 9,
     "metadata": {},
     "output_type": "execute_result"
    }
   ],
   "source": [
    "totalAttributes = len(allQiita)\n",
    "outtext = outtext + (\"Number of Qiita key-value pairs: %d\\n\" % totalAttributes)\n",
    "totalAttributes"
   ]
  },
  {
   "cell_type": "code",
   "execution_count": 10,
   "metadata": {
    "ExecuteTime": {
     "end_time": "2020-08-31T16:08:02.579431Z",
     "start_time": "2020-08-31T16:07:43.598129Z"
    },
    "hidden": true
   },
   "outputs": [],
   "source": [
    "num_samples = qiita_df.loc[~qiita_df.index.duplicated(keep='first')].shape[0]\n",
    "outtext = outtext + (\"Number of Qiita samples: %d\\n\" % num_samples)"
   ]
  },
  {
   "cell_type": "code",
   "execution_count": 11,
   "metadata": {
    "ExecuteTime": {
     "end_time": "2020-08-31T16:08:02.927818Z",
     "start_time": "2020-08-31T16:08:02.583234Z"
    },
    "hidden": true
   },
   "outputs": [],
   "source": [
    "num_studies = len(set(study_mapping.values))\n",
    "outtext = outtext + (\"Number of Qiita studies: %d\\n\" % num_studies)"
   ]
  },
  {
   "cell_type": "code",
   "execution_count": 12,
   "metadata": {
    "ExecuteTime": {
     "end_time": "2020-08-31T16:08:03.055314Z",
     "start_time": "2020-08-31T16:08:02.930605Z"
    },
    "hidden": true
   },
   "outputs": [],
   "source": [
    "averageAnnotations = totalAttributes/num_samples\n",
    "outtext = outtext + (\"The average number of attributes per sample in Qiita: %.2f\\n\" % averageAnnotations)"
   ]
  },
  {
   "cell_type": "code",
   "execution_count": 13,
   "metadata": {
    "ExecuteTime": {
     "end_time": "2020-08-31T16:08:03.139894Z",
     "start_time": "2020-08-31T16:08:03.057913Z"
    },
    "hidden": true
   },
   "outputs": [
    {
     "name": "stdout",
     "output_type": "stream",
     "text": [
      "Number of Qiita key-value pairs: 39526432\n",
      "Number of Qiita samples: 310509\n",
      "Number of Qiita studies: 534\n",
      "The average number of attributes per sample in Qiita: 127.30\n",
      "\n"
     ]
    }
   ],
   "source": [
    "print(outtext)"
   ]
  },
  {
   "cell_type": "markdown",
   "metadata": {
    "heading_collapsed": true,
    "hidden": true
   },
   "source": [
    "## Determine the coverage of different attributes"
   ]
  },
  {
   "cell_type": "markdown",
   "metadata": {
    "heading_collapsed": true,
    "hidden": true
   },
   "source": [
    "### Remove duplicate values for a single sample when looking at coverage of samples"
   ]
  },
  {
   "cell_type": "code",
   "execution_count": 14,
   "metadata": {
    "ExecuteTime": {
     "end_time": "2020-08-31T16:08:14.944812Z",
     "start_time": "2020-08-31T16:08:03.142172Z"
    },
    "hidden": true
   },
   "outputs": [],
   "source": [
    "# Some samples have multiple values for one key, only keep the first\n",
    "allQiita_nd = allQiita.loc[~allQiita.index.duplicated(keep='first')] "
   ]
  },
  {
   "cell_type": "code",
   "execution_count": 15,
   "metadata": {
    "ExecuteTime": {
     "end_time": "2020-08-31T16:08:30.313141Z",
     "start_time": "2020-08-31T16:08:14.946985Z"
    },
    "hidden": true
   },
   "outputs": [],
   "source": [
    "# Build a new dataframe for the key (attribute) and values for each sample (qiita) nd = no duplicates\n",
    "qiita_nd = pd.DataFrame(allQiita_nd).reset_index()\n",
    "qiita_nd.columns = ['sample_id', 'attribute', 'value']\n",
    "qiita_nd = qiita_nd.set_index('sample_id')"
   ]
  },
  {
   "cell_type": "code",
   "execution_count": 16,
   "metadata": {
    "ExecuteTime": {
     "end_time": "2020-08-31T16:08:35.391257Z",
     "start_time": "2020-08-31T16:08:30.317700Z"
    },
    "hidden": true
   },
   "outputs": [],
   "source": [
    "allCounts = qiita_nd['attribute'].value_counts()"
   ]
  },
  {
   "cell_type": "markdown",
   "metadata": {
    "heading_collapsed": true,
    "hidden": true
   },
   "source": [
    "### Coverage of most used attributes across entire dataset"
   ]
  },
  {
   "cell_type": "code",
   "execution_count": 17,
   "metadata": {
    "ExecuteTime": {
     "end_time": "2020-08-31T16:09:09.110040Z",
     "start_time": "2020-08-31T16:09:08.511245Z"
    },
    "hidden": true
   },
   "outputs": [],
   "source": [
    "top_attributes = allCounts.index\n",
    "top_attribute_coverage = find_coverage(top_attributes, allCounts, num_samples)"
   ]
  },
  {
   "cell_type": "code",
   "execution_count": 19,
   "metadata": {
    "ExecuteTime": {
     "end_time": "2020-08-31T16:17:38.904663Z",
     "start_time": "2020-08-31T16:17:33.081260Z"
    },
    "hidden": true
   },
   "outputs": [],
   "source": [
    "plt.tight_layout()\n",
    "ax = top_attribute_coverage.iloc[:25].plot.bar()\n",
    "ax.set_ylabel('% of samples with attribute', fontsize=24)\n",
    "ax.set_xlabel('Attributes')\n",
    "labels = []\n",
    "for xtick_label in ax.get_xticklabels():\n",
    "    if len(xtick_label.get_text()) > 15:\n",
    "        labels.append(xtick_label.get_text()[:15] + '...')\n",
    "    else:\n",
    "        labels.append(xtick_label.get_text())\n",
    "ax.set_xticklabels(labels)\n",
    "plt.savefig('../../doc/figures/CMI/most_used_attributes.png', dpi=600, bbox_inches=\"tight\", transparent=True)\n",
    "plt.close();"
   ]
  },
  {
   "cell_type": "markdown",
   "metadata": {
    "heading_collapsed": true,
    "hidden": true
   },
   "source": [
    "### Coverage of a few MIxS attributes\n",
    "https://gensc.org/mixs/"
   ]
  },
  {
   "cell_type": "code",
   "execution_count": 21,
   "metadata": {
    "ExecuteTime": {
     "end_time": "2020-08-31T16:17:59.571935Z",
     "start_time": "2020-08-31T16:17:59.539909Z"
    },
    "hidden": true
   },
   "outputs": [],
   "source": [
    "mixs_attributes = ['env_package', 'host_common_name', 'project_name', 'host_taxid']\n",
    "mixs_attribute_coverage = find_coverage(mixs_attributes, attributeCounts, num_samples)"
   ]
  },
  {
   "cell_type": "code",
   "execution_count": 22,
   "metadata": {
    "ExecuteTime": {
     "end_time": "2020-08-31T16:18:03.661875Z",
     "start_time": "2020-08-31T16:18:00.112171Z"
    },
    "hidden": true
   },
   "outputs": [],
   "source": [
    "plt.tight_layout()\n",
    "ax = mixs_attribute_coverage.plot.bar()\n",
    "ax.set_ylabel('% of samples with attribute', fontsize=24)\n",
    "ax.set_xlabel('Attributes')\n",
    "plt.savefig('../../doc/figures/CMI/MIxS_attributes.png', dpi=600, bbox_inches=\"tight\", transparent=True)\n",
    "plt.close();"
   ]
  },
  {
   "cell_type": "markdown",
   "metadata": {
    "heading_collapsed": true
   },
   "source": [
    "# Human samples only"
   ]
  },
  {
   "cell_type": "markdown",
   "metadata": {
    "heading_collapsed": true,
    "hidden": true
   },
   "source": [
    "## All human samples"
   ]
  },
  {
   "cell_type": "markdown",
   "metadata": {
    "heading_collapsed": true,
    "hidden": true
   },
   "source": [
    "### Find the total number of annotations, samples with annotations, and studies with annotations"
   ]
  },
  {
   "cell_type": "code",
   "execution_count": 28,
   "metadata": {
    "ExecuteTime": {
     "end_time": "2020-08-31T20:39:16.434091Z",
     "start_time": "2020-08-31T20:38:25.945122Z"
    },
    "hidden": true
   },
   "outputs": [],
   "source": [
    "host_name_m = allQiita.index.get_level_values(1) == 'host_common_name'\n",
    "hs_m = allQiita.values == 'human'\n",
    "hs = allQiita[host_name_m & hs_m].index.get_level_values(0)\n",
    "hsQiita = allQiita[allQiita.index.get_level_values(0).isin(hs)]"
   ]
  },
  {
   "cell_type": "code",
   "execution_count": 30,
   "metadata": {
    "ExecuteTime": {
     "end_time": "2020-08-31T20:41:23.295399Z",
     "start_time": "2020-08-31T20:40:59.174556Z"
    },
    "hidden": true
   },
   "outputs": [],
   "source": [
    "# build a dataframe for the key (attribute) and values for each sample (srs)\n",
    "qiita_df = pd.DataFrame(hsQiita).reset_index().dropna()\n",
    "qiita_df.columns = ['sample_id', 'attribute', 'value']\n",
    "qiita_df = qiita_df.set_index('sample_id').dropna()"
   ]
  },
  {
   "cell_type": "code",
   "execution_count": 31,
   "metadata": {
    "ExecuteTime": {
     "end_time": "2020-08-31T20:41:26.738219Z",
     "start_time": "2020-08-31T20:41:23.298585Z"
    },
    "hidden": true
   },
   "outputs": [],
   "source": [
    "hsCounts = qiita_df['attribute'].value_counts()"
   ]
  },
  {
   "cell_type": "code",
   "execution_count": 32,
   "metadata": {
    "ExecuteTime": {
     "end_time": "2020-08-31T20:41:26.824102Z",
     "start_time": "2020-08-31T20:41:26.740992Z"
    },
    "hidden": true
   },
   "outputs": [],
   "source": [
    "outtext = \"\""
   ]
  },
  {
   "cell_type": "code",
   "execution_count": 33,
   "metadata": {
    "ExecuteTime": {
     "end_time": "2020-08-31T20:41:26.923095Z",
     "start_time": "2020-08-31T20:41:26.826699Z"
    },
    "hidden": true
   },
   "outputs": [
    {
     "data": {
      "text/plain": [
       "25164932"
      ]
     },
     "execution_count": 33,
     "metadata": {},
     "output_type": "execute_result"
    }
   ],
   "source": [
    "totalHsAttributes = len(qiita_df)\n",
    "outtext = outtext + (\"Number of human Qiita key-value pairs: %d\\n\" % totalHsAttributes)\n",
    "totalHsAttributes"
   ]
  },
  {
   "cell_type": "code",
   "execution_count": 34,
   "metadata": {
    "ExecuteTime": {
     "end_time": "2020-08-31T20:41:29.981974Z",
     "start_time": "2020-08-31T20:41:26.927702Z"
    },
    "hidden": true
   },
   "outputs": [],
   "source": [
    "num_hs_samples = qiita_df.loc[~qiita_df.index.duplicated(keep='first')].shape[0]\n",
    "outtext = outtext + (\"Number of human Qiita samples: %d\\n\" % num_hs_samples)"
   ]
  },
  {
   "cell_type": "code",
   "execution_count": 35,
   "metadata": {
    "ExecuteTime": {
     "end_time": "2020-08-31T20:41:32.761832Z",
     "start_time": "2020-08-31T20:41:29.984083Z"
    },
    "hidden": true
   },
   "outputs": [
    {
     "name": "stderr",
     "output_type": "stream",
     "text": [
      "/cellar/users/aklie/.local/lib/python3.6/site-packages/ipykernel_launcher.py:1: FutureWarning: \n",
      "Passing list-likes to .loc or [] with any missing label will raise\n",
      "KeyError in the future, you can use .reindex() as an alternative.\n",
      "\n",
      "See the documentation here:\n",
      "https://pandas.pydata.org/pandas-docs/stable/indexing.html#deprecate-loc-reindex-listlike\n",
      "  \"\"\"Entry point for launching an IPython kernel.\n"
     ]
    }
   ],
   "source": [
    "num_hs_studies = len(set(study_mapping.loc[set(qiita_df.index)].values))\n",
    "outtext = outtext + (\"Number of Qiita studies: %d\\n\" % num_hs_studies)"
   ]
  },
  {
   "cell_type": "code",
   "execution_count": 36,
   "metadata": {
    "ExecuteTime": {
     "end_time": "2020-08-31T20:41:32.789989Z",
     "start_time": "2020-08-31T20:41:32.763727Z"
    },
    "hidden": true
   },
   "outputs": [],
   "source": [
    "averageHsAnnotations = totalHsAttributes/num_hs_samples\n",
    "outtext = outtext + (\"The average number of attributes per sample in Qiita: %.2f\\n\" % averageHsAnnotations)"
   ]
  },
  {
   "cell_type": "code",
   "execution_count": 37,
   "metadata": {
    "ExecuteTime": {
     "end_time": "2020-08-31T20:41:32.974116Z",
     "start_time": "2020-08-31T20:41:32.791906Z"
    },
    "hidden": true
   },
   "outputs": [
    {
     "name": "stdout",
     "output_type": "stream",
     "text": [
      "Number of human Qiita key-value pairs: 25164932\n",
      "Number of human Qiita samples: 144048\n",
      "Number of Qiita studies: 147\n",
      "The average number of attributes per sample in Qiita: 174.70\n",
      "\n"
     ]
    }
   ],
   "source": [
    "print(outtext)"
   ]
  },
  {
   "cell_type": "markdown",
   "metadata": {
    "heading_collapsed": true,
    "hidden": true
   },
   "source": [
    "### Coverage of selected classes"
   ]
  },
  {
   "cell_type": "markdown",
   "metadata": {
    "heading_collapsed": true,
    "hidden": true
   },
   "source": [
    "#### Remove duplicate values for a single sample when looking at coverage of samples"
   ]
  },
  {
   "cell_type": "code",
   "execution_count": 38,
   "metadata": {
    "ExecuteTime": {
     "end_time": "2020-08-31T20:41:45.561619Z",
     "start_time": "2020-08-31T20:41:39.730230Z"
    },
    "hidden": true
   },
   "outputs": [],
   "source": [
    "# Some samples have multiple values for one key, only keep the first\n",
    "hsQiita_nd = hsQiita.loc[~hsQiita.index.duplicated(keep='first')] "
   ]
  },
  {
   "cell_type": "code",
   "execution_count": 39,
   "metadata": {
    "ExecuteTime": {
     "end_time": "2020-08-31T20:41:55.095218Z",
     "start_time": "2020-08-31T20:41:45.564059Z"
    },
    "hidden": true
   },
   "outputs": [],
   "source": [
    "# Build a new dataframe for the key (attribute) and values for each sample (qiita) nd = no duplicates\n",
    "qiita_nd = pd.DataFrame(hsQiita_nd).reset_index()\n",
    "qiita_nd.columns = ['sample_id', 'attribute', 'value']\n",
    "qiita_nd = qiita_nd.set_index('sample_id')"
   ]
  },
  {
   "cell_type": "code",
   "execution_count": 40,
   "metadata": {
    "ExecuteTime": {
     "end_time": "2020-08-31T20:41:58.136699Z",
     "start_time": "2020-08-31T20:41:55.097553Z"
    },
    "hidden": true
   },
   "outputs": [],
   "source": [
    "hsCounts = qiita_nd['attribute'].value_counts()"
   ]
  },
  {
   "cell_type": "markdown",
   "metadata": {
    "heading_collapsed": true,
    "hidden": true
   },
   "source": [
    "#### Plot attribute coverage"
   ]
  },
  {
   "cell_type": "code",
   "execution_count": 41,
   "metadata": {
    "ExecuteTime": {
     "end_time": "2020-08-31T20:41:58.223328Z",
     "start_time": "2020-08-31T20:41:58.139326Z"
    },
    "hidden": true
   },
   "outputs": [],
   "source": [
    "# Look at human and host associated structured comment name\n",
    "important_attributes = ['host_age', 'host_disease_stat', 'host_sex', 'host_body_site', 'host_diet', 'host_genotype',\n",
    "                        'host_phenotype', 'smoker', 'drug_usage', 'host_body_mass_index', 'ihmc_ethnicity',\n",
    "                        'maternal_health_status', 'kidney_disord', 'urogenit_tract_disor', 'liver_disord',\n",
    "                        'sex', 'age', 'disease', 'chem_administration', 'antibiotics', 'body_site', 'title',\n",
    "                        'description', 'bmi', 'diet', 'treatment', 'disease_condition', 'disease_state']\n",
    "important_attribute_coverage = find_coverage(important_attributes, hsCounts, num_hs_samples)"
   ]
  },
  {
   "cell_type": "code",
   "execution_count": 43,
   "metadata": {
    "ExecuteTime": {
     "end_time": "2020-08-31T20:43:11.961212Z",
     "start_time": "2020-08-31T20:43:10.566844Z"
    },
    "hidden": true,
    "scrolled": true
   },
   "outputs": [],
   "source": [
    "plt.tight_layout()\n",
    "ax = important_attribute_coverage.plot.bar()\n",
    "ax.set_ylabel('% of samples with attribute', fontsize=24)\n",
    "ax.set_xlabel('Attributes')\n",
    "plt.savefig('../../doc/figures/CMI/Figure3A.pdf', dpi=600, bbox_inches=\"tight\", transparent=True)\n",
    "plt.close();"
   ]
  },
  {
   "cell_type": "markdown",
   "metadata": {
    "heading_collapsed": true,
    "hidden": true
   },
   "source": [
    "## Human-gut samples"
   ]
  },
  {
   "cell_type": "markdown",
   "metadata": {
    "heading_collapsed": true,
    "hidden": true
   },
   "source": [
    "### Find the total number of annotations, samples with annotations, and studies with annotations"
   ]
  },
  {
   "cell_type": "code",
   "execution_count": 44,
   "metadata": {
    "ExecuteTime": {
     "end_time": "2020-08-31T20:43:41.673327Z",
     "start_time": "2020-08-31T20:43:31.387869Z"
    },
    "hidden": true
   },
   "outputs": [],
   "source": [
    "env_package_m = allQiita.index.get_level_values(1) == 'env_package'\n",
    "human_gut_m = allQiita.values == 'human-gut'\n",
    "human_gut_samples = allQiita[env_package_m & human_gut_m].index.get_level_values(0)\n",
    "gutQiita = allQiita[allQiita.index.get_level_values(0).isin(human_gut_samples)]"
   ]
  },
  {
   "cell_type": "code",
   "execution_count": 45,
   "metadata": {
    "ExecuteTime": {
     "end_time": "2020-08-31T20:44:06.640163Z",
     "start_time": "2020-08-31T20:43:50.831189Z"
    },
    "hidden": true
   },
   "outputs": [],
   "source": [
    "# build a dataframe for the key (attribute) and values for each sample (srs)\n",
    "qiita_df = pd.DataFrame(gutQiita).reset_index().dropna()\n",
    "qiita_df.columns = ['sample_id', 'attribute', 'value']\n",
    "qiita_df = qiita_df.set_index('sample_id').dropna()"
   ]
  },
  {
   "cell_type": "code",
   "execution_count": 46,
   "metadata": {
    "ExecuteTime": {
     "end_time": "2020-08-31T20:44:18.117656Z",
     "start_time": "2020-08-31T20:44:15.506728Z"
    },
    "hidden": true
   },
   "outputs": [],
   "source": [
    "gutCounts = qiita_df['attribute'].value_counts()"
   ]
  },
  {
   "cell_type": "code",
   "execution_count": 47,
   "metadata": {
    "ExecuteTime": {
     "end_time": "2020-08-31T20:44:18.209396Z",
     "start_time": "2020-08-31T20:44:18.122488Z"
    },
    "hidden": true
   },
   "outputs": [],
   "source": [
    "outtext = \"\""
   ]
  },
  {
   "cell_type": "code",
   "execution_count": 48,
   "metadata": {
    "ExecuteTime": {
     "end_time": "2020-08-31T20:44:18.284077Z",
     "start_time": "2020-08-31T20:44:18.217311Z"
    },
    "hidden": true
   },
   "outputs": [
    {
     "data": {
      "text/plain": [
       "16929500"
      ]
     },
     "execution_count": 48,
     "metadata": {},
     "output_type": "execute_result"
    }
   ],
   "source": [
    "totalGutAttributes = len(qiita_df)\n",
    "outtext = outtext + (\"Number of human Qiita key-value pairs: %d\\n\" % totalGutAttributes)\n",
    "totalGutAttributes"
   ]
  },
  {
   "cell_type": "code",
   "execution_count": 49,
   "metadata": {
    "ExecuteTime": {
     "end_time": "2020-08-31T20:44:19.883950Z",
     "start_time": "2020-08-31T20:44:18.291126Z"
    },
    "hidden": true
   },
   "outputs": [],
   "source": [
    "num_gut_samples = qiita_df.loc[~qiita_df.index.duplicated(keep='first')].shape[0]\n",
    "outtext = outtext + (\"Number of human-gut Qiita samples: %d\\n\" % num_gut_samples)"
   ]
  },
  {
   "cell_type": "code",
   "execution_count": 50,
   "metadata": {
    "ExecuteTime": {
     "end_time": "2020-08-31T20:44:21.700123Z",
     "start_time": "2020-08-31T20:44:19.887341Z"
    },
    "hidden": true
   },
   "outputs": [
    {
     "name": "stderr",
     "output_type": "stream",
     "text": [
      "/cellar/users/aklie/.local/lib/python3.6/site-packages/ipykernel_launcher.py:1: FutureWarning: \n",
      "Passing list-likes to .loc or [] with any missing label will raise\n",
      "KeyError in the future, you can use .reindex() as an alternative.\n",
      "\n",
      "See the documentation here:\n",
      "https://pandas.pydata.org/pandas-docs/stable/indexing.html#deprecate-loc-reindex-listlike\n",
      "  \"\"\"Entry point for launching an IPython kernel.\n"
     ]
    }
   ],
   "source": [
    "num_gut_studies = len(set(study_mapping.loc[set(qiita_df.index)].values))\n",
    "outtext = outtext + (\"Number of human-gut Qiita studies: %d\\n\" % num_gut_studies)"
   ]
  },
  {
   "cell_type": "code",
   "execution_count": 51,
   "metadata": {
    "ExecuteTime": {
     "end_time": "2020-08-31T20:44:21.734165Z",
     "start_time": "2020-08-31T20:44:21.702955Z"
    },
    "hidden": true
   },
   "outputs": [],
   "source": [
    "averageGutAnnotations = totalGutAttributes/num_gut_samples\n",
    "outtext = outtext + (\"The average number of attributes per sample in Qiita: %.2f\\n\" % averageGutAnnotations)"
   ]
  },
  {
   "cell_type": "code",
   "execution_count": 52,
   "metadata": {
    "ExecuteTime": {
     "end_time": "2020-08-31T20:44:21.895992Z",
     "start_time": "2020-08-31T20:44:21.736216Z"
    },
    "hidden": true
   },
   "outputs": [
    {
     "name": "stdout",
     "output_type": "stream",
     "text": [
      "Number of human Qiita key-value pairs: 16929500\n",
      "Number of human-gut Qiita samples: 75682\n",
      "Number of human-gut Qiita studies: 102\n",
      "The average number of attributes per sample in Qiita: 223.69\n",
      "\n"
     ]
    }
   ],
   "source": [
    "print(outtext)"
   ]
  },
  {
   "cell_type": "markdown",
   "metadata": {
    "heading_collapsed": true,
    "hidden": true
   },
   "source": [
    "### Coverage of selected classes"
   ]
  },
  {
   "cell_type": "markdown",
   "metadata": {
    "heading_collapsed": true,
    "hidden": true
   },
   "source": [
    "#### Remove duplicate values for a single sample when looking at coverage of samples"
   ]
  },
  {
   "cell_type": "code",
   "execution_count": 53,
   "metadata": {
    "ExecuteTime": {
     "end_time": "2020-08-31T20:44:42.122352Z",
     "start_time": "2020-08-31T20:44:37.527719Z"
    },
    "hidden": true
   },
   "outputs": [],
   "source": [
    "# Some samples have multiple values for one key, only keep the first\n",
    "gutQiita_nd = hsQiita.loc[~gutQiita.index.duplicated(keep='first')] "
   ]
  },
  {
   "cell_type": "code",
   "execution_count": 54,
   "metadata": {
    "ExecuteTime": {
     "end_time": "2020-08-31T20:44:48.834927Z",
     "start_time": "2020-08-31T20:44:42.125222Z"
    },
    "hidden": true
   },
   "outputs": [],
   "source": [
    "# Build a new dataframe for the key (attribute) and values for each sample (qiita) nd = no duplicates\n",
    "qiita_nd = pd.DataFrame(gutQiita_nd).reset_index()\n",
    "qiita_nd.columns = ['sample_id', 'attribute', 'value']\n",
    "qiita_nd = qiita_nd.set_index('sample_id')"
   ]
  },
  {
   "cell_type": "code",
   "execution_count": 55,
   "metadata": {
    "ExecuteTime": {
     "end_time": "2020-08-31T20:44:51.054882Z",
     "start_time": "2020-08-31T20:44:48.837191Z"
    },
    "hidden": true
   },
   "outputs": [],
   "source": [
    "gutCounts = qiita_nd['attribute'].value_counts()"
   ]
  },
  {
   "cell_type": "markdown",
   "metadata": {
    "heading_collapsed": true,
    "hidden": true
   },
   "source": [
    "#### Plot attribute coverage"
   ]
  },
  {
   "cell_type": "code",
   "execution_count": 56,
   "metadata": {
    "ExecuteTime": {
     "end_time": "2020-08-31T20:44:51.155627Z",
     "start_time": "2020-08-31T20:44:51.057776Z"
    },
    "hidden": true
   },
   "outputs": [],
   "source": [
    "qiimp_suggested = [\"sample_name\", \"collection_device\", \"collection_method\", \"collection_timestamp\", \"description\", \n",
    "                   \"dna_extracted\", \"elevation\", \"elevation_units\", \"empo_1\", \"empo_2\", \"empo_3\", \"env_biome\",\n",
    "                   \"env_feature\", \"env_material\", \"env_package\", \"geo_loc_name\", \"host_age\", \"host_age_units\", \n",
    "                   \"host_body_habitat\", \"host_body_mass_index\", \"host_body_product\", \"host_body_site\",\n",
    "                   \"host_common_name\", \"host_height\", \"host_height_units\", \"host_scientific_name\", \"host_subject_id\",\n",
    "                   \"host_taxid\", \"host_weight\", \"host_weight_units\", \"irb_institute\", \"irb_protocol_id\", \n",
    "                   \"latitude\", \"latitude_units\", \"life_stage\", \"longitude\", \"longitude_units\", \n",
    "                   \"physical_specimen_location\", \"physical_specimen_remaining\", \"sample_type\", \"scientific_name\", \n",
    "                   \"sex\", \"taxon_id\", \"time_point, title\", \"tube_id\"]\n",
    "qiimp_attribute_coverage = find_coverage(qiimp_suggested, gutCounts, num_gut_samples)"
   ]
  },
  {
   "cell_type": "code",
   "execution_count": 69,
   "metadata": {
    "ExecuteTime": {
     "end_time": "2020-08-31T20:53:41.263192Z",
     "start_time": "2020-08-31T20:53:34.213816Z"
    },
    "hidden": true
   },
   "outputs": [],
   "source": [
    "plt.tight_layout()\n",
    "ax = qiimp_attribute_coverage.plot.bar()\n",
    "ax.set_ylabel('% of samples with attribute', fontsize=24)\n",
    "ax.set_xlabel('Attributes')\n",
    "plt.savefig('../../doc/figures/CMI/Figure3B.png', dpi=600, bbox_inches=\"tight\", transparent=True)\n",
    "plt.savefig('../../doc/figures/CMI/Figure3B.eps', dpi=600, bbox_inches=\"tight\", transparent=True)\n",
    "plt.savefig('../../doc/figures/CMI/Figure3B.pdf', dpi=600, bbox_inches=\"tight\", transparent=True)\n",
    "plt.close();"
   ]
  },
  {
   "cell_type": "markdown",
   "metadata": {
    "heading_collapsed": true,
    "hidden": true
   },
   "source": [
    "## Pull list of all attributes for venn diagram"
   ]
  },
  {
   "cell_type": "code",
   "execution_count": 68,
   "metadata": {
    "ExecuteTime": {
     "end_time": "2020-08-31T20:52:09.543192Z",
     "start_time": "2020-08-31T20:52:08.457224Z"
    },
    "hidden": true
   },
   "outputs": [],
   "source": [
    "with open('../../doc/figures/CMI/Figure3C.txt', 'w') as f:\n",
    "    f.write('\\n'.join(list(set(gutQiita.index.get_level_values(1)))))"
   ]
  },
  {
   "cell_type": "markdown",
   "metadata": {
    "heading_collapsed": true
   },
   "source": [
    "# Attribute word length and total characters"
   ]
  },
  {
   "cell_type": "code",
   "execution_count": 59,
   "metadata": {
    "ExecuteTime": {
     "end_time": "2020-08-31T20:48:42.170140Z",
     "start_time": "2020-08-31T20:48:13.605438Z"
    },
    "hidden": true
   },
   "outputs": [],
   "source": [
    "qiita_df['attribute_len'] = qiita_df['value'].str.len()\n",
    "qiita_df['log_attribute_len'] = np.log2(qiita_df['attribute_len']+1)\n",
    "qiita_df['word_count'] = (qiita_df['value'].str.count(' ')+1)\n",
    "qiita_df['log_word_count'] = np.log2(qiita_df['word_count']+1)"
   ]
  },
  {
   "cell_type": "code",
   "execution_count": 60,
   "metadata": {
    "ExecuteTime": {
     "end_time": "2020-08-31T20:48:44.126257Z",
     "start_time": "2020-08-31T20:48:42.173894Z"
    },
    "hidden": true
   },
   "outputs": [],
   "source": [
    "recurring_attributeCounts = attributeCounts[attributeCounts > 10000]\n",
    "qiita_rec = qiita_df[qiita_df.attribute.isin(recurring_attributeCounts.index)]"
   ]
  },
  {
   "cell_type": "code",
   "execution_count": 61,
   "metadata": {
    "ExecuteTime": {
     "end_time": "2020-08-31T20:48:46.276718Z",
     "start_time": "2020-08-31T20:48:44.128254Z"
    },
    "hidden": true
   },
   "outputs": [],
   "source": [
    "longest_attributes = qiita_rec.groupby(['attribute']).mean().sort_values(\n",
    "    'log_word_count', ascending = False).iloc[:10].index"
   ]
  },
  {
   "cell_type": "code",
   "execution_count": 62,
   "metadata": {
    "ExecuteTime": {
     "end_time": "2020-08-31T20:48:47.400270Z",
     "start_time": "2020-08-31T20:48:46.278661Z"
    },
    "hidden": true
   },
   "outputs": [],
   "source": [
    "dataframe_sub = qiita_df[qiita_df.attribute.isin(longest_attributes) | \n",
    "                         qiita_df.attribute.isin(['description', 'title'])]"
   ]
  },
  {
   "cell_type": "markdown",
   "metadata": {
    "heading_collapsed": true,
    "hidden": true
   },
   "source": [
    "## Plot word count distributions for attributes"
   ]
  },
  {
   "cell_type": "code",
   "execution_count": 64,
   "metadata": {
    "ExecuteTime": {
     "end_time": "2020-08-31T20:49:34.706374Z",
     "start_time": "2020-08-31T20:49:31.731542Z"
    },
    "hidden": true
   },
   "outputs": [],
   "source": [
    "ax = sns.boxplot(data=dataframe_sub, x='attribute', y='log_word_count', showfliers=False)\n",
    "plt.xticks(rotation=90)\n",
    "ax.set_ylabel('Log(words in attribute + 1)', fontsize=20)\n",
    "ax.set_xlabel('Attributes')\n",
    "labels = []\n",
    "for xtick_label in ax.get_xticklabels():\n",
    "    if len(xtick_label.get_text()) > 15:\n",
    "        labels.append(xtick_label.get_text()[:15] + '...')\n",
    "    else:\n",
    "        labels.append(xtick_label.get_text())\n",
    "ax.set_xticklabels(labels)\n",
    "\n",
    "plt.savefig('../../doc/figures/CMI/attribute_word_length.png', dpi=600, bbox_inches=\"tight\")\n",
    "plt.close();"
   ]
  },
  {
   "cell_type": "code",
   "execution_count": 65,
   "metadata": {
    "ExecuteTime": {
     "end_time": "2020-08-31T20:49:34.941736Z",
     "start_time": "2020-08-31T20:49:34.708899Z"
    },
    "hidden": true
   },
   "outputs": [
    {
     "name": "stderr",
     "output_type": "stream",
     "text": [
      "/cellar/users/aklie/.local/lib/python3.6/site-packages/ipykernel_launcher.py:1: RuntimeWarning: invalid value encountered in greater\n",
      "  \"\"\"Entry point for launching an IPython kernel.\n"
     ]
    }
   ],
   "source": [
    "long_character_fraction = len(qiita_df[qiita_df['attribute_len'].values > 50].index.unique())/num_samples*100\n",
    "outtext = outtext + (\"Number of samples with an attribute of 50 characters or more: %.2f%%\\n\" % \n",
    "      long_character_fraction)"
   ]
  },
  {
   "cell_type": "code",
   "execution_count": 66,
   "metadata": {
    "ExecuteTime": {
     "end_time": "2020-08-31T20:49:35.125730Z",
     "start_time": "2020-08-31T20:49:34.944884Z"
    },
    "hidden": true
   },
   "outputs": [
    {
     "name": "stderr",
     "output_type": "stream",
     "text": [
      "/cellar/users/aklie/.local/lib/python3.6/site-packages/ipykernel_launcher.py:1: RuntimeWarning: invalid value encountered in greater_equal\n",
      "  \"\"\"Entry point for launching an IPython kernel.\n"
     ]
    }
   ],
   "source": [
    "long_word_fraction = len(qiita_df[qiita_df['word_count'].values >= 10].index.unique())/num_samples*100\n",
    "outtext = outtext + (\"Number of samples with an attribute of 10 words or more: %.2f%%\\n\" % \n",
    "      long_word_fraction)"
   ]
  },
  {
   "cell_type": "code",
   "execution_count": 67,
   "metadata": {
    "ExecuteTime": {
     "end_time": "2020-08-31T20:49:35.156979Z",
     "start_time": "2020-08-31T20:49:35.128032Z"
    },
    "hidden": true
   },
   "outputs": [
    {
     "name": "stdout",
     "output_type": "stream",
     "text": [
      "Number of human Qiita key-value pairs: 16929500\n",
      "Number of human-gut Qiita samples: 75682\n",
      "Number of human-gut Qiita studies: 102\n",
      "The average number of attributes per sample in Qiita: 223.69\n",
      "Number of samples with an attribute of 50 characters or more: 20.04%\n",
      "Number of samples with an attribute of 10 words or more: 17.09%\n",
      "\n"
     ]
    }
   ],
   "source": [
    "print(outtext)"
   ]
  },
  {
   "cell_type": "markdown",
   "metadata": {
    "heading_collapsed": true
   },
   "source": [
    "# WIP: disease phenotype data"
   ]
  },
  {
   "cell_type": "code",
   "execution_count": 63,
   "metadata": {
    "ExecuteTime": {
     "end_time": "2020-08-31T20:49:26.034656Z",
     "start_time": "2020-08-31T20:49:25.827334Z"
    },
    "hidden": true
   },
   "outputs": [],
   "source": [
    "diseases = ['disease', 'IBD', 'cancer', 'IBS', 'cdiff', 'smoking', '', 'acid_reflux','alcohol', \n",
    "            'cancer', 'cardiovascular disease', 'diabetes']"
   ]
  },
  {
   "cell_type": "markdown",
   "metadata": {
    "heading_collapsed": true
   },
   "source": [
    "# WIP: Specific value distributions"
   ]
  },
  {
   "cell_type": "code",
   "execution_count": null,
   "metadata": {
    "ExecuteTime": {
     "end_time": "2020-08-28T07:19:16.429371Z",
     "start_time": "2020-08-28T07:19:03.723261Z"
    },
    "hidden": true
   },
   "outputs": [],
   "source": [
    "sample_type_values = qiita_df[qiita_df.attribute == \"host_body_site\"].value.value_counts()\n",
    "plt.tight_layout()\n",
    "ax = sample_type_values[:20].plot.bar()\n",
    "ax.set_ylabel('# of samples with attribute', fontsize=24)\n",
    "ax.set_xlabel('Attributes')\n",
    "labels = []\n",
    "for xtick_label in ax.get_xticklabels():\n",
    "    if len(xtick_label.get_text()) > 15:\n",
    "        labels.append(xtick_label.get_text()[:15] + '...')\n",
    "    else:\n",
    "        labels.append(xtick_label.get_text())\n",
    "ax.set_xticklabels(labels)"
   ]
  }
 ],
 "metadata": {
  "kernelspec": {
   "display_name": "py3_PredictMEE",
   "language": "python",
   "name": "predictmee"
  },
  "language_info": {
   "codemirror_mode": {
    "name": "ipython",
    "version": 3
   },
   "file_extension": ".py",
   "mimetype": "text/x-python",
   "name": "python",
   "nbconvert_exporter": "python",
   "pygments_lexer": "ipython3",
   "version": "3.6.6"
  },
  "toc": {
   "base_numbering": 1,
   "nav_menu": {},
   "number_sections": true,
   "sideBar": true,
   "skip_h1_title": false,
   "title_cell": "Table of Contents",
   "title_sidebar": "Contents",
   "toc_cell": true,
   "toc_position": {
    "height": "calc(100% - 180px)",
    "left": "10px",
    "top": "150px",
    "width": "384px"
   },
   "toc_section_display": true,
   "toc_window_display": true
  }
 },
 "nbformat": 4,
 "nbformat_minor": 4
}
