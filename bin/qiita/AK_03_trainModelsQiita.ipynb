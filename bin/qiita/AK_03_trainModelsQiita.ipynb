{
 "cells": [
  {
   "cell_type": "markdown",
   "metadata": {
    "toc": true
   },
   "source": [
    "<h1>Table of Contents<span class=\"tocSkip\"></span></h1>\n",
    "<div class=\"toc\"><ul class=\"toc-item\"><li><span><a href=\"#WIP:-Train-a-Qiita-bi-LSTM\" data-toc-modified-id=\"WIP:-Train-a-Qiita-bi-LSTM-1\"><span class=\"toc-item-num\">1&nbsp;&nbsp;</span>WIP: Train a Qiita bi-LSTM<br></a></span></li><li><span><a href=\"#Set-up\" data-toc-modified-id=\"Set-up-2\"><span class=\"toc-item-num\">2&nbsp;&nbsp;</span>Set up</a></span><ul class=\"toc-item\"><li><span><a href=\"#Import-necessary-packages\" data-toc-modified-id=\"Import-necessary-packages-2.1\"><span class=\"toc-item-num\">2.1&nbsp;&nbsp;</span>Import necessary packages</a></span></li><li><span><a href=\"#Helper-functions\" data-toc-modified-id=\"Helper-functions-2.2\"><span class=\"toc-item-num\">2.2&nbsp;&nbsp;</span>Helper functions</a></span></li><li><span><a href=\"#Load-in-data\" data-toc-modified-id=\"Load-in-data-2.3\"><span class=\"toc-item-num\">2.3&nbsp;&nbsp;</span>Load in data</a></span><ul class=\"toc-item\"><li><span><a href=\"#Read-in-the-Qiita-annotations-and-build-dataframe\" data-toc-modified-id=\"Read-in-the-Qiita-annotations-and-build-dataframe-2.3.1\"><span class=\"toc-item-num\">2.3.1&nbsp;&nbsp;</span>Read in the Qiita annotations and build dataframe</a></span></li><li><span><a href=\"#Read-in-study-mapping\" data-toc-modified-id=\"Read-in-study-mapping-2.3.2\"><span class=\"toc-item-num\">2.3.2&nbsp;&nbsp;</span>Read in study mapping</a></span></li><li><span><a href=\"#Read-in-embeddings\" data-toc-modified-id=\"Read-in-embeddings-2.3.3\"><span class=\"toc-item-num\">2.3.3&nbsp;&nbsp;</span>Read in embeddings</a></span></li><li><span><a href=\"#Import-merging-of-entities-from-file\" data-toc-modified-id=\"Import-merging-of-entities-from-file-2.3.4\"><span class=\"toc-item-num\">2.3.4&nbsp;&nbsp;</span>Import merging of entities from file</a></span></li></ul></li></ul></li><li><span><a href=\"#Data-processing\" data-toc-modified-id=\"Data-processing-3\"><span class=\"toc-item-num\">3&nbsp;&nbsp;</span>Data processing</a></span><ul class=\"toc-item\"><li><span><a href=\"#Filter-training-set\" data-toc-modified-id=\"Filter-training-set-3.1\"><span class=\"toc-item-num\">3.1&nbsp;&nbsp;</span>Filter training set</a></span><ul class=\"toc-item\"><li><span><a href=\"#Filter-out-non-valid-attributes\" data-toc-modified-id=\"Filter-out-non-valid-attributes-3.1.1\"><span class=\"toc-item-num\">3.1.1&nbsp;&nbsp;</span>Filter out non-valid attributes</a></span></li><li><span><a href=\"#Cap-at-100-samples-per-study-to-avoid-study-bias\" data-toc-modified-id=\"Cap-at-100-samples-per-study-to-avoid-study-bias-3.1.2\"><span class=\"toc-item-num\">3.1.2&nbsp;&nbsp;</span>Cap at 100 samples per study to avoid study bias</a></span></li><li><span><a href=\"#Filter-out-unwanted-training-examples-and-replace-all-white-space-with-'-'\" data-toc-modified-id=\"Filter-out-unwanted-training-examples-and-replace-all-white-space-with-'-'-3.1.3\"><span class=\"toc-item-num\">3.1.3&nbsp;&nbsp;</span>Filter out unwanted training examples and replace all white space with ' '</a></span></li><li><span><a href=\"#Take-only-values-between-length-1-and-7\" data-toc-modified-id=\"Take-only-values-between-length-1-and-7-3.1.4\"><span class=\"toc-item-num\">3.1.4&nbsp;&nbsp;</span>Take only values between length 1 and 7</a></span></li><li><span><a href=\"#WIP:-Filter-out-test-set-examples\" data-toc-modified-id=\"WIP:-Filter-out-test-set-examples-3.1.5\"><span class=\"toc-item-num\">3.1.5&nbsp;&nbsp;</span>WIP: Filter out test set examples</a></span></li><li><span><a href=\"#Replace-whitespace-with-'-'\" data-toc-modified-id=\"Replace-whitespace-with-'-'-3.1.6\"><span class=\"toc-item-num\">3.1.6&nbsp;&nbsp;</span>Replace whitespace with ' '</a></span></li><li><span><a href=\"#Final-dataset\" data-toc-modified-id=\"Final-dataset-3.1.7\"><span class=\"toc-item-num\">3.1.7&nbsp;&nbsp;</span>Final dataset</a></span></li></ul></li></ul></li><li><span><a href=\"#Train/val-split\" data-toc-modified-id=\"Train/val-split-4\"><span class=\"toc-item-num\">4&nbsp;&nbsp;</span>Train/val split</a></span><ul class=\"toc-item\"><li><span><a href=\"#Start-by-pulling-out-only-samples-that-are-in-our-dataset-from-technical-metadata,-that-has-studies-in-it\" data-toc-modified-id=\"Start-by-pulling-out-only-samples-that-are-in-our-dataset-from-technical-metadata,-that-has-studies-in-it-4.1\"><span class=\"toc-item-num\">4.1&nbsp;&nbsp;</span>Start by pulling out only samples that are in our dataset from technical metadata, that has studies in it</a></span></li><li><span><a href=\"#Get-unique-studies\" data-toc-modified-id=\"Get-unique-studies-4.2\"><span class=\"toc-item-num\">4.2&nbsp;&nbsp;</span>Get unique studies</a></span></li><li><span><a href=\"#Select-studies-to-use-to-train-and-validate\" data-toc-modified-id=\"Select-studies-to-use-to-train-and-validate-4.3\"><span class=\"toc-item-num\">4.3&nbsp;&nbsp;</span>Select studies to use to train and validate</a></span></li><li><span><a href=\"#Generate-training-and-val-dataframes\" data-toc-modified-id=\"Generate-training-and-val-dataframes-4.4\"><span class=\"toc-item-num\">4.4&nbsp;&nbsp;</span>Generate training and val dataframes</a></span><ul class=\"toc-item\"><li><span><a href=\"#Training-set\" data-toc-modified-id=\"Training-set-4.4.1\"><span class=\"toc-item-num\">4.4.1&nbsp;&nbsp;</span>Training set</a></span></li><li><span><a href=\"#Validation-set\" data-toc-modified-id=\"Validation-set-4.4.2\"><span class=\"toc-item-num\">4.4.2&nbsp;&nbsp;</span>Validation set</a></span></li></ul></li><li><span><a href=\"#Class-balance\" data-toc-modified-id=\"Class-balance-4.5\"><span class=\"toc-item-num\">4.5&nbsp;&nbsp;</span>Class balance</a></span></li></ul></li><li><span><a href=\"#Train-the-model\" data-toc-modified-id=\"Train-the-model-5\"><span class=\"toc-item-num\">5&nbsp;&nbsp;</span>Train the model</a></span><ul class=\"toc-item\"><li><span><a href=\"#Model-set-up\" data-toc-modified-id=\"Model-set-up-5.1\"><span class=\"toc-item-num\">5.1&nbsp;&nbsp;</span>Model set-up</a></span></li><li><span><a href=\"#Model-training\" data-toc-modified-id=\"Model-training-5.2\"><span class=\"toc-item-num\">5.2&nbsp;&nbsp;</span>Model training</a></span></li><li><span><a href=\"#Model-saving\" data-toc-modified-id=\"Model-saving-5.3\"><span class=\"toc-item-num\">5.3&nbsp;&nbsp;</span>Model saving</a></span></li></ul></li></ul></div>"
   ]
  },
  {
   "cell_type": "markdown",
   "metadata": {},
   "source": [
    "# WIP: Train a Qiita bi-LSTM<br>\n",
    "Adam Klie<br>\n",
    "08/31/2019<br>\n",
    "Script to train a model based on merged entities passed in and training set decided on"
   ]
  },
  {
   "cell_type": "markdown",
   "metadata": {
    "heading_collapsed": true
   },
   "source": [
    "# Set up"
   ]
  },
  {
   "cell_type": "markdown",
   "metadata": {
    "heading_collapsed": true,
    "hidden": true
   },
   "source": [
    "## Import necessary packages"
   ]
  },
  {
   "cell_type": "code",
   "execution_count": 1,
   "metadata": {
    "ExecuteTime": {
     "end_time": "2020-08-31T22:07:07.287767Z",
     "start_time": "2020-08-31T22:06:34.067902Z"
    },
    "hidden": true,
    "jupyter": {
     "source_hidden": true
    },
    "scrolled": true
   },
   "outputs": [
    {
     "name": "stderr",
     "output_type": "stream",
     "text": [
      "/cellar/users/aklie/opt/miniconda3/envs/PredictMEE_new/lib/python3.6/importlib/_bootstrap.py:219: RuntimeWarning: numpy.dtype size changed, may indicate binary incompatibility. Expected 96, got 88\n",
      "  return f(*args, **kwds)\n",
      "/cellar/users/aklie/opt/miniconda3/envs/PredictMEE_new/lib/python3.6/importlib/_bootstrap.py:219: RuntimeWarning: numpy.ufunc size changed, may indicate binary incompatibility. Expected 192, got 176\n",
      "  return f(*args, **kwds)\n",
      "/cellar/users/aklie/opt/miniconda3/envs/PredictMEE_new/lib/python3.6/importlib/_bootstrap.py:219: RuntimeWarning: numpy.dtype size changed, may indicate binary incompatibility. Expected 96, got 88\n",
      "  return f(*args, **kwds)\n",
      "/cellar/users/aklie/opt/miniconda3/envs/PredictMEE_new/lib/python3.6/importlib/_bootstrap.py:219: RuntimeWarning: numpy.ufunc size changed, may indicate binary incompatibility. Expected 192, got 176\n",
      "  return f(*args, **kwds)\n",
      "Using TensorFlow backend.\n"
     ]
    }
   ],
   "source": [
    "import numpy as np\n",
    "import pandas as pd\n",
    "from tqdm import tqdm\n",
    "import matplotlib.pyplot as plt\n",
    "import matplotlib\n",
    "import seaborn as sns\n",
    "import spacy\n",
    "import tensorflow\n",
    "import keras\n",
    "from keras.models import Sequential, model_from_json, load_model\n",
    "from keras.layers import LSTM, Dense, Embedding, Bidirectional\n",
    "from keras.layers import TimeDistributed\n",
    "from keras.optimizers import Adam\n",
    "from sklearn import preprocessing, metrics\n",
    "\n",
    "# Autoreload extension\n",
    "if 'autoreload' not in get_ipython().extension_manager.loaded:\n",
    "    %load_ext autoreload\n",
    "    \n",
    "%autoreload 2"
   ]
  },
  {
   "cell_type": "code",
   "execution_count": 3,
   "metadata": {
    "ExecuteTime": {
     "end_time": "2020-08-31T22:07:07.556938Z",
     "start_time": "2020-08-31T22:07:07.350473Z"
    },
    "hidden": true
   },
   "outputs": [],
   "source": [
    "from matplotlib import rcParams\n",
    "import matplotlib as mpl\n",
    "\n",
    "rcParams['figure.figsize'] = (10, 6)\n",
    "rcParams['figure.dpi'] = 600 \n",
    "rcParams['lines.linewidth'] = 2\n",
    "rcParams['axes.facecolor'] = 'white'\n",
    "rcParams['font.size'] = 18\n",
    "rcParams['patch.edgecolor'] = 'white'\n",
    "rcParams['font.family'] = 'StixGeneral'\n",
    "\n",
    "rcParams['axes.labelsize'] = 36\n",
    "rcParams['ytick.labelsize'] = 30\n",
    "rcParams['xtick.labelsize'] = 30"
   ]
  },
  {
   "cell_type": "markdown",
   "metadata": {
    "heading_collapsed": true,
    "hidden": true
   },
   "source": [
    "## Helper functions"
   ]
  },
  {
   "cell_type": "code",
   "execution_count": 2,
   "metadata": {
    "ExecuteTime": {
     "end_time": "2020-08-31T22:07:07.348534Z",
     "start_time": "2020-08-31T22:07:07.290653Z"
    },
    "hidden": true
   },
   "outputs": [],
   "source": [
    "# Function to build LSTM model.\n",
    "# embeddings: an mxn matrix of word embeddings with m words and n features for each word (this case is 5443656 x 200)\n",
    "# shape: parameter split into number of hidden units, \n",
    "def compile_lstm(embeddings, shape, settings):  # function definition\n",
    "    model = Sequential()\n",
    "    model.add(Embedding(embeddings.shape[0],\n",
    "                        embeddings.shape[1],\n",
    "                        input_length=shape['max_length'],\n",
    "                        trainable=False,\n",
    "                        weights=[embeddings],\n",
    "                        mask_zero=True))\n",
    "    \n",
    "    #the same dense layer is first applied extract the most useful info from embedding layers\n",
    "    model.add(TimeDistributed(Dense(shape['nr_hidden'], use_bias=False)))\n",
    "    model.add(Bidirectional(LSTM(shape['nr_hidden'],\n",
    "                                 recurrent_dropout=settings['dropout'],\n",
    "                                 dropout=settings['dropout'])))\n",
    "    model.add(Dense(shape['nr_class'], activation='sigmoid'))\n",
    "    model.compile(optimizer=Adam(lr=settings['lr']), loss='categorical_crossentropy', metrics=['accuracy'])\n",
    "    return model\n",
    "\n",
    "def get_features(docs, max_length):\n",
    "    docs = list(docs)\n",
    "    Xs = np.zeros((len(docs), max_length), dtype='int32')\n",
    "    for i, doc in tqdm(enumerate(docs),total=len(docs)):\n",
    "        j = 0\n",
    "        for token in doc:\n",
    "            ##rever to word vector\n",
    "            vector_id = token.vocab.vectors.find(key=token.orth)\n",
    "            if vector_id >= 0:\n",
    "                Xs[i, j] = vector_id\n",
    "            else:\n",
    "                Xs[i, j] = 0\n",
    "            j += 1\n",
    "            if j >= max_length:\n",
    "                break\n",
    "    return Xs"
   ]
  },
  {
   "cell_type": "markdown",
   "metadata": {
    "heading_collapsed": true,
    "hidden": true
   },
   "source": [
    "## Load in data"
   ]
  },
  {
   "cell_type": "markdown",
   "metadata": {
    "heading_collapsed": true,
    "hidden": true
   },
   "source": [
    "### Read in the Qiita annotations and build dataframe"
   ]
  },
  {
   "cell_type": "code",
   "execution_count": 5,
   "metadata": {
    "ExecuteTime": {
     "end_time": "2020-08-31T22:07:35.337256Z",
     "start_time": "2020-08-31T22:07:24.318464Z"
    },
    "hidden": true
   },
   "outputs": [],
   "source": [
    "# Read in pandas Series from file\n",
    "qiita_dir = \"../../data/qiita/allQiita.pickle\"\n",
    "allQiita = pd.read_pickle(qiita_dir).dropna()"
   ]
  },
  {
   "cell_type": "markdown",
   "metadata": {
    "heading_collapsed": true,
    "hidden": true
   },
   "source": [
    "### Read in study mapping"
   ]
  },
  {
   "cell_type": "code",
   "execution_count": 6,
   "metadata": {
    "ExecuteTime": {
     "end_time": "2020-08-31T22:07:55.216263Z",
     "start_time": "2020-08-31T22:07:54.515879Z"
    },
    "hidden": true
   },
   "outputs": [],
   "source": [
    "study_mapping = pd.read_pickle('../../data/qiita/study_mapping.pickle')"
   ]
  },
  {
   "cell_type": "markdown",
   "metadata": {
    "heading_collapsed": true,
    "hidden": true
   },
   "source": [
    "### Read in embeddings"
   ]
  },
  {
   "cell_type": "code",
   "execution_count": 8,
   "metadata": {
    "ExecuteTime": {
     "end_time": "2020-08-31T22:08:56.229894Z",
     "start_time": "2020-08-31T22:08:01.214765Z"
    },
    "hidden": true
   },
   "outputs": [
    {
     "name": "stderr",
     "output_type": "stream",
     "text": [
      "/cellar/users/aklie/opt/miniconda3/envs/PredictMEE_new/lib/python3.6/importlib/_bootstrap.py:219: RuntimeWarning: numpy.dtype size changed, may indicate binary incompatibility. Expected 96, got 88\n",
      "  return f(*args, **kwds)\n",
      "/cellar/users/aklie/opt/miniconda3/envs/PredictMEE_new/lib/python3.6/importlib/_bootstrap.py:219: RuntimeWarning: numpy.ufunc size changed, may indicate binary incompatibility. Expected 192, got 176\n",
      "  return f(*args, **kwds)\n"
     ]
    }
   ],
   "source": [
    "nlp = spacy.load('../../data/wikipedia-pubmed-and-PMC-w2v')"
   ]
  },
  {
   "cell_type": "markdown",
   "metadata": {
    "heading_collapsed": true,
    "hidden": true
   },
   "source": [
    "### Import merging of entities from file"
   ]
  },
  {
   "cell_type": "code",
   "execution_count": 10,
   "metadata": {
    "ExecuteTime": {
     "end_time": "2020-08-31T22:09:05.875168Z",
     "start_time": "2020-08-31T22:09:05.826535Z"
    },
    "hidden": true
   },
   "outputs": [],
   "source": [
    "model_iter = 'qiita'"
   ]
  },
  {
   "cell_type": "code",
   "execution_count": 13,
   "metadata": {
    "ExecuteTime": {
     "end_time": "2020-08-31T22:09:18.080395Z",
     "start_time": "2020-08-31T22:09:18.017243Z"
    },
    "hidden": true
   },
   "outputs": [],
   "source": [
    "grouping_df = pd.read_csv('../../results/embedding/{model}/entity_merging.csv'.format(model = model_iter))\n",
    "myAttribs = grouping_df.attribute.unique()"
   ]
  },
  {
   "cell_type": "markdown",
   "metadata": {
    "heading_collapsed": true
   },
   "source": [
    "# Data processing"
   ]
  },
  {
   "cell_type": "markdown",
   "metadata": {
    "heading_collapsed": true,
    "hidden": true
   },
   "source": [
    "## Filter training set"
   ]
  },
  {
   "cell_type": "markdown",
   "metadata": {
    "heading_collapsed": true,
    "hidden": true
   },
   "source": [
    "### Filter out non-valid attributes"
   ]
  },
  {
   "cell_type": "code",
   "execution_count": 167,
   "metadata": {
    "ExecuteTime": {
     "end_time": "2020-08-31T22:46:06.252340Z",
     "start_time": "2020-08-31T22:46:03.748367Z"
    },
    "hidden": true
   },
   "outputs": [],
   "source": [
    "attribute_m = allQiita.index.get_level_values(1).isin(myAttribs)"
   ]
  },
  {
   "cell_type": "code",
   "execution_count": 168,
   "metadata": {
    "ExecuteTime": {
     "end_time": "2020-08-31T22:46:06.752129Z",
     "start_time": "2020-08-31T22:46:06.255190Z"
    },
    "hidden": true
   },
   "outputs": [],
   "source": [
    "subset_Qiita = allQiita[attribute_m]"
   ]
  },
  {
   "cell_type": "markdown",
   "metadata": {
    "heading_collapsed": true,
    "hidden": true
   },
   "source": [
    "### Cap at 100 samples per study to avoid study bias"
   ]
  },
  {
   "cell_type": "code",
   "execution_count": 169,
   "metadata": {
    "ExecuteTime": {
     "end_time": "2020-08-31T22:46:06.853763Z",
     "start_time": "2020-08-31T22:46:06.754385Z"
    },
    "hidden": true
   },
   "outputs": [
    {
     "name": "stdout",
     "output_type": "stream",
     "text": [
      "Number of samples left after capping: 42571\n"
     ]
    }
   ],
   "source": [
    "max_sample_per_study_n = 100\n",
    "capped_samples = study_mapping.groupby(study_mapping).head(n = max_sample_per_study_n)\n",
    "print(\"Number of samples left after capping: %d\" % (len(capped_samples)))"
   ]
  },
  {
   "cell_type": "code",
   "execution_count": 170,
   "metadata": {
    "ExecuteTime": {
     "end_time": "2020-08-31T22:46:07.045920Z",
     "start_time": "2020-08-31T22:46:06.856322Z"
    },
    "hidden": true
   },
   "outputs": [],
   "source": [
    "study_distr = study_mapping.groupby(study_mapping).head(n = max_sample_per_study_n).value_counts()"
   ]
  },
  {
   "cell_type": "code",
   "execution_count": 171,
   "metadata": {
    "ExecuteTime": {
     "end_time": "2020-08-31T22:46:09.755889Z",
     "start_time": "2020-08-31T22:46:07.051247Z"
    },
    "hidden": true
   },
   "outputs": [
    {
     "name": "stderr",
     "output_type": "stream",
     "text": [
      "/cellar/users/aklie/opt/miniconda3/envs/PredictMEE_new/lib/python3.6/site-packages/scipy/stats/stats.py:1713: FutureWarning: Using a non-tuple sequence for multidimensional indexing is deprecated; use `arr[tuple(seq)]` instead of `arr[seq]`. In the future this will be interpreted as an array index, `arr[np.array(seq)]`, which will result either in an error or a different result.\n",
      "  return np.add.reduce(sorted[indexer] * weights, axis=axis) / sumval\n"
     ]
    }
   ],
   "source": [
    "ax = sns.distplot(list(study_distr.values), kde=False)\n",
    "\n",
    "ax.set_ylabel('Frequency', fontsize = 24)\n",
    "ax.set_xlabel('Samples per Study', fontsize = 24)\n",
    "plt.savefig('../../doc/figures/CMI/study_distributions.png', dpi=600, bbox_inches=\"tight\")\n",
    "plt.close();"
   ]
  },
  {
   "cell_type": "code",
   "execution_count": 172,
   "metadata": {
    "ExecuteTime": {
     "end_time": "2020-08-31T22:46:10.111035Z",
     "start_time": "2020-08-31T22:46:09.759624Z"
    },
    "hidden": true
   },
   "outputs": [],
   "source": [
    "capped_m = subset_Qiita.index.get_level_values(0).isin(capped_samples.index)"
   ]
  },
  {
   "cell_type": "code",
   "execution_count": 173,
   "metadata": {
    "ExecuteTime": {
     "end_time": "2020-08-31T22:46:11.068351Z",
     "start_time": "2020-08-31T22:46:10.115388Z"
    },
    "hidden": true
   },
   "outputs": [],
   "source": [
    "subset_Qiita = subset_Qiita.astype('str')"
   ]
  },
  {
   "cell_type": "code",
   "execution_count": 174,
   "metadata": {
    "ExecuteTime": {
     "end_time": "2020-08-31T22:46:11.360794Z",
     "start_time": "2020-08-31T22:46:11.070415Z"
    },
    "hidden": true
   },
   "outputs": [],
   "source": [
    "subset_Qiita = subset_Qiita[capped_m]"
   ]
  },
  {
   "cell_type": "markdown",
   "metadata": {
    "heading_collapsed": true,
    "hidden": true
   },
   "source": [
    "### Filter out unwanted training examples and replace all white space with ' '"
   ]
  },
  {
   "cell_type": "code",
   "execution_count": 175,
   "metadata": {
    "ExecuteTime": {
     "end_time": "2020-08-31T22:46:11.408356Z",
     "start_time": "2020-08-31T22:46:11.362772Z"
    },
    "hidden": true
   },
   "outputs": [],
   "source": [
    "filterTextL = ['not collected','not applicable','missing','n[/]?a','unknown', '-', '--', 'none', 'no']\n",
    "filterTextRegex = \"|\".join(map(lambda myStr:'(?:{})'.format(myStr), filterTextL))"
   ]
  },
  {
   "cell_type": "code",
   "execution_count": 176,
   "metadata": {
    "ExecuteTime": {
     "end_time": "2020-08-31T22:46:12.178439Z",
     "start_time": "2020-08-31T22:46:11.410600Z"
    },
    "hidden": true
   },
   "outputs": [],
   "source": [
    "regex_m = subset_Qiita.str.contains(filterTextRegex, case=False)"
   ]
  },
  {
   "cell_type": "code",
   "execution_count": 177,
   "metadata": {
    "ExecuteTime": {
     "end_time": "2020-08-31T22:46:12.698444Z",
     "start_time": "2020-08-31T22:46:12.181105Z"
    },
    "hidden": true
   },
   "outputs": [],
   "source": [
    "subset_Qiita = subset_Qiita[~regex_m]  # current issue is with numbers instead of strings"
   ]
  },
  {
   "cell_type": "markdown",
   "metadata": {
    "heading_collapsed": true,
    "hidden": true
   },
   "source": [
    "### Take only values between length 1 and 7"
   ]
  },
  {
   "cell_type": "code",
   "execution_count": 178,
   "metadata": {
    "ExecuteTime": {
     "end_time": "2020-08-31T22:46:12.990237Z",
     "start_time": "2020-08-31T22:46:12.700637Z"
    },
    "hidden": true
   },
   "outputs": [],
   "source": [
    "attribute_wc = subset_Qiita.str.count(' ') + 1\n",
    "wc_m = (attribute_wc >= 1) & (attribute_wc <= 7)"
   ]
  },
  {
   "cell_type": "code",
   "execution_count": 179,
   "metadata": {
    "ExecuteTime": {
     "end_time": "2020-08-31T22:46:13.507404Z",
     "start_time": "2020-08-31T22:46:12.992318Z"
    },
    "hidden": true
   },
   "outputs": [],
   "source": [
    "subset_Qiita = subset_Qiita[wc_m]"
   ]
  },
  {
   "cell_type": "markdown",
   "metadata": {
    "heading_collapsed": true,
    "hidden": true
   },
   "source": [
    "### WIP: Filter out test set examples"
   ]
  },
  {
   "cell_type": "code",
   "execution_count": 183,
   "metadata": {
    "ExecuteTime": {
     "end_time": "2020-08-31T22:46:46.099735Z",
     "start_time": "2020-08-31T22:46:46.010837Z"
    },
    "hidden": true
   },
   "outputs": [],
   "source": [
    "# with open('../results/validation/{model}/validation_SRSs.txt'.format(model=model_iter), 'r') as f:\n",
    "#     test_srs = [line.rstrip('\\n') for line in f.readlines()]\n",
    "# test_m = ~subset_SRS.index.get_level_values(0).isin(test_srs)\n",
    "# subset_SRS = subset_SRS[test_m]"
   ]
  },
  {
   "cell_type": "markdown",
   "metadata": {
    "heading_collapsed": true,
    "hidden": true
   },
   "source": [
    "### Replace whitespace with ' '"
   ]
  },
  {
   "cell_type": "code",
   "execution_count": 184,
   "metadata": {
    "ExecuteTime": {
     "end_time": "2020-08-31T22:46:48.300624Z",
     "start_time": "2020-08-31T22:46:47.962822Z"
    },
    "hidden": true
   },
   "outputs": [],
   "source": [
    "subset_Qiita = subset_Qiita.str.replace('\\s+', ' ')"
   ]
  },
  {
   "cell_type": "markdown",
   "metadata": {
    "heading_collapsed": true,
    "hidden": true
   },
   "source": [
    "### Final dataset"
   ]
  },
  {
   "cell_type": "code",
   "execution_count": 185,
   "metadata": {
    "ExecuteTime": {
     "end_time": "2020-08-31T22:46:50.730491Z",
     "start_time": "2020-08-31T22:46:50.648325Z"
    },
    "hidden": true
   },
   "outputs": [],
   "source": [
    "subset_df = pd.DataFrame(subset_Qiita).reset_index()\n",
    "subset_df.columns = ['srs', 'attribute', 'value']"
   ]
  },
  {
   "cell_type": "code",
   "execution_count": 186,
   "metadata": {
    "ExecuteTime": {
     "end_time": "2020-08-31T22:46:50.950281Z",
     "start_time": "2020-08-31T22:46:50.846698Z"
    },
    "hidden": true
   },
   "outputs": [],
   "source": [
    "subset_df['original_attribute'] = subset_df['attribute']\n",
    "AttribToGroupNameS = grouping_df.groupby('attribute')['GroupName'].first()\n",
    "subset_df['attribute'] = AttribToGroupNameS[subset_df['original_attribute'].values].values"
   ]
  },
  {
   "cell_type": "code",
   "execution_count": 187,
   "metadata": {
    "ExecuteTime": {
     "end_time": "2020-08-31T22:46:51.090516Z",
     "start_time": "2020-08-31T22:46:51.044626Z"
    },
    "hidden": true
   },
   "outputs": [
    {
     "data": {
      "text/plain": [
       "(239387, 4)"
      ]
     },
     "execution_count": 187,
     "metadata": {},
     "output_type": "execute_result"
    }
   ],
   "source": [
    "subset_df.shape"
   ]
  },
  {
   "cell_type": "markdown",
   "metadata": {
    "heading_collapsed": true
   },
   "source": [
    "# Train/val split"
   ]
  },
  {
   "cell_type": "markdown",
   "metadata": {
    "heading_collapsed": true,
    "hidden": true
   },
   "source": [
    "## Start by pulling out only samples that are in our dataset from technical metadata, that has studies in it"
   ]
  },
  {
   "cell_type": "code",
   "execution_count": 188,
   "metadata": {
    "ExecuteTime": {
     "end_time": "2020-08-31T22:46:57.520187Z",
     "start_time": "2020-08-31T22:46:53.152892Z"
    },
    "hidden": true
   },
   "outputs": [],
   "source": [
    "valid_qiita_m = allQiita.index.get_level_values(0).unique()"
   ]
  },
  {
   "cell_type": "code",
   "execution_count": 189,
   "metadata": {
    "ExecuteTime": {
     "end_time": "2020-08-31T22:46:58.894461Z",
     "start_time": "2020-08-31T22:46:57.522831Z"
    },
    "hidden": true
   },
   "outputs": [],
   "source": [
    "study_sub = study_mapping[study_mapping.index.get_level_values(0).isin(valid_qiita_m)]"
   ]
  },
  {
   "cell_type": "markdown",
   "metadata": {
    "heading_collapsed": true,
    "hidden": true
   },
   "source": [
    "## Get unique studies"
   ]
  },
  {
   "cell_type": "code",
   "execution_count": 190,
   "metadata": {
    "ExecuteTime": {
     "end_time": "2020-08-31T22:46:59.070927Z",
     "start_time": "2020-08-31T22:46:58.896991Z"
    },
    "hidden": true
   },
   "outputs": [],
   "source": [
    "study_s = study_sub  # Get unique studies that can be found in allSRS\n",
    "num_studies = len(study_s.drop_duplicates())"
   ]
  },
  {
   "cell_type": "markdown",
   "metadata": {
    "heading_collapsed": true,
    "hidden": true
   },
   "source": [
    "## Select studies to use to train and validate"
   ]
  },
  {
   "cell_type": "code",
   "execution_count": 191,
   "metadata": {
    "ExecuteTime": {
     "end_time": "2020-08-31T22:46:59.170394Z",
     "start_time": "2020-08-31T22:46:59.072848Z"
    },
    "hidden": true
   },
   "outputs": [],
   "source": [
    "train_test_ratio = 0.8\n",
    "train_n = int(num_studies * train_test_ratio)  # Number of training studies\n",
    "train_studies = study_s.sample(n = train_n, random_state = 0).values  # pick those training studies randomly"
   ]
  },
  {
   "cell_type": "code",
   "execution_count": 192,
   "metadata": {
    "ExecuteTime": {
     "end_time": "2020-08-31T22:46:59.263661Z",
     "start_time": "2020-08-31T22:46:59.174096Z"
    },
    "hidden": true
   },
   "outputs": [],
   "source": [
    "study_df = pd.DataFrame(study_s).reset_index()\n",
    "study_df.columns = ['sample', 'study']"
   ]
  },
  {
   "cell_type": "code",
   "execution_count": 193,
   "metadata": {
    "ExecuteTime": {
     "end_time": "2020-08-31T22:46:59.365172Z",
     "start_time": "2020-08-31T22:46:59.266392Z"
    },
    "hidden": true
   },
   "outputs": [],
   "source": [
    "# Label these studies with a column\n",
    "study_df['Train'] = study_df['study'].isin(train_studies).values  "
   ]
  },
  {
   "cell_type": "code",
   "execution_count": 194,
   "metadata": {
    "ExecuteTime": {
     "end_time": "2020-08-31T22:46:59.455038Z",
     "start_time": "2020-08-31T22:46:59.367636Z"
    },
    "hidden": true
   },
   "outputs": [],
   "source": [
    "# Get the ids for the training and test samples\n",
    "train_mask = study_df['Train']\n",
    "train_samples = study_df['sample'][train_mask].values  # IDs for training set\n",
    "val_samples = study_df['sample'][~train_mask].values  # IDs for test set"
   ]
  },
  {
   "cell_type": "markdown",
   "metadata": {
    "heading_collapsed": true,
    "hidden": true
   },
   "source": [
    "## Generate training and val dataframes"
   ]
  },
  {
   "cell_type": "code",
   "execution_count": 196,
   "metadata": {
    "ExecuteTime": {
     "end_time": "2020-08-31T22:47:06.168288Z",
     "start_time": "2020-08-31T22:47:05.162497Z"
    },
    "hidden": true
   },
   "outputs": [
    {
     "data": {
      "text/html": [
       "<div>\n",
       "<style scoped>\n",
       "    .dataframe tbody tr th:only-of-type {\n",
       "        vertical-align: middle;\n",
       "    }\n",
       "\n",
       "    .dataframe tbody tr th {\n",
       "        vertical-align: top;\n",
       "    }\n",
       "\n",
       "    .dataframe thead th {\n",
       "        text-align: right;\n",
       "    }\n",
       "</style>\n",
       "<table border=\"1\" class=\"dataframe\">\n",
       "  <thead>\n",
       "    <tr style=\"text-align: right;\">\n",
       "      <th></th>\n",
       "      <th>srs</th>\n",
       "      <th>attribute</th>\n",
       "      <th>value</th>\n",
       "      <th>original_attribute</th>\n",
       "    </tr>\n",
       "  </thead>\n",
       "  <tbody>\n",
       "    <tr>\n",
       "      <th>0</th>\n",
       "      <td>809.PLRP1.50</td>\n",
       "      <td>BMI</td>\n",
       "      <td>805.3</td>\n",
       "      <td>elevation</td>\n",
       "    </tr>\n",
       "    <tr>\n",
       "      <th>1</th>\n",
       "      <td>809.PLRP1.50</td>\n",
       "      <td>BMI</td>\n",
       "      <td>50.868</td>\n",
       "      <td>latitude</td>\n",
       "    </tr>\n",
       "    <tr>\n",
       "      <th>2</th>\n",
       "      <td>809.PLRP1.50</td>\n",
       "      <td>BMI</td>\n",
       "      <td>50.868</td>\n",
       "      <td>latitude_deg</td>\n",
       "    </tr>\n",
       "    <tr>\n",
       "      <th>3</th>\n",
       "      <td>809.PLRP10.146</td>\n",
       "      <td>BMI</td>\n",
       "      <td>805.3</td>\n",
       "      <td>elevation</td>\n",
       "    </tr>\n",
       "    <tr>\n",
       "      <th>4</th>\n",
       "      <td>809.PLRP10.146</td>\n",
       "      <td>BMI</td>\n",
       "      <td>50.865</td>\n",
       "      <td>latitude</td>\n",
       "    </tr>\n",
       "  </tbody>\n",
       "</table>\n",
       "</div>"
      ],
      "text/plain": [
       "              srs attribute   value original_attribute\n",
       "0    809.PLRP1.50       BMI   805.3          elevation\n",
       "1    809.PLRP1.50       BMI  50.868           latitude\n",
       "2    809.PLRP1.50       BMI  50.868       latitude_deg\n",
       "3  809.PLRP10.146       BMI   805.3          elevation\n",
       "4  809.PLRP10.146       BMI  50.865           latitude"
      ]
     },
     "execution_count": 196,
     "metadata": {},
     "output_type": "execute_result"
    }
   ],
   "source": [
    "subset_df.head()"
   ]
  },
  {
   "cell_type": "code",
   "execution_count": 197,
   "metadata": {
    "ExecuteTime": {
     "end_time": "2020-08-31T22:47:08.246718Z",
     "start_time": "2020-08-31T22:47:08.195676Z"
    },
    "hidden": true
   },
   "outputs": [],
   "source": [
    "nDupTextMax = 1000\n",
    "cap_size = 20000"
   ]
  },
  {
   "cell_type": "markdown",
   "metadata": {
    "heading_collapsed": true,
    "hidden": true
   },
   "source": [
    "### Training set"
   ]
  },
  {
   "cell_type": "code",
   "execution_count": 198,
   "metadata": {
    "ExecuteTime": {
     "end_time": "2020-08-31T22:47:11.224732Z",
     "start_time": "2020-08-31T22:47:11.052286Z"
    },
    "hidden": true
   },
   "outputs": [],
   "source": [
    "train_df = subset_df[subset_df.srs.isin(train_samples)]"
   ]
  },
  {
   "cell_type": "code",
   "execution_count": 199,
   "metadata": {
    "ExecuteTime": {
     "end_time": "2020-08-31T22:47:11.853980Z",
     "start_time": "2020-08-31T22:47:11.753191Z"
    },
    "hidden": true
   },
   "outputs": [
    {
     "data": {
      "text/plain": [
       "male      1000\n",
       "false     1000\n",
       "n         1000\n",
       "1624.1    1000\n",
       "193       1000\n",
       "Name: value, dtype: int64"
      ]
     },
     "execution_count": 199,
     "metadata": {},
     "output_type": "execute_result"
    }
   ],
   "source": [
    "# Cap how many of a given entity we want to use\n",
    "train_df = train_df.sample(train_df.shape[0])\n",
    "dedup_train_df = train_df.groupby(['value']).head(n = nDupTextMax)\n",
    "dedup_train_df['value'].value_counts().head()"
   ]
  },
  {
   "cell_type": "code",
   "execution_count": 200,
   "metadata": {
    "ExecuteTime": {
     "end_time": "2020-08-31T22:47:13.458653Z",
     "start_time": "2020-08-31T22:47:13.394031Z"
    },
    "hidden": true
   },
   "outputs": [],
   "source": [
    "# Balance the classes with class cap\n",
    "final_train_df = dedup_train_df.sample(dedup_train_df.shape[0]).groupby('attribute').head(n = cap_size)"
   ]
  },
  {
   "cell_type": "code",
   "execution_count": 201,
   "metadata": {
    "ExecuteTime": {
     "end_time": "2020-08-31T22:47:14.108174Z",
     "start_time": "2020-08-31T22:47:14.050237Z"
    },
    "hidden": true
   },
   "outputs": [
    {
     "name": "stdout",
     "output_type": "stream",
     "text": [
      "The number of training examples is 41841\n"
     ]
    },
    {
     "data": {
      "text/plain": [
       "BMI                 20000\n",
       "Body site           10446\n",
       "Age                  3521\n",
       "Sex                  2462\n",
       "Antibiotic usage     2113\n",
       "Diet type            1769\n",
       "Pregnancy status     1514\n",
       "Ethnicity              16\n",
       "Name: attribute, dtype: int64"
      ]
     },
     "metadata": {},
     "output_type": "display_data"
    }
   ],
   "source": [
    "print(\"The number of training examples is %d\" % (final_train_df.shape[0]))\n",
    "train_counts = final_train_df.attribute.value_counts()\n",
    "display(train_counts)"
   ]
  },
  {
   "cell_type": "markdown",
   "metadata": {
    "heading_collapsed": true,
    "hidden": true
   },
   "source": [
    "### Validation set"
   ]
  },
  {
   "cell_type": "code",
   "execution_count": 208,
   "metadata": {
    "ExecuteTime": {
     "end_time": "2020-08-31T22:47:31.936583Z",
     "start_time": "2020-08-31T22:47:31.858213Z"
    },
    "hidden": true
   },
   "outputs": [],
   "source": [
    "val_df = subset_df[subset_df.srs.isin(val_samples)]"
   ]
  },
  {
   "cell_type": "code",
   "execution_count": 209,
   "metadata": {
    "ExecuteTime": {
     "end_time": "2020-08-31T22:47:32.624226Z",
     "start_time": "2020-08-31T22:47:32.495441Z"
    },
    "hidden": true
   },
   "outputs": [],
   "source": [
    "val_df = val_df.sample(val_df.shape[0])\n",
    "val_df = subset_df[subset_df.srs.isin(val_samples)]\n",
    "dedup_val_df = val_df.groupby(['value']).head(n = nDupTextMax)"
   ]
  },
  {
   "cell_type": "code",
   "execution_count": 210,
   "metadata": {
    "ExecuteTime": {
     "end_time": "2020-08-31T22:47:32.775646Z",
     "start_time": "2020-08-31T22:47:32.699350Z"
    },
    "hidden": true
   },
   "outputs": [],
   "source": [
    "final_val_df = dedup_val_df.sample(dedup_val_df.shape[0]).groupby('attribute').head(n = cap_size)"
   ]
  },
  {
   "cell_type": "code",
   "execution_count": 211,
   "metadata": {
    "ExecuteTime": {
     "end_time": "2020-08-31T22:47:32.926168Z",
     "start_time": "2020-08-31T22:47:32.870978Z"
    },
    "hidden": true
   },
   "outputs": [
    {
     "data": {
      "text/plain": [
       "BMI                 20000\n",
       "Body site           12523\n",
       "Age                  5242\n",
       "Diet type            3700\n",
       "Antibiotic usage     2667\n",
       "Sex                  2613\n",
       "Pregnancy status     1172\n",
       "Ethnicity             415\n",
       "Name: attribute, dtype: int64"
      ]
     },
     "metadata": {},
     "output_type": "display_data"
    }
   ],
   "source": [
    "val_counts = final_val_df.attribute.value_counts()\n",
    "display(val_counts)"
   ]
  },
  {
   "cell_type": "code",
   "execution_count": 212,
   "metadata": {
    "ExecuteTime": {
     "end_time": "2020-08-31T22:47:33.663861Z",
     "start_time": "2020-08-31T22:47:33.617939Z"
    },
    "hidden": true
   },
   "outputs": [
    {
     "data": {
      "text/plain": [
       "0.46400807337007755"
      ]
     },
     "execution_count": 212,
     "metadata": {},
     "output_type": "execute_result"
    }
   ],
   "source": [
    "# Actual training and test split\n",
    "final_train_df.shape[0]/(final_train_df.shape[0] + final_val_df.shape[0])"
   ]
  },
  {
   "cell_type": "code",
   "execution_count": 214,
   "metadata": {
    "ExecuteTime": {
     "end_time": "2020-08-31T22:48:27.759599Z",
     "start_time": "2020-08-31T22:48:26.616332Z"
    },
    "hidden": true
   },
   "outputs": [],
   "source": [
    "final_train_df.to_pickle('../../results/training/{model}/training_examples.pickle'.format(model = model_iter))\n",
    "final_val_df.to_pickle('../../results/training/{model}/test_examples.pickle'.format(model = model_iter))"
   ]
  },
  {
   "cell_type": "markdown",
   "metadata": {
    "heading_collapsed": true,
    "hidden": true
   },
   "source": [
    "## Class balance"
   ]
  },
  {
   "cell_type": "code",
   "execution_count": 216,
   "metadata": {
    "ExecuteTime": {
     "end_time": "2020-08-31T22:49:56.215211Z",
     "start_time": "2020-08-31T22:49:56.106399Z"
    },
    "hidden": true
   },
   "outputs": [
    {
     "name": "stderr",
     "output_type": "stream",
     "text": [
      "/cellar/users/aklie/.local/lib/python3.6/site-packages/ipykernel_launcher.py:1: FutureWarning: Sorting because non-concatenation axis is not aligned. A future version\n",
      "of pandas will change to not sort by default.\n",
      "\n",
      "To accept the future behavior, pass 'sort=False'.\n",
      "\n",
      "To retain the current behavior and silence the warning, pass 'sort=True'.\n",
      "\n",
      "  \"\"\"Entry point for launching an IPython kernel.\n"
     ]
    }
   ],
   "source": [
    "counts_df = pd.concat([pd.DataFrame(train_counts), pd.DataFrame(val_counts)], axis=1)\n",
    "counts_df.to_csv('../../doc/figures/CMI/class_balance.csv')"
   ]
  },
  {
   "cell_type": "markdown",
   "metadata": {
    "heading_collapsed": true
   },
   "source": [
    "# Train the model"
   ]
  },
  {
   "cell_type": "markdown",
   "metadata": {
    "heading_collapsed": true,
    "hidden": true
   },
   "source": [
    "## Model set-up"
   ]
  },
  {
   "cell_type": "code",
   "execution_count": 217,
   "metadata": {
    "ExecuteTime": {
     "end_time": "2020-08-31T22:50:05.241485Z",
     "start_time": "2020-08-31T22:50:05.195510Z"
    },
    "hidden": true
   },
   "outputs": [],
   "source": [
    "nr_hidden = 64 \n",
    "max_length = 7 # 95% percentile of training phrase length from NCIT\n",
    "dropout = 0.5\n",
    "learn_rate = 0.001 # General NN config\n",
    "nb_epoch = 1\n",
    "batch_size = 100"
   ]
  },
  {
   "cell_type": "code",
   "execution_count": 218,
   "metadata": {
    "ExecuteTime": {
     "end_time": "2020-08-31T22:50:09.606841Z",
     "start_time": "2020-08-31T22:50:09.561001Z"
    },
    "hidden": true
   },
   "outputs": [
    {
     "data": {
      "text/plain": [
       "array(['BMI', 'Antibiotic usage', 'Pregnancy status', 'Age', 'Sex',\n",
       "       'Body site', 'Diet type', 'Ethnicity'], dtype=object)"
      ]
     },
     "execution_count": 218,
     "metadata": {},
     "output_type": "execute_result"
    }
   ],
   "source": [
    "classNames = AttribToGroupNameS.unique()\n",
    "classNames"
   ]
  },
  {
   "cell_type": "code",
   "execution_count": 219,
   "metadata": {
    "ExecuteTime": {
     "end_time": "2020-08-31T22:50:10.887326Z",
     "start_time": "2020-08-31T22:50:10.842398Z"
    },
    "hidden": true
   },
   "outputs": [],
   "source": [
    "le = preprocessing.LabelEncoder()\n",
    "le.fit(classNames)\n",
    "nr_classes=len(le.classes_)"
   ]
  },
  {
   "cell_type": "code",
   "execution_count": 220,
   "metadata": {
    "ExecuteTime": {
     "end_time": "2020-08-31T22:50:11.739591Z",
     "start_time": "2020-08-31T22:50:11.693409Z"
    },
    "hidden": true
   },
   "outputs": [],
   "source": [
    "lstm_shape={'nr_hidden': 64, 'max_length': max_length, 'nr_class': nr_classes}\n",
    "lstm_settings={'dropout': 0.5, 'lr': 0.001}"
   ]
  },
  {
   "cell_type": "code",
   "execution_count": 221,
   "metadata": {
    "ExecuteTime": {
     "end_time": "2020-08-31T22:50:12.537968Z",
     "start_time": "2020-08-31T22:50:12.494036Z"
    },
    "hidden": true
   },
   "outputs": [],
   "source": [
    "embeddings = nlp.vocab.vectors.data"
   ]
  },
  {
   "cell_type": "code",
   "execution_count": 222,
   "metadata": {
    "ExecuteTime": {
     "end_time": "2020-08-31T22:50:20.871082Z",
     "start_time": "2020-08-31T22:50:13.104883Z"
    },
    "hidden": true
   },
   "outputs": [
    {
     "name": "stderr",
     "output_type": "stream",
     "text": [
      "100%|██████████| 41841/41841 [00:03<00:00, 13792.83it/s]\n",
      "100%|██████████| 48332/48332 [00:04<00:00, 11634.91it/s]\n",
      "100%|██████████| 41841/41841 [00:00<00:00, 196192.14it/s]\n",
      "100%|██████████| 48332/48332 [00:00<00:00, 202392.44it/s]\n"
     ]
    }
   ],
   "source": [
    "train_texts = final_train_df.value.tolist()\n",
    "dev_texts = final_val_df.value.tolist()\n",
    "\n",
    "train_labels = keras.utils.to_categorical(le.transform(final_train_df.attribute.values))\n",
    "dev_labels = keras.utils.to_categorical(le.transform(final_val_df.attribute.values))\n",
    "\n",
    "train_docs = list(tqdm(nlp.pipe(train_texts,n_threads=32),total=len(train_texts)))\n",
    "dev_docs = list(tqdm(nlp.pipe(dev_texts,n_threads=32),total=len(dev_texts)))\n",
    "\n",
    "train_X = get_features(train_docs, lstm_shape['max_length'])\n",
    "dev_X = get_features(dev_docs, lstm_shape['max_length'])"
   ]
  },
  {
   "cell_type": "code",
   "execution_count": 223,
   "metadata": {
    "ExecuteTime": {
     "end_time": "2020-08-31T22:50:23.224716Z",
     "start_time": "2020-08-31T22:50:22.898143Z"
    },
    "hidden": true
   },
   "outputs": [],
   "source": [
    "np.save('../../results/training/{model}/classes.npy'.format(model = model_iter), le.classes_)"
   ]
  },
  {
   "cell_type": "code",
   "execution_count": 224,
   "metadata": {
    "ExecuteTime": {
     "end_time": "2020-08-31T22:50:42.333197Z",
     "start_time": "2020-08-31T22:50:24.312114Z"
    },
    "hidden": true
   },
   "outputs": [],
   "source": [
    "model = compile_lstm(embeddings, lstm_shape, lstm_settings)"
   ]
  },
  {
   "cell_type": "code",
   "execution_count": 225,
   "metadata": {
    "ExecuteTime": {
     "end_time": "2020-08-31T22:50:42.474464Z",
     "start_time": "2020-08-31T22:50:42.336222Z"
    },
    "hidden": true
   },
   "outputs": [],
   "source": [
    "from contextlib import redirect_stdout\n",
    "\n",
    "with open('../../results/training/qiita/model_summary.txt', 'w') as f:\n",
    "    with redirect_stdout(f):\n",
    "        model.summary()"
   ]
  },
  {
   "cell_type": "markdown",
   "metadata": {
    "heading_collapsed": true,
    "hidden": true
   },
   "source": [
    "## Model training"
   ]
  },
  {
   "cell_type": "code",
   "execution_count": 226,
   "metadata": {
    "ExecuteTime": {
     "end_time": "2020-08-31T22:51:30.443793Z",
     "start_time": "2020-08-31T22:50:42.476176Z"
    },
    "hidden": true
   },
   "outputs": [],
   "source": [
    "%%capture keras_stdout\n",
    "lstm = model.fit(train_X, train_labels, validation_data = (dev_X, dev_labels),\n",
    "          nb_epoch = nb_epoch, verbose = 1, batch_size = batch_size)"
   ]
  },
  {
   "cell_type": "markdown",
   "metadata": {
    "heading_collapsed": true,
    "hidden": true
   },
   "source": [
    "## Model saving"
   ]
  },
  {
   "cell_type": "code",
   "execution_count": 227,
   "metadata": {
    "ExecuteTime": {
     "end_time": "2020-08-31T22:51:31.173827Z",
     "start_time": "2020-08-31T22:51:30.446459Z"
    },
    "hidden": true
   },
   "outputs": [
    {
     "data": {
      "text/plain": [
       "'2020_08_31'"
      ]
     },
     "execution_count": 227,
     "metadata": {},
     "output_type": "execute_result"
    }
   ],
   "source": [
    "import datetime\n",
    "x = datetime.datetime.now()\n",
    "today = x.strftime(\"%Y_%m_%d\")\n",
    "today"
   ]
  },
  {
   "cell_type": "code",
   "execution_count": 228,
   "metadata": {
    "ExecuteTime": {
     "end_time": "2020-08-31T22:51:47.867656Z",
     "start_time": "2020-08-31T22:51:31.177344Z"
    },
    "hidden": true
   },
   "outputs": [],
   "source": [
    "lstm.model.save('../../models/{model}_{date}.h5'.format(model = model_iter, date=today))"
   ]
  },
  {
   "cell_type": "code",
   "execution_count": 229,
   "metadata": {
    "ExecuteTime": {
     "end_time": "2020-08-31T22:51:48.007981Z",
     "start_time": "2020-08-31T22:51:47.870847Z"
    },
    "hidden": true
   },
   "outputs": [],
   "source": [
    "keras_stdout_str = keras_stdout.stdout\n",
    "textfile = open('../../results/training/{model}/keras_out.txt'.format(model = model_iter), 'w')\n",
    "textfile.write(keras_stdout_str)\n",
    "textfile.close()"
   ]
  }
 ],
 "metadata": {
  "kernelspec": {
   "display_name": "py3_PredictMEE",
   "language": "python",
   "name": "predictmee"
  },
  "language_info": {
   "codemirror_mode": {
    "name": "ipython",
    "version": 3
   },
   "file_extension": ".py",
   "mimetype": "text/x-python",
   "name": "python",
   "nbconvert_exporter": "python",
   "pygments_lexer": "ipython3",
   "version": "3.6.6"
  },
  "toc": {
   "base_numbering": 1,
   "nav_menu": {},
   "number_sections": true,
   "sideBar": true,
   "skip_h1_title": false,
   "title_cell": "Table of Contents",
   "title_sidebar": "Contents",
   "toc_cell": true,
   "toc_position": {},
   "toc_section_display": true,
   "toc_window_display": true
  }
 },
 "nbformat": 4,
 "nbformat_minor": 4
}
