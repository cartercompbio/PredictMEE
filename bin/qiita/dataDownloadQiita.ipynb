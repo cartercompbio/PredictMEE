{
 "cells": [
  {
   "cell_type": "markdown",
   "metadata": {
    "toc": true
   },
   "source": [
    "<h1>Table of Contents<span class=\"tocSkip\"></span></h1>\n",
    "<div class=\"toc\"><ul class=\"toc-item\"></ul></div>"
   ]
  },
  {
   "cell_type": "markdown",
   "metadata": {},
   "source": [
    "Started by going to https://qiita.ucsd.edu/, clicking the \"More Info\" tab and clicking \"Download public BIOM and metadata files\"\n"
   ]
  },
  {
   "cell_type": "markdown",
   "metadata": {},
   "source": [
    "`cd` into the downloaded directory and run the following"
   ]
  },
  {
   "cell_type": "code",
   "execution_count": 2,
   "metadata": {},
   "outputs": [],
   "source": [
    "import pandas as pd\n",
    "import numpy as np\n",
    "import tqdm"
   ]
  },
  {
   "cell_type": "code",
   "execution_count": 3,
   "metadata": {},
   "outputs": [],
   "source": [
    "import os\n",
    "import glob"
   ]
  },
  {
   "cell_type": "code",
   "execution_count": 19,
   "metadata": {},
   "outputs": [
    {
     "name": "stderr",
     "output_type": "stream",
     "text": [
      "/Users/adamklie/anaconda3/envs/qiime2-2020.2/lib/python3.6/site-packages/ipykernel_launcher.py:2: TqdmDeprecationWarning: This function will be removed in tqdm==5.0.0\n",
      "Please use `tqdm.notebook.tqdm` instead of `tqdm.tqdm_notebook`\n",
      "  \n"
     ]
    },
    {
     "data": {
      "application/vnd.jupyter.widget-view+json": {
       "model_id": "470bc5c63c7847689a0408edd4902f94",
       "version_major": 2,
       "version_minor": 0
      },
      "text/plain": [
       "HBox(children=(FloatProgress(value=0.0, max=537.0), HTML(value='')))"
      ]
     },
     "metadata": {},
     "output_type": "display_data"
    },
    {
     "name": "stdout",
     "output_type": "stream",
     "text": [
      "[]\n",
      "[]\n",
      "['.ipynb_checkpoints']\n",
      "\n"
     ]
    }
   ],
   "source": [
    "qiita_pairs = pd.Series(index = pd.MultiIndex(levels=[[],[]], codes=[[],[]], names=[u'Sample_ID', u'Attribute']))\n",
    "for ID in tqdm.tqdm_notebook(file_ids):\n",
    "    id_files = sorted(glob.glob(\"{}_*\".format(ID)))\n",
    "    if len(id_files) >= 2: \n",
    "        meta_data = pd.read_csv(id_files[0], sep='\\t', index_col=0, low_memory=False)\n",
    "        study_prep_data = pd.DataFrame()\n",
    "        for i in id_files[1:]:\n",
    "            prep_data = pd.read_csv(i, sep='\\t', index_col=0, low_memory=False)\n",
    "            study_prep_data = pd.concat([study_prep_data, prep_data], sort=True)\n",
    "        full_data = meta_data.merge(study_prep_data, how='outer', left_index=True, right_index=True) \n",
    "        attribute_value_pairs = full_data.T.unstack()\n",
    "        qiita_pairs = pd.concat([qiita_pairs, attribute_value_pairs], axis=0)    \n",
    "    else:\n",
    "        print(id_files)"
   ]
  },
  {
   "cell_type": "code",
   "execution_count": 20,
   "metadata": {},
   "outputs": [],
   "source": [
    "qiita_pairs.to_pickle('allQiita.pickle')"
   ]
  },
  {
   "cell_type": "code",
   "execution_count": 21,
   "metadata": {},
   "outputs": [],
   "source": [
    "# build a dataframe for the key (attribute) and values for each sample (srs)\n",
    "Qiita_df = pd.DataFrame(qiita_pairs).reset_index()\n",
    "Qiita_df.columns = ['sample_id', 'attribute', 'value']\n",
    "Qiita_df = Qiita_df.set_index('sample_id')"
   ]
  },
  {
   "cell_type": "code",
   "execution_count": 23,
   "metadata": {},
   "outputs": [
    {
     "data": {
      "text/plain": [
       "qiita_prep_id                    338501\n",
       "qiita_study_id                   338501\n",
       "library_construction_protocol    334540\n",
       "platform                         334456\n",
       "latitude                         333992\n",
       "                                  ...  \n",
       "soluble_salts                         2\n",
       "tot_p                                 2\n",
       "tot_k                                 2\n",
       "taxon_id_y                            1\n",
       "taxon_id_x                            1\n",
       "Name: attribute, Length: 8629, dtype: int64"
      ]
     },
     "execution_count": 23,
     "metadata": {},
     "output_type": "execute_result"
    }
   ],
   "source": [
    "Qiita_df.attribute.value_counts()"
   ]
  },
  {
   "cell_type": "code",
   "execution_count": 16,
   "metadata": {},
   "outputs": [],
   "source": [
    "attributeCounts = Qiita_df['attribute'].value_counts()"
   ]
  },
  {
   "cell_type": "code",
   "execution_count": 18,
   "metadata": {},
   "outputs": [
    {
     "ename": "NameError",
     "evalue": "name 'description' is not defined",
     "output_type": "error",
     "traceback": [
      "\u001b[0;31m---------------------------------------------------------------------------\u001b[0m",
      "\u001b[0;31mNameError\u001b[0m                                 Traceback (most recent call last)",
      "\u001b[0;32m<ipython-input-18-d72bc153cb4c>\u001b[0m in \u001b[0;36m<module>\u001b[0;34m\u001b[0m\n\u001b[0;32m----> 1\u001b[0;31m \u001b[0mdescription\u001b[0m\u001b[0;34m\u001b[0m\u001b[0;34m\u001b[0m\u001b[0m\n\u001b[0m",
      "\u001b[0;31mNameError\u001b[0m: name 'description' is not defined"
     ]
    }
   ],
   "source": []
  },
  {
   "cell_type": "code",
   "execution_count": null,
   "metadata": {},
   "outputs": [],
   "source": []
  }
 ],
 "metadata": {
  "kernelspec": {
   "display_name": "py3_PredictMEE",
   "language": "python",
   "name": "predictmee"
  },
  "language_info": {
   "codemirror_mode": {
    "name": "ipython",
    "version": 3
   },
   "file_extension": ".py",
   "mimetype": "text/x-python",
   "name": "python",
   "nbconvert_exporter": "python",
   "pygments_lexer": "ipython3",
   "version": "3.6.11"
  },
  "toc": {
   "base_numbering": 1,
   "nav_menu": {},
   "number_sections": true,
   "sideBar": true,
   "skip_h1_title": false,
   "title_cell": "Table of Contents",
   "title_sidebar": "Contents",
   "toc_cell": true,
   "toc_position": {},
   "toc_section_display": true,
   "toc_window_display": false
  }
 },
 "nbformat": 4,
 "nbformat_minor": 4
}
