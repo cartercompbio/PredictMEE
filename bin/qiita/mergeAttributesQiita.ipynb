{
 "cells": [
  {
   "cell_type": "markdown",
   "metadata": {
    "toc": true
   },
   "source": [
    "<h1>Table of Contents<span class=\"tocSkip\"></span></h1>\n",
    "<div class=\"toc\"><ul class=\"toc-item\"><li><span><a href=\"#Merging-attributes-from-BioSample-using-word2vec\" data-toc-modified-id=\"Merging-attributes-from-BioSample-using-word2vec-1\"><span class=\"toc-item-num\">1&nbsp;&nbsp;</span>Merging attributes from BioSample using word2vec</a></span><ul class=\"toc-item\"><li><span><a href=\"#Set-up\" data-toc-modified-id=\"Set-up-1.1\"><span class=\"toc-item-num\">1.1&nbsp;&nbsp;</span>Set-up</a></span><ul class=\"toc-item\"><li><span><a href=\"#Import-needed-packages\" data-toc-modified-id=\"Import-needed-packages-1.1.1\"><span class=\"toc-item-num\">1.1.1&nbsp;&nbsp;</span>Import needed packages</a></span></li><li><span><a href=\"#Helper-function-definitions\" data-toc-modified-id=\"Helper-function-definitions-1.1.2\"><span class=\"toc-item-num\">1.1.2&nbsp;&nbsp;</span>Helper function definitions</a></span></li><li><span><a href=\"#Load-data-and-embedding-model\" data-toc-modified-id=\"Load-data-and-embedding-model-1.1.3\"><span class=\"toc-item-num\">1.1.3&nbsp;&nbsp;</span>Load data and embedding model</a></span></li><li><span><a href=\"#Build-dataframe\" data-toc-modified-id=\"Build-dataframe-1.1.4\"><span class=\"toc-item-num\">1.1.4&nbsp;&nbsp;</span>Build dataframe</a></span></li><li><span><a href=\"#Define-attribute-groupings\" data-toc-modified-id=\"Define-attribute-groupings-1.1.5\"><span class=\"toc-item-num\">1.1.5&nbsp;&nbsp;</span>Define attribute groupings</a></span></li></ul></li><li><span><a href=\"#Calculate-average-embedding-vectors\" data-toc-modified-id=\"Calculate-average-embedding-vectors-1.2\"><span class=\"toc-item-num\">1.2&nbsp;&nbsp;</span>Calculate average embedding vectors</a></span><ul class=\"toc-item\"><li><span><a href=\"#Randomly-sample-100-of-each-attribute-that-occurs-greater-than-100-times\" data-toc-modified-id=\"Randomly-sample-100-of-each-attribute-that-occurs-greater-than-100-times-1.2.1\"><span class=\"toc-item-num\">1.2.1&nbsp;&nbsp;</span>Randomly sample 100 of each attribute that occurs greater than 100 times</a></span></li><li><span><a href=\"#Get-average-embedding-vector-for-each-attribute\" data-toc-modified-id=\"Get-average-embedding-vector-for-each-attribute-1.2.2\"><span class=\"toc-item-num\">1.2.2&nbsp;&nbsp;</span>Get average embedding vector for each attribute</a></span></li></ul></li><li><span><a href=\"#Merge-entities-with-high-cosine-similarity\" data-toc-modified-id=\"Merge-entities-with-high-cosine-similarity-1.3\"><span class=\"toc-item-num\">1.3&nbsp;&nbsp;</span>Merge entities with high cosine similarity</a></span></li><li><span><a href=\"#Determine-coverage-increase-with-merging\" data-toc-modified-id=\"Determine-coverage-increase-with-merging-1.4\"><span class=\"toc-item-num\">1.4&nbsp;&nbsp;</span>Determine coverage increase with merging</a></span><ul class=\"toc-item\"><li><span><a href=\"#Build-dataframe\" data-toc-modified-id=\"Build-dataframe-1.4.1\"><span class=\"toc-item-num\">1.4.1&nbsp;&nbsp;</span>Build dataframe</a></span></li></ul></li><li><span><a href=\"#Analyze-word-embedding-space\" data-toc-modified-id=\"Analyze-word-embedding-space-1.5\"><span class=\"toc-item-num\">1.5&nbsp;&nbsp;</span>Analyze word embedding space</a></span><ul class=\"toc-item\"><li><span><a href=\"#Figure3A:-PCA-of-class-based-terms\" data-toc-modified-id=\"Figure3A:-PCA-of-class-based-terms-1.5.1\"><span class=\"toc-item-num\">1.5.1&nbsp;&nbsp;</span><font color=\"red\">Figure3A:</font> PCA of class based terms</a></span></li><li><span><a href=\"#Figure3B:-Cosine-similarity-based-hierarchical-clustering-of-class-based-terms\" data-toc-modified-id=\"Figure3B:-Cosine-similarity-based-hierarchical-clustering-of-class-based-terms-1.5.2\"><span class=\"toc-item-num\">1.5.2&nbsp;&nbsp;</span><font color=\"red\">Figure3B:</font> Cosine similarity based hierarchical clustering of class based terms</a></span></li><li><span><a href=\"#Figure3C:-PCA-of-data-type-based-terms\" data-toc-modified-id=\"Figure3C:-PCA-of-data-type-based-terms-1.5.3\"><span class=\"toc-item-num\">1.5.3&nbsp;&nbsp;</span><font color=\"red\">Figure3C:</font> PCA of data type based terms</a></span></li><li><span><a href=\"#Figure3D:-Cosine-similarity-based-hierarchical-clustering-of-data-type-based-terms\" data-toc-modified-id=\"Figure3D:-Cosine-similarity-based-hierarchical-clustering-of-data-type-based-terms-1.5.4\"><span class=\"toc-item-num\">1.5.4&nbsp;&nbsp;</span><font color=\"red\">Figure3D:</font> Cosine similarity based hierarchical clustering of data type based terms</a></span></li><li><span><a href=\"#Figure1F:-Cosine-similarity-based-hierarchical-clustering-for-methodology-figure\" data-toc-modified-id=\"Figure1F:-Cosine-similarity-based-hierarchical-clustering-for-methodology-figure-1.5.5\"><span class=\"toc-item-num\">1.5.5&nbsp;&nbsp;</span><font color=\"red\">Figure1F:</font> Cosine similarity based hierarchical clustering for methodology figure</a></span></li></ul></li></ul></li></ul></div>"
   ]
  },
  {
   "cell_type": "markdown",
   "metadata": {},
   "source": [
    "# Merging attributes from BioSample using word2vec\n",
    "Adam Klie<br>\n",
    "11/17/2019<br>\n",
    "Script to create classes as output for neural net using similarities between attribute word embeddings"
   ]
  },
  {
   "cell_type": "markdown",
   "metadata": {},
   "source": [
    "## Set-up"
   ]
  },
  {
   "cell_type": "markdown",
   "metadata": {},
   "source": [
    "### Import needed packages"
   ]
  },
  {
   "cell_type": "code",
   "execution_count": null,
   "metadata": {
    "ExecuteTime": {
     "end_time": "2020-08-28T06:37:38.780335Z",
     "start_time": "2020-08-28T06:37:38.770938Z"
    }
   },
   "outputs": [],
   "source": [
    "%matplotlib inline\n",
    "import pandas as pd\n",
    "import numpy as np\n",
    "import matplotlib.pyplot as plt\n",
    "import scipy.spatial as sp\n",
    "import spacy"
   ]
  },
  {
   "cell_type": "code",
   "execution_count": null,
   "metadata": {
    "ExecuteTime": {
     "end_time": "2020-08-28T06:37:43.216461Z",
     "start_time": "2020-08-28T06:37:43.210821Z"
    }
   },
   "outputs": [],
   "source": [
    "from matplotlib import rcParams\n",
    "import matplotlib as mpl\n",
    "\n",
    "rcParams['figure.figsize'] = (10, 6)\n",
    "rcParams['figure.dpi'] = 600 \n",
    "rcParams['lines.linewidth'] = 2\n",
    "rcParams['axes.facecolor'] = 'white'\n",
    "rcParams['font.size'] = 18\n",
    "rcParams['patch.edgecolor'] = 'white'\n",
    "rcParams['font.family'] = 'StixGeneral'\n",
    "\n",
    "rcParams['axes.labelsize'] = 30\n",
    "rcParams['ytick.labelsize'] = 24\n",
    "rcParams['xtick.labelsize'] = 24"
   ]
  },
  {
   "cell_type": "markdown",
   "metadata": {},
   "source": [
    "### Helper function definitions"
   ]
  },
  {
   "cell_type": "code",
   "execution_count": null,
   "metadata": {
    "ExecuteTime": {
     "end_time": "2020-08-28T06:37:44.570799Z",
     "start_time": "2020-08-28T06:37:44.565677Z"
    }
   },
   "outputs": [],
   "source": [
    "def correlate_dataframes(df1, df2, metric = 'cosine' ):\n",
    "    M = 1 - sp.distance.cdist(df1, df2, metric)\n",
    "    return pd.DataFrame(data = M, index = df1.index, columns = df2.index)"
   ]
  },
  {
   "cell_type": "markdown",
   "metadata": {},
   "source": [
    "### Load data and embedding model"
   ]
  },
  {
   "cell_type": "code",
   "execution_count": null,
   "metadata": {
    "ExecuteTime": {
     "end_time": "2020-08-28T06:39:07.685541Z",
     "start_time": "2020-08-28T06:37:45.419576Z"
    }
   },
   "outputs": [],
   "source": [
    "# Load embedding model\n",
    "nlp = spacy.load('../../data/wikipedia-pubmed-and-PMC-w2v')"
   ]
  },
  {
   "cell_type": "code",
   "execution_count": null,
   "metadata": {
    "ExecuteTime": {
     "end_time": "2020-08-28T07:09:16.489468Z",
     "start_time": "2020-08-28T07:09:06.317660Z"
    }
   },
   "outputs": [],
   "source": [
    "# Load attribute-value pairs\n",
    "qiita_dir = \"../../data/qiita/allQiita.pickle\"\n",
    "allQiita = pd.read_pickle(qiita_dir).dropna()"
   ]
  },
  {
   "cell_type": "markdown",
   "metadata": {},
   "source": [
    "### Build dataframe"
   ]
  },
  {
   "cell_type": "code",
   "execution_count": null,
   "metadata": {
    "ExecuteTime": {
     "end_time": "2020-08-28T07:10:04.008371Z",
     "start_time": "2020-08-28T07:09:16.491942Z"
    }
   },
   "outputs": [],
   "source": [
    "host_name_m = allQiita.index.get_level_values(1) == 'host_common_name'\n",
    "hs_m = allQiita.values == 'human'\n",
    "hs = allQiita[host_name_m & hs_m].index.get_level_values(0)\n",
    "hs_qiita = allQiita[allQiita.index.get_level_values(0).isin(hs)]"
   ]
  },
  {
   "cell_type": "code",
   "execution_count": null,
   "metadata": {
    "ExecuteTime": {
     "end_time": "2020-08-28T07:10:07.397144Z",
     "start_time": "2020-08-28T07:10:04.016046Z"
    }
   },
   "outputs": [],
   "source": [
    "qiita_df = pd.DataFrame(hs_qiita).reset_index()\n",
    "qiita_df.columns = ['sample_id', 'attribute', 'value']\n",
    "del allQiita"
   ]
  },
  {
   "cell_type": "markdown",
   "metadata": {},
   "source": [
    "### Define attribute groupings"
   ]
  },
  {
   "cell_type": "code",
   "execution_count": null,
   "metadata": {
    "ExecuteTime": {
     "end_time": "2020-08-28T07:10:07.405691Z",
     "start_time": "2020-08-28T07:10:07.399600Z"
    }
   },
   "outputs": [],
   "source": [
    "grouping = pd.Series({'sex': 'Sex', \n",
    "                      'age': 'Age', \n",
    "                      'bmi': 'BMI', \n",
    "                      'body_site': 'Body site', \n",
    "                      'antibiotics': 'Antibiotic usage', \n",
    "                      'pregnant': 'Pregnancy status', \n",
    "                      'diet': 'Diet type', \n",
    "                      'ethnicity': 'Ethnicity'\n",
    "                     })"
   ]
  },
  {
   "cell_type": "code",
   "execution_count": null,
   "metadata": {
    "ExecuteTime": {
     "end_time": "2020-08-28T07:10:07.515635Z",
     "start_time": "2020-08-28T07:10:07.411205Z"
    }
   },
   "outputs": [],
   "source": [
    "model_iter = \"qiita\""
   ]
  },
  {
   "cell_type": "markdown",
   "metadata": {},
   "source": [
    "## Calculate average embedding vectors"
   ]
  },
  {
   "cell_type": "markdown",
   "metadata": {},
   "source": [
    "### Randomly sample 100 of each attribute that occurs greater than 100 times"
   ]
  },
  {
   "cell_type": "code",
   "execution_count": null,
   "metadata": {
    "ExecuteTime": {
     "end_time": "2020-08-28T07:10:19.549506Z",
     "start_time": "2020-08-28T07:10:07.518671Z"
    }
   },
   "outputs": [],
   "source": [
    "# Take only attributes with more than 100 samples to compare\n",
    "qiita_df['value'] = qiita_df['value'].astype(str)\n",
    "attribute_counts = qiita_df['attribute'].value_counts()\n",
    "recurr_attrib = attribute_counts.index[attribute_counts > 100]\n",
    "recurring_df = qiita_df[qiita_df.attribute.isin(recurr_attrib)]\n",
    "del qiita_df"
   ]
  },
  {
   "cell_type": "code",
   "execution_count": null,
   "metadata": {
    "ExecuteTime": {
     "end_time": "2020-08-28T07:10:19.556796Z",
     "start_time": "2020-08-28T07:10:19.551806Z"
    }
   },
   "outputs": [],
   "source": [
    "print(\"There are %d recurring attributes (greater than 100 samples)\" % len(recurr_attrib))"
   ]
  },
  {
   "cell_type": "code",
   "execution_count": null,
   "metadata": {
    "ExecuteTime": {
     "end_time": "2020-08-28T07:10:38.094575Z",
     "start_time": "2020-08-28T07:10:19.559870Z"
    }
   },
   "outputs": [],
   "source": [
    "# Randomly sample 100 per entities for generating entity vector\n",
    "recurring_df = recurring_df.sample(recurring_df.shape[0])\n",
    "subset_df = recurring_df.groupby('attribute').head(n = 100)\n",
    "del recurring_df"
   ]
  },
  {
   "cell_type": "markdown",
   "metadata": {},
   "source": [
    "### Get average embedding vector for each attribute"
   ]
  },
  {
   "cell_type": "code",
   "execution_count": null,
   "metadata": {
    "ExecuteTime": {
     "end_time": "2020-08-28T07:12:23.305324Z",
     "start_time": "2020-08-28T07:10:38.097265Z"
    }
   },
   "outputs": [],
   "source": [
    "# Get vector representation for all attribute-value pairs randomly selected\n",
    "docs = nlp.pipe(subset_df['value'].tolist())\n",
    "subset_df['value'] = subset_df['value'].astype(str)\n",
    "subset_index = subset_df.set_index(['sample_id','attribute','value']).index\n",
    "del subset_df\n",
    "vectors = [doc.vector for doc in docs]\n",
    "del docs\n",
    "doc_vector_df = pd.DataFrame(vectors, index=subset_index).astype(float)"
   ]
  },
  {
   "cell_type": "code",
   "execution_count": null,
   "metadata": {
    "ExecuteTime": {
     "end_time": "2020-08-28T07:12:28.676545Z",
     "start_time": "2020-08-28T07:12:23.313868Z"
    }
   },
   "outputs": [],
   "source": [
    "# Take average of each attribute and correlate them by cosine similarity\n",
    "attribute_means = doc_vector_df.groupby('attribute').mean()\n",
    "embedding_df = attribute_means[attribute_means.sum(axis=1).abs()>0]\n",
    "corr_df = correlate_dataframes(embedding_df, embedding_df)"
   ]
  },
  {
   "cell_type": "code",
   "execution_count": null,
   "metadata": {
    "ExecuteTime": {
     "end_time": "2020-08-28T07:12:36.746539Z",
     "start_time": "2020-08-28T07:12:28.688674Z"
    }
   },
   "outputs": [],
   "source": [
    "plt.hist(corr_df.unstack().dropna(), bins = 20)\n",
    "plt.xlabel(\"Cosine similarity\")\n",
    "plt.ylabel('Frequency')\n",
    "plt.title('Distribution of cosine similarities of attributes')"
   ]
  },
  {
   "cell_type": "markdown",
   "metadata": {},
   "source": [
    "## Merge entities with high cosine similarity"
   ]
  },
  {
   "cell_type": "code",
   "execution_count": null,
   "metadata": {
    "ExecuteTime": {
     "end_time": "2020-08-28T07:12:36.762726Z",
     "start_time": "2020-08-28T07:12:36.755489Z"
    }
   },
   "outputs": [],
   "source": [
    "# Choose higher categories that will encompass merged attributes\n",
    "similarity_threshold = 0.8\n",
    "selected_seeds = grouping.index"
   ]
  },
  {
   "cell_type": "code",
   "execution_count": null,
   "metadata": {
    "ExecuteTime": {
     "end_time": "2020-08-28T07:12:37.008522Z",
     "start_time": "2020-08-28T07:12:36.771794Z"
    }
   },
   "outputs": [],
   "source": [
    "# Find all attributes closest to the seed attributes by threshold\n",
    "dataframe_list = []\n",
    "for attribute in selected_seeds:\n",
    "    if attribute == 'age':\n",
    "        tmp_series = corr_df[attribute][corr_df[attribute].index.isin(['age', 'AGE', 'Age'])]\n",
    "        tmp_df = tmp_series.sort_values(ascending = False).to_frame().reset_index()\n",
    "    else:\n",
    "        tmp_series = corr_df[attribute].sort_values(ascending = False)\n",
    "        tmp_df = tmp_series[tmp_series>= similarity_threshold].to_frame().reset_index()\n",
    "    tmp_df.columns = ['attribute','similarity']\n",
    "    dataframe_list.append(tmp_df)"
   ]
  },
  {
   "cell_type": "code",
   "execution_count": null,
   "metadata": {
    "ExecuteTime": {
     "end_time": "2020-08-28T07:12:37.061893Z",
     "start_time": "2020-08-28T07:12:37.016303Z"
    }
   },
   "outputs": [],
   "source": [
    "# Create a dataframe of entities that are similar\n",
    "merged_df = pd.concat(dataframe_list, keys = selected_seeds, axis = 0)\n",
    "merged_df.index.names=['GroupName','I']\n",
    "merged_reset_df = merged_df.reset_index()\n",
    "similar_df = merged_reset_df[merged_reset_df['similarity'] >= similarity_threshold]\n",
    "similar_df['GroupName'] = grouping[similar_df['GroupName']].values"
   ]
  },
  {
   "cell_type": "code",
   "execution_count": null,
   "metadata": {
    "ExecuteTime": {
     "start_time": "2020-08-28T15:18:58.947Z"
    }
   },
   "outputs": [],
   "source": [
    "similar_df[similar_df.GrouName=='antibiotics']"
   ]
  },
  {
   "cell_type": "code",
   "execution_count": null,
   "metadata": {
    "ExecuteTime": {
     "end_time": "2020-08-28T07:12:37.339585Z",
     "start_time": "2020-08-28T07:12:37.242917Z"
    }
   },
   "outputs": [],
   "source": [
    "similar_df.to_csv('../results/embedding/{model}/entity_merging.csv'.format(model = model_iter))"
   ]
  },
  {
   "cell_type": "markdown",
   "metadata": {},
   "source": [
    "## Determine coverage increase with merging"
   ]
  },
  {
   "cell_type": "markdown",
   "metadata": {},
   "source": [
    "### Build dataframe"
   ]
  },
  {
   "cell_type": "code",
   "execution_count": null,
   "metadata": {
    "ExecuteTime": {
     "end_time": "2020-08-28T06:39:19.158853Z",
     "start_time": "2020-08-28T06:39:07.720844Z"
    }
   },
   "outputs": [],
   "source": [
    "# Load attribute-value pairs\n",
    "qiita_dir = \"../../data/qiita/allQiita.pickle\"\n",
    "allQiita = pd.read_pickle(qiita_dir).dropna()"
   ]
  },
  {
   "cell_type": "code",
   "execution_count": null,
   "metadata": {
    "ExecuteTime": {
     "end_time": "2020-08-28T06:39:34.170472Z",
     "start_time": "2020-08-28T06:39:29.330721Z"
    }
   },
   "outputs": [],
   "source": [
    "qiita_df = pd.DataFrame(allQiita).reset_index()\n",
    "qiita_df.columns = ['sample_id', 'attribute', 'value']\n",
    "del allQiita"
   ]
  },
  {
   "cell_type": "code",
   "execution_count": null,
   "metadata": {
    "ExecuteTime": {
     "end_time": "2020-08-24T05:06:18.603005Z",
     "start_time": "2020-08-24T05:06:18.592166Z"
    }
   },
   "outputs": [],
   "source": [
    "similar_df['value count'] = qiita_df['attribute'].value_counts()[similar_df['attribute'].values].values"
   ]
  },
  {
   "cell_type": "code",
   "execution_count": null,
   "metadata": {
    "ExecuteTime": {
     "end_time": "2020-08-22T19:33:17.663680Z",
     "start_time": "2020-08-22T19:29:01.994Z"
    }
   },
   "outputs": [],
   "source": [
    "counts_df = similar_df[similar_df['attribute'].isin(['age', 'cell type', 'disease', 'molecular data type',\n",
    "                                        'genotype', 'platform', 'protocol', 'sex', 'SCIENTIFIC_NAME',\n",
    "                                        'strain', 'tissue'])].sort_values('GroupName').drop('I', axis = 1)\n",
    "counts_df['merged count'] = similar_df.groupby('GroupName').sum()['value count'].values\n",
    "counts_df['factor of increase'] = counts_df['merged count']/counts_df['value count']"
   ]
  },
  {
   "cell_type": "code",
   "execution_count": null,
   "metadata": {
    "ExecuteTime": {
     "end_time": "2020-08-22T19:33:17.665930Z",
     "start_time": "2020-08-22T19:29:02.011Z"
    }
   },
   "outputs": [],
   "source": [
    "display(counts_df)"
   ]
  },
  {
   "cell_type": "code",
   "execution_count": null,
   "metadata": {
    "ExecuteTime": {
     "end_time": "2020-08-22T19:33:17.667679Z",
     "start_time": "2020-08-22T19:29:02.021Z"
    }
   },
   "outputs": [],
   "source": [
    "counts_df.to_csv('../results/embedding/{model}/entity_coverage.csv'.format(model=model_iter))\n",
    "counts_df.to_csv('../doc/figures/Supplementary/Supp_Table1.csv'.format(model=model_iter))"
   ]
  },
  {
   "cell_type": "markdown",
   "metadata": {},
   "source": [
    "## Analyze word embedding space"
   ]
  },
  {
   "cell_type": "code",
   "execution_count": null,
   "metadata": {
    "ExecuteTime": {
     "end_time": "2020-08-22T19:33:17.669691Z",
     "start_time": "2020-08-22T19:29:02.042Z"
    }
   },
   "outputs": [],
   "source": [
    "from sklearn import manifold, decomposition\n",
    "import seaborn as sns"
   ]
  },
  {
   "cell_type": "code",
   "execution_count": null,
   "metadata": {
    "ExecuteTime": {
     "end_time": "2020-08-22T19:33:17.671322Z",
     "start_time": "2020-08-22T19:29:02.114Z"
    }
   },
   "outputs": [],
   "source": [
    "keys = nlp.vocab.vectors.keys()"
   ]
  },
  {
   "cell_type": "code",
   "execution_count": null,
   "metadata": {
    "ExecuteTime": {
     "end_time": "2020-08-22T19:33:17.673073Z",
     "start_time": "2020-08-22T19:29:02.122Z"
    }
   },
   "outputs": [],
   "source": [
    "word_vec_df = pd.DataFrame(nlp.vocab.vectors.data, index = keys)"
   ]
  },
  {
   "cell_type": "code",
   "execution_count": null,
   "metadata": {
    "ExecuteTime": {
     "end_time": "2020-08-22T19:33:17.674775Z",
     "start_time": "2020-08-22T19:29:02.131Z"
    }
   },
   "outputs": [],
   "source": [
    "word_vec_df.head()"
   ]
  },
  {
   "cell_type": "code",
   "execution_count": null,
   "metadata": {
    "ExecuteTime": {
     "end_time": "2020-08-22T19:33:17.677029Z",
     "start_time": "2020-08-22T19:29:02.136Z"
    }
   },
   "outputs": [],
   "source": [
    "keyToString={}\n",
    "keys = nlp.vocab.vectors.keys()\n",
    "for key in keys:\n",
    "    if key in nlp.vocab.strings: \n",
    "        keyToString[key] = nlp.vocab.strings[key]"
   ]
  },
  {
   "cell_type": "code",
   "execution_count": null,
   "metadata": {
    "ExecuteTime": {
     "end_time": "2020-08-22T19:33:17.678531Z",
     "start_time": "2020-08-22T19:29:02.210Z"
    }
   },
   "outputs": [],
   "source": [
    "keyToStringS = pd.Series(keyToString)"
   ]
  },
  {
   "cell_type": "code",
   "execution_count": null,
   "metadata": {
    "ExecuteTime": {
     "end_time": "2020-08-22T19:33:17.680097Z",
     "start_time": "2020-08-22T19:29:02.216Z"
    },
    "scrolled": false
   },
   "outputs": [],
   "source": [
    "strings = keyToStringS[nlp.vocab.vectors.keys()].values"
   ]
  },
  {
   "cell_type": "code",
   "execution_count": null,
   "metadata": {
    "ExecuteTime": {
     "end_time": "2020-08-22T19:33:17.682235Z",
     "start_time": "2020-08-22T19:29:02.220Z"
    }
   },
   "outputs": [],
   "source": [
    "word_vec_df.index = strings"
   ]
  },
  {
   "cell_type": "markdown",
   "metadata": {
    "heading_collapsed": true
   },
   "source": [
    "### <font color=red>Figure3A:</font> PCA of class based terms"
   ]
  },
  {
   "cell_type": "code",
   "execution_count": null,
   "metadata": {
    "ExecuteTime": {
     "end_time": "2020-08-22T19:33:17.683724Z",
     "start_time": "2020-08-22T19:29:02.225Z"
    },
    "hidden": true
   },
   "outputs": [],
   "source": [
    "classes = word_vec_df.loc[['male', 'female', 'hermaphrodite', \n",
    "                           'atherosclerosis', 'cancer', \"Alzheimer's\",\n",
    "                           'Microarray', 'RNA-seq', 'ChIP-seq',\n",
    "                           'weeks', 'years', 'hours']]"
   ]
  },
  {
   "cell_type": "code",
   "execution_count": null,
   "metadata": {
    "ExecuteTime": {
     "end_time": "2020-08-22T19:33:17.685609Z",
     "start_time": "2020-08-22T19:29:02.229Z"
    },
    "hidden": true
   },
   "outputs": [],
   "source": [
    "dimensionReduction = decomposition.PCA(n_components = 2)\n",
    "M = dimensionReduction.fit_transform(classes)"
   ]
  },
  {
   "cell_type": "code",
   "execution_count": null,
   "metadata": {
    "ExecuteTime": {
     "end_time": "2020-08-22T19:33:17.687167Z",
     "start_time": "2020-08-22T19:29:02.233Z"
    },
    "hidden": true
   },
   "outputs": [],
   "source": [
    "tmpDf = pd.DataFrame(data=M,index=classes.index)"
   ]
  },
  {
   "cell_type": "code",
   "execution_count": null,
   "metadata": {
    "ExecuteTime": {
     "end_time": "2020-08-22T19:33:17.694313Z",
     "start_time": "2020-08-22T19:29:02.332Z"
    },
    "hidden": true
   },
   "outputs": [],
   "source": [
    "classes.T.corr()"
   ]
  },
  {
   "cell_type": "code",
   "execution_count": null,
   "metadata": {
    "ExecuteTime": {
     "end_time": "2020-08-22T19:33:17.696072Z",
     "start_time": "2020-08-22T19:29:02.338Z"
    },
    "hidden": true
   },
   "outputs": [],
   "source": [
    "var_exp = dimensionReduction.explained_variance_ratio_\n",
    "PC_1 = var_exp[0]*100\n",
    "PC_2 = var_exp[1]*100"
   ]
  },
  {
   "cell_type": "code",
   "execution_count": null,
   "metadata": {
    "ExecuteTime": {
     "end_time": "2020-08-22T19:33:17.697906Z",
     "start_time": "2020-08-22T19:29:02.358Z"
    },
    "hidden": true
   },
   "outputs": [],
   "source": [
    "fig,ax=plt.subplots(figsize=(6,6))\n",
    "tmpDf.plot(x=0,y=1,kind='scatter',ax=ax,s=14)\n",
    "for name,row in tmpDf.iterrows():\n",
    "    ax.annotate(xy=(row[0],row[1]),s=name, fontsize=16)\n",
    "ax.set_xlim(right=3.0)\n",
    "ax.set_xlabel('PC1 (%.2f%%)' % PC_1)\n",
    "ax.set_ylabel('PC2 (%.2f%%)' % PC_2)\n",
    "plt.savefig('../doc/figures/Figure3/Figure3A.eps', dpi=600, bbox_inches=\"tight\")\n",
    "plt.savefig('../doc/figures/Figure3/Figure3A.png', dpi=600, bbox_inches=\"tight\")\n",
    "plt.close();"
   ]
  },
  {
   "cell_type": "markdown",
   "metadata": {},
   "source": [
    "### <font color=red>Figure3B:</font> Cosine similarity based hierarchical clustering of class based terms"
   ]
  },
  {
   "cell_type": "code",
   "execution_count": null,
   "metadata": {
    "ExecuteTime": {
     "end_time": "2020-08-22T19:33:17.699509Z",
     "start_time": "2020-08-22T19:29:02.370Z"
    }
   },
   "outputs": [],
   "source": [
    "sns.clustermap(data=classes.T.corr(), metric='cosine', z_score=True)\n",
    "plt.savefig('../doc/figures/Figure3/Figure3B.eps', dpi=600, bbox_inches=\"tight\")\n",
    "plt.savefig('../doc/figures/Figure3/Figure3B.png', dpi=600, bbox_inches=\"tight\")\n",
    "plt.close();"
   ]
  },
  {
   "cell_type": "markdown",
   "metadata": {
    "heading_collapsed": true
   },
   "source": [
    "### <font color=red>Figure3C:</font> PCA of data type based terms"
   ]
  },
  {
   "cell_type": "code",
   "execution_count": null,
   "metadata": {
    "ExecuteTime": {
     "end_time": "2020-08-22T19:33:17.701739Z",
     "start_time": "2020-08-22T19:29:02.380Z"
    },
    "hidden": true
   },
   "outputs": [],
   "source": [
    "types = word_vec_df.loc[['DNase-seq', 'ChIP-seq', 'immunoprecipitation-sequencing', \n",
    "                         'mRNA-seq', 'RNA-sequencing', \"RNA-seq\",\n",
    "                         'bisulfite-sequencing', 'Bis-seq', 'Methyl-seq', 'bisulfite-seq']]"
   ]
  },
  {
   "cell_type": "code",
   "execution_count": null,
   "metadata": {
    "ExecuteTime": {
     "end_time": "2020-08-22T19:33:17.703253Z",
     "start_time": "2020-08-22T19:29:02.391Z"
    },
    "hidden": true
   },
   "outputs": [],
   "source": [
    "dimensionReduction = decomposition.PCA(n_components = 2)\n",
    "M = dimensionReduction.fit_transform(types)"
   ]
  },
  {
   "cell_type": "code",
   "execution_count": null,
   "metadata": {
    "ExecuteTime": {
     "end_time": "2020-08-22T19:33:17.705047Z",
     "start_time": "2020-08-22T19:29:02.397Z"
    },
    "hidden": true
   },
   "outputs": [],
   "source": [
    "tmpDf = pd.DataFrame(data=M,index=types.index)"
   ]
  },
  {
   "cell_type": "code",
   "execution_count": null,
   "metadata": {
    "ExecuteTime": {
     "end_time": "2020-08-22T19:33:17.706606Z",
     "start_time": "2020-08-22T19:29:02.405Z"
    },
    "hidden": true
   },
   "outputs": [],
   "source": [
    "var_exp = dimensionReduction.explained_variance_ratio_\n",
    "PC_1 = var_exp[0]*100\n",
    "PC_2 = var_exp[1]*100"
   ]
  },
  {
   "cell_type": "code",
   "execution_count": null,
   "metadata": {
    "ExecuteTime": {
     "end_time": "2020-08-22T19:33:17.708169Z",
     "start_time": "2020-08-22T19:29:02.410Z"
    },
    "hidden": true
   },
   "outputs": [],
   "source": [
    "fig,ax=plt.subplots(figsize=(6,6))\n",
    "tmpDf.plot(x=0,y=1,kind='scatter',ax=ax,s=14)\n",
    "for name,row in tmpDf.iterrows():\n",
    "    ax.annotate(xy=(row[0],row[1]),s=name, fontsize=16)\n",
    "ax.set_xlim(right=3.0)\n",
    "ax.set_xlabel('PC1 (%.2f%%)' % PC_1)\n",
    "ax.set_ylabel('PC2 (%.2f%%)' % PC_2)\n",
    "plt.savefig('../doc/figures/Figure3/Figure3C.eps', dpi=600, bbox_inches=\"tight\")\n",
    "plt.savefig('../doc/figures/Figure3/Figure3C.png', dpi=600, bbox_inches=\"tight\")\n",
    "plt.close();"
   ]
  },
  {
   "cell_type": "markdown",
   "metadata": {
    "heading_collapsed": true
   },
   "source": [
    "### <font color=red>Figure3D:</font> Cosine similarity based hierarchical clustering of data type based terms"
   ]
  },
  {
   "cell_type": "code",
   "execution_count": null,
   "metadata": {
    "ExecuteTime": {
     "end_time": "2020-08-22T19:33:17.709720Z",
     "start_time": "2020-08-22T19:29:02.415Z"
    },
    "hidden": true
   },
   "outputs": [],
   "source": [
    "sns.clustermap(data=types.T.corr(), metric='cosine', z_score=True)\n",
    "plt.savefig('../doc/figures/Figure3/Figure3D.eps', dpi=600, bbox_inches=\"tight\")\n",
    "plt.savefig('../doc/figures/Figure3/Figure3D.png', dpi=600, bbox_inches=\"tight\")\n",
    "plt.close();"
   ]
  },
  {
   "cell_type": "markdown",
   "metadata": {},
   "source": [
    "### <font color=red>Figure1F:</font> Cosine similarity based hierarchical clustering for methodology figure"
   ]
  },
  {
   "cell_type": "code",
   "execution_count": null,
   "metadata": {
    "ExecuteTime": {
     "end_time": "2020-08-22T19:33:17.711292Z",
     "start_time": "2020-08-22T19:29:02.422Z"
    }
   },
   "outputs": [],
   "source": [
    "terms = word_vec_df.loc[['RNA-sequencing', 'RNA-seq', \n",
    "                         'keratinocytes', 'epidermis',\n",
    "                         'psoriasis', 'inflammation']]"
   ]
  },
  {
   "cell_type": "code",
   "execution_count": null,
   "metadata": {
    "ExecuteTime": {
     "end_time": "2020-08-22T19:33:17.713198Z",
     "start_time": "2020-08-22T19:29:02.427Z"
    }
   },
   "outputs": [],
   "source": [
    "dimensionReduction = decomposition.PCA(n_components = 2)\n",
    "M = dimensionReduction.fit_transform(terms)"
   ]
  },
  {
   "cell_type": "code",
   "execution_count": null,
   "metadata": {
    "ExecuteTime": {
     "end_time": "2020-08-22T19:33:17.714886Z",
     "start_time": "2020-08-22T19:29:02.431Z"
    }
   },
   "outputs": [],
   "source": [
    "tmpDf = pd.DataFrame(data=M,index=terms.index)"
   ]
  },
  {
   "cell_type": "code",
   "execution_count": null,
   "metadata": {
    "ExecuteTime": {
     "end_time": "2020-08-22T19:33:17.716793Z",
     "start_time": "2020-08-22T19:29:02.437Z"
    }
   },
   "outputs": [],
   "source": [
    "var_exp = dimensionReduction.explained_variance_ratio_\n",
    "PC_1 = var_exp[0]*100\n",
    "PC_2 = var_exp[1]*100"
   ]
  },
  {
   "cell_type": "code",
   "execution_count": null,
   "metadata": {
    "ExecuteTime": {
     "end_time": "2020-08-22T19:33:17.718271Z",
     "start_time": "2020-08-22T19:29:02.446Z"
    }
   },
   "outputs": [],
   "source": [
    "fig,ax=plt.subplots(figsize=(6,6))\n",
    "tmpDf.plot(x=0,y=1,kind='scatter',ax=ax,s=14)\n",
    "for name,row in tmpDf.iterrows():\n",
    "    if name == 'inflammation':\n",
    "        ax.annotate(xy=(row[0],row[1]),s='psoriasis vulgaris', fontsize=20)\n",
    "    else:\n",
    "        ax.annotate(xy=(row[0],row[1]),s=name, fontsize=20)\n",
    "ax.set_xlim(right=3.0)\n",
    "ax.set_xlabel('First principal component' % PC_1, fontsize=24)\n",
    "ax.set_ylabel('Second principal component' % PC_2, fontsize=24)\n",
    "plt.savefig('../doc/figures/Figure1/Figure1F.eps', dpi=600, bbox_inches=\"tight\")\n",
    "plt.savefig('../doc/figures/Figure3/Figure1F.png', dpi=600, bbox_inches=\"tight\")\n",
    "plt.close();"
   ]
  }
 ],
 "metadata": {
  "kernelspec": {
   "display_name": "py3_PredictMEE",
   "language": "python",
   "name": "predictmee"
  },
  "language_info": {
   "codemirror_mode": {
    "name": "ipython",
    "version": 3
   },
   "file_extension": ".py",
   "mimetype": "text/x-python",
   "name": "python",
   "nbconvert_exporter": "python",
   "pygments_lexer": "ipython3",
   "version": "3.6.6"
  },
  "toc": {
   "base_numbering": 1,
   "nav_menu": {},
   "number_sections": true,
   "sideBar": true,
   "skip_h1_title": false,
   "title_cell": "Table of Contents",
   "title_sidebar": "Contents",
   "toc_cell": true,
   "toc_position": {
    "height": "calc(100% - 180px)",
    "left": "10px",
    "top": "150px",
    "width": "384px"
   },
   "toc_section_display": true,
   "toc_window_display": true
  }
 },
 "nbformat": 4,
 "nbformat_minor": 4
}
